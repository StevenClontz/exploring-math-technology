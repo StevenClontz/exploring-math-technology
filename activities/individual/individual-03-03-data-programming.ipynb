{
    "cells": [
        {
            "cell_type": "markdown",
            "metadata": {
                "collapsed": false,
                "editable": false
            },
            "source": [
                "<div class=\"not-editable individual\"> <style>\n            .not-editable{padding:1em;border-radius:10px;box-shadow:4px 4px 3px #ddd;margin:5px;}\n            .not-editable.individual{background-color:#eefff8;}\n            .not-editable.team{background-color:#eef8ff;}\n            .sidebyside{display:flex;justify-content:center;}\n            .sidebyside > *{margin-right:1em;flex:1;}\n            caption{caption-side:top;white-space: nowrap;color:rgba(0,0,0,.45)}}\n            figcaption{padding-top:0.75em;padding-bottom:0.3em;color:rgba(0,0,0,.45)}\n            .fillin{display:inline-block;width:10em;margin-left:0.2em;margin-right:0.2em;height:1em;border-bottom:1px black solid;}\n            .fn{font-size:0.8em;color:rgba(0,0,0.45)}\n            .newcommands{display:none;}\n            code{background-color:#f8f8f8;border:1px #888 solid;border-radius:2px;padding-left:0.2em;padding-right:0.2em;}\n            img{background-color:#fff;}\n        </style> <div><h1>Section 3.3 Programming with Data</h1><h2>Individual Notebook</h2><div><a href=https://stevenclontz.github.io/exploring-math-technology/data-programming.html>https://stevenclontz.github.io/exploring-math-technology/data-programming.html</a></div></div></div>"
            ]
        },
        {
            "cell_type": "markdown",
            "metadata": {
                "collapsed": false,
                "editable": false
            },
            "source": [
                "<div class=\"not-editable individual\"><h2>Preview Activity 3.3.1</h2></div>"
            ]
        },
        {
            "cell_type": "markdown",
            "metadata": {
                "collapsed": false,
                "editable": false
            },
            "source": [
                "<div class=\"not-editable individual\"><span> Consider the following code that prints out the first ten square counting numbers. </span></div>"
            ]
        },
        {
            "cell_type": "markdown",
            "metadata": {
                "collapsed": false,
                "editable": false
            },
            "source": [
                "<div class=\"not-editable individual\"><div><figure><figcaption><b>Listing 3.3.1</b>Ten square counting numbers</figcaption><pre>print(f\"0^2={0**2}\")\nprint(f\"1^2={1**2}\")\nprint(f\"2^2={2**2}\")\nprint(f\"3^2={3**2}\")\nprint(f\"4^2={4**2}\")\nprint(f\"5^2={5**2}\")\nprint(f\"6^2={6**2}\")\nprint(f\"7^2={7**2}\")\nprint(f\"8^2={8**2}\")\nprint(f\"9^2={9**2}\")</pre></figure></div></div>"
            ]
        },
        {
            "cell_type": "markdown",
            "metadata": {
                "collapsed": false,
                "editable": false
            },
            "source": [
                "<div class=\"not-editable individual\"><div><h4>Task A</h4></div></div>"
            ]
        },
        {
            "cell_type": "markdown",
            "metadata": {
                "collapsed": false,
                "editable": false
            },
            "source": [
                "<div class=\"not-editable individual\"><span> Copy this program into a code cell, and modify it to print out the squares from 0 to 14. </span></div>"
            ]
        },
        {
            "cell_type": "markdown",
            "metadata": {
                "collapsed": false,
                "editable": false
            },
            "source": [
                "<div class=\"not-editable individual\"><div><h4>Task B</h4></div></div>"
            ]
        },
        {
            "cell_type": "markdown",
            "metadata": {
                "collapsed": false,
                "editable": false
            },
            "source": [
                "<div class=\"not-editable individual\"><span> Write a sentence about what you notice about the provided code. What do you think could be improved to make this code more elegant? </span></div>"
            ]
        },
        {
            "cell_type": "markdown",
            "metadata": {
                "collapsed": false,
                "editable": false
            },
            "source": [
                "<div class=\"not-editable individual\"><h2>Exercise 1</h2></div>"
            ]
        },
        {
            "cell_type": "markdown",
            "metadata": {
                "collapsed": false,
                "editable": false
            },
            "source": [
                "<div class=\"not-editable individual\"><span> Use the code <code>from string import ascii_lowercase; letters = list(ascii_lowercase)</code> to obtain a list of the lowercase English alphabet. Then <code>print(letters)</code> to display them as the output of your code cell. </span></div>"
            ]
        },
        {
            "cell_type": "markdown",
            "metadata": {
                "collapsed": false,
                "editable": false
            },
            "source": [
                "<div class=\"not-editable individual\"><h2>Exercise 2</h2></div>"
            ]
        },
        {
            "cell_type": "markdown",
            "metadata": {
                "collapsed": false,
                "editable": false
            },
            "source": [
                "<div class=\"not-editable individual\"><span> The line <code>for count,letter in enumerate(letters):</code> allows you to loop through each letter in <code>letters</code> while also keeping count of where you are in the loop (starting with the first counting number <span class=m> $0$ </span>). </span></div>"
            ]
        },
        {
            "cell_type": "markdown",
            "metadata": {
                "collapsed": false,
                "editable": false
            },
            "source": [
                "<div class=\"not-editable individual\"><span> Use <code>enumerate</code> to produce the output shown below. </span></div>"
            ]
        },
        {
            "cell_type": "markdown",
            "metadata": {
                "collapsed": false,
                "editable": false
            },
            "source": [
                "<div class=\"not-editable individual\"><pre>Letter 0 is a.\nLetter 1 is b.\n[...]\nLetter 25 is z.</pre></div>"
            ]
        },
        {
            "cell_type": "markdown",
            "metadata": {
                "collapsed": false,
                "editable": false
            },
            "source": [
                "<div class=\"not-editable individual\"><h2>Exercise 3</h2></div>"
            ]
        },
        {
            "cell_type": "markdown",
            "metadata": {
                "collapsed": false,
                "editable": false
            },
            "source": [
                "<div class=\"not-editable individual\"><span> Copy your code from the previous exercise, and modify it using <code>ord(letter)</code> to display the following output instead. </span></div>"
            ]
        },
        {
            "cell_type": "markdown",
            "metadata": {
                "collapsed": false,
                "editable": false
            },
            "source": [
                "<div class=\"not-editable individual\"><pre>Letter 0 is a, which has Unicode value 97.\nLetter 1 is b, which has Unicode value 98.\n[...]\nLetter 25 is z, which has Unicode value 122.</pre></div>"
            ]
        },
        {
            "cell_type": "markdown",
            "metadata": {
                "collapsed": false,
                "editable": false
            },
            "source": [
                "<div class=\"not-editable individual\"><h2>Exercise 4</h2></div>"
            ]
        },
        {
            "cell_type": "markdown",
            "metadata": {
                "collapsed": false,
                "editable": false
            },
            "source": [
                "<div class=\"not-editable individual\"><span> Scrabble is a popular crossword-style game. Like most word games, deciding on what word is best to play is often a mathematical exercise. </span></div>"
            ]
        },
        {
            "cell_type": "markdown",
            "metadata": {
                "collapsed": false,
                "editable": false
            },
            "source": [
                "<div class=\"not-editable individual\"><span> First, save as the file <code>dictionary.csv</code> in the same folder as this notebook. </span></div>"
            ]
        },
        {
            "cell_type": "markdown",
            "metadata": {
                "collapsed": false,
                "editable": false
            },
            "source": [
                "<div class=\"not-editable individual\"><span> Then unscramble the code in <a href=https://stevenclontz.github.io/exploring-math-technology/data-programming.html#data-programming-scrabble-scrambled>Listing 3.3.10</a> to create nested loops that count the number of vowels used in each of the first fifty words of the Scrabble dictionary. </span></div>"
            ]
        },
        {
            "cell_type": "markdown",
            "metadata": {
                "collapsed": false,
                "editable": false
            },
            "source": [
                "<div class=\"not-editable individual\"><div><figure><figcaption><b>Listing 3.3.10</b>Scrambled vowel-counting program</figcaption><pre>## LEAVE THIS FIRST\nwith open(\"dictionary.csv\", \"r\") as words_file:\n    words = [word[:-1] for word in words_file.readlines()[:50]]\n\n## UNSCRAMBLE/INDENT THE REST\nprint(f\"The number of vowels in {word} is {num_of_vowels}.\")\nnum_of_vowels = num_of_vowels + word.count(vowel)\nfor word in words:\nfor vowel in [\"a\",\"e\",\"i\",\"o\",\"u\"]:\nnum_of_vowels = 0\n</pre></figure></div></div>"
            ]
        },
        {
            "cell_type": "markdown",
            "metadata": {
                "collapsed": false,
                "editable": false
            },
            "source": [
                "<div class=\"not-editable individual\"><h2>Exercise 5</h2></div>"
            ]
        },
        {
            "cell_type": "markdown",
            "metadata": {
                "collapsed": false,
                "editable": false
            },
            "source": [
                "<div class=\"not-editable individual\"><span> Copy your code from the previous exercise, and then replace the <code>print</code> line with an <code>if</code>/<code>elif</code>/<code>else</code> conditional to produce output similar to <a href=https://stevenclontz.github.io/exploring-math-technology/data-programming.html#data-programming-scrabble-conditional>Listing 3.3.11</a>. </span></div>"
            ]
        },
        {
            "cell_type": "markdown",
            "metadata": {
                "collapsed": false,
                "editable": false
            },
            "source": [
                "<div class=\"not-editable individual\"><div><figure><figcaption><b>Listing 3.3.11</b>Conditional vowel-counting output</figcaption><pre>Boo... the word aa has less than three vowels...\nBoo... the word aah has less than three vowels...\nOkay. The word aahed has exactly three vowels.\n[...]\nWow! The word aardwolves has more than three vowels!\n[...]</pre></figure></div></div>"
            ]
        }
    ],
    "nbformat": 4,
    "nbformat_minor": 4
}