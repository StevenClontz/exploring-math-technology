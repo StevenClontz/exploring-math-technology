{
    "cells": [
        {
            "cell_type": "markdown",
            "metadata": {
                "collapsed": false,
                "editable": false
            },
            "source": [
                "<div class=\"not-editable individual\"> <style>\n            .not-editable{padding:1em;border-radius:10px;box-shadow:4px 4px 3px #ddd;margin:5px;}\n            .not-editable.individual{background-color:#eefff8;}\n            .not-editable.team{background-color:#eef8ff;}\n            .sidebyside{display:flex;justify-content:center;}\n            .sidebyside > *{margin-right:1em;flex:1;}\n            caption{caption-side:top;white-space: nowrap;color:rgba(0,0,0,.45)}}\n            figcaption{padding-top:0.75em;padding-bottom:0.3em;color:rgba(0,0,0,.45)}\n            .fillin{display:inline-block;width:10em;margin-left:0.2em;margin-right:0.2em;height:1em;border-bottom:1px black solid;}\n            .fn{font-size:0.8em;color:rgba(0,0,0.45)}\n            .newcommands{display:none;}\n            code{background-color:#f8f8f8;border:1px #888 solid;border-radius:2px;padding-left:0.2em;padding-right:0.2em;}\n            img{background-color:#fff;}\n        </style> <div><h1>Section 9.3 Determinants</h1><h2>Individual Notebook</h2><div><a href=https://stevenclontz.github.io/exploring-math-technology/vectors-determinants.html>https://stevenclontz.github.io/exploring-math-technology/vectors-determinants.html</a></div></div></div>"
            ]
        },
        {
            "cell_type": "markdown",
            "metadata": {
                "collapsed": false,
                "editable": false
            },
            "source": [
                "<div class=\"not-editable individual\"><h2>Preview Activity 9.3.1</h2></div>"
            ]
        },
        {
            "cell_type": "markdown",
            "metadata": {
                "collapsed": false,
                "editable": false
            },
            "source": [
                "<div class=\"not-editable individual\"><span> The code in <a href=https://stevenclontz.github.io/exploring-math-technology/vectors-determinants.html#vectors-determinants-listing>Listing 9.3.1</a> demonstrates how a given matrix transforms the shape of the standard unit square with corners at <span class=m> $(0,0),(1,0),(1,1),(0,1)$ </span>. </span></div>"
            ]
        },
        {
            "cell_type": "markdown",
            "metadata": {
                "collapsed": false,
                "editable": false
            },
            "source": [
                "<div class=\"not-editable individual\"><div><figure><figcaption><b>Listing 9.3.1</b>Transforming a square</figcaption><pre>A = matrix([[1,2],[3,4]])\n\nprint(\"The transformation caused by:\")\nshow(A)\nplot(vector([1,0]), color=\"#f88\") + \\\nplot(vector([0,1]), color=\"#88f\") + \\\nplot(A*vector([1,0]), color=\"#f00\") + \\\nplot(A*vector([0,1]), color=\"#00f\") + \\\npolygon([\n    vector([0,0]),\n    vector([1,0]),\n    vector([1,1]),\n    vector([0,1]),\n    ], color=\"#fbf\"\n)+ \\\npolygon([\n    A*vector([0,0]),\n    A*vector([1,0]),\n    A*vector([1,1]),\n    A*vector([0,1]),\n    ], color=\"#f0f\"\n)</pre></figure></div></div>"
            ]
        },
        {
            "cell_type": "markdown",
            "metadata": {
                "collapsed": false,
                "editable": false
            },
            "source": [
                "<div class=\"not-editable individual\"><div><h4>Task A</h4></div></div>"
            ]
        },
        {
            "cell_type": "markdown",
            "metadata": {
                "collapsed": false,
                "editable": false
            },
            "source": [
                "<div class=\"not-editable individual\"><span> Create several Code cells that modify <a href=https://stevenclontz.github.io/exploring-math-technology/vectors-determinants.html#vectors-determinants-listing>Listing 9.3.1</a> in order to show how each of the following matrices transforms the standard unit square. </span></div>"
            ]
        },
        {
            "cell_type": "markdown",
            "metadata": {
                "collapsed": false,
                "editable": false
            },
            "source": [
                "<div class=\"not-editable individual\"><ul><li> <span class=m> $\\left(\\begin{array}{rr} 3 &amp; 1 \\\\ 2 &amp; 2 \\end{array}\\right)$ </span> </li><li> <span class=m> $\\left(\\begin{array}{rr} 0 &amp; -1 \\\\ 1 &amp; 0 \\end{array}\\right)$ </span> </li><li> <span class=m> $\\left(\\begin{array}{rr} -1 &amp; -2 \\\\ -2 &amp; 1 \\end{array}\\right)$ </span> </li><li> <span class=m> $\\left(\\begin{array}{rr} \\frac{1}{10} &amp; \\frac{3}{10} \\\\ -\\frac{3}{10} &amp; -\\frac{1}{2} \\end{array}\\right)$ </span> </li></ul></div>"
            ]
        },
        {
            "cell_type": "markdown",
            "metadata": {
                "collapsed": false,
                "editable": false
            },
            "source": [
                "<div class=\"not-editable individual\"><div><h4>Task B</h4></div></div>"
            ]
        },
        {
            "cell_type": "markdown",
            "metadata": {
                "collapsed": false,
                "editable": false
            },
            "source": [
                "<div class=\"not-editable individual\"><span> Write a sentence pointing out a difference or two among these transformations. </span></div>"
            ]
        },
        {
            "cell_type": "markdown",
            "metadata": {
                "collapsed": false,
                "editable": false
            },
            "source": [
                "<div class=\"not-editable individual\"><div><h4>Task C</h4></div></div>"
            ]
        },
        {
            "cell_type": "markdown",
            "metadata": {
                "collapsed": false,
                "editable": false
            },
            "source": [
                "<div class=\"not-editable individual\"><span> Write a sentence pointing out a similarity or two among these transformations. </span></div>"
            ]
        },
        {
            "cell_type": "markdown",
            "metadata": {
                "collapsed": false,
                "editable": false
            },
            "source": [
                "<div class=\"not-editable individual\"><h2>Exercise 1</h2></div>"
            ]
        },
        {
            "cell_type": "markdown",
            "metadata": {
                "collapsed": false,
                "editable": false
            },
            "source": [
                "<div class=\"not-editable individual\"><span> Use Code cells to create visualizations of how the following matrices transform areas. </span></div>"
            ]
        },
        {
            "cell_type": "markdown",
            "metadata": {
                "collapsed": false,
                "editable": false
            },
            "source": [
                "<div class=\"not-editable individual\"><ul><li> <span class=m> $A=\\left(\\begin{array}{rr} -5 &amp; 4 \\\\ 3 &amp; -3 \\end{array}\\right)$ </span> </li><li> <span class=m> $B=\\left(\\begin{array}{rr} 3 &amp; 5 \\\\ -1 &amp; 5 \\end{array}\\right)$ </span> </li><li> <span class=m> $C=\\left(\\begin{array}{rr} -2 &amp; 4 \\\\ 4 &amp; -8 \\end{array}\\right)$ </span> </li><li> <span class=m> $D=\\left(\\begin{array}{rr} -3 &amp; -1 \\\\ 4 &amp; 3 \\end{array}\\right)$ </span> </li></ul></div>"
            ]
        },
        {
            "cell_type": "markdown",
            "metadata": {
                "collapsed": false,
                "editable": false
            },
            "source": [
                "<div class=\"not-editable individual\"><h2>Exercise 2</h2></div>"
            ]
        },
        {
            "cell_type": "markdown",
            "metadata": {
                "collapsed": false,
                "editable": false
            },
            "source": [
                "<div class=\"not-editable individual\"><span> Use these visualizations to explain which matrices have positive determinants, which ones have negative determinants, and which ones have a determinant of zero. </span></div>"
            ]
        },
        {
            "cell_type": "markdown",
            "metadata": {
                "collapsed": false,
                "editable": false
            },
            "source": [
                "<div class=\"not-editable individual\"><h2>Exercise 3</h2></div>"
            ]
        },
        {
            "cell_type": "markdown",
            "metadata": {
                "collapsed": false,
                "editable": false
            },
            "source": [
                "<div class=\"not-editable individual\"><span> Use these visualizations to explain which matrix has the smallest nonzero determinant and which has the largest determinant. (When comparing the size of determinants, ignore <span class=m> $\\pm$ </span> signs, so a determinant of <span class=m> $-10$ </span> is considered larger than a determinant of <span class=m> $+3$ </span>.) </span></div>"
            ]
        },
        {
            "cell_type": "markdown",
            "metadata": {
                "collapsed": false,
                "editable": false
            },
            "source": [
                "<div class=\"not-editable individual\"><h2>Exercise 4</h2></div>"
            ]
        },
        {
            "cell_type": "markdown",
            "metadata": {
                "collapsed": false,
                "editable": false
            },
            "source": [
                "<div class=\"not-editable individual\"><span> Show how to use the diagonal formula to compute each determinant by hand. </span></div>"
            ]
        },
        {
            "cell_type": "markdown",
            "metadata": {
                "collapsed": false,
                "editable": false
            },
            "source": [
                "<div class=\"not-editable individual\"><h2>Exercise 5</h2></div>"
            ]
        },
        {
            "cell_type": "markdown",
            "metadata": {
                "collapsed": false,
                "editable": false
            },
            "source": [
                "<div class=\"not-editable individual\"><span> Show how to use SageMath to compute each determinant. </span></div>"
            ]
        },
        {
            "cell_type": "markdown",
            "metadata": {
                "collapsed": false,
                "editable": false
            },
            "source": [
                "<div class=\"not-editable individual\"><h2>Exercise 6</h2></div>"
            ]
        },
        {
            "cell_type": "markdown",
            "metadata": {
                "collapsed": false,
                "editable": false
            },
            "source": [
                "<div class=\"not-editable individual\"><span> Use SageMath to compute the determinant of <span class=m> $\\left(\\begin{array}{rrr} 1 &amp; 3 &amp; -2 \\\\ -1 &amp; -5 &amp; -1 \\\\ -2 &amp; 1 &amp; 0 \\end{array}\\right)$ </span>. Then write a sentence explaining what this value represents. </span></div>"
            ]
        }
    ],
    "nbformat": 4,
    "nbformat_minor": 4
}