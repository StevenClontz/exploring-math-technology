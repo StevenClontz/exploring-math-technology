{
    "cells": [
        {
            "cell_type": "markdown",
            "metadata": {
                "collapsed": false,
                "editable": false
            },
            "source": [
                "<div class=\"not-editable individual\"> <style>\n            .not-editable{padding:1em;border-radius:10px;box-shadow:4px 4px 3px #ddd;margin:5px;}\n            .not-editable.individual{background-color:#eefff8;}\n            .not-editable.team{background-color:#eef8ff;}\n            .sidebyside{display:flex;justify-content:center;}\n            .sidebyside > *{margin-right:1em;flex:1;}\n            caption{caption-side:top;white-space: nowrap;color:rgba(0,0,0,.45)}}\n            figcaption{padding-top:0.75em;padding-bottom:0.3em;color:rgba(0,0,0,.45)}\n            .fillin{display:inline-block;width:10em;margin-left:0.2em;margin-right:0.2em;height:1em;border-bottom:1px black solid;}\n            .fn{font-size:0.8em;color:rgba(0,0,0.45)}\n            .newcommands{display:none;}\n            code{background-color:#f8f8f8;border:1px #888 solid;border-radius:2px;padding-left:0.2em;padding-right:0.2em;}\n            img{background-color:#fff;}\n        </style> <div><h1>Section 4.1 Tables</h1><h2>Individual Notebook</h2><div><a href=https://stevenclontz.github.io/exploring-math-technology/visualization-tables.html>https://stevenclontz.github.io/exploring-math-technology/visualization-tables.html</a></div></div></div>"
            ]
        },
        {
            "cell_type": "markdown",
            "metadata": {
                "collapsed": false,
                "editable": false
            },
            "source": [
                "<div class=\"not-editable individual\"><h2>Preview Activity 4.1.1</h2></div>"
            ]
        },
        {
            "cell_type": "markdown",
            "metadata": {
                "collapsed": false,
                "editable": false
            },
            "source": [
                "<div class=\"not-editable individual\"><span> One of the important features of Python for programmers (and SageMath for mathematicians) is its extensive <span class=q> \"standard library\" </span>: that is, a lot of features are available by default in the language without installing additional programs. </span></div>"
            ]
        },
        {
            "cell_type": "markdown",
            "metadata": {
                "collapsed": false,
                "editable": false
            },
            "source": [
                "<div class=\"not-editable individual\"><span> However, since different people use Python for different applications, not every feature can be made availble by default. There are several libraries available in Python for data science, but we will use one specifically developed for students called, well, <code>datascience</code>. Documentation for the <code>datascience</code> library is available at . </span></div>"
            ]
        },
        {
            "cell_type": "markdown",
            "metadata": {
                "collapsed": false,
                "editable": false
            },
            "source": [
                "<div class=\"not-editable individual\"><div><h4>Task A</h4></div></div>"
            ]
        },
        {
            "cell_type": "markdown",
            "metadata": {
                "collapsed": false,
                "editable": false
            },
            "source": [
                "<div class=\"not-editable individual\"><span> Copy the contents of <a href=https://stevenclontz.github.io/exploring-math-technology/visualization-tables.html#visualization-tables-import-datascience>Listing 4.1.1</a> into a Code cell and follow its instructions to install <code>datascience</code> if it is not already available, then re-run the Code cell. You will only need to do this process once per project. </span></div>"
            ]
        },
        {
            "cell_type": "markdown",
            "metadata": {
                "collapsed": false,
                "editable": false
            },
            "source": [
                "<div class=\"not-editable individual\"><div><figure><figcaption><b>Listing 4.1.1</b>Install and import <code>datascience</code></figcaption><pre>try:\n    from datascience import Table\n    print(\"The module `datascience` is installed on your project.\")\nexcept ModuleNotFoundError:\n    import sys\n    print(\"The module `datascience` is not installed.\")\n    print(\"To install it for your CoCalc project, do the following:\"\n    print(\"1. Use the [(+) New] menu to open a Linux terminal.\")\n    print(\"2. Copy-paste the line below into the terminal and hit [Enter].\")\n    print()\n    print(f\"{sys.executable} -m pip install --user datascience\")\n    print()\n    print(\"3. Return to this notebook and \\\"Restart Kernel\\\".\")\n    print(\"4. Re-run this Code cell.\")</pre></figure></div></div>"
            ]
        },
        {
            "cell_type": "markdown",
            "metadata": {
                "collapsed": false,
                "editable": false
            },
            "source": [
                "<div class=\"not-editable individual\"><div><h4>Task B</h4></div></div>"
            ]
        },
        {
            "cell_type": "markdown",
            "metadata": {
                "collapsed": false,
                "editable": false
            },
            "source": [
                "<div class=\"not-editable individual\"><span> To confirm that you can create <code>datascience</code> tables, copy-paste the contents of <a href=https://stevenclontz.github.io/exploring-math-technology/visualization-tables.html#visualization-tables-test>Listing 4.1.2</a> into a Code cell to display a nicely formatted table of (incomplete) Scrabble tile data. </span></div>"
            ]
        },
        {
            "cell_type": "markdown",
            "metadata": {
                "collapsed": false,
                "editable": false
            },
            "source": [
                "<div class=\"not-editable individual\"><div><figure><figcaption><b>Listing 4.1.2</b>Try out <code>datascience</code></figcaption><pre>Table().with_columns([\n    'letter', ['a', 'b', 'c', 'z'],\n    'count',  [  9,   3,   3,   1],\n    'points', [  1,   2,   2,  10],\n])</pre></figure></div></div>"
            ]
        },
        {
            "cell_type": "markdown",
            "metadata": {
                "collapsed": false,
                "editable": false
            },
            "source": [
                "<div class=\"not-editable individual\"><h2>Exercise 1</h2></div>"
            ]
        },
        {
            "cell_type": "markdown",
            "metadata": {
                "collapsed": false,
                "editable": false
            },
            "source": [
                "<div class=\"not-editable individual\"><span> Repeat the necesary steps from the class activities in order to make <code>pizza_table</code> and <code>book_table</code> available for these exercises. Then run <code>pizza_table.show(10)</code> and <code>book_table.show(10)</code> to confirm. </span></div>"
            ]
        },
        {
            "cell_type": "markdown",
            "metadata": {
                "collapsed": false,
                "editable": false
            },
            "source": [
                "<div class=\"not-editable individual\"><h2>Exercise 2</h2></div>"
            ]
        },
        {
            "cell_type": "markdown",
            "metadata": {
                "collapsed": false,
                "editable": false
            },
            "source": [
                "<div class=\"not-editable individual\"><span> How many extra-extra-large pizzas were sold by the pizzeria represented by <code>pizza_table</code>? </span></div>"
            ]
        },
        {
            "cell_type": "markdown",
            "metadata": {
                "collapsed": false,
                "editable": false
            },
            "source": [
                "<div class=\"not-editable individual\"><h2>Exercise 3</h2></div>"
            ]
        },
        {
            "cell_type": "markdown",
            "metadata": {
                "collapsed": false,
                "editable": false
            },
            "source": [
                "<div class=\"not-editable individual\"><span> Display all the <span class=q> \"green garden\" </span> pizzas purchased on October 1st. </span></div>"
            ]
        },
        {
            "cell_type": "markdown",
            "metadata": {
                "collapsed": false,
                "editable": false
            },
            "source": [
                "<div class=\"not-editable individual\"><h2>Exercise 4</h2></div>"
            ]
        },
        {
            "cell_type": "markdown",
            "metadata": {
                "collapsed": false,
                "editable": false
            },
            "source": [
                "<div class=\"not-editable individual\"><span> Display all the pizzas sold on February 14th, sorted from most to least expensive. </span></div>"
            ]
        },
        {
            "cell_type": "markdown",
            "metadata": {
                "collapsed": false,
                "editable": false
            },
            "source": [
                "<div class=\"not-editable individual\"><h2>Exercise 5</h2></div>"
            ]
        },
        {
            "cell_type": "markdown",
            "metadata": {
                "collapsed": false,
                "editable": false
            },
            "source": [
                "<div class=\"not-editable individual\"><span> Update <code>book_table</code> to include how frequently Tinker Bell is mentioned. (Note that she is often referred to as simply <span class=q> \"Tink\" </span>.) </span></div>"
            ]
        },
        {
            "cell_type": "markdown",
            "metadata": {
                "collapsed": false,
                "editable": false
            },
            "source": [
                "<div class=\"not-editable individual\"><h2>Exercise 6</h2></div>"
            ]
        },
        {
            "cell_type": "markdown",
            "metadata": {
                "collapsed": false,
                "editable": false
            },
            "source": [
                "<div class=\"not-editable individual\"><span> Display <code>book_table</code> sorted by how frequently Tinker Bell is mentioned, and confirm that she is most often mentioned in Chapter 3 (<span class=m> $22$ </span> times). </span></div>"
            ]
        }
    ],
    "nbformat": 4,
    "nbformat_minor": 4
}