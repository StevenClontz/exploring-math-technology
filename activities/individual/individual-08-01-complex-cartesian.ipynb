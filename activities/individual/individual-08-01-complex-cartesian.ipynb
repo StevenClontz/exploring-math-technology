{
    "cells": [
        {
            "cell_type": "markdown",
            "metadata": {
                "collapsed": false,
                "editable": false
            },
            "source": [
                "<div class=\"not-editable individual\"> <style>\n            .not-editable{padding:1em;border-radius:10px;box-shadow:4px 4px 3px #ddd;margin:5px;}\n            .not-editable.individual{background-color:#eefff8;}\n            .not-editable.team{background-color:#eef8ff;}\n            .sidebyside{display:flex;justify-content:center;}\n            .sidebyside > *{margin-right:1em;flex:1;}\n            caption{caption-side:top;white-space: nowrap;color:rgba(0,0,0,.45)}}\n            figcaption{padding-top:0.75em;padding-bottom:0.3em;color:rgba(0,0,0,.45)}\n            .fillin{display:inline-block;width:10em;margin-left:0.2em;margin-right:0.2em;height:1em;border-bottom:1px black solid;}\n            .fn{font-size:0.8em;color:rgba(0,0,0.45)}\n            .newcommands{display:none;}\n            code{background-color:#f8f8f8;border:1px #888 solid;border-radius:2px;padding-left:0.2em;padding-right:0.2em;}\n            img{background-color:#fff;}\n        </style> <div><h1>Section 8.1 Cartesian Coordinates</h1><h2>Individual Notebook</h2><div><a href=https://stevenclontz.github.io/exploring-math-technology/complex-cartesian.html>https://stevenclontz.github.io/exploring-math-technology/complex-cartesian.html</a></div></div></div>"
            ]
        },
        {
            "cell_type": "markdown",
            "metadata": {
                "collapsed": false,
                "editable": false
            },
            "source": [
                "<div class=\"not-editable individual\"><h2>Preview Activity 8.1.1</h2></div>"
            ]
        },
        {
            "cell_type": "markdown",
            "metadata": {
                "collapsed": false,
                "editable": false
            },
            "source": [
                "<div class=\"not-editable individual\"><span> To describe points in a two-dimensional Cartesian plane, we may use either ordered pairs <span class=m> $(x,y)$ </span> or complex numbers <span class=m> $x+yi$ </span>. These are simply two different ways to describe the same positional data. For example, both <span class=m> $(-1,5)$ </span> and <span class=m> $-1+5i$ </span> describe the same point in the illustration found in <a href=https://stevenclontz.github.io/exploring-math-technology/complex-cartesian.html#complex-cartesian-preview-figure>Figure 8.1.1</a>. </span></div>"
            ]
        },
        {
            "cell_type": "markdown",
            "metadata": {
                "collapsed": false,
                "editable": false
            },
            "source": [
                "<div class=\"not-editable individual\"><div><figure><figcaption><b>Figure 8.1.1.</b> Several points in the plane</figcaption><div><img src=images/complex-cartesian-preview.png></div></figure></div></div>"
            ]
        },
        {
            "cell_type": "markdown",
            "metadata": {
                "collapsed": false,
                "editable": false
            },
            "source": [
                "<div class=\"not-editable individual\"><span> The origin is the point <span class=m> $(0,0)=0+0i$ </span> at the <span class=q> \"center\" </span> of the plane. The <span class=m> $x$ </span>-value of any point (the first number in the pair, and the value without an <span class=m> $i$ </span> in the complex number) describes its horizontal distance from the origin, moving right for positive numbers, and left for negative numbers. Likewise the <span class=m> $y$ </span>-value of any point (the second number in the pair, and the value with an <span class=m> $i$ </span> in the complex number) describes its vertical distance from the origin, where positive is up and negative is down. </span></div>"
            ]
        },
        {
            "cell_type": "markdown",
            "metadata": {
                "collapsed": false,
                "editable": false
            },
            "source": [
                "<div class=\"not-editable individual\"><div><h4>Task A</h4></div></div>"
            ]
        },
        {
            "cell_type": "markdown",
            "metadata": {
                "collapsed": false,
                "editable": false
            },
            "source": [
                "<div class=\"not-editable individual\"><span> Draw <a href=https://stevenclontz.github.io/exploring-math-technology/complex-cartesian.html#complex-cartesian-preview-figure>Figure 8.1.1</a> by hand, or copy it into a graphics program. Then label the following points with both ordered pairs and complex numbers. </span></div>"
            ]
        },
        {
            "cell_type": "markdown",
            "metadata": {
                "collapsed": false,
                "editable": false
            },
            "source": [
                "<div class=\"not-editable individual\"><ul><li> <span class=m> $(-5,-3)$ </span> </li><li> <span class=m> $5+3i$ </span> </li><li> <span class=m> $4-1i$ </span> </li></ul></div>"
            ]
        },
        {
            "cell_type": "markdown",
            "metadata": {
                "collapsed": false,
                "editable": false
            },
            "source": [
                "<div class=\"not-editable individual\"><div><h4>Task B</h4></div></div>"
            ]
        },
        {
            "cell_type": "markdown",
            "metadata": {
                "collapsed": false,
                "editable": false
            },
            "source": [
                "<div class=\"not-editable individual\"><span> Note that <span class=m> $4-1i$ </span> is often written as <span class=m> $4-i$ </span>, since we think of <span class=m> $1i$ </span> as multiplication. How might <span class=m> $0-5i$ </span> be more simply written? What about <span class=m> $-1+0i$ </span>? </span></div>"
            ]
        },
        {
            "cell_type": "markdown",
            "metadata": {
                "collapsed": false,
                "editable": false
            },
            "source": [
                "<div class=\"not-editable individual\"><div><h4>Task C</h4></div></div>"
            ]
        },
        {
            "cell_type": "markdown",
            "metadata": {
                "collapsed": false,
                "editable": false
            },
            "source": [
                "<div class=\"not-editable individual\"><span> Label <span class=m> $0-5i$ </span> and <span class=m> $-1+0i$ </span> in your drawing with both ordered pairs and simplified complex numbers. </span></div>"
            ]
        },
        {
            "cell_type": "markdown",
            "metadata": {
                "collapsed": false,
                "editable": false
            },
            "source": [
                "<div class=\"not-editable individual\"><h2>Exercise 1</h2></div>"
            ]
        },
        {
            "cell_type": "markdown",
            "metadata": {
                "collapsed": false,
                "editable": false
            },
            "source": [
                "<div class=\"not-editable individual\"><span> Illustrate how to plot the position of the complex number <span class=m> $3-4i$ </span> in the plane by hand. Label it with its complex number and the equivalent ordered pair. </span></div>"
            ]
        },
        {
            "cell_type": "markdown",
            "metadata": {
                "collapsed": false,
                "editable": false
            },
            "source": [
                "<div class=\"not-editable individual\"><h2>Exercise 2</h2></div>"
            ]
        },
        {
            "cell_type": "markdown",
            "metadata": {
                "collapsed": false,
                "editable": false
            },
            "source": [
                "<div class=\"not-editable individual\"><span> Use a Code cell to plot all of the following complex numbers in the plane. </span></div>"
            ]
        },
        {
            "cell_type": "markdown",
            "metadata": {
                "collapsed": false,
                "editable": false
            },
            "source": [
                "<div class=\"not-editable individual\"><ul><li><span class=m> $3+i$ </span></li><li><span class=m> $-5$ </span></li><li><span class=m> $-2+4i$ </span></li><li><span class=m> $2i$ </span></li><li><span class=m> $-3-5i$ </span></li><li><span class=m> $1-i$ </span></li></ul></div>"
            ]
        },
        {
            "cell_type": "markdown",
            "metadata": {
                "collapsed": false,
                "editable": false
            },
            "source": [
                "<div class=\"not-editable individual\"><h2>Exercise 3</h2></div>"
            ]
        },
        {
            "cell_type": "markdown",
            "metadata": {
                "collapsed": false,
                "editable": false
            },
            "source": [
                "<div class=\"not-editable individual\"><span> Write a sentence explaining where the complex number <span class=m> $(3+2i)+(-4+i)$ </span> is positioned when compared to <span class=m> $3+2i$ </span>. Then illustrate your sentence by hand or using technology. </span></div>"
            ]
        },
        {
            "cell_type": "markdown",
            "metadata": {
                "collapsed": false,
                "editable": false
            },
            "source": [
                "<div class=\"not-editable individual\"><h2>Exercise 4</h2></div>"
            ]
        },
        {
            "cell_type": "markdown",
            "metadata": {
                "collapsed": false,
                "editable": false
            },
            "source": [
                "<div class=\"not-editable individual\"><span> Show how to calculuate the value of <span class=m> $(3+2i)+(-4+i)$ </span> by hand and using technology. </span></div>"
            ]
        },
        {
            "cell_type": "markdown",
            "metadata": {
                "collapsed": false,
                "editable": false
            },
            "source": [
                "<div class=\"not-editable individual\"><h2>Exercise 5</h2></div>"
            ]
        },
        {
            "cell_type": "markdown",
            "metadata": {
                "collapsed": false,
                "editable": false
            },
            "source": [
                "<div class=\"not-editable individual\"><span> Write a sentence explaining where the complex number <span class=m> $2(1-3i)$ </span> is positioned when compared to <span class=m> $1-3i$ </span>. Then illustrate your sentence by hand or using technology. </span></div>"
            ]
        },
        {
            "cell_type": "markdown",
            "metadata": {
                "collapsed": false,
                "editable": false
            },
            "source": [
                "<div class=\"not-editable individual\"><h2>Exercise 6</h2></div>"
            ]
        },
        {
            "cell_type": "markdown",
            "metadata": {
                "collapsed": false,
                "editable": false
            },
            "source": [
                "<div class=\"not-editable individual\"><span> Show how to calculuate the value of <span class=m> $2(1-3i)$ </span> by hand and using technology. </span></div>"
            ]
        }
    ],
    "nbformat": 4,
    "nbformat_minor": 4
}