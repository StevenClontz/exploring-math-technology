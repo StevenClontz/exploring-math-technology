{
    "cells": [
        {
            "cell_type": "markdown",
            "metadata": {
                "collapsed": false,
                "editable": false
            },
            "source": [
                "<div class=\"not-editable individual\"> <style>\n            .not-editable{padding:1em;border-radius:10px;box-shadow:4px 4px 3px #ddd;margin:5px;}\n            .not-editable.individual{background-color:#eefff8;}\n            .not-editable.team{background-color:#eef8ff;}\n            .sidebyside{display:flex;justify-content:center;}\n            .sidebyside > *{margin-right:1em;flex:1;}\n            caption{caption-side:top;white-space: nowrap;color:rgba(0,0,0,.45)}}\n            figcaption{padding-top:0.75em;padding-bottom:0.3em;color:rgba(0,0,0,.45)}\n            .fillin{display:inline-block;width:10em;margin-left:0.2em;margin-right:0.2em;height:1em;border-bottom:1px black solid;}\n            .fn{font-size:0.8em;color:rgba(0,0,0.45)}\n            .newcommands{display:none;}\n            code{background-color:#f8f8f8;border:1px #888 solid;border-radius:2px;padding-left:0.2em;padding-right:0.2em;}\n            img{background-color:#fff;}\n        </style> <div><h1>Section 1.1 Jupyter Notebooks and CoCalc</h1><h2>Individual Notebook</h2><div><a href=https://stevenclontz.github.io/exploring-math-technology/programming-jupyter.html>https://stevenclontz.github.io/exploring-math-technology/programming-jupyter.html</a></div></div></div>"
            ]
        },
        {
            "cell_type": "markdown",
            "metadata": {
                "collapsed": false,
                "editable": false
            },
            "source": [
                "<div class=\"not-editable individual\"><h2>Preview Activity 1.1.1</h2></div>"
            ]
        },
        {
            "cell_type": "markdown",
            "metadata": {
                "collapsed": false,
                "editable": false
            },
            "source": [
                "<div class=\"not-editable individual\"><span> Throughout this course, you will complete the activities from this text within Jupyter notebooks hosted on CoCalc.com, some individually, and some within groups. </span></div>"
            ]
        },
        {
            "cell_type": "markdown",
            "metadata": {
                "collapsed": false,
                "editable": false
            },
            "source": [
                "<div class=\"not-editable individual\"><span> <ol><li> <span> Your instructor will provide directions how how to log into CoCalc.com and access your <span class=q> \"Project\" </span> containing the Jupyter notebooks for this course. </span> </li><li> <span> Navigate to the notebook associated with this activity <a href=https://stevenclontz.github.io/exploring-math-technology/programming-jupyter.html#programming-jupyter-first-activity>Preview Activity 1.1.1</a>. In the editable textbox appearing below this activity in the notebook, double-click to edit and type the well-worn phrase of computing: <code>Hello World!</code>. Tap Ctrl+Enter to save your note. </span> </li></ol> </span></div>"
            ]
        }
    ],
    "nbformat": 4,
    "nbformat_minor": 4
}