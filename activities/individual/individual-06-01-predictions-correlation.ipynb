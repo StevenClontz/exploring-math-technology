{
    "cells": [
        {
            "cell_type": "markdown",
            "metadata": {
                "collapsed": false,
                "editable": false
            },
            "source": [
                "<div class=\"not-editable individual\"> <style>\n            .not-editable{padding:1em;border-radius:10px;box-shadow:4px 4px 3px #ddd;margin:5px;}\n            .not-editable.individual{background-color:#eefff8;}\n            .not-editable.team{background-color:#eef8ff;}\n            .sidebyside{display:flex;justify-content:center;}\n            .sidebyside > *{margin-right:1em;flex:1;}\n            caption{caption-side:top;white-space: nowrap;color:rgba(0,0,0,.45)}}\n            figcaption{padding-top:0.75em;padding-bottom:0.3em;color:rgba(0,0,0,.45)}\n            .fillin{display:inline-block;width:10em;margin-left:0.2em;margin-right:0.2em;height:1em;border-bottom:1px black solid;}\n            .fn{font-size:0.8em;color:rgba(0,0,0.45)}\n            .newcommands{display:none;}\n            code{background-color:#f8f8f8;border:1px #888 solid;border-radius:2px;padding-left:0.2em;padding-right:0.2em;}\n            img{background-color:#fff;}\n        </style> <div><h1>Section 6.1 Measuring Correlation</h1><h2>Individual Notebook</h2><div><a href=https://stevenclontz.github.io/exploring-math-technology/predictions-correlation.html>https://stevenclontz.github.io/exploring-math-technology/predictions-correlation.html</a></div></div></div>"
            ]
        },
        {
            "cell_type": "markdown",
            "metadata": {
                "collapsed": false,
                "editable": false
            },
            "source": [
                "<div class=\"not-editable individual\"><h2>Preview Activity 6.1.1</h2></div>"
            ]
        },
        {
            "cell_type": "markdown",
            "metadata": {
                "collapsed": false,
                "editable": false
            },
            "source": [
                "<div class=\"not-editable individual\"><span> Consider the following scatter plots comparing college math placement exam scores to SAT math exam scores and the size of each student's high school. </span></div>"
            ]
        },
        {
            "cell_type": "markdown",
            "metadata": {
                "collapsed": false,
                "editable": false
            },
            "source": [
                "<div class=\"not-editable individual\"><div class=sidebyside><div><figure><figcaption><b>Figure 6.1.1.</b> Scatter plot comparing school size and math placement scores</figcaption><div><img src=images/predictions-correlation-uncorrelated.png></div></figure></div><div><figure><figcaption><b>Figure 6.1.2.</b> Scatter plot comparing SAT and math placement scores</figcaption><div><img src=images/visualization-two-scatter.png></div></figure></div></div></div>"
            ]
        },
        {
            "cell_type": "markdown",
            "metadata": {
                "collapsed": false,
                "editable": false
            },
            "source": [
                "<div class=\"not-editable individual\"><span> Historically, the college placed students who recieved higher placement exam scores into more advanced math courses. But suppose this college decided to save money and time by no longer offering a math placement exam. </span></div>"
            ]
        },
        {
            "cell_type": "markdown",
            "metadata": {
                "collapsed": false,
                "editable": false
            },
            "source": [
                "<div class=\"not-editable individual\"><div><h4>Task A</h4></div></div>"
            ]
        },
        {
            "cell_type": "markdown",
            "metadata": {
                "collapsed": false,
                "editable": false
            },
            "source": [
                "<div class=\"not-editable individual\"><span> Should the college place students who come from larger schools into more advanced math courses? Write a few sentences on why you agree or disagree, based on both the scatter plot and your intuition. </span></div>"
            ]
        },
        {
            "cell_type": "markdown",
            "metadata": {
                "collapsed": false,
                "editable": false
            },
            "source": [
                "<div class=\"not-editable individual\"><div><h4>Task B</h4></div></div>"
            ]
        },
        {
            "cell_type": "markdown",
            "metadata": {
                "collapsed": false,
                "editable": false
            },
            "source": [
                "<div class=\"not-editable individual\"><span> Should the college place students who scored higher on the math SAT into more advanced math courses? Write a few sentences on why you agree or disagree, based on both the scatter plot and your intuition. </span></div>"
            ]
        },
        {
            "cell_type": "markdown",
            "metadata": {
                "collapsed": false,
                "editable": false
            },
            "source": [
                "<div class=\"not-editable individual\"><h2>Exercise 1</h2></div>"
            ]
        },
        {
            "cell_type": "markdown",
            "metadata": {
                "collapsed": false,
                "editable": false
            },
            "source": [
                "<div class=\"not-editable individual\"><span> What does it mean when a collection of data pairs has a correlation coefficient <span class=m> $r$ </span> close to <span class=m> $1$ </span>? </span></div>"
            ]
        },
        {
            "cell_type": "markdown",
            "metadata": {
                "collapsed": false,
                "editable": false
            },
            "source": [
                "<div class=\"not-editable individual\"><h2>Exercise 2</h2></div>"
            ]
        },
        {
            "cell_type": "markdown",
            "metadata": {
                "collapsed": false,
                "editable": false
            },
            "source": [
                "<div class=\"not-editable individual\"><span> What does it mean when a collection of data pairs has a correlation coefficient <span class=m> $r$ </span> close to <span class=m> $-1$ </span>? </span></div>"
            ]
        },
        {
            "cell_type": "markdown",
            "metadata": {
                "collapsed": false,
                "editable": false
            },
            "source": [
                "<div class=\"not-editable individual\"><h2>Exercise 3</h2></div>"
            ]
        },
        {
            "cell_type": "markdown",
            "metadata": {
                "collapsed": false,
                "editable": false
            },
            "source": [
                "<div class=\"not-editable individual\"><span> Does a correlation coefficient <span class=m> $r$ </span> close to <span class=m> $0$ </span> mean that the pairs of values have no relationship at all? Describe an example from class that supports your answer. </span></div>"
            ]
        },
        {
            "cell_type": "markdown",
            "metadata": {
                "collapsed": false,
                "editable": false
            },
            "source": [
                "<div class=\"not-editable individual\"><h2>Exercise 4</h2></div>"
            ]
        },
        {
            "cell_type": "markdown",
            "metadata": {
                "collapsed": false,
                "editable": false
            },
            "source": [
                "<div class=\"not-editable individual\"><span> For each of the following three scatter plots, estimate the value for the correlation coefficient, and explain why you chose your estimation. </span></div>"
            ]
        },
        {
            "cell_type": "markdown",
            "metadata": {
                "collapsed": false,
                "editable": false
            },
            "source": [
                "<div class=\"not-editable individual\"><div class=sidebyside><div><figure><figcaption><b>Figure 6.1.6.</b> Scatter plot A</figcaption><div><img src=images/predictions-correlation-exercise-a.png></div></figure></div><div><figure><figcaption><b>Figure 6.1.7.</b> Scatter plot B</figcaption><div><img src=images/predictions-correlation-exercise-b.png></div></figure></div><div><figure><figcaption><b>Figure 6.1.8.</b> Scatter plot C</figcaption><div><img src=images/predictions-correlation-exercise-c.png></div></figure></div></div></div>"
            ]
        },
        {
            "cell_type": "markdown",
            "metadata": {
                "collapsed": false,
                "editable": false
            },
            "source": [
                "<div class=\"not-editable individual\"><h2>Exercise 5</h2></div>"
            ]
        },
        {
            "cell_type": "markdown",
            "metadata": {
                "collapsed": false,
                "editable": false
            },
            "source": [
                "<div class=\"not-editable individual\"><span> Get a copy of <code>testing_table</code> available in this notebook, as well as the correlation computational features given in <a href=https://stevenclontz.github.io/exploring-math-technology/predictions-correlation.html#predictions-correlation-features>Listing 6.1.4</a>. </span></div>"
            ]
        },
        {
            "cell_type": "markdown",
            "metadata": {
                "collapsed": false,
                "editable": false
            },
            "source": [
                "<div class=\"not-editable individual\"><span> Compute the correlation coefficient between SAT math exam scores and ACT math exam scores. </span></div>"
            ]
        },
        {
            "cell_type": "markdown",
            "metadata": {
                "collapsed": false,
                "editable": false
            },
            "source": [
                "<div class=\"not-editable individual\"><h2>Exercise 6</h2></div>"
            ]
        },
        {
            "cell_type": "markdown",
            "metadata": {
                "collapsed": false,
                "editable": false
            },
            "source": [
                "<div class=\"not-editable individual\"><span> Write a sentence explaining what this correlation coefficient describes about SAT and ACT math exam scores. </span></div>"
            ]
        },
        {
            "cell_type": "markdown",
            "metadata": {
                "collapsed": false,
                "editable": false
            },
            "source": [
                "<div class=\"not-editable individual\"><h2>Exercise 7</h2></div>"
            ]
        },
        {
            "cell_type": "markdown",
            "metadata": {
                "collapsed": false,
                "editable": false
            },
            "source": [
                "<div class=\"not-editable individual\"><span> Show a scatter plot comparing SAT and ACT math exam scores. Explain how the scatter plot illustrates the correlation you found numerically. </span></div>"
            ]
        }
    ],
    "nbformat": 4,
    "nbformat_minor": 4
}