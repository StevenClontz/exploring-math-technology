{
    "cells": [
        {
            "cell_type": "markdown",
            "metadata": {
                "collapsed": false,
                "editable": false
            },
            "source": [
                "<div class=\"not-editable individual\"> <style>\n            .not-editable{padding:1em;border-radius:10px;box-shadow:4px 4px 3px #ddd;margin:5px;}\n            .not-editable.individual{background-color:#eefff8;}\n            .not-editable.team{background-color:#eef8ff;}\n            .sidebyside{display:flex;justify-content:center;}\n            .sidebyside > *{margin-right:1em;flex:1;}\n            caption{caption-side:top;white-space: nowrap;color:rgba(0,0,0,.45)}}\n            figcaption{padding-top:0.75em;padding-bottom:0.3em;color:rgba(0,0,0,.45)}\n            .fillin{display:inline-block;width:10em;margin-left:0.2em;margin-right:0.2em;height:1em;border-bottom:1px black solid;}\n            .fn{font-size:0.8em;color:rgba(0,0,0.45)}\n            .newcommands{display:none;}\n            code{background-color:#f8f8f8;border:1px #888 solid;border-radius:2px;padding-left:0.2em;padding-right:0.2em;}\n            img{background-color:#fff;}\n        </style> <div><h1>Section 1.3 The SageMath Kernel</h1><h2>Individual Notebook</h2><div><a href=https://stevenclontz.github.io/exploring-math-technology/programming-sagemath.html>https://stevenclontz.github.io/exploring-math-technology/programming-sagemath.html</a></div></div></div>"
            ]
        },
        {
            "cell_type": "markdown",
            "metadata": {
                "collapsed": false,
                "editable": false
            },
            "source": [
                "<div class=\"not-editable individual\"><h2>Preview Activity 1.3.1</h2></div>"
            ]
        },
        {
            "cell_type": "markdown",
            "metadata": {
                "collapsed": false,
                "editable": false
            },
            "source": [
                "<div class=\"not-editable individual\"><span> Many of the features of the Python language/kernel are optimized for computational efficiency, such as using binary approximations of fractions. This is valuable for applications like data science, but for studying mathematics itself we will find it useful to have another kernel available to more precisely model things, namely, SageMath. </span></div>"
            ]
        },
        {
            "cell_type": "markdown",
            "metadata": {
                "collapsed": false,
                "editable": false
            },
            "source": [
                "<div class=\"not-editable individual\"><div><h4>Task A</h4></div></div>"
            ]
        },
        {
            "cell_type": "markdown",
            "metadata": {
                "collapsed": false,
                "editable": false
            },
            "source": [
                "<div class=\"not-editable individual\"><span> Confirm that <code>6^2</code> and <code>6**2</code> both represent <span class=m> $6^2=36$ </span> in SageMath. </span></div>"
            ]
        },
        {
            "cell_type": "markdown",
            "metadata": {
                "collapsed": false,
                "editable": false
            },
            "source": [
                "<div class=\"not-editable individual\"><div><h4>Task B</h4></div></div>"
            ]
        },
        {
            "cell_type": "markdown",
            "metadata": {
                "collapsed": false,
                "editable": false
            },
            "source": [
                "<div class=\"not-editable individual\"><span> Confirm that <code>1/10+1/5</code> equals exactly <span class=m> $\\frac{3}{10}$ </span> in SageMath. </span></div>"
            ]
        },
        {
            "cell_type": "markdown",
            "metadata": {
                "collapsed": false,
                "editable": false
            },
            "source": [
                "<div class=\"not-editable individual\"><div><h4>Task C</h4></div></div>"
            ]
        },
        {
            "cell_type": "markdown",
            "metadata": {
                "collapsed": false,
                "editable": false
            },
            "source": [
                "<div class=\"not-editable individual\"><span> Finally, use <code>show( (x+1)^3 == ((x+1)^3).full_simplify() )</code> to display the algebraic formula <span class=m> $(x+1)^3=x^3+3x^2+3x+1$ </span>. </span></div>"
            ]
        },
        {
            "cell_type": "markdown",
            "metadata": {
                "collapsed": false,
                "editable": false
            },
            "source": [
                "<div class=\"not-editable individual\"><h2>Exercise 1</h2></div>"
            ]
        },
        {
            "cell_type": "markdown",
            "metadata": {
                "collapsed": false,
                "editable": false
            },
            "source": [
                "<div class=\"not-editable individual\"><span> Use a SageMath code cell to find the simplified value of <span class=m> $i^{\\ln(e^4)}$ </span>. </span></div>"
            ]
        },
        {
            "cell_type": "markdown",
            "metadata": {
                "collapsed": false,
                "editable": false
            },
            "source": [
                "<div class=\"not-editable individual\"><h2>Exercise 2</h2></div>"
            ]
        },
        {
            "cell_type": "markdown",
            "metadata": {
                "collapsed": false,
                "editable": false
            },
            "source": [
                "<div class=\"not-editable individual\"><span> Save the mathematical expression <span class=m> $\\sin(\\frac{\\pi}{7})\\cos(\\frac{5\\pi}{14})+\\sin(\\frac{5\\pi}{14})\\cos(\\frac{\\pi}{7})$ </span> to a CS variable named <code>fancy_math</code>. Then (since the <span class=q> \"trigonometric functions\" </span> <span class=m> $\\sin,\\cos$ </span> aren't immediately simplified by SageMath) use <code>fancy_math.trig_reduce()</code> to find its exact value. </span></div>"
            ]
        },
        {
            "cell_type": "markdown",
            "metadata": {
                "collapsed": false,
                "editable": false
            },
            "source": [
                "<div class=\"not-editable individual\"><h2>Exercise 3</h2></div>"
            ]
        },
        {
            "cell_type": "markdown",
            "metadata": {
                "collapsed": false,
                "editable": false
            },
            "source": [
                "<div class=\"not-editable individual\"><span> Are you satisfied with the above results? Write a sentence or two explaining why or why not. </span></div>"
            ]
        },
        {
            "cell_type": "markdown",
            "metadata": {
                "collapsed": false,
                "editable": false
            },
            "source": [
                "<div class=\"not-editable individual\"><h2>Exercise 4</h2></div>"
            ]
        },
        {
            "cell_type": "markdown",
            "metadata": {
                "collapsed": false,
                "editable": false
            },
            "source": [
                "<div class=\"not-editable individual\"><span> Many mathematicians believe (but no one has been able to prove) that the circular constant <span class=m> $\\pi=3.14159\\cdots$ </span> is a <span class=q> \"normal\" </span> number, which means that every finite sequence of digits will appear eventually in its decimal expression. For example, the SageMath code <code>pi.n(digits=10)</code> reveals that <span class=m> $65$ </span> appears as the 7th and 8th decimal digits of <span class=m> $\\pi$ </span>. </span></div>"
            ]
        },
        {
            "cell_type": "markdown",
            "metadata": {
                "collapsed": false,
                "editable": false
            },
            "source": [
                "<div class=\"not-editable individual\"><span> Use SageMath to show that <span class=m> $42$ </span> appears somewhere in the decimal expression of <span class=m> $\\pi$ </span>. </span></div>"
            ]
        },
        {
            "cell_type": "markdown",
            "metadata": {
                "collapsed": false,
                "editable": false
            },
            "source": [
                "<div class=\"not-editable individual\"><h2>Exercise 5</h2></div>"
            ]
        },
        {
            "cell_type": "markdown",
            "metadata": {
                "collapsed": false,
                "editable": false
            },
            "source": [
                "<div class=\"not-editable individual\"><span> Use the <code>var()</code> tool to declare the CS variables <code>m</code> and <code>n</code> to represent the math variables <span class=m> $m$ </span> and <span class=m> $n$ </span>. Then have the CS variable <code>quotient_expression</code> represent the mathematical expression <span class=m> $\\frac{m+1}{n^2-3n+2}$ </span>, and use <code>show()</code> to display <code>quotient_expression</code> with mathematical formatting. </span></div>"
            ]
        },
        {
            "cell_type": "markdown",
            "metadata": {
                "collapsed": false,
                "editable": false
            },
            "source": [
                "<div class=\"not-editable individual\"><h2>Exercise 6</h2></div>"
            ]
        },
        {
            "cell_type": "markdown",
            "metadata": {
                "collapsed": false,
                "editable": false
            },
            "source": [
                "<div class=\"not-editable individual\"><span> Compute the value of <span class=m> $\\frac{7+1}{(-3)^2-3(-3)+2}$ </span> by substituting <span class=m> $m=7$ </span> and <span class=m> $n=-3$ </span> into <code>quotient_expression</code>. </span></div>"
            ]
        },
        {
            "cell_type": "markdown",
            "metadata": {
                "collapsed": false,
                "editable": false
            },
            "source": [
                "<div class=\"not-editable individual\"><h2>Exercise 7</h2></div>"
            ]
        },
        {
            "cell_type": "markdown",
            "metadata": {
                "collapsed": false,
                "editable": false
            },
            "source": [
                "<div class=\"not-editable individual\"><span> Save the mathematical equation <span class=m> $x^3+1=(x+1)(x^2-x+1)$ </span> to the CS variable <code>sum_of_cubes</code>. Use the <code>bool()</code> tool to verify that <code>sum_of_cubes</code> represents a valid mathematical identity. </span></div>"
            ]
        },
        {
            "cell_type": "markdown",
            "metadata": {
                "collapsed": false,
                "editable": false
            },
            "source": [
                "<div class=\"not-editable individual\"><h2>Exercise 8</h2></div>"
            ]
        },
        {
            "cell_type": "markdown",
            "metadata": {
                "collapsed": false,
                "editable": false
            },
            "source": [
                "<div class=\"not-editable individual\"><span> Show how to solve the equation <span class=m> $17-2x=3x+2$ </span> by hand (by uploading a photograph of your written work). Then show how to use SageMath to solve it automatically. </span></div>"
            ]
        }
    ],
    "nbformat": 4,
    "nbformat_minor": 4
}