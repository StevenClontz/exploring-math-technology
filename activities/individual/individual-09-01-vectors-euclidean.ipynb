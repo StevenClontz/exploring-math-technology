{
    "cells": [
        {
            "cell_type": "markdown",
            "metadata": {
                "collapsed": false,
                "editable": false
            },
            "source": [
                "<div class=\"not-editable individual\"> <style>\n            .not-editable{padding:1em;border-radius:10px;box-shadow:4px 4px 3px #ddd;margin:5px;}\n            .not-editable.individual{background-color:#eefff8;}\n            .not-editable.team{background-color:#eef8ff;}\n            .sidebyside{display:flex;justify-content:center;}\n            .sidebyside > *{margin-right:1em;flex:1;}\n            caption{caption-side:top;white-space: nowrap;color:rgba(0,0,0,.45)}}\n            figcaption{padding-top:0.75em;padding-bottom:0.3em;color:rgba(0,0,0,.45)}\n            .fillin{display:inline-block;width:10em;margin-left:0.2em;margin-right:0.2em;height:1em;border-bottom:1px black solid;}\n            .fn{font-size:0.8em;color:rgba(0,0,0.45)}\n            .newcommands{display:none;}\n            code{background-color:#f8f8f8;border:1px #888 solid;border-radius:2px;padding-left:0.2em;padding-right:0.2em;}\n            img{background-color:#fff;}\n        </style> <div><h1>Section 9.1 Euclidean Vectors</h1><h2>Individual Notebook</h2><div><a href=https://stevenclontz.github.io/exploring-math-technology/vectors-euclidean.html>https://stevenclontz.github.io/exploring-math-technology/vectors-euclidean.html</a></div></div></div>"
            ]
        },
        {
            "cell_type": "markdown",
            "metadata": {
                "collapsed": false,
                "editable": false
            },
            "source": [
                "<div class=\"not-editable individual\"><h2>Preview Activity 9.1.1</h2></div>"
            ]
        },
        {
            "cell_type": "markdown",
            "metadata": {
                "collapsed": false,
                "editable": false
            },
            "source": [
                "<div class=\"not-editable individual\"><span> Consider the following table of meal cost data <a href=https://stevenclontz.github.io/exploring-math-technology/vectors-euclidean.html#vectors-euclidean-meals>Table 9.1.1</a>. </span></div>"
            ]
        },
        {
            "cell_type": "markdown",
            "metadata": {
                "collapsed": false,
                "editable": false
            },
            "source": [
                "<div class=\"not-editable individual\"><div><table><caption><b>Table 9.1.1.</b> </caption><tr><td> Breakfast </td><td> Lunch </td><td> Dinner </td></tr><tr><td> $6.90 </td><td> $8.75 </td><td> $9.05 </td></tr><tr><td> $11.00 </td><td> $0.00 </td><td> $12.95 </td></tr><tr><td> $10.25 </td><td> $10.50 </td><td> $13.70 </td></tr><tr><td> $8.20 </td><td> $14.50 </td><td> $11.15 </td></tr></table></div></div>"
            ]
        },
        {
            "cell_type": "markdown",
            "metadata": {
                "collapsed": false,
                "editable": false
            },
            "source": [
                "<div class=\"not-editable individual\"><div><h4>Task A</h4></div></div>"
            ]
        },
        {
            "cell_type": "markdown",
            "metadata": {
                "collapsed": false,
                "editable": false
            },
            "source": [
                "<div class=\"not-editable individual\"><span> Combine this data to find the total each person paid for food on this day. </span></div>"
            ]
        },
        {
            "cell_type": "markdown",
            "metadata": {
                "collapsed": false,
                "editable": false
            },
            "source": [
                "<div class=\"not-editable individual\"><div><h4>Task B</h4></div></div>"
            ]
        },
        {
            "cell_type": "markdown",
            "metadata": {
                "collapsed": false,
                "editable": false
            },
            "source": [
                "<div class=\"not-editable individual\"><span> Combine this data to find the total cost of each meal. </span></div>"
            ]
        },
        {
            "cell_type": "markdown",
            "metadata": {
                "collapsed": false,
                "editable": false
            },
            "source": [
                "<div class=\"not-editable individual\"><div><h4>Task C</h4></div></div>"
            ]
        },
        {
            "cell_type": "markdown",
            "metadata": {
                "collapsed": false,
                "editable": false
            },
            "source": [
                "<div class=\"not-editable individual\"><span> Run the SageMath code in <a href=https://stevenclontz.github.io/exploring-math-technology/vectors-euclidean.html#vectors-euclidean-meals-code>Listing 9.1.2</a>. Then write a sentence explaining how it answers to one of the above questions. </span></div>"
            ]
        },
        {
            "cell_type": "markdown",
            "metadata": {
                "collapsed": false,
                "editable": false
            },
            "source": [
                "<div class=\"not-editable individual\"><div><figure><figcaption><b>Listing 9.1.2</b>SageMath code using vectors</figcaption><pre>breakfasts = vector([6.9,11.00,10.25,8.20])\nlunches = vector([8.75,0.00,10.50,14.50])\ndinners = vector([9.05,12.95,13.70,11.15])\nbreakfasts+lunches+dinners\n</pre></figure></div></div>"
            ]
        },
        {
            "cell_type": "markdown",
            "metadata": {
                "collapsed": false,
                "editable": false
            },
            "source": [
                "<div class=\"not-editable individual\"><div><h4>Task D</h4></div></div>"
            ]
        },
        {
            "cell_type": "markdown",
            "metadata": {
                "collapsed": false,
                "editable": false
            },
            "source": [
                "<div class=\"not-editable individual\"><span> Modify <a href=https://stevenclontz.github.io/exploring-math-technology/vectors-euclidean.html#vectors-euclidean-meals-code>Listing 9.1.2</a> to answer the other question. </span></div>"
            ]
        },
        {
            "cell_type": "markdown",
            "metadata": {
                "collapsed": false,
                "editable": false
            },
            "source": [
                "<div class=\"not-editable individual\"><h2>Exercise 1</h2></div>"
            ]
        },
        {
            "cell_type": "markdown",
            "metadata": {
                "collapsed": false,
                "editable": false
            },
            "source": [
                "<div class=\"not-editable individual\"><span> Describe the dimension of the vector <span class=m> $(5,-1)$ </span>. What about the vector <span class=m> $(3,0,-4)$ </span>? What about the complex number <span class=m> $5-i$ </span>? </span></div>"
            ]
        },
        {
            "cell_type": "markdown",
            "metadata": {
                "collapsed": false,
                "editable": false
            },
            "source": [
                "<div class=\"not-editable individual\"><h2>Exercise 2</h2></div>"
            ]
        },
        {
            "cell_type": "markdown",
            "metadata": {
                "collapsed": false,
                "editable": false
            },
            "source": [
                "<div class=\"not-editable individual\"><span> Compute the following sums. </span></div>"
            ]
        },
        {
            "cell_type": "markdown",
            "metadata": {
                "collapsed": false,
                "editable": false
            },
            "source": [
                "<div class=\"not-editable individual\"><ul><li> <span class=m> $ \\left(\\begin{array}{r} -2 \\\\ 3 \\end{array}\\right)+ \\left(\\begin{array}{r} -5 \\\\ 2 \\end{array}\\right) $ </span> </li><li> <span class=m> $ \\left(7,\\,-7\\right)+\\left(5,\\,3\\right) $ </span> </li><li> <span class=m> $ \\left(\\begin{array}{r} 8 \\\\ -3 \\\\ -8 \\end{array}\\right)+ \\left(\\begin{array}{r} 3 \\\\ -5 \\\\ -1 \\end{array}\\right) $ </span> </li><li> <span class=m> $ \\left(1,2,4,8,16\\right)+\\left(1,3,5,7,9\\right) $ </span> </li></ul></div>"
            ]
        },
        {
            "cell_type": "markdown",
            "metadata": {
                "collapsed": false,
                "editable": false
            },
            "source": [
                "<div class=\"not-editable individual\"><h2>Exercise 3</h2></div>"
            ]
        },
        {
            "cell_type": "markdown",
            "metadata": {
                "collapsed": false,
                "editable": false
            },
            "source": [
                "<div class=\"not-editable individual\"><span> Visualize the sums from the previous exercise. </span></div>"
            ]
        },
        {
            "cell_type": "markdown",
            "metadata": {
                "collapsed": false,
                "editable": false
            },
            "source": [
                "<div class=\"not-editable individual\"><h2>Exercise 4</h2></div>"
            ]
        },
        {
            "cell_type": "markdown",
            "metadata": {
                "collapsed": false,
                "editable": false
            },
            "source": [
                "<div class=\"not-editable individual\"><span> Compute <span class=m> $4\\,(3,-1,4)$ </span>. </span></div>"
            ]
        },
        {
            "cell_type": "markdown",
            "metadata": {
                "collapsed": false,
                "editable": false
            },
            "source": [
                "<div class=\"not-editable individual\"><h2>Exercise 5</h2></div>"
            ]
        },
        {
            "cell_type": "markdown",
            "metadata": {
                "collapsed": false,
                "editable": false
            },
            "source": [
                "<div class=\"not-editable individual\"><span> Visualize <span class=m> $4\\,(3,-1,4)$ </span>, and explain what multiplying by four did to the vector arrow for <span class=m> $(3,-1,4)$ </span>. </span></div>"
            ]
        }
    ],
    "nbformat": 4,
    "nbformat_minor": 4
}