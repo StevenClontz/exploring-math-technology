{
    "cells": [
        {
            "cell_type": "markdown",
            "metadata": {
                "collapsed": false,
                "editable": false
            },
            "source": [
                "<div class=\"not-editable team\"> <style>\n            .not-editable{padding:1em;border-radius:10px;box-shadow:4px 4px 3px #ddd;margin:5px;}\n            .not-editable.individual{background-color:#eefff8;}\n            .not-editable.team{background-color:#eef8ff;}\n            .sidebyside{display:flex;justify-content:center;}\n            .sidebyside > *{margin-right:1em;flex:1;}\n            caption{caption-side:top;white-space: nowrap;color:rgba(0,0,0,.45)}}\n            figcaption{padding-top:0.75em;padding-bottom:0.3em;color:rgba(0,0,0,.45)}\n            .fillin{display:inline-block;width:10em;margin-left:0.2em;margin-right:0.2em;height:1em;border-bottom:1px black solid;}\n            .fn{font-size:0.8em;color:rgba(0,0,0.45)}\n            .newcommands{display:none;}\n            code{background-color:#f8f8f8;border:1px #888 solid;border-radius:2px;padding-left:0.2em;padding-right:0.2em;}\n            img{background-color:#fff;}\n        </style> <div><h1>Section 8.1 Cartesian Coordinates</h1><h2>Team Notebook</h2><div><a href=https://stevenclontz.github.io/exploring-math-technology/complex-cartesian.html>https://stevenclontz.github.io/exploring-math-technology/complex-cartesian.html</a></div></div></div>"
            ]
        },
        {
            "cell_type": "markdown",
            "metadata": {
                "collapsed": false,
                "editable": false
            },
            "source": [
                "<div class=\"not-editable team\"><h2>Activity 8.1.2</h2></div>"
            ]
        },
        {
            "cell_type": "markdown",
            "metadata": {
                "collapsed": false,
                "editable": false
            },
            "source": [
                "<div class=\"not-editable team\"><span> Both ordered pairs <span class=m> $(x,y)$ </span> and complex numbers <span class=m> $x+yi$ </span> can be used to describe points in the plane. Ordered pairs are a kind of vector, which we'll discuss in the next chapter. For now, let's explore how SageMath can be used to handle complex numbers. </span></div>"
            ]
        },
        {
            "cell_type": "markdown",
            "metadata": {
                "collapsed": false,
                "editable": false
            },
            "source": [
                "<div class=\"not-editable team\"><div><h4>Task A</h4></div></div>"
            ]
        },
        {
            "cell_type": "markdown",
            "metadata": {
                "collapsed": false,
                "editable": false
            },
            "source": [
                "<div class=\"not-editable team\"><span> In SageMath, there are a few ways to describe complex numbers. We will use the symbol <code>CDF()</code> tool along with the arithmetic operators <code>+</code>,<code>-</code>,<code>*</code>,<code>/</code>. For example, <span class=m> $4-5i$ </span> can be displayed by a Code cell by running <code>show(4-5*CDF(I))</code>. </span></div>"
            ]
        },
        {
            "cell_type": "markdown",
            "metadata": {
                "collapsed": false,
                "editable": false
            },
            "source": [
                "<div class=\"not-editable team\"><span> Display the complex number <span class=m> $-5+2i$ </span> using a Code cell. (Note that by default, SageMath will use decimal expressions for whole values in a complex number; that's okay.) </span></div>"
            ]
        },
        {
            "cell_type": "markdown",
            "metadata": {
                "collapsed": false,
                "editable": false
            },
            "source": [
                "<div class=\"not-editable team\"><div><h4>Task B</h4></div></div>"
            ]
        },
        {
            "cell_type": "markdown",
            "metadata": {
                "collapsed": false,
                "editable": false
            },
            "source": [
                "<div class=\"not-editable team\"><span> A useful shortcut is to assign <code>i=CDF(I)</code>. Then <code>show(4-5*CDF(I))</code> can be shortened to <code>show(4-5*i)</code>. (Pay attention to capitalization, though!) </span></div>"
            ]
        },
        {
            "cell_type": "markdown",
            "metadata": {
                "collapsed": false,
                "editable": false
            },
            "source": [
                "<div class=\"not-editable team\"><span> Use this shortcut to display <span class=m> $3+4i$ </span> from a Code cell. </span></div>"
            ]
        },
        {
            "cell_type": "markdown",
            "metadata": {
                "collapsed": false,
                "editable": false
            },
            "source": [
                "<div class=\"not-editable team\"><div><h4>Task C</h4></div></div>"
            ]
        },
        {
            "cell_type": "markdown",
            "metadata": {
                "collapsed": false,
                "editable": false
            },
            "source": [
                "<div class=\"not-editable team\"><span> Another shortcut to work with complex numbers in SageMath is to describe the equivalent ordered pair: <code>show(CDF(4,-5))</code> again produces <span class=m> $4-5i$ </span>. </span></div>"
            ]
        },
        {
            "cell_type": "markdown",
            "metadata": {
                "collapsed": false,
                "editable": false
            },
            "source": [
                "<div class=\"not-editable team\"><span> Use this shortcut to display <span class=m> $-6-i$ </span> from a code cell. </span></div>"
            ]
        },
        {
            "cell_type": "markdown",
            "metadata": {
                "collapsed": false,
                "editable": false
            },
            "source": [
                "<div class=\"not-editable team\"><div><h4>Task D</h4></div></div>"
            ]
        },
        {
            "cell_type": "markdown",
            "metadata": {
                "collapsed": false,
                "editable": false
            },
            "source": [
                "<div class=\"not-editable team\"><span> Run <code>show(3*i-5-7*i+3)</code> and <code>show(4*(i-2))</code> in a Code cell. Then write a couple sentences explaining how you think these results were obtained. </span></div>"
            ]
        },
        {
            "cell_type": "markdown",
            "metadata": {
                "collapsed": false,
                "editable": false
            },
            "source": [
                "<div class=\"not-editable team\"><div><h4>Task E</h4></div></div>"
            ]
        },
        {
            "cell_type": "markdown",
            "metadata": {
                "collapsed": false,
                "editable": false
            },
            "source": [
                "<div class=\"not-editable team\"><span> Show how to compute <span class=m> $7+4i-6i-5$ </span> and <span class=m> $3(2-3i)$ </span> by hand. Then confirm your results using Code cells. </span></div>"
            ]
        },
        {
            "cell_type": "markdown",
            "metadata": {
                "collapsed": false,
                "editable": false
            },
            "source": [
                "<div class=\"not-editable team\"><h2>Activity 8.1.3</h2></div>"
            ]
        },
        {
            "cell_type": "markdown",
            "metadata": {
                "collapsed": false,
                "editable": false
            },
            "source": [
                "<div class=\"not-editable team\"><span> SageMath provides the <code>points()</code> tool to plot points in the Cartesian plane, demonstrated in <a href=https://stevenclontz.github.io/exploring-math-technology/complex-cartesian.html#complex-cartesian-plotting>Listing 8.1.2</a>. </span></div>"
            ]
        },
        {
            "cell_type": "markdown",
            "metadata": {
                "collapsed": false,
                "editable": false
            },
            "source": [
                "<div class=\"not-editable team\"><div><figure><figcaption><b>Listing 8.1.2</b>Example for plotting complex numbers with SageMath</figcaption><pre># Example list of complex numbers\ncomplex_list = [3, 4-2*CDF(I), CDF(-1,5)]\n\n# Plot complex_list in the plane\npoints(\n    [CDF(x) for x in complex_list],\n    xmin=-6,ymin=-6,xmax=6,ymax=6,\n    aspect_ratio=1,\n    pointsize=30\n)</pre></figure></div></div>"
            ]
        },
        {
            "cell_type": "markdown",
            "metadata": {
                "collapsed": false,
                "editable": false
            },
            "source": [
                "<div class=\"not-editable team\"><div><h4>Task A</h4></div></div>"
            ]
        },
        {
            "cell_type": "markdown",
            "metadata": {
                "collapsed": false,
                "editable": false
            },
            "source": [
                "<div class=\"not-editable team\"><span> Modify and run <a href=https://stevenclontz.github.io/exploring-math-technology/complex-cartesian.html#complex-cartesian-plotting>Listing 8.1.2</a> in a Code cell to plot the following complex numbers. </span></div>"
            ]
        },
        {
            "cell_type": "markdown",
            "metadata": {
                "collapsed": false,
                "editable": false
            },
            "source": [
                "<div class=\"not-editable team\"><ul><li><span class=m> $3-5i$ </span></li><li><span class=m> $4i$ </span></li><li><span class=m> $-2$ </span></li><li><span class=m> $-4+3i$ </span></li></ul></div>"
            ]
        },
        {
            "cell_type": "markdown",
            "metadata": {
                "collapsed": false,
                "editable": false
            },
            "source": [
                "<div class=\"not-editable team\"><div><h4>Task B</h4></div></div>"
            ]
        },
        {
            "cell_type": "markdown",
            "metadata": {
                "collapsed": false,
                "editable": false
            },
            "source": [
                "<div class=\"not-editable team\"><span> Write a sentence explaining where you'd expect the numbers <span class=m> $-5i+3$ </span> and <span class=m> $3i-4$ </span> to be located in the plane. Then use technology to confirm your intuition. (If you were mistaken, add a sentence explaining why you think they ended up where they did instead.) </span></div>"
            ]
        },
        {
            "cell_type": "markdown",
            "metadata": {
                "collapsed": false,
                "editable": false
            },
            "source": [
                "<div class=\"not-editable team\"><div><h4>Task C</h4></div></div>"
            ]
        },
        {
            "cell_type": "markdown",
            "metadata": {
                "collapsed": false,
                "editable": false
            },
            "source": [
                "<div class=\"not-editable team\"><span> Modify and run <a href=https://stevenclontz.github.io/exploring-math-technology/complex-cartesian.html#complex-cartesian-plotting>Listing 8.1.2</a> in a Code cell to plot the following complex numbers. (You'll need to figure out how to resize the visible portion of the plane.) </span></div>"
            ]
        },
        {
            "cell_type": "markdown",
            "metadata": {
                "collapsed": false,
                "editable": false
            },
            "source": [
                "<div class=\"not-editable team\"><ul><li><span class=m> $10+i$ </span></li><li><span class=m> $9$ </span></li><li><span class=m> $-4+8i$ </span></li></ul></div>"
            ]
        },
        {
            "cell_type": "markdown",
            "metadata": {
                "collapsed": false,
                "editable": false
            },
            "source": [
                "<div class=\"not-editable team\"><h2>Activity 8.1.4</h2></div>"
            ]
        },
        {
            "cell_type": "markdown",
            "metadata": {
                "collapsed": false,
                "editable": false
            },
            "source": [
                "<div class=\"not-editable team\"><span> The usefulness of complex numbers comes from their ability to describe movement of points in the plane. </span></div>"
            ]
        },
        {
            "cell_type": "markdown",
            "metadata": {
                "collapsed": false,
                "editable": false
            },
            "source": [
                "<div class=\"not-editable team\"><div><h4>Task A</h4></div></div>"
            ]
        },
        {
            "cell_type": "markdown",
            "metadata": {
                "collapsed": false,
                "editable": false
            },
            "source": [
                "<div class=\"not-editable team\"><span> Use a Code cell to plot the following complex numbers: </span></div>"
            ]
        },
        {
            "cell_type": "markdown",
            "metadata": {
                "collapsed": false,
                "editable": false
            },
            "source": [
                "<div class=\"not-editable team\"><ul><li><span>The origin, that is, <span class=m> $0+0i$ </span></span></li><li><span class=m> $-2+3i$ </span></li><li><span class=m> $4-i$ </span></li><li><span>The complex number that is two units left and three units up from <span class=m> $4-i$ </span>.</span></li><li><span class=m> $(4-i)+(-2+3i)$ </span></li></ul></div>"
            ]
        },
        {
            "cell_type": "markdown",
            "metadata": {
                "collapsed": false,
                "editable": false
            },
            "source": [
                "<div class=\"not-editable team\"><div><h4>Task B</h4></div></div>"
            ]
        },
        {
            "cell_type": "markdown",
            "metadata": {
                "collapsed": false,
                "editable": false
            },
            "source": [
                "<div class=\"not-editable team\"><span> Write a sentence or two explaining what the illustration in <a href=https://stevenclontz.github.io/exploring-math-technology/complex-cartesian.html#complex-cartesian-parallelogram>Figure 8.1.3</a> says about your plot in the previous task. </span></div>"
            ]
        },
        {
            "cell_type": "markdown",
            "metadata": {
                "collapsed": false,
                "editable": false
            },
            "source": [
                "<div class=\"not-editable team\"><div><figure><figcaption><b>Figure 8.1.3.</b> Illustrating a few complex numbers</figcaption><div><img src=images/complex-cartesian-parallelogram.png></div></figure></div></div>"
            ]
        },
        {
            "cell_type": "markdown",
            "metadata": {
                "collapsed": false,
                "editable": false
            },
            "source": [
                "<div class=\"not-editable team\"><div><h4>Task C</h4></div></div>"
            ]
        },
        {
            "cell_type": "markdown",
            "metadata": {
                "collapsed": false,
                "editable": false
            },
            "source": [
                "<div class=\"not-editable team\"><span> Use a Code cell to show the following complex numbers in a new plot. </span></div>"
            ]
        },
        {
            "cell_type": "markdown",
            "metadata": {
                "collapsed": false,
                "editable": false
            },
            "source": [
                "<div class=\"not-editable team\"><ul><li><span class=m> $0+0i$ </span></li><li><span class=m> $1+4i$ </span></li><li><span class=m> $2-i$ </span></li><li><span class=m> $(1+4i)+(2-i)$ </span></li><li><span class=m> $3+3i$ </span></li></ul></div>"
            ]
        },
        {
            "cell_type": "markdown",
            "metadata": {
                "collapsed": false,
                "editable": false
            },
            "source": [
                "<div class=\"not-editable team\"><div><h4>Task D</h4></div></div>"
            ]
        },
        {
            "cell_type": "markdown",
            "metadata": {
                "collapsed": false,
                "editable": false
            },
            "source": [
                "<div class=\"not-editable team\"><span> Write a sentence or two describing the <span class=q> \"purpose\" </span> for adding a pair of complex numbers like <span class=m> $(1+4i)+(2-i)$ </span>. </span></div>"
            ]
        },
        {
            "cell_type": "markdown",
            "metadata": {
                "collapsed": false,
                "editable": false
            },
            "source": [
                "<div class=\"not-editable team\"><div><h4>Task E</h4></div></div>"
            ]
        },
        {
            "cell_type": "markdown",
            "metadata": {
                "collapsed": false,
                "editable": false
            },
            "source": [
                "<div class=\"not-editable team\"><span> Use a Code cell to show the following complex numbers in a new plot. </span></div>"
            ]
        },
        {
            "cell_type": "markdown",
            "metadata": {
                "collapsed": false,
                "editable": false
            },
            "source": [
                "<div class=\"not-editable team\"><ul><li><span class=m> $2+3i$ </span></li><li><span class=m> $2(2+3i)$ </span></li></ul></div>"
            ]
        },
        {
            "cell_type": "markdown",
            "metadata": {
                "collapsed": false,
                "editable": false
            },
            "source": [
                "<div class=\"not-editable team\"><div><h4>Task F</h4></div></div>"
            ]
        },
        {
            "cell_type": "markdown",
            "metadata": {
                "collapsed": false,
                "editable": false
            },
            "source": [
                "<div class=\"not-editable team\"><span> Use a Code cell to show the following complex numbers in a new plot. </span></div>"
            ]
        },
        {
            "cell_type": "markdown",
            "metadata": {
                "collapsed": false,
                "editable": false
            },
            "source": [
                "<div class=\"not-editable team\"><ul><li><span class=m> $-1+2i$ </span></li><li><span class=m> $3(-1+2i)$ </span></li></ul></div>"
            ]
        },
        {
            "cell_type": "markdown",
            "metadata": {
                "collapsed": false,
                "editable": false
            },
            "source": [
                "<div class=\"not-editable team\"><div><h4>Task G</h4></div></div>"
            ]
        },
        {
            "cell_type": "markdown",
            "metadata": {
                "collapsed": false,
                "editable": false
            },
            "source": [
                "<div class=\"not-editable team\"><span> Write a sentence or two describing the <span class=q> \"purpose\" </span> for multiplying a complex number by a real number like <span class=m> $2(2+3i)$ </span> or <span class=m> $3(-1+2i)$ </span>. </span></div>"
            ]
        }
    ],
    "nbformat": 4,
    "nbformat_minor": 4
}