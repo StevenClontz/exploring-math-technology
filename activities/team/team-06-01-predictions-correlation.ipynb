{
    "cells": [
        {
            "cell_type": "markdown",
            "metadata": {
                "collapsed": false,
                "editable": false
            },
            "source": [
                "<div class=\"not-editable team\"> <style>\n            .not-editable{padding:1em;border-radius:10px;box-shadow:4px 4px 3px #ddd;margin:5px;}\n            .not-editable.individual{background-color:#eefff8;}\n            .not-editable.team{background-color:#eef8ff;}\n            .sidebyside{display:flex;justify-content:center;}\n            .sidebyside > *{margin-right:1em;flex:1;}\n            caption{caption-side:top;white-space: nowrap;color:rgba(0,0,0,.45)}}\n            figcaption{padding-top:0.75em;padding-bottom:0.3em;color:rgba(0,0,0,.45)}\n            .fillin{display:inline-block;width:10em;margin-left:0.2em;margin-right:0.2em;height:1em;border-bottom:1px black solid;}\n            .fn{font-size:0.8em;color:rgba(0,0,0.45)}\n            .newcommands{display:none;}\n            code{background-color:#f8f8f8;border:1px #888 solid;border-radius:2px;padding-left:0.2em;padding-right:0.2em;}\n            img{background-color:#fff;}\n        </style> <div><h1>Section 6.1 Measuring Correlation</h1><h2>Team Notebook</h2><div><a href=https://stevenclontz.github.io/exploring-math-technology/predictions-correlation.html>https://stevenclontz.github.io/exploring-math-technology/predictions-correlation.html</a></div></div></div>"
            ]
        },
        {
            "cell_type": "markdown",
            "metadata": {
                "collapsed": false,
                "editable": false
            },
            "source": [
                "<div class=\"not-editable team\"><h2>Activity 6.1.2</h2></div>"
            ]
        },
        {
            "cell_type": "markdown",
            "metadata": {
                "collapsed": false,
                "editable": false
            },
            "source": [
                "<div class=\"not-editable team\"><span> When pairs of data values tend to fall along a line, that data is said to be linearly correlated. The correlation coefficient of these pairs of values is a number between <span class=m> $-1$ </span> and <span class=m> $1$ </span> that describes the strength of this correlation, known briefly as <span class=m> $r$ </span>. </span></div>"
            ]
        },
        {
            "cell_type": "markdown",
            "metadata": {
                "collapsed": false,
                "editable": false
            },
            "source": [
                "<div class=\"not-editable team\"><span> A value of <span class=m> $r=1$ </span> means that the points of data fall exactly along an upward line, that is, one value tends to increase as the other value increases. On the other hand, <span class=m> $r=-1$ </span> means that the points of data fall exactly along a downward line, that is, one value tends to increase as the otehr value decreases. A value of <span class=m> $r=0$ </span> means there's no recognizable linear relationship between the pairs of data values. </span></div>"
            ]
        },
        {
            "cell_type": "markdown",
            "metadata": {
                "collapsed": false,
                "editable": false
            },
            "source": [
                "<div class=\"not-editable team\"><span> However, most real datasets will have a fractional <span class=m> $r$ </span> value. Nonetheless, the closer this value is to <span class=m> $1$ </span> or <span class=m> $-1$ </span>, the stronger the correlation, while the closer this value is to <span class=m> $0$ </span>, the weaker the correlation. This is illustrated in <a href=https://stevenclontz.github.io/exploring-math-technology/predictions-correlation.html#predictions-correlation-coefficients>Figure 6.1.3</a> (obtained from Wikipedia). </span></div>"
            ]
        },
        {
            "cell_type": "markdown",
            "metadata": {
                "collapsed": false,
                "editable": false
            },
            "source": [
                "<div class=\"not-editable team\"><div><figure><figcaption><b>Figure 6.1.3.</b> Illustrations of correlation coefficients</figcaption><div><img src=images/predictions-correlation-coefficients.svg></div></figure></div></div>"
            ]
        },
        {
            "cell_type": "markdown",
            "metadata": {
                "collapsed": false,
                "editable": false
            },
            "source": [
                "<div class=\"not-editable team\"><span> The mathematics used to compute <span class=m> $r$ </span> are outside the scope of this course, so we will focus on understanding what <span class=m> $r$ </span> communicates about a dataset and how to compute <span class=m> $r$ </span> using technology. </span></div>"
            ]
        },
        {
            "cell_type": "markdown",
            "metadata": {
                "collapsed": false,
                "editable": false
            },
            "source": [
                "<div class=\"not-editable team\"><div><h4>Task A</h4></div></div>"
            ]
        },
        {
            "cell_type": "markdown",
            "metadata": {
                "collapsed": false,
                "editable": false
            },
            "source": [
                "<div class=\"not-editable team\"><span> Unfortunately, the <code>datascience</code> library doesn't provide a great out-of-the-box mechanism for computing <span class=m> $r$ </span>. Fortunately, we can add two features to our <code>datascience</code> tables by copy-pasting the snippet given in <a href=https://stevenclontz.github.io/exploring-math-technology/predictions-correlation.html#predictions-correlation-features>Listing 6.1.4</a> into a Code cell. (This will need to be done in every notebook that uses these features.) </span></div>"
            ]
        },
        {
            "cell_type": "markdown",
            "metadata": {
                "collapsed": false,
                "editable": false
            },
            "source": [
                "<div class=\"not-editable team\"><div><figure><figcaption><b>Listing 6.1.4</b>Correlation features for <code>datascience</code></figcaption><pre>def with_correlated_columns(self,num_rows=100,x_range=5,slope=1,noise=1):\n    from random import random\n    table = self.select().with_columns(\"x\",[],\"y\",[])\n    for _ in range(num_rows):\n        seed = random()\n        x = seed*x_range\n        y = seed*x_range*slope\n        y = y + (-1+2*random())*noise\n        table = table.with_row([x,y])\n    return table\ndef correlation(self,col1_name,col2_name):\n    import statistics\n    # get column arrays\n    col1 = self.column(col1_name)\n    col2 = self.column(col2_name)\n    # standardize units\n    col1_s = (col1 - statistics.mean(col1))/statistics.stdev(col1)\n    col2_s = (col2 - statistics.mean(col2))/statistics.stdev(col2)\n    # correlation is the mean product of standard units\n    return statistics.mean(col1_s*col2_s)\nsetattr(Table,\"with_correlated_columns\",with_correlated_columns)\nsetattr(Table,\"correlation\",correlation)</pre></figure></div></div>"
            ]
        },
        {
            "cell_type": "markdown",
            "metadata": {
                "collapsed": false,
                "editable": false
            },
            "source": [
                "<div class=\"not-editable team\"><span> While we won't go into detail on how correlation is measured, it is related to the measures of center and spread studied in the previous chapter. Inspect the code shown in <a href=https://stevenclontz.github.io/exploring-math-technology/predictions-correlation.html#predictions-correlation-features>Listing 6.1.4</a>; what measure of center and what measure of spread appear to be used to compute correlation? </span></div>"
            ]
        },
        {
            "cell_type": "markdown",
            "metadata": {
                "collapsed": false,
                "editable": false
            },
            "source": [
                "<div class=\"not-editable team\"><div><h4>Task B</h4></div></div>"
            ]
        },
        {
            "cell_type": "markdown",
            "metadata": {
                "collapsed": false,
                "editable": false
            },
            "source": [
                "<div class=\"not-editable team\"><span> When <a href=https://stevenclontz.github.io/exploring-math-technology/predictions-correlation.html#predictions-correlation-features>Listing 6.1.4</a> is run successfully, no output will be shown. However, you should now be able to create a table by running <code>ctable = Table().with_correlated_columns()</code>. (Note that this table is generated somewhat randomly, so re-running that line will create a slightly different table.) </span></div>"
            ]
        },
        {
            "cell_type": "markdown",
            "metadata": {
                "collapsed": false,
                "editable": false
            },
            "source": [
                "<div class=\"not-editable team\"><span> Show ten rows and a scatter plot for this <code>ctable</code>. </span></div>"
            ]
        },
        {
            "cell_type": "markdown",
            "metadata": {
                "collapsed": false,
                "editable": false
            },
            "source": [
                "<div class=\"not-editable team\"><div><h4>Task C</h4></div></div>"
            ]
        },
        {
            "cell_type": "markdown",
            "metadata": {
                "collapsed": false,
                "editable": false
            },
            "source": [
                "<div class=\"not-editable team\"><span> Based on the definition of the correlation coefficient <span class=m> $r$ </span> and the illustration given in <a href=https://stevenclontz.github.io/exploring-math-technology/predictions-correlation.html#predictions-correlation-coefficients>Figure 6.1.3</a>, would you expect the correlation of these pairs of data to be closer to <span class=m> $-1$ </span>, <span class=m> $0$ </span>, or <span class=m> $1$ </span>? </span></div>"
            ]
        },
        {
            "cell_type": "markdown",
            "metadata": {
                "collapsed": false,
                "editable": false
            },
            "source": [
                "<div class=\"not-editable team\"><div><h4>Task D</h4></div></div>"
            ]
        },
        {
            "cell_type": "markdown",
            "metadata": {
                "collapsed": false,
                "editable": false
            },
            "source": [
                "<div class=\"not-editable team\"><span> Run <code>ctable.correlation(\"x\",\"y\")</code> to confirm your intuition. </span></div>"
            ]
        },
        {
            "cell_type": "markdown",
            "metadata": {
                "collapsed": false,
                "editable": false
            },
            "source": [
                "<div class=\"not-editable team\"><div><h4>Task E</h4></div></div>"
            ]
        },
        {
            "cell_type": "markdown",
            "metadata": {
                "collapsed": false,
                "editable": false
            },
            "source": [
                "<div class=\"not-editable team\"><span> Show a scatter plot for <code>ctable2 = Table().with_correlated_columns(slope=3)</code>. Guess a value for <code>r</code> based on the scatter plot, and then confirm your guess using technology. </span></div>"
            ]
        },
        {
            "cell_type": "markdown",
            "metadata": {
                "collapsed": false,
                "editable": false
            },
            "source": [
                "<div class=\"not-editable team\"><div><h4>Task F</h4></div></div>"
            ]
        },
        {
            "cell_type": "markdown",
            "metadata": {
                "collapsed": false,
                "editable": false
            },
            "source": [
                "<div class=\"not-editable team\"><span> Show a scatter plot for <code>ctable3 = Table().with_correlated_columns(x_range=10,slope=-2)</code>. Guess a value for <code>r</code> based on the scatter plot, and then confirm your guess using technology. </span></div>"
            ]
        },
        {
            "cell_type": "markdown",
            "metadata": {
                "collapsed": false,
                "editable": false
            },
            "source": [
                "<div class=\"not-editable team\"><div><h4>Task G</h4></div></div>"
            ]
        },
        {
            "cell_type": "markdown",
            "metadata": {
                "collapsed": false,
                "editable": false
            },
            "source": [
                "<div class=\"not-editable team\"><span> Show a scatter plot for <code>ctable4 = Table().with_correlated_columns(noise=5,slope=2)</code>. Guess a value for <code>r</code> based on the scatter plot, and then confirm your guess using technology. </span></div>"
            ]
        },
        {
            "cell_type": "markdown",
            "metadata": {
                "collapsed": false,
                "editable": false
            },
            "source": [
                "<div class=\"not-editable team\"><div><h4>Task H</h4></div></div>"
            ]
        },
        {
            "cell_type": "markdown",
            "metadata": {
                "collapsed": false,
                "editable": false
            },
            "source": [
                "<div class=\"not-editable team\"><span> Show a scatter plot for <code>ctable5 = Table().with_correlated_columns(noise=100,slope=-4)</code>. Guess a value for <code>r</code> based on the scatter plot, and then confirm your guess using technology. </span></div>"
            ]
        },
        {
            "cell_type": "markdown",
            "metadata": {
                "collapsed": false,
                "editable": false
            },
            "source": [
                "<div class=\"not-editable team\"><h2>Activity 6.1.3</h2></div>"
            ]
        },
        {
            "cell_type": "markdown",
            "metadata": {
                "collapsed": false,
                "editable": false
            },
            "source": [
                "<div class=\"not-editable team\"><span> It's important to remember that <span class=m> $r$ </span> measures linear correlation. </span></div>"
            ]
        },
        {
            "cell_type": "markdown",
            "metadata": {
                "collapsed": false,
                "editable": false
            },
            "source": [
                "<div class=\"not-editable team\"><div><h4>Task A</h4></div></div>"
            ]
        },
        {
            "cell_type": "markdown",
            "metadata": {
                "collapsed": false,
                "editable": false
            },
            "source": [
                "<div class=\"not-editable team\"><span> Display a scatter plot visualizing the table generated by the code given in <a href=https://stevenclontz.github.io/exploring-math-technology/predictions-correlation.html#predictions-correlation-cosine>Listing 6.1.5</a>. </span></div>"
            ]
        },
        {
            "cell_type": "markdown",
            "metadata": {
                "collapsed": false,
                "editable": false
            },
            "source": [
                "<div class=\"not-editable team\"><div><figure><figcaption><b>Listing 6.1.5</b>Randomly(?)-generated table of data</figcaption><pre>cos_table = Table([\"x\",\"y\"])\nfor _ in range(200):\n    from random import random\n    from math import cos\n    seed = random()\n    cos_table = cos_table.with_row([seed,cos(12.6*seed)])</pre></figure></div></div>"
            ]
        },
        {
            "cell_type": "markdown",
            "metadata": {
                "collapsed": false,
                "editable": false
            },
            "source": [
                "<div class=\"not-editable team\"><div><h4>Task B</h4></div></div>"
            ]
        },
        {
            "cell_type": "markdown",
            "metadata": {
                "collapsed": false,
                "editable": false
            },
            "source": [
                "<div class=\"not-editable team\"><span> Based on the definition of the correlation coefficient <span class=m> $r$ </span> and the illustration given in <a href=https://stevenclontz.github.io/exploring-math-technology/predictions-correlation.html#predictions-correlation-coefficients>Figure 6.1.3</a>, would you expect the correlation of these pairs of data to be closer to <span class=m> $-1$ </span>, <span class=m> $0$ </span>, or <span class=m> $1$ </span>? </span></div>"
            ]
        },
        {
            "cell_type": "markdown",
            "metadata": {
                "collapsed": false,
                "editable": false
            },
            "source": [
                "<div class=\"not-editable team\"><div><h4>Task C</h4></div></div>"
            ]
        },
        {
            "cell_type": "markdown",
            "metadata": {
                "collapsed": false,
                "editable": false
            },
            "source": [
                "<div class=\"not-editable team\"><span> Confirm your guess using technology. </span></div>"
            ]
        },
        {
            "cell_type": "markdown",
            "metadata": {
                "collapsed": false,
                "editable": false
            },
            "source": [
                "<div class=\"not-editable team\"><div><h4>Task D</h4></div></div>"
            ]
        },
        {
            "cell_type": "markdown",
            "metadata": {
                "collapsed": false,
                "editable": false
            },
            "source": [
                "<div class=\"not-editable team\"><span> Regardless of the value of <span class=m> $r$ </span>, give one or more reasons based on the scatter plot for why it'd be fair to say that these data points are <span class=q> \"related\" </span>. </span></div>"
            ]
        },
        {
            "cell_type": "markdown",
            "metadata": {
                "collapsed": false,
                "editable": false
            },
            "source": [
                "<div class=\"not-editable team\"><span> In general, why might data be related even when <span class=m> $r$ </span> is close to zero? </span></div>"
            ]
        },
        {
            "cell_type": "markdown",
            "metadata": {
                "collapsed": false,
                "editable": false
            },
            "source": [
                "<div class=\"not-editable team\"><h2>Activity 6.1.4</h2></div>"
            ]
        },
        {
            "cell_type": "markdown",
            "metadata": {
                "collapsed": false,
                "editable": false
            },
            "source": [
                "<div class=\"not-editable team\"><span> Let's return to the question of math placement scores discussed in <a href=https://stevenclontz.github.io/exploring-math-technology/predictions-correlation.html#predictions-correlation-preview>Preview Activity 6.1.1</a>. </span></div>"
            ]
        },
        {
            "cell_type": "markdown",
            "metadata": {
                "collapsed": false,
                "editable": false
            },
            "source": [
                "<div class=\"not-editable team\"><div><h4>Task A</h4></div></div>"
            ]
        },
        {
            "cell_type": "markdown",
            "metadata": {
                "collapsed": false,
                "editable": false
            },
            "source": [
                "<div class=\"not-editable team\"><span> Get a copy of <code>testing_table</code> from 4.3 available for use in this notebook, and use code cells to produce the scatter plots shown in <a href=https://stevenclontz.github.io/exploring-math-technology/predictions-correlation.html#predictions-correlation-preview-uncorrelated>Figure 6.1.1</a> and <a href=https://stevenclontz.github.io/exploring-math-technology/predictions-correlation.html#predictions-correlation-preview-correlated>Figure 6.1.2</a>. </span></div>"
            ]
        },
        {
            "cell_type": "markdown",
            "metadata": {
                "collapsed": false,
                "editable": false
            },
            "source": [
                "<div class=\"not-editable team\"><span> Don't forget to use <code>import matplotlib</code>, <code>%matplotlib inline</code>, and <code>.where(\"column_name\",are.above(0))</code> appropriately. </span></div>"
            ]
        },
        {
            "cell_type": "markdown",
            "metadata": {
                "collapsed": false,
                "editable": false
            },
            "source": [
                "<div class=\"not-editable team\"><div><h4>Task B</h4></div></div>"
            ]
        },
        {
            "cell_type": "markdown",
            "metadata": {
                "collapsed": false,
                "editable": false
            },
            "source": [
                "<div class=\"not-editable team\"><span> Describe your intuition for why SAT math scores, college math placement exam scores, and high school sizes may or may not be correlated with each other based upon the scatter plots. </span></div>"
            ]
        },
        {
            "cell_type": "markdown",
            "metadata": {
                "collapsed": false,
                "editable": false
            },
            "source": [
                "<div class=\"not-editable team\"><div><h4>Task C</h4></div></div>"
            ]
        },
        {
            "cell_type": "markdown",
            "metadata": {
                "collapsed": false,
                "editable": false
            },
            "source": [
                "<div class=\"not-editable team\"><span> Test your intuition by using technology to compute appropriate correlation coefficients. Explain why those values confirm or contradict your intuition. </span></div>"
            ]
        },
        {
            "cell_type": "markdown",
            "metadata": {
                "collapsed": false,
                "editable": false
            },
            "source": [
                "<div class=\"not-editable team\"><div><h4>Task D</h4></div></div>"
            ]
        },
        {
            "cell_type": "markdown",
            "metadata": {
                "collapsed": false,
                "editable": false
            },
            "source": [
                "<div class=\"not-editable team\"><span> Is it true to say that SAT math scores are perfect predictors of college math placement exam scores? Give reasons why or why not based upon the scatter plot, the value of <span class=m> $r$ </span> found, and your intuition. </span></div>"
            ]
        }
    ],
    "nbformat": 4,
    "nbformat_minor": 4
}