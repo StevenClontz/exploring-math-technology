{
    "cells": [
        {
            "cell_type": "markdown",
            "metadata": {
                "collapsed": false,
                "editable": false
            },
            "source": [
                "<div class=\"not-editable team\"> <style>\n            .not-editable{padding:1em;border-radius:10px;box-shadow:4px 4px 3px #ddd;margin:5px;}\n            .not-editable.individual{background-color:#eefff8;}\n            .not-editable.team{background-color:#eef8ff;}\n            .sidebyside{display:flex;justify-content:center;}\n            .sidebyside > *{margin-right:1em;flex:1;}\n            caption{caption-side:top;white-space: nowrap;color:rgba(0,0,0,.45)}}\n            figcaption{padding-top:0.75em;padding-bottom:0.3em;color:rgba(0,0,0,.45)}\n            .fillin{display:inline-block;width:10em;margin-left:0.2em;margin-right:0.2em;height:1em;border-bottom:1px black solid;}\n            .fn{font-size:0.8em;color:rgba(0,0,0.45)}\n            .newcommands{display:none;}\n            code{background-color:#f8f8f8;border:1px #888 solid;border-radius:2px;padding-left:0.2em;padding-right:0.2em;}\n            img{background-color:#fff;}\n        </style> <div><h1>Section 4.2 Single-Variable Visualizations</h1><h2>Team Notebook</h2><div><a href=https://stevenclontz.github.io/exploring-math-technology/visualization-one.html>https://stevenclontz.github.io/exploring-math-technology/visualization-one.html</a></div></div></div>"
            ]
        },
        {
            "cell_type": "markdown",
            "metadata": {
                "collapsed": false,
                "editable": false
            },
            "source": [
                "<div class=\"not-editable team\"><h2>Activity 4.2.2</h2></div>"
            ]
        },
        {
            "cell_type": "markdown",
            "metadata": {
                "collapsed": false,
                "editable": false
            },
            "source": [
                "<div class=\"not-editable team\"><span> Choosing the right graphical visualization for your data depends on the kind of data you wish to display. Univariate data only considers a collection of numbers each representing a certain quantity, for example, the prices of pizzas sold from the dataset studied in <a href=#visualization-tables>Section 4.1 Tables</a>. The prices of the first twenty pizzas sold (truncated down to full-dollar amounts) on January 1st are shown in <a href=https://stevenclontz.github.io/exploring-math-technology/visualization-one.html#visualization-one-prices-0101>Table 4.2.2</a>. </span></div>"
            ]
        },
        {
            "cell_type": "markdown",
            "metadata": {
                "collapsed": false,
                "editable": false
            },
            "source": [
                "<div class=\"not-editable team\"><div><table><caption><b>Table 4.2.2.</b> </caption><tr><td>13</td><td>16</td><td>16</td><td>20</td><td>18</td></tr><tr><td>20</td><td>20</td><td>16</td><td>16</td><td>16</td></tr><tr><td>12</td><td>12</td><td>12</td><td>12</td><td>20</td></tr><tr><td>12</td><td>20</td><td>20</td><td>20</td><td>12</td></tr></table></div></div>"
            ]
        },
        {
            "cell_type": "markdown",
            "metadata": {
                "collapsed": false,
                "editable": false
            },
            "source": [
                "<div class=\"not-editable team\"><div><h4>Task A</h4></div></div>"
            ]
        },
        {
            "cell_type": "markdown",
            "metadata": {
                "collapsed": false,
                "editable": false
            },
            "source": [
                "<div class=\"not-editable team\"><span> To quickly visualize a small dataset by hand, a dot plot may be drawn. Values of the dataset are represented on the horizontal axis, and each time the value appears in the dataset, an additional dot is drawn above the value. A dot plot representing the prices in <a href=https://stevenclontz.github.io/exploring-math-technology/visualization-one.html#visualization-one-prices-0101>Table 4.2.2</a> is shown in <a href=https://stevenclontz.github.io/exploring-math-technology/visualization-one.html#visualization-one-dot-plot>Figure 4.2.3</a>. </span></div>"
            ]
        },
        {
            "cell_type": "markdown",
            "metadata": {
                "collapsed": false,
                "editable": false
            },
            "source": [
                "<div class=\"not-editable team\"><div><figure><figcaption><b>Figure 4.2.3.</b> Dot plot of prices from <a href=https://stevenclontz.github.io/exploring-math-technology/visualization-one.html#visualization-one-prices-0101>Table 4.2.2</a></figcaption><div><img src=images/visualization-one-dot-plot.png></div></figure></div></div>"
            ]
        },
        {
            "cell_type": "markdown",
            "metadata": {
                "collapsed": false,
                "editable": false
            },
            "source": [
                "<div class=\"not-editable team\"><span> A dot plot allows the reader to quickly scan a dataset and learn information about it. For example, what two prices were the most common out of the twenty pizzas sold? How do you know? </span></div>"
            ]
        },
        {
            "cell_type": "markdown",
            "metadata": {
                "collapsed": false,
                "editable": false
            },
            "source": [
                "<div class=\"not-editable team\"><div><h4>Task B</h4></div></div>"
            ]
        },
        {
            "cell_type": "markdown",
            "metadata": {
                "collapsed": false,
                "editable": false
            },
            "source": [
                "<div class=\"not-editable team\"><span> The major feature of dot plots is that they are easy to draw by hand. On a sheet of paper or using a simple graphics program, draw a dot plot representing the prices of the first twenty pizzas sold on November 3rd, shown in <a href=https://stevenclontz.github.io/exploring-math-technology/visualization-one.html#visualization-one-prices-1103>Table 4.2.4</a>. </span></div>"
            ]
        },
        {
            "cell_type": "markdown",
            "metadata": {
                "collapsed": false,
                "editable": false
            },
            "source": [
                "<div class=\"not-editable team\"><div><table><caption><b>Table 4.2.4.</b> </caption><tr><td>20</td><td>20</td><td>20</td><td>16</td><td>20</td></tr><tr><td>20</td><td>11</td><td>12</td><td>16</td><td>10</td></tr><tr><td>20</td><td>16</td><td>20</td><td>12</td><td>20</td></tr><tr><td>12</td><td>12</td><td>11</td><td>20</td><td>16</td></tr></table></div></div>"
            ]
        },
        {
            "cell_type": "markdown",
            "metadata": {
                "collapsed": false,
                "editable": false
            },
            "source": [
                "<div class=\"not-editable team\"><div><h4>Task C</h4></div></div>"
            ]
        },
        {
            "cell_type": "markdown",
            "metadata": {
                "collapsed": false,
                "editable": false
            },
            "source": [
                "<div class=\"not-editable team\"><span> What was the most common pizza price out of the first twenty sold on November 3rd? What was the least common price? </span></div>"
            ]
        },
        {
            "cell_type": "markdown",
            "metadata": {
                "collapsed": false,
                "editable": false
            },
            "source": [
                "<div class=\"not-editable team\"><div><h4>Task D</h4></div></div>"
            ]
        },
        {
            "cell_type": "markdown",
            "metadata": {
                "collapsed": false,
                "editable": false
            },
            "source": [
                "<div class=\"not-editable team\"><span> A dot plot representing the prices (truncated down to the nearest dollar) of all pizzas sold on April 1st is shown in <a href=https://stevenclontz.github.io/exploring-math-technology/visualization-one.html#visualization-one-dot-plot-large>Figure 4.2.5</a>. Is this a graphic you'd like to draw by hand? Is this a useful graphic to create by computer? Write a couple sentences summarizing your thoughts. </span></div>"
            ]
        },
        {
            "cell_type": "markdown",
            "metadata": {
                "collapsed": false,
                "editable": false
            },
            "source": [
                "<div class=\"not-editable team\"><div><figure><figcaption><b>Figure 4.2.5.</b> Dot plot of dollar prices from Apr 01</figcaption><div><img src=images/visualization-one-dot-plot-large.png></div></figure></div></div>"
            ]
        },
        {
            "cell_type": "markdown",
            "metadata": {
                "collapsed": false,
                "editable": false
            },
            "source": [
                "<div class=\"not-editable team\"><h2>Activity 4.2.3</h2></div>"
            ]
        },
        {
            "cell_type": "markdown",
            "metadata": {
                "collapsed": false,
                "editable": false
            },
            "source": [
                "<div class=\"not-editable team\"><span> The <code>datascience</code> library supports quickly generating histograms visualizing univariate data. Histograms are similar to dot plots, but measure how many values fall within a range rather than individual values. </span></div>"
            ]
        },
        {
            "cell_type": "markdown",
            "metadata": {
                "collapsed": false,
                "editable": false
            },
            "source": [
                "<div class=\"not-editable team\"><div><h4>Task A</h4></div></div>"
            ]
        },
        {
            "cell_type": "markdown",
            "metadata": {
                "collapsed": false,
                "editable": false
            },
            "source": [
                "<div class=\"not-editable team\"><span> Repeat the steps from <a href=#visualization-tables>Section 4.1 Tables</a> to make <code>pizza_table</code> available in this Jupyter notebook. </span></div>"
            ]
        },
        {
            "cell_type": "markdown",
            "metadata": {
                "collapsed": false,
                "editable": false
            },
            "source": [
                "<div class=\"not-editable team\"><span> Confirm by running the code in <a href=https://stevenclontz.github.io/exploring-math-technology/visualization-one.html#visualization-one-hist-0401>Listing 4.2.6</a> to create a histogram of prices for April 1st. </span></div>"
            ]
        },
        {
            "cell_type": "markdown",
            "metadata": {
                "collapsed": false,
                "editable": false
            },
            "source": [
                "<div class=\"not-editable team\"><div><figure><figcaption><b>Listing 4.2.6</b>Program to generate Apr 01 price histogram</figcaption><pre># The following two lines only need to be run once per notebook\n# that generates datascience graphics\nimport matplotlib\n%matplotlib inline\n\n# Generate histogram for April 1st\n# (Always leave normed=False to measure counts of data values)\npizza_table.where(\"date\",\"2015-04-01\").select(\"price\").hist(bins=20,normed=False)\n</pre></figure></div></div>"
            ]
        },
        {
            "cell_type": "markdown",
            "metadata": {
                "collapsed": false,
                "editable": false
            },
            "source": [
                "<div class=\"not-editable team\"><div><h4>Task B</h4></div></div>"
            ]
        },
        {
            "cell_type": "markdown",
            "metadata": {
                "collapsed": false,
                "editable": false
            },
            "source": [
                "<div class=\"not-editable team\"><span> Each bin or bar of the histogram counts how many prices fall within the range shown along its base (including the left endpoint but excluding the right endpoint). For example, seven pizzas were sold at a price of around $19. </span></div>"
            ]
        },
        {
            "cell_type": "markdown",
            "metadata": {
                "collapsed": false,
                "editable": false
            },
            "source": [
                "<div class=\"not-editable team\"><span> How many pizzas sold on April 1st had a price roughly between $12 and $13? </span></div>"
            ]
        },
        {
            "cell_type": "markdown",
            "metadata": {
                "collapsed": false,
                "editable": false
            },
            "source": [
                "<div class=\"not-editable team\"><div><h4>Task C</h4></div></div>"
            ]
        },
        {
            "cell_type": "markdown",
            "metadata": {
                "collapsed": false,
                "editable": false
            },
            "source": [
                "<div class=\"not-editable team\"><span> Compare the result of <a href=https://stevenclontz.github.io/exploring-math-technology/visualization-one.html#visualization-one-hist-0401>Listing 4.2.6</a> to <a href=https://stevenclontz.github.io/exploring-math-technology/visualization-one.html#visualization-one-dot-plot-large>Figure 4.2.5</a>. What do they have in common? How do they differ? What might explain these differences? Write a few sentences summarizing your thoughts. </span></div>"
            ]
        },
        {
            "cell_type": "markdown",
            "metadata": {
                "collapsed": false,
                "editable": false
            },
            "source": [
                "<div class=\"not-editable team\"><div><h4>Task D</h4></div></div>"
            ]
        },
        {
            "cell_type": "markdown",
            "metadata": {
                "collapsed": false,
                "editable": false
            },
            "source": [
                "<div class=\"not-editable team\"><span> Generate a histogram of pizza prices sold on June 19th, grouped into 15 bins. </span></div>"
            ]
        },
        {
            "cell_type": "markdown",
            "metadata": {
                "collapsed": false,
                "editable": false
            },
            "source": [
                "<div class=\"not-editable team\"><div><h4>Task E</h4></div></div>"
            ]
        },
        {
            "cell_type": "markdown",
            "metadata": {
                "collapsed": false,
                "editable": false
            },
            "source": [
                "<div class=\"not-editable team\"><span> Run the code <code>pizza_table.select(\"size\",\"price\").hist(group=\"size\",bins=20,normed=False)</code>. Write a few sentences summarizing what this graphic illustrates about the dataset. </span></div>"
            ]
        },
        {
            "cell_type": "markdown",
            "metadata": {
                "collapsed": false,
                "editable": false
            },
            "source": [
                "<div class=\"not-editable team\"><div><h4>Task F</h4></div></div>"
            ]
        },
        {
            "cell_type": "markdown",
            "metadata": {
                "collapsed": false,
                "editable": false
            },
            "source": [
                "<div class=\"not-editable team\"><span> Create a useful visualization of the prices of pizzas sold at this restaurant throughout 2015, based on their type (supreme, veggie, classic, etc.). </span></div>"
            ]
        },
        {
            "cell_type": "markdown",
            "metadata": {
                "collapsed": false,
                "editable": false
            },
            "source": [
                "<div class=\"not-editable team\"><div><h4>Task G</h4></div></div>"
            ]
        },
        {
            "cell_type": "markdown",
            "metadata": {
                "collapsed": false,
                "editable": false
            },
            "source": [
                "<div class=\"not-editable team\"><span> Write a sentence or two making an observation about the pizzas sold in 2015, based upon the graphic you created in the previous task. </span></div>"
            ]
        },
        {
            "cell_type": "markdown",
            "metadata": {
                "collapsed": false,
                "editable": false
            },
            "source": [
                "<div class=\"not-editable team\"><h2>Activity 4.2.4</h2></div>"
            ]
        },
        {
            "cell_type": "markdown",
            "metadata": {
                "collapsed": false,
                "editable": false
            },
            "source": [
                "<div class=\"not-editable team\"><span> While a histogram is a useful summary of a univariate dataset, this data can often be further summarized by the use of a box plot, also known as a box-and-whisker plot. </span></div>"
            ]
        },
        {
            "cell_type": "markdown",
            "metadata": {
                "collapsed": false,
                "editable": false
            },
            "source": [
                "<div class=\"not-editable team\"><span> A box plot organizes numerical data into four parts, each illustrating (roughly) a quarter of all the data values: the left whisker, the left box half, the right box half, and the right whisker. (We will explore these ranges in more detail in <a href=#measurements>Chapter 5 Measurements of Data</a>.) </span></div>"
            ]
        },
        {
            "cell_type": "markdown",
            "metadata": {
                "collapsed": false,
                "editable": false
            },
            "source": [
                "<div class=\"not-editable team\"><div><figure><figcaption><b>Listing 4.2.7</b>Code for creating box plots</figcaption><pre># First code cell\nprint(\"Oct 09 Pizza Prices\")\npizza_table.where(\"date\",\"2015-10-09\").select(\"price\").hist(normed=False)\npizza_table.where(\"date\",\"2015-10-09\").select(\"price\").boxplot(vert=False)\n\n# Second code cell\nprint(\"Oct 10 Pizza Prices\")\npizza_table.where(\"date\",\"2015-10-10\").select(\"price\").hist(normed=False)\npizza_table.where(\"date\",\"2015-10-10\").select(\"price\").boxplot(vert=False)</pre></figure></div></div>"
            ]
        },
        {
            "cell_type": "markdown",
            "metadata": {
                "collapsed": false,
                "editable": false
            },
            "source": [
                "<div class=\"not-editable team\"><div><h4>Task A</h4></div></div>"
            ]
        },
        {
            "cell_type": "markdown",
            "metadata": {
                "collapsed": false,
                "editable": false
            },
            "source": [
                "<div class=\"not-editable team\"><span> Run the first half of the code found in <a href=https://stevenclontz.github.io/exploring-math-technology/visualization-one.html#visualization-one-box-plots>Listing 4.2.7</a> to compare a histogram to a box plot. Write a few sentences comparing how the data is presented in each graphic. </span></div>"
            ]
        },
        {
            "cell_type": "markdown",
            "metadata": {
                "collapsed": false,
                "editable": false
            },
            "source": [
                "<div class=\"not-editable team\"><div><h4>Task B</h4></div></div>"
            ]
        },
        {
            "cell_type": "markdown",
            "metadata": {
                "collapsed": false,
                "editable": false
            },
            "source": [
                "<div class=\"not-editable team\"><span> Run the second half of the code found in <a href=https://stevenclontz.github.io/exploring-math-technology/visualization-one.html#visualization-one-box-plots>Listing 4.2.7</a> to compare another histogram to a box plot. What do you notice about this second box plot that wasn't in the first? What do you expect this feature represents? </span></div>"
            ]
        }
    ],
    "nbformat": 4,
    "nbformat_minor": 4
}