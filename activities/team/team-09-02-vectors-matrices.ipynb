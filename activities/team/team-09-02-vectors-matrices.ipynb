{
    "cells": [
        {
            "cell_type": "markdown",
            "metadata": {
                "collapsed": false,
                "editable": false
            },
            "source": [
                "<div class=\"not-editable team\"> <style>\n            .not-editable{padding:1em;border-radius:10px;box-shadow:4px 4px 3px #ddd;margin:5px;}\n            .not-editable.individual{background-color:#eefff8;}\n            .not-editable.team{background-color:#eef8ff;}\n            .sidebyside{display:flex;justify-content:center;}\n            .sidebyside > *{margin-right:1em;flex:1;}\n            caption{caption-side:top;white-space: nowrap;color:rgba(0,0,0,.45)}}\n            figcaption{padding-top:0.75em;padding-bottom:0.3em;color:rgba(0,0,0,.45)}\n            .fillin{display:inline-block;width:10em;margin-left:0.2em;margin-right:0.2em;height:1em;border-bottom:1px black solid;}\n            .fn{font-size:0.8em;color:rgba(0,0,0.45)}\n            .newcommands{display:none;}\n            code{background-color:#f8f8f8;border:1px #888 solid;border-radius:2px;padding-left:0.2em;padding-right:0.2em;}\n            img{background-color:#fff;}\n        </style> <div><h1>Section 9.2 Matrices</h1><h2>Team Notebook</h2><div><a href=https://stevenclontz.github.io/exploring-math-technology/vectors-matrices.html>https://stevenclontz.github.io/exploring-math-technology/vectors-matrices.html</a></div></div></div>"
            ]
        },
        {
            "cell_type": "markdown",
            "metadata": {
                "collapsed": false,
                "editable": false
            },
            "source": [
                "<div class=\"not-editable team\"><h2>Activity 9.2.2</h2></div>"
            ]
        },
        {
            "cell_type": "markdown",
            "metadata": {
                "collapsed": false,
                "editable": false
            },
            "source": [
                "<div class=\"not-editable team\"><span> Every two-dimensional vector can be decomposed into two standard basic vectors: <span class=m> $\\hat\\imath=(1,0)$ </span> and <span class=m> $\\hat\\jmath=(0,1)$ </span>. </span></div>"
            ]
        },
        {
            "cell_type": "markdown",
            "metadata": {
                "collapsed": false,
                "editable": false
            },
            "source": [
                "<div class=\"not-editable team\"><div><h4>Task A</h4></div></div>"
            ]
        },
        {
            "cell_type": "markdown",
            "metadata": {
                "collapsed": false,
                "editable": false
            },
            "source": [
                "<div class=\"not-editable team\"><span> Let <code>veci=vector([1,0])</code> and <code>vecj=vector([0,1])</code>. Use a Code cell to verify that <span class=m> $(3,-4)=3\\hat\\imath-4\\hat\\jmath$ </span>. </span></div>"
            ]
        },
        {
            "cell_type": "markdown",
            "metadata": {
                "collapsed": false,
                "editable": false
            },
            "source": [
                "<div class=\"not-editable team\"><div><h4>Task B</h4></div></div>"
            ]
        },
        {
            "cell_type": "markdown",
            "metadata": {
                "collapsed": false,
                "editable": false
            },
            "source": [
                "<div class=\"not-editable team\"><span> Rewrite the vector <span class=m> $(-12,5)$ </span> using standard basic vectors <span class=m> $\\hat\\imath$ </span> and <span class=m> $\\hat\\jmath$ </span>, and confirm your result with a code cell. </span></div>"
            ]
        },
        {
            "cell_type": "markdown",
            "metadata": {
                "collapsed": false,
                "editable": false
            },
            "source": [
                "<div class=\"not-editable team\"><div><h4>Task C</h4></div></div>"
            ]
        },
        {
            "cell_type": "markdown",
            "metadata": {
                "collapsed": false,
                "editable": false
            },
            "source": [
                "<div class=\"not-editable team\"><span> Rewrite the complex number <span class=m> $-6-5i$ </span> using the standard basic vectors <span class=m> $\\hat\\imath$ </span> and <span class=m> $\\hat\\jmath$ </span>. Then write a sentence or two explaining why many engineers prefer to write complex numbers in <span class=m> $a+bj$ </span> form instead of <span class=m> $a+bi$ </span>. </span></div>"
            ]
        },
        {
            "cell_type": "markdown",
            "metadata": {
                "collapsed": false,
                "editable": false
            },
            "source": [
                "<div class=\"not-editable team\"><div><h4>Task D</h4></div></div>"
            ]
        },
        {
            "cell_type": "markdown",
            "metadata": {
                "collapsed": false,
                "editable": false
            },
            "source": [
                "<div class=\"not-editable team\"><span> Explain how to define <span class=m> $\\hat\\imath,\\hat\\jmath,\\hat{k}$ </span> such that the vector <span class=m> $(2,3,4)$ </span> may be rewritten as <span class=m> $2\\hat\\imath+3\\hat\\jmath+4\\hat{k}$ </span>. </span></div>"
            ]
        },
        {
            "cell_type": "markdown",
            "metadata": {
                "collapsed": false,
                "editable": false
            },
            "source": [
                "<div class=\"not-editable team\"><div><h4>Task E</h4></div></div>"
            ]
        },
        {
            "cell_type": "markdown",
            "metadata": {
                "collapsed": false,
                "editable": false
            },
            "source": [
                "<div class=\"not-editable team\"><span> Write code defining <code>veci_3d</code>, <code>vecj_3d</code>, <code>veck_3d</code>, and then confirm that <code>vector([2,3,4])==2*veci_3d+3*vecj_3d+4*veck_3d</code> returns <code>True</code>. </span></div>"
            ]
        },
        {
            "cell_type": "markdown",
            "metadata": {
                "collapsed": false,
                "editable": false
            },
            "source": [
                "<div class=\"not-editable team\"><h2>Activity 9.2.3</h2></div>"
            ]
        },
        {
            "cell_type": "markdown",
            "metadata": {
                "collapsed": false,
                "editable": false
            },
            "source": [
                "<div class=\"not-editable team\"><span> While <span class=m> $\\hat\\imath,\\hat\\jmath,\\hat{k}$ </span> form the <span class=q> \"standard\" </span> bases for 2D and 3D space, there are also non-standard bases. That is, a basis for 2D or 3D space is any collection of vectors that can describe all other vectors. </span></div>"
            ]
        },
        {
            "cell_type": "markdown",
            "metadata": {
                "collapsed": false,
                "editable": false
            },
            "source": [
                "<div class=\"not-editable team\"><div><h4>Task A</h4></div></div>"
            ]
        },
        {
            "cell_type": "markdown",
            "metadata": {
                "collapsed": false,
                "editable": false
            },
            "source": [
                "<div class=\"not-editable team\"><span> Modify the code in <a href=https://stevenclontz.github.io/exploring-math-technology/vectors-matrices.html#vectors-matrices-coordinates>Listing 9.2.2</a> so that it visualizes how the vectors <span class=m> $-\\hat\\imath+3\\hat\\jmath$ </span>, <span class=m> $3\\hat\\imath+4\\hat\\jmath$ </span>, and <span class=m> $-2\\hat\\imath-5\\hat\\jmath$ </span> appear in the standard 2D coordinate system. </span></div>"
            ]
        },
        {
            "cell_type": "markdown",
            "metadata": {
                "collapsed": false,
                "editable": false
            },
            "source": [
                "<div class=\"not-editable team\"><div><figure><figcaption><b>Listing 9.2.2</b>Drawing a coordinate system</figcaption><pre>basic1 = veci # first basic vector\nbasic2 = vecj # second basic vector\n\n# draws part of coordinate system based on chosen basis\nsize = 6\nsum(\n    [line([n*basic1-size*basic2,n*basic1+size*basic2],color=\"#ddf\") for n in range(-size,size+1)] + \\\n    [line([n*basic2-size*basic1,n*basic2+size*basic1],color=\"#ddf\") for n in range(-size,size+1)] + \\\n    [line([-size*basic2,size*basic2],color=\"#88f\"),line([-size*basic1,size*basic1],color=\"#88f\")]\n) + plot(basic1,color=\"#f88\") + plot(basic2,color=\"#f88\") + \\\n    plot(vector([-1,3]))\n</pre></figure></div></div>"
            ]
        },
        {
            "cell_type": "markdown",
            "metadata": {
                "collapsed": false,
                "editable": false
            },
            "source": [
                "<div class=\"not-editable team\"><div><h4>Task B</h4></div></div>"
            ]
        },
        {
            "cell_type": "markdown",
            "metadata": {
                "collapsed": false,
                "editable": false
            },
            "source": [
                "<div class=\"not-editable team\"><span> Any pair of vectors forms a basis, provided they don't point in exactly the same (or opposite) directions. </span></div>"
            ]
        },
        {
            "cell_type": "markdown",
            "metadata": {
                "collapsed": false,
                "editable": false
            },
            "source": [
                "<div class=\"not-editable team\"><span> Modify <a href=https://stevenclontz.github.io/exploring-math-technology/vectors-matrices.html#vectors-matrices-coordinates>Listing 9.2.2</a> to set <code>basic1</code> and <code>basic2</code> equal to the non-standard pair of basis vectors <span class=m> $\\vec b_1=(1,2)$ </span> and <span class=m> $\\vec b_2=(-1,1)$ </span>, and then visualize how the vectors <span class=m> $-\\vec b_1+3\\vec b_2$ </span>, <span class=m> $3\\vec b_1+4\\vec b_2$ </span>, and <span class=m> $-2\\vec b_1-5\\vec b_2$ </span> appear in this modified coordinate system. </span></div>"
            ]
        },
        {
            "cell_type": "markdown",
            "metadata": {
                "collapsed": false,
                "editable": false
            },
            "source": [
                "<div class=\"not-editable team\"><div><h4>Task C</h4></div></div>"
            ]
        },
        {
            "cell_type": "markdown",
            "metadata": {
                "collapsed": false,
                "editable": false
            },
            "source": [
                "<div class=\"not-editable team\"><span> Use the standard coordinate axes in visualization from the previous task to describe the vectors <span class=m> $-\\vec b_1+3\\vec b_2$ </span>, <span class=m> $3\\vec b_1+4\\vec b_2$ </span>, and <span class=m> $-2\\vec b_1-5\\vec b_2$ </span> using standard basic vectors/coordinates. </span></div>"
            ]
        },
        {
            "cell_type": "markdown",
            "metadata": {
                "collapsed": false,
                "editable": false
            },
            "source": [
                "<div class=\"not-editable team\"><div><h4>Task D</h4></div></div>"
            ]
        },
        {
            "cell_type": "markdown",
            "metadata": {
                "collapsed": false,
                "editable": false
            },
            "source": [
                "<div class=\"not-editable team\"><span> Use SageMath to calculuate standard coordinates for the vectors <span class=m> $-\\vec b_1+3\\vec b_2$ </span>, <span class=m> $3\\vec b_1+4\\vec b_2$ </span>, and <span class=m> $-2\\vec b_1-5\\vec b_2$ </span> directly, confirming the result you found from the illustration. </span></div>"
            ]
        },
        {
            "cell_type": "markdown",
            "metadata": {
                "collapsed": false,
                "editable": false
            },
            "source": [
                "<div class=\"not-editable team\"><h2>Activity 9.2.4</h2></div>"
            ]
        },
        {
            "cell_type": "markdown",
            "metadata": {
                "collapsed": false,
                "editable": false
            },
            "source": [
                "<div class=\"not-editable team\"><span> The process of converting vectors from one basis to another is called a transformation. For example, the transformation of the vectors <span class=m> $\\hat\\imath,\\hat\\jmath$ </span> into the vectors <span class=m> $\\vec b_1,\\vec b_2$ </span> results in the vector <span class=m> $(-1,3)=-\\hat\\imath+3\\hat\\jmath$ </span> in standard coordinates transforming into the vector <span class=m> $-\\vec b_1+3\\vec b_2$ </span> described with non-standard coordinates. </span></div>"
            ]
        },
        {
            "cell_type": "markdown",
            "metadata": {
                "collapsed": false,
                "editable": false
            },
            "source": [
                "<div class=\"not-editable team\"><span> The transformation of the standard basis <span class=m> $\\hat\\imath,\\hat\\jmath$ </span> into the non-standard basis <span class=m> $\\vec b_1,\\vec b_2$ </span> is described by the matrix <span class=m> $\\left(\\vec b_1\\hspace{1em}\\vec b_2\\right)$ </span> where the values of <span class=m> $\\vec b_1,\\vec b_2$ </span> are written vertically as columns. For example, the transformation of <span class=m> $\\hat\\imath$ </span> and <span class=m> $\\hat\\jmath$ </span> into <span class=m> $\\vec b_1=(1,2)$ </span> and <span class=m> $\\vec b_2=(-1,1)$ </span> is described by the matrix: </span></div>"
            ]
        },
        {
            "cell_type": "markdown",
            "metadata": {
                "collapsed": false,
                "editable": false
            },
            "source": [
                "<div class=\"not-editable team\"><span class=m> $$ \\left( \\begin{matrix} 1 &amp; -1 \\\\ 2 &amp; 1 \\end{matrix} \\right) $$ </span></div>"
            ]
        },
        {
            "cell_type": "markdown",
            "metadata": {
                "collapsed": false,
                "editable": false
            },
            "source": [
                "<div class=\"not-editable team\"><div><h4>Task A</h4></div></div>"
            ]
        },
        {
            "cell_type": "markdown",
            "metadata": {
                "collapsed": false,
                "editable": false
            },
            "source": [
                "<div class=\"not-editable team\"><span> Show <code>matrix([basic1,basic2])</code>. Explain why this isn't exactly the matrix described above. </span></div>"
            ]
        },
        {
            "cell_type": "markdown",
            "metadata": {
                "collapsed": false,
                "editable": false
            },
            "source": [
                "<div class=\"not-editable team\"><div><h4>Task B</h4></div></div>"
            ]
        },
        {
            "cell_type": "markdown",
            "metadata": {
                "collapsed": false,
                "editable": false
            },
            "source": [
                "<div class=\"not-editable team\"><span> Use <code>transpose()</code> to save the matrix we actually want to the CS variable <code>B</code>. </span></div>"
            ]
        },
        {
            "cell_type": "markdown",
            "metadata": {
                "collapsed": false,
                "editable": false
            },
            "source": [
                "<div class=\"not-editable team\"><div><h4>Task C</h4></div></div>"
            ]
        },
        {
            "cell_type": "markdown",
            "metadata": {
                "collapsed": false,
                "editable": false
            },
            "source": [
                "<div class=\"not-editable team\"><span> The matrix multiplication described by <span class=m> $\\left(\\vec b_1\\hspace{1em}\\vec b_2\\right)(-1,3)= \\left( \\begin{matrix} 1 &amp; -1 \\\\ 2 &amp; 1 \\end{matrix} \\right) \\left( \\begin{matrix} -1 \\\\ 3 \\end{matrix} \\right) $ </span> computes the transformation of <span class=m> $(-1,3)=-\\hat\\imath+3\\hat\\jmath$ </span> into <span class=m> $-\\vec b_1+3\\vec b_2$ </span>. SageMath can compute this transformation by running <code>B*vector([-1,3])</code>. </span></div>"
            ]
        },
        {
            "cell_type": "markdown",
            "metadata": {
                "collapsed": false,
                "editable": false
            },
            "source": [
                "<div class=\"not-editable team\"><span> Show how to use matrix multiplication to compute <span class=m> $-\\vec b_1+3\\vec b_2$ </span>, <span class=m> $3\\vec b_1+4\\vec b_2$ </span>, and <span class=m> $-2\\vec b_1-5\\vec b_2$ </span>. </span></div>"
            ]
        },
        {
            "cell_type": "markdown",
            "metadata": {
                "collapsed": false,
                "editable": false
            },
            "source": [
                "<div class=\"not-editable team\"><div><h4>Task D</h4></div></div>"
            ]
        },
        {
            "cell_type": "markdown",
            "metadata": {
                "collapsed": false,
                "editable": false
            },
            "source": [
                "<div class=\"not-editable team\"><span> Extend this idea to define a <span class=m> $3\\times 3$ </span> matrix that transforms the 3D standard basic vectors <span class=m> $\\hat\\imath,\\hat\\jmath,\\hat{k}$ </span> into the vectors <span class=m> $\\vec c_1=(1,2,3)$ </span>, <span class=m> $\\vec c_2=(-2,0,3)$ </span>, and <span class=m> $\\vec c_3=(-1,0,-1)$ </span>. </span></div>"
            ]
        },
        {
            "cell_type": "markdown",
            "metadata": {
                "collapsed": false,
                "editable": false
            },
            "source": [
                "<div class=\"not-editable team\"><div><h4>Task E</h4></div></div>"
            ]
        },
        {
            "cell_type": "markdown",
            "metadata": {
                "collapsed": false,
                "editable": false
            },
            "source": [
                "<div class=\"not-editable team\"><span> Show how to compute <span class=m> $4\\vec c_1-3\\vec c_2+2\\vec c_3$ </span> in SageMath using two different ways: one with matrix multiplication and one without. </span></div>"
            ]
        },
        {
            "cell_type": "markdown",
            "metadata": {
                "collapsed": false,
                "editable": false
            },
            "source": [
                "<div class=\"not-editable team\"><h2>Activity 9.2.5</h2></div>"
            ]
        },
        {
            "cell_type": "markdown",
            "metadata": {
                "collapsed": false,
                "editable": false
            },
            "source": [
                "<div class=\"not-editable team\"><span> Matrices can also be used to transform 3D data into 2D data. For example, the matrix <span class=m> $ \\left( \\begin{matrix} 1 &amp; -1 &amp; 0 \\\\ 2 &amp; 1 &amp; 1 \\end{matrix} \\right) $ </span> defined by <code>A=matrix([[1,-1,0],[2,1,1]])</code> transforms the 3D standard basic vectors 3D standard basic vectors <span class=m> $\\hat\\imath,\\hat\\jmath,\\hat{k}$ </span> into the 2D vectors <span class=m> $(1,2)$ </span>, <span class=m> $(-1,1)$ </span>, and <span class=m> $(0,1)$ </span>. </span></div>"
            ]
        },
        {
            "cell_type": "markdown",
            "metadata": {
                "collapsed": false,
                "editable": false
            },
            "source": [
                "<div class=\"not-editable team\"><div><h4>Task A</h4></div></div>"
            ]
        },
        {
            "cell_type": "markdown",
            "metadata": {
                "collapsed": false,
                "editable": false
            },
            "source": [
                "<div class=\"not-editable team\"><span> In computer animation, objects can be represented by piecing together triangles of various colors. The SageMath code <code>polygon([v1,v2,v3])</code> represents the triangle whose corners are pointed to by the vectors stored as the CS variables <code>v1</code>, <code>v2</code>, and <code>v3</code>. </span></div>"
            ]
        },
        {
            "cell_type": "markdown",
            "metadata": {
                "collapsed": false,
                "editable": false
            },
            "source": [
                "<div class=\"not-editable team\"><span> Display the triangle whose corners are pointed to by the vectors <span class=m> $(1,2,3)$ </span>, <span class=m> $(3,0,-1)$ </span>, and <span class=m> $(-1,1,2)$ </span>. </span></div>"
            ]
        },
        {
            "cell_type": "markdown",
            "metadata": {
                "collapsed": false,
                "editable": false
            },
            "source": [
                "<div class=\"not-editable team\"><div><h4>Task B</h4></div></div>"
            ]
        },
        {
            "cell_type": "markdown",
            "metadata": {
                "collapsed": false,
                "editable": false
            },
            "source": [
                "<div class=\"not-editable team\"><span> Use multiplication with the matrix <span class=m> $ \\left( \\begin{matrix} 1 &amp; -1 &amp; 0 \\\\ 2 &amp; 1 &amp; 1 \\end{matrix} \\right) $ </span> to transform this triangle within 3D space into a triangle in 2D space. </span></div>"
            ]
        },
        {
            "cell_type": "markdown",
            "metadata": {
                "collapsed": false,
                "editable": false
            },
            "source": [
                "<div class=\"not-editable team\"><div><h4>Task C</h4></div></div>"
            ]
        },
        {
            "cell_type": "markdown",
            "metadata": {
                "collapsed": false,
                "editable": false
            },
            "source": [
                "<div class=\"not-editable team\"><span> Create more matrices and show how they transform the same triangle into different triangles in 2D space. </span></div>"
            ]
        }
    ],
    "nbformat": 4,
    "nbformat_minor": 4
}