{
    "cells": [
        {
            "cell_type": "markdown",
            "metadata": {
                "collapsed": false,
                "editable": false
            },
            "source": [
                "<div class=\"not-editable team\"> <style>\n            .not-editable{padding:1em;border-radius:10px;box-shadow:4px 4px 3px #ddd;margin:5px;}\n            .not-editable.individual{background-color:#eefff8;}\n            .not-editable.team{background-color:#eef8ff;}\n            .sidebyside{display:flex;justify-content:center;}\n            .sidebyside > *{margin-right:1em;flex:1;}\n            caption{caption-side:top;white-space: nowrap;color:rgba(0,0,0,.45)}}\n            figcaption{padding-top:0.75em;padding-bottom:0.3em;color:rgba(0,0,0,.45)}\n            .fillin{display:inline-block;width:10em;margin-left:0.2em;margin-right:0.2em;height:1em;border-bottom:1px black solid;}\n            .fn{font-size:0.8em;color:rgba(0,0,0.45)}\n            .newcommands{display:none;}\n            code{background-color:#f8f8f8;border:1px #888 solid;border-radius:2px;padding-left:0.2em;padding-right:0.2em;}\n            img{background-color:#fff;}\n        </style> <div><h1>Section 3.2 Collections of Data</h1><h2>Team Notebook</h2><div><a href=https://stevenclontz.github.io/exploring-math-technology/data-collections.html>https://stevenclontz.github.io/exploring-math-technology/data-collections.html</a></div></div></div>"
            ]
        },
        {
            "cell_type": "markdown",
            "metadata": {
                "collapsed": false,
                "editable": false
            },
            "source": [
                "<div class=\"not-editable team\"><h2>Activity 3.2.2</h2></div>"
            ]
        },
        {
            "cell_type": "markdown",
            "metadata": {
                "collapsed": false,
                "editable": false
            },
            "source": [
                "<div class=\"not-editable team\"><span> An unordered collection of mathematical objects is known as a set. Sets are written as a pair of curly braces surrounding a description of its members, such as <span class=m> $\\{2,8,1,4\\}$ </span>. </span></div>"
            ]
        },
        {
            "cell_type": "markdown",
            "metadata": {
                "collapsed": false,
                "editable": false
            },
            "source": [
                "<div class=\"not-editable team\"><div><h4>Task A</h4></div></div>"
            ]
        },
        {
            "cell_type": "markdown",
            "metadata": {
                "collapsed": false,
                "editable": false
            },
            "source": [
                "<div class=\"not-editable team\"><span> Sets may be declared in Python and SageMath using the syntax <code>{2,8,1,4}</code>. Use this syntax and the equality operator <code>==</code> to confirm that <span class=m> $\\{100,101,100\\}$ </span>, <span class=m> $\\{101,100\\}$ </span>, and <span class=m> $\\{100,101\\}$ </span> are all the same set (since they all contain exactly the same numbers). </span></div>"
            ]
        },
        {
            "cell_type": "markdown",
            "metadata": {
                "collapsed": false,
                "editable": false
            },
            "source": [
                "<div class=\"not-editable team\"><div><h4>Task B</h4></div></div>"
            ]
        },
        {
            "cell_type": "markdown",
            "metadata": {
                "collapsed": false,
                "editable": false
            },
            "source": [
                "<div class=\"not-editable team\"><span> The union of many sets describes anything that belongs to any of the given sets. For example, the union of <span class=m> $\\{1,2,3\\}$ </span> with <span class=m> $\\{3,4,5\\}$ </span> may be found using the code <code>{1,2,3} | {3,4,5}</code>, resulting in <span class=m> $\\{1,2,3,4,5\\}$ </span>. </span></div>"
            ]
        },
        {
            "cell_type": "markdown",
            "metadata": {
                "collapsed": false,
                "editable": false
            },
            "source": [
                "<div class=\"not-editable team\"><span> Find the union of the three sets <span class=m> $\\{1,2,4,7\\}$ </span>, <span class=m> $\\{2,5,7,9\\}$ </span>, and <span class=m> $\\{0,2,3,7\\}$ </span>. </span></div>"
            ]
        },
        {
            "cell_type": "markdown",
            "metadata": {
                "collapsed": false,
                "editable": false
            },
            "source": [
                "<div class=\"not-editable team\"><div><h4>Task C</h4></div></div>"
            ]
        },
        {
            "cell_type": "markdown",
            "metadata": {
                "collapsed": false,
                "editable": false
            },
            "source": [
                "<div class=\"not-editable team\"><span> The intersection of many sets describes only the things that belong to all of the given sets. For example, the intersection of <span class=m> $\\{1,2,3\\}$ </span> with <span class=m> $\\{3,4,5\\}$ </span> may be found using the code <code>{1,2,3} &amp; {3,4,5}</code>, resulting in <span class=m> $\\{3\\}$ </span>. </span></div>"
            ]
        },
        {
            "cell_type": "markdown",
            "metadata": {
                "collapsed": false,
                "editable": false
            },
            "source": [
                "<div class=\"not-editable team\"><span> Find the intersection of the three sets <span class=m> $\\{1,2,4,7\\}$ </span>, <span class=m> $\\{2,5,7,9\\}$ </span>, and <span class=m> $\\{0,2,3,7\\}$ </span>. </span></div>"
            ]
        },
        {
            "cell_type": "markdown",
            "metadata": {
                "collapsed": false,
                "editable": false
            },
            "source": [
                "<div class=\"not-editable team\"><div><h4>Task D</h4></div></div>"
            ]
        },
        {
            "cell_type": "markdown",
            "metadata": {
                "collapsed": false,
                "editable": false
            },
            "source": [
                "<div class=\"not-editable team\"><span> Sets may contain other kinds of data, such as strings. </span></div>"
            ]
        },
        {
            "cell_type": "markdown",
            "metadata": {
                "collapsed": false,
                "editable": false
            },
            "source": [
                "<div class=\"not-editable team\"><span> Find the union and intersection of the sets <code>{1,2,3}</code> and <code>{1,\"2\",\"three\"}</code>. </span></div>"
            ]
        },
        {
            "cell_type": "markdown",
            "metadata": {
                "collapsed": false,
                "editable": false
            },
            "source": [
                "<div class=\"not-editable team\"><h2>Activity 3.2.3</h2></div>"
            ]
        },
        {
            "cell_type": "markdown",
            "metadata": {
                "collapsed": false,
                "editable": false
            },
            "source": [
                "<div class=\"not-editable team\"><span> Sets are useful collections when you only care if a datum belongs to the set or not. But often you want your data to be ordered, and often you want to be able count the same datum multiple times in your collection. This is where lists are useful. </span></div>"
            ]
        },
        {
            "cell_type": "markdown",
            "metadata": {
                "collapsed": false,
                "editable": false
            },
            "source": [
                "<div class=\"not-editable team\"><div><h4>Task A</h4></div></div>"
            ]
        },
        {
            "cell_type": "markdown",
            "metadata": {
                "collapsed": false,
                "editable": false
            },
            "source": [
                "<div class=\"not-editable team\"><span> Lists use hard brackets <code>[2,8,1,4]</code> instead of curly brackets. Use <code>==</code> to verify that each of the lists <code>[100,101,100]</code>, <code>[101,100]</code>, and <code>[100,101]</code> are not considered equal to each other, since even though they contain the same data, it appears in different orders and frequencies. </span></div>"
            ]
        },
        {
            "cell_type": "markdown",
            "metadata": {
                "collapsed": false,
                "editable": false
            },
            "source": [
                "<div class=\"not-editable team\"><div><h4>Task B</h4></div></div>"
            ]
        },
        {
            "cell_type": "markdown",
            "metadata": {
                "collapsed": false,
                "editable": false
            },
            "source": [
                "<div class=\"not-editable team\"><span> The concatentation of many lists attaches them in order from end-to-end. For example, the concatenation of <code>[1,2,3]</code> with <code>[3,4,5]</code> may be found using the code <code>[1,2,3] + [3,4,5]</code>, resulting in <code>[1,2,3,3,4,5]</code>. (Note that <code>3</code> is repeated since lists allow repeats.) </span></div>"
            ]
        },
        {
            "cell_type": "markdown",
            "metadata": {
                "collapsed": false,
                "editable": false
            },
            "source": [
                "<div class=\"not-editable team\"><span> Find the concatenation of the three lists <span class=m> $[1,2,4,7]$ </span>, <span class=m> $[2,5,7,9]$ </span>, and <span class=m> $[0,2,3,7]$ </span>. </span></div>"
            ]
        },
        {
            "cell_type": "markdown",
            "metadata": {
                "collapsed": false,
                "editable": false
            },
            "source": [
                "<div class=\"not-editable team\"><div><h4>Task C</h4></div></div>"
            ]
        },
        {
            "cell_type": "markdown",
            "metadata": {
                "collapsed": false,
                "editable": false
            },
            "source": [
                "<div class=\"not-editable team\"><span> Like sets, lists may contain data besides raw numbers, such as strings. </span></div>"
            ]
        },
        {
            "cell_type": "markdown",
            "metadata": {
                "collapsed": false,
                "editable": false
            },
            "source": [
                "<div class=\"not-editable team\"><span> Find the concatenation of the lists <code>[1,2,3]</code> and <code>[1,\"2\",\"three\"]</code>. </span></div>"
            ]
        },
        {
            "cell_type": "markdown",
            "metadata": {
                "collapsed": false,
                "editable": false
            },
            "source": [
                "<div class=\"not-editable team\"><div><h4>Task D</h4></div></div>"
            ]
        },
        {
            "cell_type": "markdown",
            "metadata": {
                "collapsed": false,
                "editable": false
            },
            "source": [
                "<div class=\"not-editable team\"><span> Elements of a list can be changed as shown in <a href=https://stevenclontz.github.io/exploring-math-technology/data-collections.html#data-collections-list-mutable>Listing 3.2.1</a>. </span></div>"
            ]
        },
        {
            "cell_type": "markdown",
            "metadata": {
                "collapsed": false,
                "editable": false
            },
            "source": [
                "<div class=\"not-editable team\"><div><figure><figcaption><b>Listing 3.2.1</b>Changing elements of a list.</figcaption><pre>favorite_numbers = [1,\"two\",7,3.14]\n# Characters after the hashtag sign are comments and don't affect code.\n# Python indexes with counting nunmbers, starting with 0 (known as 0-indexing).\nfavorite_numbers[0] = \"One.\"  # changes the initial element 1 to \"One.\"\nfavorite_numbers[2] = 42      # changes the element 7 to 42\nprint(favorite_numbers)       # outputs ['One.', 'two', 42, 3.14]</pre></figure></div></div>"
            ]
        },
        {
            "cell_type": "markdown",
            "metadata": {
                "collapsed": false,
                "editable": false
            },
            "source": [
                "<div class=\"not-editable team\"><span> Let <code>favorite_things = [\"raindrops\", \"roses\", \"whiskers\", \"kittens\"]</code>, and then use the techniques from <a href=https://stevenclontz.github.io/exploring-math-technology/data-collections.html#data-collections-list-mutable>Listing 3.2.1</a> to change <span class=q> \"roses\" </span> and <span class=q> \"kittens\" </span> into some of your favorite things (leaving \"raindrops\" and \"whiskers\" in place). </span></div>"
            ]
        },
        {
            "cell_type": "markdown",
            "metadata": {
                "collapsed": false,
                "editable": false
            },
            "source": [
                "<div class=\"not-editable team\"><div><h4>Task E</h4></div></div>"
            ]
        },
        {
            "cell_type": "markdown",
            "metadata": {
                "collapsed": false,
                "editable": false
            },
            "source": [
                "<div class=\"not-editable team\"><span> Tuples are similar to lists in that they store ordered collections of data, but are used in different contexts. An important difference is that their elements are fixed. (That is, lists are mutable while tuples are immutable.) </span></div>"
            ]
        },
        {
            "cell_type": "markdown",
            "metadata": {
                "collapsed": false,
                "editable": false
            },
            "source": [
                "<div class=\"not-editable team\"><span> Copy <a href=https://stevenclontz.github.io/exploring-math-technology/data-collections.html#data-collections-tuple-immutable>Listing 3.2.2</a> to a Code cell, and replace the two indicated comments appropriately. </span></div>"
            ]
        },
        {
            "cell_type": "markdown",
            "metadata": {
                "collapsed": false,
                "editable": false
            },
            "source": [
                "<div class=\"not-editable team\"><div><figure><figcaption><b>Listing 3.2.2</b>Trying to alter a tuple.</figcaption><pre>triple_list = [\"one\", \"two\", \"three\"]\ntriple_tuple = (\"one\", \"two\", \"three\")\n\n# Attempts indented block of code that may cause an error\ntry:\n    print(\"Trying to change 'two' to 2 in the list.\")\n    # REPLACE this line to change triple_list appropriately\n# Handles possible error\nexcept TypeError:\n    print(\"This should never appear since list elements can be replaced.\")\n\n# Attempts indented block of code that may cause an error\ntry:\n    print(\"Trying to change 'three' to 3 in the tuple.\")\n    # REPLACE this line to try to change triple_list appropriately\n# Handles possible error\nexcept TypeError:\n    print(\"This should appear since tuple elements cannot be replaced.\")\n\nprint(triple_list, triple_tuple) # outputs ['one', 2, 'three'] ('one', 'two', 'three')</pre></figure></div></div>"
            ]
        },
        {
            "cell_type": "markdown",
            "metadata": {
                "collapsed": false,
                "editable": false
            },
            "source": [
                "<div class=\"not-editable team\"><h2>Activity 3.2.4</h2></div>"
            ]
        },
        {
            "cell_type": "markdown",
            "metadata": {
                "collapsed": false,
                "editable": false
            },
            "source": [
                "<div class=\"not-editable team\"><span> Lists are useful for organizing multiple values of data, but there's no great way to assign labels to each element in the list. Dictionaries are used to mitigate this. </span></div>"
            ]
        },
        {
            "cell_type": "markdown",
            "metadata": {
                "collapsed": false,
                "editable": false
            },
            "source": [
                "<div class=\"not-editable team\"><div><h4>Task A</h4></div></div>"
            ]
        },
        {
            "cell_type": "markdown",
            "metadata": {
                "collapsed": false,
                "editable": false
            },
            "source": [
                "<div class=\"not-editable team\"><span> The dictionary <code>student_dict = {\"name\": \"Jessica\", \"age\": 19, \"favorite_teacher\": \"Dr. Clontz\"}</code> represents the student data given in <a href=https://stevenclontz.github.io/exploring-math-technology/data-collections.html#data-collections-student-dictionary>Table 3.2.3</a> as keys and values. </span></div>"
            ]
        },
        {
            "cell_type": "markdown",
            "metadata": {
                "collapsed": false,
                "editable": false
            },
            "source": [
                "<div class=\"not-editable team\"><div><table><caption><b>Table 3.2.3.</b> </caption><tr><td>Key</td><td>Value</td></tr><tr><td><code>\"name\"</code></td><td><code>\"Jessica\"</code></td></tr><tr><td><code>\"age\"</code></td><td><code>19</code></td></tr><tr><td><code>\"favorite_teacher\"</code></td><td><code>\"Dr. Clontz\"</code></td></tr></table></div></div>"
            ]
        },
        {
            "cell_type": "markdown",
            "metadata": {
                "collapsed": false,
                "editable": false
            },
            "source": [
                "<div class=\"not-editable team\"><span> Create a dictionary with the same keys for someone in your group. </span></div>"
            ]
        },
        {
            "cell_type": "markdown",
            "metadata": {
                "collapsed": false,
                "editable": false
            },
            "source": [
                "<div class=\"not-editable team\"><div><h4>Task B</h4></div></div>"
            ]
        },
        {
            "cell_type": "markdown",
            "metadata": {
                "collapsed": false,
                "editable": false
            },
            "source": [
                "<div class=\"not-editable team\"><span> Values stored in a dictionary can be easy retrieved by looking them up by key. For example, <code>student_dict[\"favorite_teacher\"]</code> equals <code>\"Dr. Clontz\"</code>, and <code>print(f\"{student_dict['name']} is {student_dict['age']} years old.\")</code> outputs <code>Jessica is 19 years old.</code>. (Note the switching of single and double quotes.) </span></div>"
            ]
        },
        {
            "cell_type": "markdown",
            "metadata": {
                "collapsed": false,
                "editable": false
            },
            "source": [
                "<div class=\"not-editable team\"><span> Create a code cell that outputs a sentence similar to the following, using the dictionary you created in the previous task. </span></div>"
            ]
        },
        {
            "cell_type": "markdown",
            "metadata": {
                "collapsed": false,
                "editable": false
            },
            "source": [
                "<div class=\"not-editable team\"><blockquote> [Student name]'s favorite teacher is [teacher name]. </blockquote></div>"
            ]
        },
        {
            "cell_type": "markdown",
            "metadata": {
                "collapsed": false,
                "editable": false
            },
            "source": [
                "<div class=\"not-editable team\"><h2>Activity 3.2.5</h2></div>"
            ]
        },
        {
            "cell_type": "markdown",
            "metadata": {
                "collapsed": false,
                "editable": false
            },
            "source": [
                "<div class=\"not-editable team\"><span> To avoid repetition, ranges and comprehension may be used to quickly describe longer lists, sets, and dictionaries. </span></div>"
            ]
        },
        {
            "cell_type": "markdown",
            "metadata": {
                "collapsed": false,
                "editable": false
            },
            "source": [
                "<div class=\"not-editable team\"><div><h4>Task A</h4></div></div>"
            ]
        },
        {
            "cell_type": "markdown",
            "metadata": {
                "collapsed": false,
                "editable": false
            },
            "source": [
                "<div class=\"not-editable team\"><span> Using the <code>range()</code> tool, we can quickly create lists of counting numbers. For example, <code>list(range(10))</code> returns the list <code>[0, 1, 2, 3, 4, 5, 6, 7, 8, 9]</code>. Note that this list contains ten different elements, but doesn't contain the number <code>10</code> itself. </span></div>"
            ]
        },
        {
            "cell_type": "markdown",
            "metadata": {
                "collapsed": false,
                "editable": false
            },
            "source": [
                "<div class=\"not-editable team\"><span> By providing two numbers, you can specify the starting number (included) and ending number (not included). For example, <code>list(range(-5,5)) == [-5, -4, -3, -2, -1, 0, 1, 2, 3, 4]</code>. </span></div>"
            ]
        },
        {
            "cell_type": "markdown",
            "metadata": {
                "collapsed": false,
                "editable": false
            },
            "source": [
                "<div class=\"not-editable team\"><span> Use a range to create the list <code>[-10, -9, ..., 9, 10]</code>. </span></div>"
            ]
        },
        {
            "cell_type": "markdown",
            "metadata": {
                "collapsed": false,
                "editable": false
            },
            "source": [
                "<div class=\"not-editable team\"><div><h4>Task B</h4></div></div>"
            ]
        },
        {
            "cell_type": "markdown",
            "metadata": {
                "collapsed": false,
                "editable": false
            },
            "source": [
                "<div class=\"not-editable team\"><span> Comprehension allows us to use formulas when defining a list. For example, <code>[2*n for n in range(10)] == [0, 2, 4, ..., 18]</code>. </span></div>"
            ]
        },
        {
            "cell_type": "markdown",
            "metadata": {
                "collapsed": false,
                "editable": false
            },
            "source": [
                "<div class=\"not-editable team\"><span> Use comprehension to square each of the numbers in the list <code>[-10, -9, ..., 9, 10]</code>, producing <code>[100, 81, ..., 81, 100]</code>. </span></div>"
            ]
        },
        {
            "cell_type": "markdown",
            "metadata": {
                "collapsed": false,
                "editable": false
            },
            "source": [
                "<div class=\"not-editable team\"><div><h4>Task C</h4></div></div>"
            ]
        },
        {
            "cell_type": "markdown",
            "metadata": {
                "collapsed": false,
                "editable": false
            },
            "source": [
                "<div class=\"not-editable team\"><span> Comprehension can also be used with sets and dictionaries. For example, <code>{f\"{n} doubled\": 2*n for n in range(10)}</code> creates the dictionary <code>{'0 doubled': 0, '1 doubled' 2, ..., '9 doubled': 18}</code>. </span></div>"
            ]
        },
        {
            "cell_type": "markdown",
            "metadata": {
                "collapsed": false,
                "editable": false
            },
            "source": [
                "<div class=\"not-editable team\"><span> Use comprehension to create the dictionary <code>{'-10 squared': 100, '-9 squared': 81, ..., '10 squared': 100}</code>. </span></div>"
            ]
        }
    ],
    "nbformat": 4,
    "nbformat_minor": 4
}