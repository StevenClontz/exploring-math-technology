{
    "cells": [
        {
            "cell_type": "markdown",
            "metadata": {
                "collapsed": false,
                "editable": false
            },
            "source": [
                "<div class=\"not-editable team\"> <style>\n            .not-editable{padding:1em;border-radius:10px;box-shadow:4px 4px 3px #ddd;margin:5px;}\n            .not-editable.individual{background-color:#eefff8;}\n            .not-editable.team{background-color:#eef8ff;}\n            .sidebyside{display:flex;justify-content:center;}\n            .sidebyside > *{margin-right:1em;flex:1;}\n            caption{caption-side:top;white-space: nowrap;color:rgba(0,0,0,.45)}}\n            figcaption{padding-top:0.75em;padding-bottom:0.3em;color:rgba(0,0,0,.45)}\n            .fillin{display:inline-block;width:10em;margin-left:0.2em;margin-right:0.2em;height:1em;border-bottom:1px black solid;}\n            .fn{font-size:0.8em;color:rgba(0,0,0.45)}\n            .newcommands{display:none;}\n            code{background-color:#f8f8f8;border:1px #888 solid;border-radius:2px;padding-left:0.2em;padding-right:0.2em;}\n            img{background-color:#fff;}\n        </style> <div><h1>Section 1.1 Jupyter Notebooks and CoCalc</h1><h2>Team Notebook</h2><div><a href=https://stevenclontz.github.io/exploring-math-technology/programming-jupyter.html>https://stevenclontz.github.io/exploring-math-technology/programming-jupyter.html</a></div></div></div>"
            ]
        },
        {
            "cell_type": "markdown",
            "metadata": {
                "collapsed": false,
                "editable": false
            },
            "source": [
                "<div class=\"not-editable team\"><h2>Activity 1.1.2</h2></div>"
            ]
        },
        {
            "cell_type": "markdown",
            "metadata": {
                "collapsed": false,
                "editable": false
            },
            "source": [
                "<div class=\"not-editable team\"><span> Jupyter notebooks consist of cells that can include either writing or code. Let's explore how writing code in Jupyter works. </span></div>"
            ]
        },
        {
            "cell_type": "markdown",
            "metadata": {
                "collapsed": false,
                "editable": false
            },
            "source": [
                "<div class=\"not-editable team\"><div><h4>Task A</h4></div></div>"
            ]
        },
        {
            "cell_type": "markdown",
            "metadata": {
                "collapsed": false,
                "editable": false
            },
            "source": [
                "<div class=\"not-editable team\"><span> To write and execute code, your notebook needs to have a kernel, that is, an associated programming language. The kernel is displayed in the upper-right corner of your notebook. If it's not already selected, choose a Python 3 kernel to use with this notebook. (If there are multiple versions of Python 3 available, it doesn't matter which one you choose. Do not choose a Python 2 kernel, however.) </span></div>"
            ]
        },
        {
            "cell_type": "markdown",
            "metadata": {
                "collapsed": false,
                "editable": false
            },
            "source": [
                "<div class=\"not-editable team\"><span> Once you've done this, edit the contents of the below cell to read <code>import sys; sys.version</code> and hit Ctrl+Enter. </span></div>"
            ]
        },
        {
            "cell_type": "markdown",
            "metadata": {
                "collapsed": false,
                "editable": false
            },
            "source": [
                "<div class=\"not-editable team\"><div><h4>Task B</h4></div></div>"
            ]
        },
        {
            "cell_type": "markdown",
            "metadata": {
                "collapsed": false,
                "editable": false
            },
            "source": [
                "<div class=\"not-editable team\"><span> Most likely, the result of entering the code <code>import sys; sys.version</code> into the above cell just make the text <span class=q> \"import sys; sys.version\" </span> appear. This is because the editable cells in this notebook are set to <span class=q> \"Markdown\" </span> mode by default, which is used for writing text, such as the paragraph you're currently reading. (If the above cell wasn't already in Markdown mode, use the menu to switch it to Markdown mode, so the output is simply <span class=q> \"import sys; sys.version\" </span>.) </span></div>"
            ]
        },
        {
            "cell_type": "markdown",
            "metadata": {
                "collapsed": false,
                "editable": false
            },
            "source": [
                "<div class=\"not-editable team\"><span> Now enter <code>import sys; sys.version</code> into the below cell, and use the menu to switch the cell type to <span class=q> \"Code\" </span>. Now pressing Ctrl+Enter should display something like <code>'3.6.9 (default, Apr 18 2020, 01:56:04) \\n[GCC 8.4.0]'</code>, the version of the Python kernel used in this notebook. </span></div>"
            ]
        },
        {
            "cell_type": "markdown",
            "metadata": {
                "collapsed": false,
                "editable": false
            },
            "source": [
                "<div class=\"not-editable team\"><div><h4>Task C</h4></div></div>"
            ]
        },
        {
            "cell_type": "markdown",
            "metadata": {
                "collapsed": false,
                "editable": false
            },
            "source": [
                "<div class=\"not-editable team\"><span> Each task in these notebooks includes a single editable Markdown cell by default. However, you may add as many Markdown and Code cells as you like by clicking above or below an existing cell. </span></div>"
            ]
        },
        {
            "cell_type": "markdown",
            "metadata": {
                "collapsed": false,
                "editable": false
            },
            "source": [
                "<div class=\"not-editable team\"><span> Enter <code>The value of 1+1 is:</code> into the below Markdown cell. Then create a Code cell below it with the contents <code>1+1</code> to calculate the result. </span></div>"
            ]
        },
        {
            "cell_type": "markdown",
            "metadata": {
                "collapsed": false,
                "editable": false
            },
            "source": [
                "<div class=\"not-editable team\"><h2>Activity 1.1.3</h2></div>"
            ]
        },
        {
            "cell_type": "markdown",
            "metadata": {
                "collapsed": false,
                "editable": false
            },
            "source": [
                "<div class=\"not-editable team\"><span> Jupyter notebooks provide a convenient interface for communiating mathematics and data science. The Jupyter server CoCalc.com also provides access to a full Linux environment, which you can access from your browser without installing anything on your computer. </span></div>"
            ]
        },
        {
            "cell_type": "markdown",
            "metadata": {
                "collapsed": false,
                "editable": false
            },
            "source": [
                "<div class=\"not-editable team\"><div><h4>Task A</h4></div></div>"
            ]
        },
        {
            "cell_type": "markdown",
            "metadata": {
                "collapsed": false,
                "editable": false
            },
            "source": [
                "<div class=\"not-editable team\"><span> To access the Linux command-line interface, go to <span class=q> \"Files\" </span> and create a new <span class=q> \"Terminal\" </span> file. </span></div>"
            ]
        },
        {
            "cell_type": "markdown",
            "metadata": {
                "collapsed": false,
                "editable": false
            },
            "source": [
                "<div class=\"not-editable team\"><span> We can use the Linux command-line program <code>cat</code> to display information about the version of Linux being run, which is stored in the file <code>/etc/os-release</code>. To do this, enter <code>cat /etc/os-release</code> in your terminal. Copy and paste the results (which should include a line such as <code>PRETTY_NAME=\"Ubuntu 18.04.4 LTS\"</code>) into the below cell. (It's okay if the line breaks pasted from the terminal don't appear in the output below; we will explore Markdown formatting in a later activity.) </span></div>"
            ]
        },
        {
            "cell_type": "markdown",
            "metadata": {
                "collapsed": false,
                "editable": false
            },
            "source": [
                "<div class=\"not-editable team\"><div><h4>Task B</h4></div></div>"
            ]
        },
        {
            "cell_type": "markdown",
            "metadata": {
                "collapsed": false,
                "editable": false
            },
            "source": [
                "<div class=\"not-editable team\"><span> You can upload any files you need to CoCalc, which can then be used by your notebooks. Use a search engine to find an image of a <span class=q> \"Klein bottle\" </span> on the internet. Download a copy of this image to your computer. Using the <span class=q> \"New\" </span> menu option in CoCalc, upload a copy of this image to the server, in the same folder as this notebook's file. </span></div>"
            ]
        },
        {
            "cell_type": "markdown",
            "metadata": {
                "collapsed": false,
                "editable": false
            },
            "source": [
                "<div class=\"not-editable team\"><span> Make this image display in the below Markdown cell by entering <code>![Klein bottle](image.png)</code>, replacing <code>image.png</code> with the filename of the image you uploaded. (The text <code>Klein bottle</code> is used to describe the image in case it doesn't load, or for those using a screen reader.) </span></div>"
            ]
        },
        {
            "cell_type": "markdown",
            "metadata": {
                "collapsed": false,
                "editable": false
            },
            "source": [
                "<div class=\"not-editable team\"><div><h4>Task C</h4></div></div>"
            ]
        },
        {
            "cell_type": "markdown",
            "metadata": {
                "collapsed": false,
                "editable": false
            },
            "source": [
                "<div class=\"not-editable team\"><span> Now create a new file called <code>data.csv</code> in the same folder as this notebook. Copy-paste the text from <a href=https://stevenclontz.github.io/exploring-math-technology/programming-jupyter.html#programming-jupyter-tempdata>Listing 1.1.1</a> into this new file to save a Comma-Separated Values spreadsheet. </span></div>"
            ]
        },
        {
            "cell_type": "markdown",
            "metadata": {
                "collapsed": false,
                "editable": false
            },
            "source": [
                "<div class=\"not-editable team\"><div><figure><figcaption><b>Listing 1.1.1</b>Contents for <code>data.csv</code></figcaption><pre>Time,TempInF\n8:00,74\n9:00,78\n10:00,82\n11:00,85\n12:00,88\n13:00,89\n14:00,90\n15:00,91\n16:00,89\n17:00,88</pre></figure></div></div>"
            ]
        },
        {
            "cell_type": "markdown",
            "metadata": {
                "collapsed": false,
                "editable": false
            },
            "source": [
                "<div class=\"not-editable team\"><span> Then copy-paste the text from <a href=https://stevenclontz.github.io/exploring-math-technology/programming-jupyter.html#programming-jupyter-use-tempdata>Listing 1.1.2</a> into a Code cell below to use this data in a Python 3 script to display the temperatures in Celcius. </span></div>"
            ]
        },
        {
            "cell_type": "markdown",
            "metadata": {
                "collapsed": false,
                "editable": false
            },
            "source": [
                "<div class=\"not-editable team\"><div><figure><figcaption><b>Listing 1.1.2</b>Code cell to parse <code>data.csv</code></figcaption><pre>import csv\nwith open(\"data.csv\", \"r\") as csv_file:\n    rows = csv.DictReader(csv_file, delimiter=',')\n    for row in rows:\n        time = row[\"Time\"]\n        temp = format((float(row[\"TempInF\"])-32)*5/9, '.2f')\n        print(\"The temperature at\", time, \"is\", temp, \"degrees Celcius.\")</pre></figure></div></div>"
            ]
        }
    ],
    "nbformat": 4,
    "nbformat_minor": 4
}