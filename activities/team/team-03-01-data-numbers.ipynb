{
    "cells": [
        {
            "cell_type": "markdown",
            "metadata": {
                "collapsed": false,
                "editable": false
            },
            "source": [
                "<div class=\"not-editable team\"> <style>\n            .not-editable{padding:1em;border-radius:10px;box-shadow:4px 4px 3px #ddd;margin:5px;}\n            .not-editable.individual{background-color:#eefff8;}\n            .not-editable.team{background-color:#eef8ff;}\n            .sidebyside{display:flex;justify-content:center;}\n            .sidebyside > *{margin-right:1em;flex:1;}\n            caption{caption-side:top;white-space: nowrap;color:rgba(0,0,0,.45)}}\n            figcaption{padding-top:0.75em;padding-bottom:0.3em;color:rgba(0,0,0,.45)}\n            .fillin{display:inline-block;width:10em;margin-left:0.2em;margin-right:0.2em;height:1em;border-bottom:1px black solid;}\n            .fn{font-size:0.8em;color:rgba(0,0,0.45)}\n            .newcommands{display:none;}\n            code{background-color:#f8f8f8;border:1px #888 solid;border-radius:2px;padding-left:0.2em;padding-right:0.2em;}\n            img{background-color:#fff;}\n        </style> <div><h1>Section 3.1 Numbers and Strings</h1><h2>Team Notebook</h2><div><a href=https://stevenclontz.github.io/exploring-math-technology/data-numbers.html>https://stevenclontz.github.io/exploring-math-technology/data-numbers.html</a></div></div></div>"
            ]
        },
        {
            "cell_type": "markdown",
            "metadata": {
                "collapsed": false,
                "editable": false
            },
            "source": [
                "<div class=\"not-editable team\"><h2>Activity 3.1.2</h2></div>"
            ]
        },
        {
            "cell_type": "markdown",
            "metadata": {
                "collapsed": false,
                "editable": false
            },
            "source": [
                "<div class=\"not-editable team\"><span> The counting numbers (sometimes written as the lowercase Greek letter omega <span class=m> $\\omega$ </span>, also sometimes called <span class=q> \"whole numbers\" </span> or <span class=q> \"natural numbers\" </span>) are those numbers used to quantify whole items: <span class=m> $$\\{0,1,2,3,\\dots,100,101,\\dots,8675309,8675310,\\dots\\}$$ </span> </span></div>"
            ]
        },
        {
            "cell_type": "markdown",
            "metadata": {
                "collapsed": false,
                "editable": false
            },
            "source": [
                "<div class=\"not-editable team\"><span> For each of the following possible rules for counting numbers, either decide that it should be true, or find an example showing why the rule should be false. </span></div>"
            ]
        },
        {
            "cell_type": "markdown",
            "metadata": {
                "collapsed": false,
                "editable": false
            },
            "source": [
                "<div class=\"not-editable team\"><div><h4>Task A</h4></div></div>"
            ]
        },
        {
            "cell_type": "markdown",
            "metadata": {
                "collapsed": false,
                "editable": false
            },
            "source": [
                "<div class=\"not-editable team\"><span> Adding one to a counting number results in another counting number. For example, <span class=m> $6$ </span> is a counting number, so <span class=m> $6+1=7$ </span> is also a counting number. </span></div>"
            ]
        },
        {
            "cell_type": "markdown",
            "metadata": {
                "collapsed": false,
                "editable": false
            },
            "source": [
                "<div class=\"not-editable team\"><div><h4>Task B</h4></div></div>"
            ]
        },
        {
            "cell_type": "markdown",
            "metadata": {
                "collapsed": false,
                "editable": false
            },
            "source": [
                "<div class=\"not-editable team\"><span> Subtracting one from a counting number results in another counting number. For example, <span class=m> $6$ </span> is a counting number, so <span class=m> $6-1=5$ </span> is also a counting number. </span></div>"
            ]
        },
        {
            "cell_type": "markdown",
            "metadata": {
                "collapsed": false,
                "editable": false
            },
            "source": [
                "<div class=\"not-editable team\"><div><h4>Task C</h4></div></div>"
            ]
        },
        {
            "cell_type": "markdown",
            "metadata": {
                "collapsed": false,
                "editable": false
            },
            "source": [
                "<div class=\"not-editable team\"><span> Doubling a counting number results in another counting number. For example, <span class=m> $32$ </span> is a counting number, so <span class=m> $32\\times 2=64$ </span> is also a counting number. </span></div>"
            ]
        },
        {
            "cell_type": "markdown",
            "metadata": {
                "collapsed": false,
                "editable": false
            },
            "source": [
                "<div class=\"not-editable team\"><div><h4>Task D</h4></div></div>"
            ]
        },
        {
            "cell_type": "markdown",
            "metadata": {
                "collapsed": false,
                "editable": false
            },
            "source": [
                "<div class=\"not-editable team\"><span> Halving a counting number results in another counting number. For example, <span class=m> $32$ </span> is a counting number, so <span class=m> $32\\div 2=16$ </span> is also a counting number. </span></div>"
            ]
        },
        {
            "cell_type": "markdown",
            "metadata": {
                "collapsed": false,
                "editable": false
            },
            "source": [
                "<div class=\"not-editable team\"><div><h4>Task E</h4></div></div>"
            ]
        },
        {
            "cell_type": "markdown",
            "metadata": {
                "collapsed": false,
                "editable": false
            },
            "source": [
                "<div class=\"not-editable team\"><span> Squaring a counting number results in another counting number. For example, <span class=m> $9$ </span> is a counting number, so <span class=m> $9^2=81$ </span> is also a counting number. </span></div>"
            ]
        },
        {
            "cell_type": "markdown",
            "metadata": {
                "collapsed": false,
                "editable": false
            },
            "source": [
                "<div class=\"not-editable team\"><div><h4>Task F</h4></div></div>"
            ]
        },
        {
            "cell_type": "markdown",
            "metadata": {
                "collapsed": false,
                "editable": false
            },
            "source": [
                "<div class=\"not-editable team\"><span> Square rooting a counting number results in another counting number. For example, <span class=m> $9$ </span> is a counting number, so <span class=m> $\\sqrt{9}=3$ </span> is also a counting number. </span></div>"
            ]
        },
        {
            "cell_type": "markdown",
            "metadata": {
                "collapsed": false,
                "editable": false
            },
            "source": [
                "<div class=\"not-editable team\"><h2>Activity 3.1.3</h2></div>"
            ]
        },
        {
            "cell_type": "markdown",
            "metadata": {
                "collapsed": false,
                "editable": false
            },
            "source": [
                "<div class=\"not-editable team\"><span> The integers <span class=m> $\\mathbb Z$ </span> include all the counting numbers as well as their negatives: <span class=m> $\\{\\dots,-2,-1,0,1,2,\\dots\\}$ </span>. </span></div>"
            ]
        },
        {
            "cell_type": "markdown",
            "metadata": {
                "collapsed": false,
                "editable": false
            },
            "source": [
                "<div class=\"not-editable team\"><div><h4>Task A</h4></div></div>"
            ]
        },
        {
            "cell_type": "markdown",
            "metadata": {
                "collapsed": false,
                "editable": false
            },
            "source": [
                "<div class=\"not-editable team\"><span> Explain which of the number rules from <a href=https://stevenclontz.github.io/exploring-math-technology/data-numbers.html#data-numbers-counting>Activity 3.1.2</a> work when <span class=q> \"counting number\" </span> is replaced with <span class=q> \"integer\" </span>, and which ones fail. </span></div>"
            ]
        },
        {
            "cell_type": "markdown",
            "metadata": {
                "collapsed": false,
                "editable": false
            },
            "source": [
                "<div class=\"not-editable team\"><ul><li><span>Adding one</span></li><li><span>Subtracting one</span></li><li><span>Doubling</span></li><li><span>Halving</span></li><li><span>Squaring</span></li><li><span>Square rooting</span></li></ul></div>"
            ]
        },
        {
            "cell_type": "markdown",
            "metadata": {
                "collapsed": false,
                "editable": false
            },
            "source": [
                "<div class=\"not-editable team\"><div><h4>Task B</h4></div></div>"
            ]
        },
        {
            "cell_type": "markdown",
            "metadata": {
                "collapsed": false,
                "editable": false
            },
            "source": [
                "<div class=\"not-editable team\"><span> Choose from the words all/some/no to make the following sentence correct. </span></div>"
            ]
        },
        {
            "cell_type": "markdown",
            "metadata": {
                "collapsed": false,
                "editable": false
            },
            "source": [
                "<div class=\"not-editable team\"><blockquote> All/some/no integers are also counting numbers, and all/some/no counting numbers are also integers. </blockquote></div>"
            ]
        },
        {
            "cell_type": "markdown",
            "metadata": {
                "collapsed": false,
                "editable": false
            },
            "source": [
                "<div class=\"not-editable team\"><h2>Activity 3.1.4</h2></div>"
            ]
        },
        {
            "cell_type": "markdown",
            "metadata": {
                "collapsed": false,
                "editable": false
            },
            "source": [
                "<div class=\"not-editable team\"><span> The rational numbers <span class=m> $\\mathbb Q$ </span> include all fractions of integers that don't divide by zero, such as <span class=m> $\\frac{1}{2}$ </span>, <span class=m> $\\frac{22}{7}$ </span>, and <span class=m> $-\\frac{1234812348}{42}$ </span>. </span></div>"
            ]
        },
        {
            "cell_type": "markdown",
            "metadata": {
                "collapsed": false,
                "editable": false
            },
            "source": [
                "<div class=\"not-editable team\"><div><h4>Task A</h4></div></div>"
            ]
        },
        {
            "cell_type": "markdown",
            "metadata": {
                "collapsed": false,
                "editable": false
            },
            "source": [
                "<div class=\"not-editable team\"><span> Explain which of the number rules from <a href=https://stevenclontz.github.io/exploring-math-technology/data-numbers.html#data-numbers-counting>Activity 3.1.2</a> work when <span class=q> \"counting number\" </span> is replaced with <span class=q> \"rational number\" </span>, and which ones fail. </span></div>"
            ]
        },
        {
            "cell_type": "markdown",
            "metadata": {
                "collapsed": false,
                "editable": false
            },
            "source": [
                "<div class=\"not-editable team\"><ul><li><span>Adding one</span></li><li><span>Subtracting one</span></li><li><span>Doubling</span></li><li><span>Halving</span></li><li><span>Squaring</span></li><li><span>Square rooting</span></li></ul></div>"
            ]
        },
        {
            "cell_type": "markdown",
            "metadata": {
                "collapsed": false,
                "editable": false
            },
            "source": [
                "<div class=\"not-editable team\"><div><h4>Task B</h4></div></div>"
            ]
        },
        {
            "cell_type": "markdown",
            "metadata": {
                "collapsed": false,
                "editable": false
            },
            "source": [
                "<div class=\"not-editable team\"><span> Choose from the words all/some/no to make the following sentence correct. </span></div>"
            ]
        },
        {
            "cell_type": "markdown",
            "metadata": {
                "collapsed": false,
                "editable": false
            },
            "source": [
                "<div class=\"not-editable team\"><blockquote> All/some/no integers are also rational numbers, and all/some/no rational numbers are also integers. </blockquote></div>"
            ]
        },
        {
            "cell_type": "markdown",
            "metadata": {
                "collapsed": false,
                "editable": false
            },
            "source": [
                "<div class=\"not-editable team\"><h2>Activity 3.1.5</h2></div>"
            ]
        },
        {
            "cell_type": "markdown",
            "metadata": {
                "collapsed": false,
                "editable": false
            },
            "source": [
                "<div class=\"not-editable team\"><span> There are other kinds of real numbers, such as <span class=m> $e$ </span> and <span class=m> $\\pi$ </span>, that aren't rational. (The technical definition of the system of real numbers requires experience with calculus, so we won't get into that here.) There are other kinds of numbers as well, such as the complex numbers explorered in <a href=#complex>Chapter 8 Two-Dimensional Data and Complex Numbers</a>. </span></div>"
            ]
        },
        {
            "cell_type": "markdown",
            "metadata": {
                "collapsed": false,
                "editable": false
            },
            "source": [
                "<div class=\"not-editable team\"><span> Since SageMath tries to model mathematics as authentically as possible, it will try to recognize when you are working with integers or rational numbers. For example, <code>type(-17/3)</code> display that it is a <span class=q> \"<code>sage.rings.rational.Rational</code>\" </span> </span></div>"
            ]
        },
        {
            "cell_type": "markdown",
            "metadata": {
                "collapsed": false,
                "editable": false
            },
            "source": [
                "<div class=\"not-editable team\"><span> Use the <code>type()</code> tool to help explain why <span class=m> $-\\frac{1234812348}{42}$ </span> is an integer or rational number. </span></div>"
            ]
        },
        {
            "cell_type": "markdown",
            "metadata": {
                "collapsed": false,
                "editable": false
            },
            "source": [
                "<div class=\"not-editable team\"><h2>Activity 3.1.6</h2></div>"
            ]
        },
        {
            "cell_type": "markdown",
            "metadata": {
                "collapsed": false,
                "editable": false
            },
            "source": [
                "<div class=\"not-editable team\"><span> Something all these sets of numbers described above is that they are infinite: if you had a finite list of them, take the biggest and add one, and you'll have something you forgot in your list. </span></div>"
            ]
        },
        {
            "cell_type": "markdown",
            "metadata": {
                "collapsed": false,
                "editable": false
            },
            "source": [
                "<div class=\"not-editable team\"><span> While SageMath does its best to hide this limitation from users, there's a limit to how many of these infinitely-many possible numerical values can be stored on a physical computer due to its finite storage space. </span></div>"
            ]
        },
        {
            "cell_type": "markdown",
            "metadata": {
                "collapsed": false,
                "editable": false
            },
            "source": [
                "<div class=\"not-editable team\"><span> To account for this, some lower-level languages offer data types like the short that account for a useful (but finite) range of integers. In particular, shorts are integers that may be stored as a short finite list of the binary digits <span class=m> $0$ </span> and <span class=m> $1$ </span>. (Each binary digit is also known as a bit.) </span></div>"
            ]
        },
        {
            "cell_type": "markdown",
            "metadata": {
                "collapsed": false,
                "editable": false
            },
            "source": [
                "<div class=\"not-editable team\"><div><h4>Task A</h4></div></div>"
            ]
        },
        {
            "cell_type": "markdown",
            "metadata": {
                "collapsed": false,
                "editable": false
            },
            "source": [
                "<div class=\"not-editable team\"><span> Only two numbers may be described using one binary digit: <span class=m> $0_2$ </span> and <span class=m> $1_2$ </span>. Only four numbers may be described using two binary digits: <span class=m> $00_2$ </span>, <span class=m> $01_2$ </span>, <span class=m> $10_2$ </span>, and <span class=m> $11_2$ </span>. </span></div>"
            ]
        },
        {
            "cell_type": "markdown",
            "metadata": {
                "collapsed": false,
                "editable": false
            },
            "source": [
                "<div class=\"not-editable team\"><span> Describe all the possible numbers using three binary digits. </span></div>"
            ]
        },
        {
            "cell_type": "markdown",
            "metadata": {
                "collapsed": false,
                "editable": false
            },
            "source": [
                "<div class=\"not-editable team\"><span class=m> $$\\square\\square\\square_2$$ </span></div>"
            ]
        },
        {
            "cell_type": "markdown",
            "metadata": {
                "collapsed": false,
                "editable": false
            },
            "source": [
                "<div class=\"not-editable team\"><div><h4>Task B</h4></div></div>"
            ]
        },
        {
            "cell_type": "markdown",
            "metadata": {
                "collapsed": false,
                "editable": false
            },
            "source": [
                "<div class=\"not-editable team\"><span> What do you notice about this pattern? According to this pattern, how many numbers do you expect can be described using four binary digits? Five digits? </span></div>"
            ]
        },
        {
            "cell_type": "markdown",
            "metadata": {
                "collapsed": false,
                "editable": false
            },
            "source": [
                "<div class=\"not-editable team\"><div><h4>Task C</h4></div></div>"
            ]
        },
        {
            "cell_type": "markdown",
            "metadata": {
                "collapsed": false,
                "editable": false
            },
            "source": [
                "<div class=\"not-editable team\"><span> A byte of computer storage is eight binary digits. How many different values of data can be stored in a byte? </span></div>"
            ]
        },
        {
            "cell_type": "markdown",
            "metadata": {
                "collapsed": false,
                "editable": false
            },
            "source": [
                "<div class=\"not-editable team\"><div><h4>Task D</h4></div></div>"
            ]
        },
        {
            "cell_type": "markdown",
            "metadata": {
                "collapsed": false,
                "editable": false
            },
            "source": [
                "<div class=\"not-editable team\"><span> How many different numbers can be stored as a short data type that uses two bytes? </span></div>"
            ]
        },
        {
            "cell_type": "markdown",
            "metadata": {
                "collapsed": false,
                "editable": false
            },
            "source": [
                "<div class=\"not-editable team\"><h2>Activity 3.1.7</h2></div>"
            ]
        },
        {
            "cell_type": "markdown",
            "metadata": {
                "collapsed": false,
                "editable": false
            },
            "source": [
                "<div class=\"not-editable team\"><span> Since ultimately data is stored as bits, anything handled by a computer needs to be represented somehow as a (binary) number. For example, a character is a letter or other glyph (such as an emoji &#128515;) that has a unique representation as a counting number. </span></div>"
            ]
        },
        {
            "cell_type": "markdown",
            "metadata": {
                "collapsed": false,
                "editable": false
            },
            "source": [
                "<div class=\"not-editable team\"><div><h4>Task A</h4></div></div>"
            ]
        },
        {
            "cell_type": "markdown",
            "metadata": {
                "collapsed": false,
                "editable": false
            },
            "source": [
                "<div class=\"not-editable team\"><span> To denote a character in Python or SageMath, surround it with either single quotes <code>'x'</code> or double quotes <code>\"x\"</code>. Then the code <code>ord('x')</code> (or <code>ord(\"x\")</code>) will reveal the number that is used to represent it in memory (for <code>x</code>, that number is <span class=m> $120$ </span>), called a Unicode value. </span></div>"
            ]
        },
        {
            "cell_type": "markdown",
            "metadata": {
                "collapsed": false,
                "editable": false
            },
            "source": [
                "<div class=\"not-editable team\"><span> Find the Unicode values for the characters <code>s</code>, <code>S</code>, and <code>&#128522;</code>. (For the emoji, you may wish to copy-and-paste the character if you're using a standard keyboard.) </span></div>"
            ]
        },
        {
            "cell_type": "markdown",
            "metadata": {
                "collapsed": false,
                "editable": false
            },
            "source": [
                "<div class=\"not-editable team\"><div><h4>Task B</h4></div></div>"
            ]
        },
        {
            "cell_type": "markdown",
            "metadata": {
                "collapsed": false,
                "editable": false
            },
            "source": [
                "<div class=\"not-editable team\"><span> Given a Unicode value, Python and SageMath can return the character it represents by using the <code>chr()</code> tool. For example, <code>print(chr(120))</code> displays <code>x</code> as expected. </span></div>"
            ]
        },
        {
            "cell_type": "markdown",
            "metadata": {
                "collapsed": false,
                "editable": false
            },
            "source": [
                "<div class=\"not-editable team\"><span> Use <code>chr()</code> to display the charcters with these Unicode values: </span></div>"
            ]
        },
        {
            "cell_type": "markdown",
            "metadata": {
                "collapsed": false,
                "editable": false
            },
            "source": [
                "<div class=\"not-editable team\"><ul><li>89</li><li>97</li><li>121</li><li>13025</li></ul></div>"
            ]
        },
        {
            "cell_type": "markdown",
            "metadata": {
                "collapsed": false,
                "editable": false
            },
            "source": [
                "<div class=\"not-editable team\"><div><h4>Task C</h4></div></div>"
            ]
        },
        {
            "cell_type": "markdown",
            "metadata": {
                "collapsed": false,
                "editable": false
            },
            "source": [
                "<div class=\"not-editable team\"><span> Strings of multiple characters may be used to represent words and sentences. Displaying the string <code>test = \"Hello World!\"</code> is a common test used in setting up a new programming environment, done with <code>print(test)</code>. </span></div>"
            ]
        },
        {
            "cell_type": "markdown",
            "metadata": {
                "collapsed": false,
                "editable": false
            },
            "source": [
                "<div class=\"not-editable team\"><span> The value of a CS variable may be easily inserted into a string by using interpolation. In updated versions of Python 3 and SageMath, this is done by typing an <code>f</code> before the quotation marks: <code>print(f\"It's time to say {test} now.\")</code> will display <code>It's time to say Hello World! now.</code> (provided <code>test = \"Hello World!\"</code> was executed previously). </span></div>"
            ]
        },
        {
            "cell_type": "markdown",
            "metadata": {
                "collapsed": false,
                "editable": false
            },
            "source": [
                "<div class=\"not-editable team\"><span> Store the word <span class=q> \"math\" </span> as a CS variable, then use interpolation to make it appear instead of the blank when running a Code cell with <code>print(\"My favorite class is ____.\")</code>. </span></div>"
            ]
        },
        {
            "cell_type": "markdown",
            "metadata": {
                "collapsed": false,
                "editable": false
            },
            "source": [
                "<div class=\"not-editable team\"><div><h4>Task D</h4></div></div>"
            ]
        },
        {
            "cell_type": "markdown",
            "metadata": {
                "collapsed": false,
                "editable": false
            },
            "source": [
                "<div class=\"not-editable team\"><span> Use string interpolation to replace the blank in the line <code>print(\"The character ___ has Unicode value 42+42.\")</code> </span></div>"
            ]
        }
    ],
    "nbformat": 4,
    "nbformat_minor": 4
}