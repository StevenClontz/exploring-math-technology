{
    "cells": [
        {
            "cell_type": "markdown",
            "metadata": {
                "collapsed": false,
                "editable": false
            },
            "source": [
                "<div class=\"not-editable team\"> <style>\n            .not-editable{padding:1em;border-radius:10px;box-shadow:4px 4px 3px #ddd;margin:5px;}\n            .not-editable.individual{background-color:#eefff8;}\n            .not-editable.team{background-color:#eef8ff;}\n            .sidebyside{display:flex;justify-content:center;}\n            .sidebyside > *{margin-right:1em;flex:1;}\n            caption{caption-side:top;white-space: nowrap;color:rgba(0,0,0,.45)}}\n            figcaption{padding-top:0.75em;padding-bottom:0.3em;color:rgba(0,0,0,.45)}\n            .fillin{display:inline-block;width:10em;margin-left:0.2em;margin-right:0.2em;height:1em;border-bottom:1px black solid;}\n            .fn{font-size:0.8em;color:rgba(0,0,0.45)}\n            .newcommands{display:none;}\n            code{background-color:#f8f8f8;border:1px #888 solid;border-radius:2px;padding-left:0.2em;padding-right:0.2em;}\n            img{background-color:#fff;}\n        </style> <div><h1>Section 4.3 Two-variable Visualizations</h1><h2>Team Notebook</h2><div><a href=https://stevenclontz.github.io/exploring-math-technology/visualization-two.html>https://stevenclontz.github.io/exploring-math-technology/visualization-two.html</a></div></div></div>"
            ]
        },
        {
            "cell_type": "markdown",
            "metadata": {
                "collapsed": false,
                "editable": false
            },
            "source": [
                "<div class=\"not-editable team\"><h2>Activity 4.3.2</h2></div>"
            ]
        },
        {
            "cell_type": "markdown",
            "metadata": {
                "collapsed": false,
                "editable": false
            },
            "source": [
                "<div class=\"not-editable team\"><span> Often data scientists need to consider data where each item has two properties. When one property is a category, and the other is numerical, a bar chart is often the right tool for the job. </span></div>"
            ]
        },
        {
            "cell_type": "markdown",
            "metadata": {
                "collapsed": false,
                "editable": false
            },
            "source": [
                "<div class=\"not-editable team\"><div><h4>Task A</h4></div></div>"
            ]
        },
        {
            "cell_type": "markdown",
            "metadata": {
                "collapsed": false,
                "editable": false
            },
            "source": [
                "<div class=\"not-editable team\"><span> Repeat the steps from previous sections to get a copy of <code>pizza_table</code> available for this notebook. </span></div>"
            ]
        },
        {
            "cell_type": "markdown",
            "metadata": {
                "collapsed": false,
                "editable": false
            },
            "source": [
                "<div class=\"not-editable team\"><div><h4>Task B</h4></div></div>"
            ]
        },
        {
            "cell_type": "markdown",
            "metadata": {
                "collapsed": false,
                "editable": false
            },
            "source": [
                "<div class=\"not-editable team\"><span> The table in <a href=https://stevenclontz.github.io/exploring-math-technology/visualization-two.html#visualization-two-type-count-0620>Table 4.3.2</a> describes how many pizzas of each type (Chicken, Classic, Supreme, Veggie) were sold on June 20th. </span></div>"
            ]
        },
        {
            "cell_type": "markdown",
            "metadata": {
                "collapsed": false,
                "editable": false
            },
            "source": [
                "<div class=\"not-editable team\"><div><table><caption><b>Table 4.3.2.</b> </caption><tr><td>Type</td><td>Count</td></tr><tr><td>Chicken</td><td>31</td></tr><tr><td>Classic</td><td>42</td></tr><tr><td>Supreme</td><td>28</td></tr><tr><td>Veggie</td><td>27</td></tr></table></div></div>"
            ]
        },
        {
            "cell_type": "markdown",
            "metadata": {
                "collapsed": false,
                "editable": false
            },
            "source": [
                "<div class=\"not-editable team\"><span> This table was created by running <code>june20_pizzas = pizza_table.where(\"date\",\"2015-06-20\").group(\"type\")</code> and <code>june20_pizzas.show()</code>. Modify this code to create the table <code>may18</code> for May 18th instead, and show the result. </span></div>"
            ]
        },
        {
            "cell_type": "markdown",
            "metadata": {
                "collapsed": false,
                "editable": false
            },
            "source": [
                "<div class=\"not-editable team\"><div><h4>Task C</h4></div></div>"
            ]
        },
        {
            "cell_type": "markdown",
            "metadata": {
                "collapsed": false,
                "editable": false
            },
            "source": [
                "<div class=\"not-editable team\"><span> The bar chart in <a href=https://stevenclontz.github.io/exploring-math-technology/visualization-two.html#visualization-two-barchart-0620>Figure 4.3.3</a> visualizes the amounts of each pizza type sold on June 20. Each category (in this case, the type of pizza) is listed on the vertical axis, and the size of the bar in the horizontal direction represents each numerical value. </span></div>"
            ]
        },
        {
            "cell_type": "markdown",
            "metadata": {
                "collapsed": false,
                "editable": false
            },
            "source": [
                "<div class=\"not-editable team\"><div><figure><figcaption><b>Figure 4.3.3.</b> Pizzas sold on June 20 by type</figcaption><div><img src=images/visualization-two-barchart-0620.png></div></figure></div></div>"
            ]
        },
        {
            "cell_type": "markdown",
            "metadata": {
                "collapsed": false,
                "editable": false
            },
            "source": [
                "<div class=\"not-editable team\"><span> Create a similar bar chart by hand for the May 18th table you displayed in the previous task. </span></div>"
            ]
        },
        {
            "cell_type": "markdown",
            "metadata": {
                "collapsed": false,
                "editable": false
            },
            "source": [
                "<div class=\"not-editable team\"><div><h4>Task D</h4></div></div>"
            ]
        },
        {
            "cell_type": "markdown",
            "metadata": {
                "collapsed": false,
                "editable": false
            },
            "source": [
                "<div class=\"not-editable team\"><span> The Python <code>datascience</code> library can produce bar charts; the code <code>june20_pizzas.barh(\"types\")</code> was used to produce <a href=https://stevenclontz.github.io/exploring-math-technology/visualization-two.html#visualization-two-barchart-0620>Figure 4.3.3</a>. Adapt this line of code to generate a bar chart for the May 18th data instead. (Note: you'll need to run <code>import matplotlib</code> and <code>%matplotlib inline</code> first to display any visualizations.) </span></div>"
            ]
        },
        {
            "cell_type": "markdown",
            "metadata": {
                "collapsed": false,
                "editable": false
            },
            "source": [
                "<div class=\"not-editable team\"><div><h4>Task E</h4></div></div>"
            ]
        },
        {
            "cell_type": "markdown",
            "metadata": {
                "collapsed": false,
                "editable": false
            },
            "source": [
                "<div class=\"not-editable team\"><span> The code <code>pizza_table.where(\"date\",\"2015-06-20\").select(\"type\",\"price\").group(\"type\",sum)</code> captures the total sales for each type of pizza sold on June 20th. </span></div>"
            ]
        },
        {
            "cell_type": "markdown",
            "metadata": {
                "collapsed": false,
                "editable": false
            },
            "source": [
                "<div class=\"not-editable team\"><span> Generate a bar chart visualizing the total sales for each type of pizza sold on May 18th. </span></div>"
            ]
        },
        {
            "cell_type": "markdown",
            "metadata": {
                "collapsed": false,
                "editable": false
            },
            "source": [
                "<div class=\"not-editable team\"><h2>Activity 4.3.3</h2></div>"
            ]
        },
        {
            "cell_type": "markdown",
            "metadata": {
                "collapsed": false,
                "editable": false
            },
            "source": [
                "<div class=\"not-editable team\"><span> The line chart is a useful tool to visualize how data changes over time. </span></div>"
            ]
        },
        {
            "cell_type": "markdown",
            "metadata": {
                "collapsed": false,
                "editable": false
            },
            "source": [
                "<div class=\"not-editable team\"><div><h4>Task A</h4></div></div>"
            ]
        },
        {
            "cell_type": "markdown",
            "metadata": {
                "collapsed": false,
                "editable": false
            },
            "source": [
                "<div class=\"not-editable team\"><span> Right now, the <code>date</code> for each pizza sold is stored as a string of numbers and hyphens, such as <code>\"2015-08-19\"</code>. The code in <a href=https://stevenclontz.github.io/exploring-math-technology/visualization-two.html#visualization-two-parse-dates>Listing 4.3.4</a> provides a <code>datetime</code> column with values that Python understands better. (This is another example of <span class=q> \"cleaning\" </span> data for analysis.) </span></div>"
            ]
        },
        {
            "cell_type": "markdown",
            "metadata": {
                "collapsed": false,
                "editable": false
            },
            "source": [
                "<div class=\"not-editable team\"><div><figure><figcaption><b>Listing 4.3.4</b>Script to add <code>datetime</code> values</figcaption><pre># converts `date` string into a native datetime format\nfrom datetime import datetime\npizza_table = pizza_table.with_column(\"datetime\",pizza_table.apply(\n    lambda x:datetime.strptime(x,\"%Y-%m-%d\"),\"date\"\n))\n</pre></figure></div></div>"
            ]
        },
        {
            "cell_type": "markdown",
            "metadata": {
                "collapsed": false,
                "editable": false
            },
            "source": [
                "<div class=\"not-editable team\"><span> Use this script to update your <code>pizza_table</code>. Show twenty rows of the resulting table below to confirm that it has both a <code>date</code> column (which stores strings) and a <code>datetime</code> column (which stores datetimes). </span></div>"
            ]
        },
        {
            "cell_type": "markdown",
            "metadata": {
                "collapsed": false,
                "editable": false
            },
            "source": [
                "<div class=\"not-editable team\"><div><h4>Task B</h4></div></div>"
            ]
        },
        {
            "cell_type": "markdown",
            "metadata": {
                "collapsed": false,
                "editable": false
            },
            "source": [
                "<div class=\"not-editable team\"><span> The code in <a href=https://stevenclontz.github.io/exploring-math-technology/visualization-two.html#visualization-two-line-chart>Listing 4.3.5</a> displays the total number of pizzas sold each day of 2015 as the line chart given in <a href=https://stevenclontz.github.io/exploring-math-technology/visualization-two.html#visualization-two-linechart-figure>Figure 4.3.6</a>. </span></div>"
            ]
        },
        {
            "cell_type": "markdown",
            "metadata": {
                "collapsed": false,
                "editable": false
            },
            "source": [
                "<div class=\"not-editable team\"><div><figure><figcaption><b>Listing 4.3.5</b>Displaying a line chart counting pizzas sold</figcaption><pre># .plot(\"datetime\") creates a line chart with the datetime column on the\n# horizontal axis, and other numerical columns on the vertical axis\npizza_table.select(\"datetime\",\"price\").group(\"datetime\").plot(\"datetime\")\n</pre></figure></div></div>"
            ]
        },
        {
            "cell_type": "markdown",
            "metadata": {
                "collapsed": false,
                "editable": false
            },
            "source": [
                "<div class=\"not-editable team\"><div><figure><figcaption><b>Figure 4.3.6.</b> Amount of pizza sold by date</figcaption><div><img src=images/visualization-two-linechart.png></div></figure></div></div>"
            ]
        },
        {
            "cell_type": "markdown",
            "metadata": {
                "collapsed": false,
                "editable": false
            },
            "source": [
                "<div class=\"not-editable team\"><span> Write a sentence describing the approximate time of year when the pizza parlor's best day of sales occurred, and how you determined this from the line chart. </span></div>"
            ]
        },
        {
            "cell_type": "markdown",
            "metadata": {
                "collapsed": false,
                "editable": false
            },
            "source": [
                "<div class=\"not-editable team\"><div><h4>Task C</h4></div></div>"
            ]
        },
        {
            "cell_type": "markdown",
            "metadata": {
                "collapsed": false,
                "editable": false
            },
            "source": [
                "<div class=\"not-editable team\"><span> Copy <a href=https://stevenclontz.github.io/exploring-math-technology/visualization-two.html#visualization-two-line-chart>Listing 4.3.5</a> into a new Code cell, but modify <code>.group(\"datetime\")</code> so that instead of showing the number of pizzas sold each day, the total (sum) of sales for each day are shown in the line chart instead. </span></div>"
            ]
        },
        {
            "cell_type": "markdown",
            "metadata": {
                "collapsed": false,
                "editable": false
            },
            "source": [
                "<div class=\"not-editable team\"><h2>Activity 4.3.4</h2></div>"
            ]
        },
        {
            "cell_type": "markdown",
            "metadata": {
                "collapsed": false,
                "editable": false
            },
            "source": [
                "<div class=\"not-editable team\"><span> Scatter plots are often used to compare two numerical values throughout a dataset to determine if they have a relationship. </span></div>"
            ]
        },
        {
            "cell_type": "markdown",
            "metadata": {
                "collapsed": false,
                "editable": false
            },
            "source": [
                "<div class=\"not-editable team\"><div><h4>Task A</h4></div></div>"
            ]
        },
        {
            "cell_type": "markdown",
            "metadata": {
                "collapsed": false,
                "editable": false
            },
            "source": [
                "<div class=\"not-editable team\"><span> Create a table called <code>testing_table</code> populated with the <span class=q> \"Math Placement Exam Results\" </span> dataset found at . This dataset describes the mathematics testing results from several freshmen students at a liberal arts college, including SAT, ACT, and the college's internal math placement exam results. </span></div>"
            ]
        },
        {
            "cell_type": "markdown",
            "metadata": {
                "collapsed": false,
                "editable": false
            },
            "source": [
                "<div class=\"not-editable team\"><span> Show the first ten rows of this table. </span></div>"
            ]
        },
        {
            "cell_type": "markdown",
            "metadata": {
                "collapsed": false,
                "editable": false
            },
            "source": [
                "<div class=\"not-editable team\"><div><h4>Task B</h4></div></div>"
            ]
        },
        {
            "cell_type": "markdown",
            "metadata": {
                "collapsed": false,
                "editable": false
            },
            "source": [
                "<div class=\"not-editable team\"><span> You'll see many <span class=q> \"Not a Number\" </span> <code>nan</code> values in this table for when data was not available. To clean this data for analysis, you should remove these records as needed by only using values that are positive. </span></div>"
            ]
        },
        {
            "cell_type": "markdown",
            "metadata": {
                "collapsed": false,
                "editable": false
            },
            "source": [
                "<div class=\"not-editable team\"><span> Use <code>from datascience.predicates import are</code> and <code>.where(column_name,are.above(0))</code> to, show the first ten rows of this table that don't have a <code>nan</code> score for SAT math scores. </span></div>"
            ]
        },
        {
            "cell_type": "markdown",
            "metadata": {
                "collapsed": false,
                "editable": false
            },
            "source": [
                "<div class=\"not-editable team\"><div><h4>Task C</h4></div></div>"
            ]
        },
        {
            "cell_type": "markdown",
            "metadata": {
                "collapsed": false,
                "editable": false
            },
            "source": [
                "<div class=\"not-editable team\"><span> The script in <a href=https://stevenclontz.github.io/exploring-math-technology/visualization-two.html#visualization-two-scatter>Listing 4.3.7</a> results in a scatter plot. Each dot represents a different student's SAT Math score (by its horizontal position) with their college math placement score (by its vertical position). Note that scores of <code>nan</code> and other non-positive results are ignored. </span></div>"
            ]
        },
        {
            "cell_type": "markdown",
            "metadata": {
                "collapsed": false,
                "editable": false
            },
            "source": [
                "<div class=\"not-editable team\"><div><figure><figcaption><b>Listing 4.3.7</b>Displaying a scatter plot of test scores.</figcaption><pre># The backslash can be used to continue a long line on multiple lines\ntesting_table.where(\"PlcmtScore\",are.above(0)).where(\"SATM\",are.above(0)) \\\n    .select(\"SATM\",\"PlcmtScore\").scatter(\"SATM\")</pre></figure></div></div>"
            ]
        },
        {
            "cell_type": "markdown",
            "metadata": {
                "collapsed": false,
                "editable": false
            },
            "source": [
                "<div class=\"not-editable team\"><div><figure><figcaption><b>Figure 4.3.8.</b> Scatter plot comparing SAT and math placement scores</figcaption><div><img src=images/visualization-two-scatter.png></div></figure></div></div>"
            ]
        },
        {
            "cell_type": "markdown",
            "metadata": {
                "collapsed": false,
                "editable": false
            },
            "source": [
                "<div class=\"not-editable team\"><span> Run a modified copy of this script in a Code cell to display a scatter plot that compares ACT Math scores with college math placement scores. </span></div>"
            ]
        },
        {
            "cell_type": "markdown",
            "metadata": {
                "collapsed": false,
                "editable": false
            },
            "source": [
                "<div class=\"not-editable team\"><div><h4>Task D</h4></div></div>"
            ]
        },
        {
            "cell_type": "markdown",
            "metadata": {
                "collapsed": false,
                "editable": false
            },
            "source": [
                "<div class=\"not-editable team\"><span> When two values of data are correlated (that is, possibly influenced by one another), this correlation is often apparent when visualized in a scatter plot. </span></div>"
            ]
        },
        {
            "cell_type": "markdown",
            "metadata": {
                "collapsed": false,
                "editable": false
            },
            "source": [
                "<div class=\"not-editable team\"><span> Do you think SAT Math scores and correlated with this college's math placement exam results? What about ACT Math scores? Write a few sentences explaining why or why not. </span></div>"
            ]
        },
        {
            "cell_type": "markdown",
            "metadata": {
                "collapsed": false,
                "editable": false
            },
            "source": [
                "<div class=\"not-editable team\"><div><h4>Task E</h4></div></div>"
            ]
        },
        {
            "cell_type": "markdown",
            "metadata": {
                "collapsed": false,
                "editable": false
            },
            "source": [
                "<div class=\"not-editable team\"><span> Suppose you heard someone claim that this college's math placement score doesn't measure mathematical ability, but instead only reflects the size of each student's high school. </span></div>"
            ]
        },
        {
            "cell_type": "markdown",
            "metadata": {
                "collapsed": false,
                "editable": false
            },
            "source": [
                "<div class=\"not-editable team\"><span> Show a scatter plot comparing the size of each student's high school with their math placement score. Then write a sentence or two explaining whether you agree with this claim or not, based on the scatter plot. </span></div>"
            ]
        },
        {
            "cell_type": "markdown",
            "metadata": {
                "collapsed": false,
                "editable": false
            },
            "source": [
                "<div class=\"not-editable team\"><div><h4>Task F</h4></div></div>"
            ]
        },
        {
            "cell_type": "markdown",
            "metadata": {
                "collapsed": false,
                "editable": false
            },
            "source": [
                "<div class=\"not-editable team\"><span> Suppose you heard someone claim that students shouldn't have to take a math placement test once they come to this college, and SAT or ACT socres should be used instead. Based on the scatter plots above, would you agree or disagree with that statement? Write a few sentences explaining your reasoning. </span></div>"
            ]
        }
    ],
    "nbformat": 4,
    "nbformat_minor": 4
}