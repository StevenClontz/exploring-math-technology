{
    "cells": [
        {
            "cell_type": "markdown",
            "metadata": {
                "collapsed": false,
                "editable": false
            },
            "source": [
                "<div class=\"not-editable team\"> <style>\n            .not-editable{padding:1em;border-radius:10px;box-shadow:4px 4px 3px #ddd;margin:5px;}\n            .not-editable.individual{background-color:#eefff8;}\n            .not-editable.team{background-color:#eef8ff;}\n            .sidebyside{display:flex;justify-content:center;}\n            .sidebyside > *{margin-right:1em;flex:1;}\n            caption{caption-side:top;white-space: nowrap;color:rgba(0,0,0,.45)}}\n            figcaption{padding-top:0.75em;padding-bottom:0.3em;color:rgba(0,0,0,.45)}\n            .fillin{display:inline-block;width:10em;margin-left:0.2em;margin-right:0.2em;height:1em;border-bottom:1px black solid;}\n            .fn{font-size:0.8em;color:rgba(0,0,0.45)}\n            .newcommands{display:none;}\n            code{background-color:#f8f8f8;border:1px #888 solid;border-radius:2px;padding-left:0.2em;padding-right:0.2em;}\n            img{background-color:#fff;}\n        </style> <div><h1>Section 1.2 The Python Kernel</h1><h2>Team Notebook</h2><div><a href=https://stevenclontz.github.io/exploring-math-technology/programming-python.html>https://stevenclontz.github.io/exploring-math-technology/programming-python.html</a></div></div></div>"
            ]
        },
        {
            "cell_type": "markdown",
            "metadata": {
                "collapsed": false,
                "editable": false
            },
            "source": [
                "<div class=\"not-editable team\"><h2>Activity 1.2.2</h2></div>"
            ]
        },
        {
            "cell_type": "markdown",
            "metadata": {
                "collapsed": false,
                "editable": false
            },
            "source": [
                "<div class=\"not-editable team\"><span> While using a <code>Python 3</code> kernel, use the addition <code>+</code>, subtraction <code>-</code>, multiplication <code>*</code>, division <code>/</code>, and exponentiation <code>**</code> operators to evaluate the following mathematical expressions. Then check your result by computing each expression's value by hand. </span></div>"
            ]
        },
        {
            "cell_type": "markdown",
            "metadata": {
                "collapsed": false,
                "editable": false
            },
            "source": [
                "<div class=\"not-editable team\"><div><h4>Task A</h4></div></div>"
            ]
        },
        {
            "cell_type": "markdown",
            "metadata": {
                "collapsed": false,
                "editable": false
            },
            "source": [
                "<div class=\"not-editable team\"><span> <span class=m> $$4-3(7)$$ </span> </span></div>"
            ]
        },
        {
            "cell_type": "markdown",
            "metadata": {
                "collapsed": false,
                "editable": false
            },
            "source": [
                "<div class=\"not-editable team\"><div><h4>Task B</h4></div></div>"
            ]
        },
        {
            "cell_type": "markdown",
            "metadata": {
                "collapsed": false,
                "editable": false
            },
            "source": [
                "<div class=\"not-editable team\"><span> <span class=m> $$3^2+4^2$$ </span> </span></div>"
            ]
        },
        {
            "cell_type": "markdown",
            "metadata": {
                "collapsed": false,
                "editable": false
            },
            "source": [
                "<div class=\"not-editable team\"><div><h4>Task C</h4></div></div>"
            ]
        },
        {
            "cell_type": "markdown",
            "metadata": {
                "collapsed": false,
                "editable": false
            },
            "source": [
                "<div class=\"not-editable team\"><span> Use parentheses, <code>(</code> and <code>)</code>, to group expressions within more complicated expressions as necessary. </span></div>"
            ]
        },
        {
            "cell_type": "markdown",
            "metadata": {
                "collapsed": false,
                "editable": false
            },
            "source": [
                "<div class=\"not-editable team\"><span> <span class=m> $$\\frac{2^{7-5}+7}{3\\times(1+4)}$$ </span> </span></div>"
            ]
        },
        {
            "cell_type": "markdown",
            "metadata": {
                "collapsed": false,
                "editable": false
            },
            "source": [
                "<div class=\"not-editable team\"><h2>Activity 1.2.3</h2></div>"
            ]
        },
        {
            "cell_type": "markdown",
            "metadata": {
                "collapsed": false,
                "editable": false
            },
            "source": [
                "<div class=\"not-editable team\"><span> Computers generally store numerical data using binary or base-2: sequences of <span class=m> $0$ </span>s and <span class=m> $1$ </span>s. </span></div>"
            ]
        },
        {
            "cell_type": "markdown",
            "metadata": {
                "collapsed": false,
                "editable": false
            },
            "source": [
                "<div class=\"not-editable team\"><span> Just like base-10 numbers describe values in terms of powers of ten, binary numbers describe values using powers of two. </span></div>"
            ]
        },
        {
            "cell_type": "markdown",
            "metadata": {
                "collapsed": false,
                "editable": false
            },
            "source": [
                "<div class=\"not-editable team\"><span> <span class=md> $$\\begin{align*} 125 &amp;= 1\\times 100 + 2\\times 10 + 5\\times 1 \\\\ &amp;= 1\\times 10^2 + 2\\times 10^1+ 5\\times 10^0 \\\\ &amp;= 1\\times 64 + 1\\times 32 + 1\\times 16 + 1\\times 8 + 1\\times 4 + 0\\times 2 + 1\\times 1 \\\\ &amp;= 1\\times 2^6 + 1\\times 2^5 + 1\\times 2^4 + 1\\times 2^3 + 1\\times 2^2 + 0\\times 2^1 + 1\\times 2^0 \\\\ &amp;= 1111101_2 \\\\ \\end{align*}$$ </span> </span></div>"
            ]
        },
        {
            "cell_type": "markdown",
            "metadata": {
                "collapsed": false,
                "editable": false
            },
            "source": [
                "<div class=\"not-editable team\"><span> The Python tool <code>format(125,\"b\")</code> displays the binary form of <span class=m> $125$ </span> automatically: <code>1111101</code>. Use this tool to find the binary form for each of the following numbers. Then check that the result is valid by adding up appropriate powers of two as shown above. </span></div>"
            ]
        },
        {
            "cell_type": "markdown",
            "metadata": {
                "collapsed": false,
                "editable": false
            },
            "source": [
                "<div class=\"not-editable team\"><div><h4>Task A</h4></div></div>"
            ]
        },
        {
            "cell_type": "markdown",
            "metadata": {
                "collapsed": false,
                "editable": false
            },
            "source": [
                "<div class=\"not-editable team\"><span> <span class=m> $28$ </span> </span></div>"
            ]
        },
        {
            "cell_type": "markdown",
            "metadata": {
                "collapsed": false,
                "editable": false
            },
            "source": [
                "<div class=\"not-editable team\"><div><h4>Task B</h4></div></div>"
            ]
        },
        {
            "cell_type": "markdown",
            "metadata": {
                "collapsed": false,
                "editable": false
            },
            "source": [
                "<div class=\"not-editable team\"><span> <span class=m> $63$ </span> </span></div>"
            ]
        },
        {
            "cell_type": "markdown",
            "metadata": {
                "collapsed": false,
                "editable": false
            },
            "source": [
                "<div class=\"not-editable team\"><div><h4>Task C</h4></div></div>"
            ]
        },
        {
            "cell_type": "markdown",
            "metadata": {
                "collapsed": false,
                "editable": false
            },
            "source": [
                "<div class=\"not-editable team\"><span> <span class=m> $493$ </span> </span></div>"
            ]
        },
        {
            "cell_type": "markdown",
            "metadata": {
                "collapsed": false,
                "editable": false
            },
            "source": [
                "<div class=\"not-editable team\"><div><h4>Task D</h4></div></div>"
            ]
        },
        {
            "cell_type": "markdown",
            "metadata": {
                "collapsed": false,
                "editable": false
            },
            "source": [
                "<div class=\"not-editable team\"><span> <span class=m> $1000$ </span> </span></div>"
            ]
        },
        {
            "cell_type": "markdown",
            "metadata": {
                "collapsed": false,
                "editable": false
            },
            "source": [
                "<div class=\"not-editable team\"><div><h4>Task E</h4></div></div>"
            ]
        },
        {
            "cell_type": "markdown",
            "metadata": {
                "collapsed": false,
                "editable": false
            },
            "source": [
                "<div class=\"not-editable team\"><span> Python can also automatically convert a binary string to its decimal form using the tool <code>int(\"1111101\",2)</code> (returning <span class=m> $125$ </span>). Use this tool to programmatically check that each of the binary expressions you found above is correct. </span></div>"
            ]
        },
        {
            "cell_type": "markdown",
            "metadata": {
                "collapsed": false,
                "editable": false
            },
            "source": [
                "<div class=\"not-editable team\"><div><h4>Task F</h4></div></div>"
            ]
        },
        {
            "cell_type": "markdown",
            "metadata": {
                "collapsed": false,
                "editable": false
            },
            "source": [
                "<div class=\"not-editable team\"><span> Running <code>format(6.75,\"b\")</code> will result in an error. But considering that <span class=m> $2^{-1}=\\frac{1}{2}=0.5$ </span> and <span class=m> $2^{-2}=\\frac{1}{4}=0.25$ </span>, how might <span class=m> $6.75$ </span> be expressed as a binary number? </span></div>"
            ]
        },
        {
            "cell_type": "markdown",
            "metadata": {
                "collapsed": false,
                "editable": false
            },
            "source": [
                "<div class=\"not-editable team\"><h2>Activity 1.2.4</h2></div>"
            ]
        },
        {
            "cell_type": "markdown",
            "metadata": {
                "collapsed": false,
                "editable": false
            },
            "source": [
                "<div class=\"not-editable team\"><span> While <code>10^3</code> in writing might seem to refer to the number <span class=m> $10^3=1000$ </span>, in many programming languages such as Python 3, the caret <code>^</code> instead refers to the bitwise XOR operation, which can be evaluated by hand using a variation of long addition on the binary form of each number. </span></div>"
            ]
        },
        {
            "cell_type": "markdown",
            "metadata": {
                "collapsed": false,
                "editable": false
            },
            "source": [
                "<div class=\"not-editable team\"><span> <span class=m> $$ 10 \\verb|^| 3 = 1010_2 \\verb|^| 0011_2 $$ </span> </span></div>"
            ]
        },
        {
            "cell_type": "markdown",
            "metadata": {
                "collapsed": false,
                "editable": false
            },
            "source": [
                "<div class=\"not-editable team\"><span> <span class=m> $$ \\begin{array}{r} 1010_2\\\\\\verb|^|\\hspace{1em} 0011_2\\\\\\hline 1001_2 \\end{array} $$ </span> </span></div>"
            ]
        },
        {
            "cell_type": "markdown",
            "metadata": {
                "collapsed": false,
                "editable": false
            },
            "source": [
                "<div class=\"not-editable team\"><span> Therefore <span class=m> $10\\verb|^| 3=1001_2=9$ </span>. </span></div>"
            ]
        },
        {
            "cell_type": "markdown",
            "metadata": {
                "collapsed": false,
                "editable": false
            },
            "source": [
                "<div class=\"not-editable team\"><div><h4>Task A</h4></div></div>"
            ]
        },
        {
            "cell_type": "markdown",
            "metadata": {
                "collapsed": false,
                "editable": false
            },
            "source": [
                "<div class=\"not-editable team\"><span> Based on the above example, write a sentence guessing how the <code>^</code> operation works. </span></div>"
            ]
        },
        {
            "cell_type": "markdown",
            "metadata": {
                "collapsed": false,
                "editable": false
            },
            "source": [
                "<div class=\"not-editable team\"><div><h4>Task B</h4></div></div>"
            ]
        },
        {
            "cell_type": "markdown",
            "metadata": {
                "collapsed": false,
                "editable": false
            },
            "source": [
                "<div class=\"not-editable team\"><span> Test your rule by using it with a few combinations of small numbers (less than 16), using <code>format(n,'b')</code> and <code>x^y</code> in Code cells to help you as needed. If necessary, correct your guess above based upon this experiementation. </span></div>"
            ]
        },
        {
            "cell_type": "markdown",
            "metadata": {
                "collapsed": false,
                "editable": false
            },
            "source": [
                "<div class=\"not-editable team\"><div><h4>Task C</h4></div></div>"
            ]
        },
        {
            "cell_type": "markdown",
            "metadata": {
                "collapsed": false,
                "editable": false
            },
            "source": [
                "<div class=\"not-editable team\"><span> What happens to <code>42</code> if you apply <code>^11</code> to it twice, as in <code>42^11^11</code>? Is there anything special about the numbers <span class=m> $42$ </span> or <span class=m> $11$ </span> that made this happen? Write a short paragraph on how this effect might be used to create a simple encryption. </span></div>"
            ]
        },
        {
            "cell_type": "markdown",
            "metadata": {
                "collapsed": false,
                "editable": false
            },
            "source": [
                "<div class=\"not-editable team\"><h2>Activity 1.2.5</h2></div>"
            ]
        },
        {
            "cell_type": "markdown",
            "metadata": {
                "collapsed": false,
                "editable": false
            },
            "source": [
                "<div class=\"not-editable team\"><span> Let's investigate why <code>1/10+1/5</code> isn't equal to <code>3/10</code> when evaluated in Python. </span></div>"
            ]
        },
        {
            "cell_type": "markdown",
            "metadata": {
                "collapsed": false,
                "editable": false
            },
            "source": [
                "<div class=\"not-editable team\"><div><h4>Task A</h4></div></div>"
            ]
        },
        {
            "cell_type": "markdown",
            "metadata": {
                "collapsed": false,
                "editable": false
            },
            "source": [
                "<div class=\"not-editable team\"><span> Explain why <span class=m> $0.33$ </span> is the best approximation of <span class=m> $\\frac{1}{3}$ </span> using two decimal places, and why <span class=m> $0.67$ </span> is the best approximation of <span class=m> $\\frac{2}{3}$ </span> using two decimal places. </span></div>"
            ]
        },
        {
            "cell_type": "markdown",
            "metadata": {
                "collapsed": false,
                "editable": false
            },
            "source": [
                "<div class=\"not-editable team\"><div><h4>Task B</h4></div></div>"
            ]
        },
        {
            "cell_type": "markdown",
            "metadata": {
                "collapsed": false,
                "editable": false
            },
            "source": [
                "<div class=\"not-editable team\"><span> Without using technology, find the exact values of each of the following sums. </span></div>"
            ]
        },
        {
            "cell_type": "markdown",
            "metadata": {
                "collapsed": false,
                "editable": false
            },
            "source": [
                "<div class=\"not-editable team\"><span> <span class=md> $$\\begin{align*} 1+\\frac{1}{3}\\\\ \\frac{2}{3}+\\frac{2}{3}\\\\ 1+0.33\\\\ 0.67+0.67\\\\ \\end{align*}$$ </span> </span></div>"
            ]
        },
        {
            "cell_type": "markdown",
            "metadata": {
                "collapsed": false,
                "editable": false
            },
            "source": [
                "<div class=\"not-editable team\"><span> What do you notice? </span></div>"
            ]
        },
        {
            "cell_type": "markdown",
            "metadata": {
                "collapsed": false,
                "editable": false
            },
            "source": [
                "<div class=\"not-editable team\"><div><h4>Task C</h4></div></div>"
            ]
        },
        {
            "cell_type": "markdown",
            "metadata": {
                "collapsed": false,
                "editable": false
            },
            "source": [
                "<div class=\"not-editable team\"><span> Just like <span class=m> $\\frac{1}{3}$ </span> cannot be expressed exactly using a finite number of base-10 digits, fractions like <span class=m> $\\frac{1}{10}$ </span> cannot be described exactly using a finite number of base-2 digits. Replace each <span class=m> $\\square$ </span> below with a <span class=m> $0$ </span> or <span class=m> $1$ </span> to create the best binary approximation you can. </span></div>"
            ]
        },
        {
            "cell_type": "markdown",
            "metadata": {
                "collapsed": false,
                "editable": false
            },
            "source": [
                "<div class=\"not-editable team\"><span> <span class=md> $$\\begin{align*} \\frac{1}{10} \\approx \\frac{\\square}{2}+\\frac{\\square}{4}+\\frac{\\square}{8}+\\frac{\\square}{16}+\\frac{\\square}{32} = 0.\\square\\square\\square\\square\\square_2 \\\\ \\frac{1}{5} \\approx \\frac{\\square}{2}+\\frac{\\square}{4}+\\frac{\\square}{8}+\\frac{\\square}{16}+\\frac{\\square}{32} = 0.\\square\\square\\square\\square\\square_2 \\\\ \\frac{3}{10} \\approx \\frac{\\square}{2}+\\frac{\\square}{4}+\\frac{\\square}{8}+\\frac{\\square}{16}+\\frac{\\square}{32} = 0.\\square\\square\\square\\square\\square_2 \\\\ \\end{align*}$$ </span> </span></div>"
            ]
        },
        {
            "cell_type": "markdown",
            "metadata": {
                "collapsed": false,
                "editable": false
            },
            "source": [
                "<div class=\"not-editable team\"><div><h4>Task D</h4></div></div>"
            ]
        },
        {
            "cell_type": "markdown",
            "metadata": {
                "collapsed": false,
                "editable": false
            },
            "source": [
                "<div class=\"not-editable team\"><span> Now confirm that the sum of your best binary approximations of <span class=m> $\\frac{1}{10}$ </span> and <span class=m> $\\frac{1}{5}$ </span> do not exactly add up to your best binary approximation of <span class=m> $\\frac{3}{10}$ </span>. </span></div>"
            ]
        }
    ],
    "nbformat": 4,
    "nbformat_minor": 4
}