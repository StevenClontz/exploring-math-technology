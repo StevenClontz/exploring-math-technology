{
    "cells": [
        {
            "cell_type": "markdown",
            "metadata": {
                "collapsed": false,
                "editable": false
            },
            "source": [
                "<div class=\"not-editable team\"> <style>\n            .not-editable{padding:1em;border-radius:10px;box-shadow:4px 4px 3px #ddd;margin:5px;}\n            .not-editable.individual{background-color:#eefff8;}\n            .not-editable.team{background-color:#eef8ff;}\n            .sidebyside{display:flex;justify-content:center;}\n            .sidebyside > *{margin-right:1em;flex:1;}\n            caption{caption-side:top;white-space: nowrap;color:rgba(0,0,0,.45)}}\n            figcaption{padding-top:0.75em;padding-bottom:0.3em;color:rgba(0,0,0,.45)}\n            .fillin{display:inline-block;width:10em;margin-left:0.2em;margin-right:0.2em;height:1em;border-bottom:1px black solid;}\n            .fn{font-size:0.8em;color:rgba(0,0,0.45)}\n            .newcommands{display:none;}\n            code{background-color:#f8f8f8;border:1px #888 solid;border-radius:2px;padding-left:0.2em;padding-right:0.2em;}\n            img{background-color:#fff;}\n        </style> <div><h1>Section 8.2 Polar Form</h1><h2>Team Notebook</h2><div><a href=https://stevenclontz.github.io/exploring-math-technology/complex-polar.html>https://stevenclontz.github.io/exploring-math-technology/complex-polar.html</a></div></div></div>"
            ]
        },
        {
            "cell_type": "markdown",
            "metadata": {
                "collapsed": false,
                "editable": false
            },
            "source": [
                "<div class=\"not-editable team\"><h2>Activity 8.2.2</h2></div>"
            ]
        },
        {
            "cell_type": "markdown",
            "metadata": {
                "collapsed": false,
                "editable": false
            },
            "source": [
                "<div class=\"not-editable team\"><span> One important property for a complex number is its modulus or absolute value, which measures the distance between that number and the origin <span class=m> $0+0i$ </span>. For example, the modulus <span class=m> $|4-3i|$ </span> of <span class=m> $4-3i$ </span> happens to be <span class=m> $5$ </span>, illustrated in <a href=https://stevenclontz.github.io/exploring-math-technology/complex-polar.html#complex-polar-modulus>Figure 8.2.2</a>. </span></div>"
            ]
        },
        {
            "cell_type": "markdown",
            "metadata": {
                "collapsed": false,
                "editable": false
            },
            "source": [
                "<div class=\"not-editable team\"><div><figure><figcaption><b>Figure 8.2.2.</b> Modulus of <span class=m> $4-3i$ </span></figcaption><div><img src=images/complex-polar-modulus.png></div></figure></div></div>"
            ]
        },
        {
            "cell_type": "markdown",
            "metadata": {
                "collapsed": false,
                "editable": false
            },
            "source": [
                "<div class=\"not-editable team\"><div><h4>Task A</h4></div></div>"
            ]
        },
        {
            "cell_type": "markdown",
            "metadata": {
                "collapsed": false,
                "editable": false
            },
            "source": [
                "<div class=\"not-editable team\"><span> Plot each of the following complex numbers in the plane. Then describe the modulus for each number. </span></div>"
            ]
        },
        {
            "cell_type": "markdown",
            "metadata": {
                "collapsed": false,
                "editable": false
            },
            "source": [
                "<div class=\"not-editable team\"><ul><li><span class=m> $3$ </span></li><li><span class=m> $2i$ </span></li><li><span class=m> $-4i$ </span></li><li><span class=m> $-1$ </span></li></ul></div>"
            ]
        },
        {
            "cell_type": "markdown",
            "metadata": {
                "collapsed": false,
                "editable": false
            },
            "source": [
                "<div class=\"not-editable team\"><div><h4>Task B</h4></div></div>"
            ]
        },
        {
            "cell_type": "markdown",
            "metadata": {
                "collapsed": false,
                "editable": false
            },
            "source": [
                "<div class=\"not-editable team\"><span> SageMath confirms that the modulus of <span class=m> $4-3i$ </span> is <span class=m> $5$ </span> by running the following code: <code>abs(CDF(4,-3))</code>. </span></div>"
            ]
        },
        {
            "cell_type": "markdown",
            "metadata": {
                "collapsed": false,
                "editable": false
            },
            "source": [
                "<div class=\"not-editable team\"><span> Use Code cells to confirm your modulus calculations from the previous task. </span></div>"
            ]
        },
        {
            "cell_type": "markdown",
            "metadata": {
                "collapsed": false,
                "editable": false
            },
            "source": [
                "<div class=\"not-editable team\"><div><h4>Task C</h4></div></div>"
            ]
        },
        {
            "cell_type": "markdown",
            "metadata": {
                "collapsed": false,
                "editable": false
            },
            "source": [
                "<div class=\"not-editable team\"><span> Modify <a href=https://stevenclontz.github.io/exploring-math-technology/complex-polar.html#complex-polar-preview-listing>Listing 8.2.1</a> to plot the following complex numbers. Then calculate their moduli using technology, to confirm that the largest modulus belongs to the number furthest from the origin, and the smallest modulus belongs to the number closest to the origin. </span></div>"
            ]
        },
        {
            "cell_type": "markdown",
            "metadata": {
                "collapsed": false,
                "editable": false
            },
            "source": [
                "<div class=\"not-editable team\"><ul><li><span class=m> $12+5i$ </span></li><li><span class=m> $-6+8i$ </span></li><li><span class=m> $\\sqrt{3}-i$ </span></li><li><span class=m> $-3-3i$ </span></li></ul></div>"
            ]
        },
        {
            "cell_type": "markdown",
            "metadata": {
                "collapsed": false,
                "editable": false
            },
            "source": [
                "<div class=\"not-editable team\"><div><h4>Task D</h4></div></div>"
            ]
        },
        {
            "cell_type": "markdown",
            "metadata": {
                "collapsed": false,
                "editable": false
            },
            "source": [
                "<div class=\"not-editable team\"><span> The formula to compute the modulus of <span class=m> $a+bi$ </span> is <span class=m> $$|a+bi|=\\sqrt{a^2+b^2}$$ </span>. Calculate the four moduli from the previous task using this formula. </span></div>"
            ]
        },
        {
            "cell_type": "markdown",
            "metadata": {
                "collapsed": false,
                "editable": false
            },
            "source": [
                "<div class=\"not-editable team\"><div><h4>Task E</h4></div></div>"
            ]
        },
        {
            "cell_type": "markdown",
            "metadata": {
                "collapsed": false,
                "editable": false
            },
            "source": [
                "<div class=\"not-editable team\"><span> The Pythagorean Theorem says that <span class=m> $a^2+b^2=c^2$ </span>, where <span class=m> $a,b$ </span> are the leg lengths of a right triangle, and <code>c</code> is the length of its hypotenuse, illustrated in <a href=https://stevenclontz.github.io/exploring-math-technology/complex-polar.html#complex-polar-pythagorean>Figure 8.2.3</a>. </span></div>"
            ]
        },
        {
            "cell_type": "markdown",
            "metadata": {
                "collapsed": false,
                "editable": false
            },
            "source": [
                "<div class=\"not-editable team\"><div><figure><figcaption><b>Figure 8.2.3.</b> Illustration of the Pythagorean Theorem</figcaption><div><img src=images/complex-polar-pythagorean.png></div></figure></div></div>"
            ]
        },
        {
            "cell_type": "markdown",
            "metadata": {
                "collapsed": false,
                "editable": false
            },
            "source": [
                "<div class=\"not-editable team\"><span> Write a sentence or two explaining why this theorem is related to the formula for the modulus of a complex number. </span></div>"
            ]
        },
        {
            "cell_type": "markdown",
            "metadata": {
                "collapsed": false,
                "editable": false
            },
            "source": [
                "<div class=\"not-editable team\"><h2>Activity 8.2.3</h2></div>"
            ]
        },
        {
            "cell_type": "markdown",
            "metadata": {
                "collapsed": false,
                "editable": false
            },
            "source": [
                "<div class=\"not-editable team\"><span> Another important property of complex numbers is their argument. An argument of <span class=m> $0$ </span> means that the complex number is on the right half of the horizontal axis, a positive argument means that the complex number is rotated counter-clockwise above the horizontal axis, and a negative argument means that the complex number is rotated clockwise below the horizontal axis. </span></div>"
            ]
        },
        {
            "cell_type": "markdown",
            "metadata": {
                "collapsed": false,
                "editable": false
            },
            "source": [
                "<div class=\"not-editable team\"><span> SageMath can calculate the argument of a complex numbers as follows: <code>arg(CDF(4,-3))</code>, returning approximately <span class=m> $-0.6435$ </span>. (We often use approximations because arguments are usually irrational numbers; why this is so requires trigonometry, so we leave that for another day.) </span></div>"
            ]
        },
        {
            "cell_type": "markdown",
            "metadata": {
                "collapsed": false,
                "editable": false
            },
            "source": [
                "<div class=\"not-editable team\"><div><h4>Task A</h4></div></div>"
            ]
        },
        {
            "cell_type": "markdown",
            "metadata": {
                "collapsed": false,
                "editable": false
            },
            "source": [
                "<div class=\"not-editable team\"><span> Use SageMath to find the arguments for each of the following numbers you plotted earlier. </span></div>"
            ]
        },
        {
            "cell_type": "markdown",
            "metadata": {
                "collapsed": false,
                "editable": false
            },
            "source": [
                "<div class=\"not-editable team\"><ul><li><span class=m> $12+5i$ </span></li><li><span class=m> $-6+8i$ </span></li><li><span class=m> $\\sqrt{3}-i$ </span></li><li><span class=m> $-3-3i$ </span></li></ul></div>"
            ]
        },
        {
            "cell_type": "markdown",
            "metadata": {
                "collapsed": false,
                "editable": false
            },
            "source": [
                "<div class=\"not-editable team\"><div><h4>Task B</h4></div></div>"
            ]
        },
        {
            "cell_type": "markdown",
            "metadata": {
                "collapsed": false,
                "editable": false
            },
            "source": [
                "<div class=\"not-editable team\"><span> Make up several other complex numbers and find their arguments. What values does it seem that an argument is allowed to have? Do you notice anything special or familiar about this range? </span></div>"
            ]
        },
        {
            "cell_type": "markdown",
            "metadata": {
                "collapsed": false,
                "editable": false
            },
            "source": [
                "<div class=\"not-editable team\"><h2>Activity 8.2.4</h2></div>"
            ]
        },
        {
            "cell_type": "markdown",
            "metadata": {
                "collapsed": false,
                "editable": false
            },
            "source": [
                "<div class=\"not-editable team\"><span> Complex numbers are often written in polar form, where <span class=m> $r$ </span> describes the modulus and <span class=m> $\\theta$ </span> describes the argument: </span></div>"
            ]
        },
        {
            "cell_type": "markdown",
            "metadata": {
                "collapsed": false,
                "editable": false
            },
            "source": [
                "<div class=\"not-editable team\"><span class=m> $$r\\exp(\\theta i)$$ </span></div>"
            ]
        },
        {
            "cell_type": "markdown",
            "metadata": {
                "collapsed": false,
                "editable": false
            },
            "source": [
                "<div class=\"not-editable team\"><span> For example, the polar form of <span class=m> $4-3i$ </span> is (approximately) <span class=m> $5\\exp(-0.6435i)$ </span>, which may be confirmed by running <code>5*exp(-0.6435*CDF(I))</code> in a Code cell. </span></div>"
            ]
        },
        {
            "cell_type": "markdown",
            "metadata": {
                "collapsed": false,
                "editable": false
            },
            "source": [
                "<div class=\"not-editable team\"><div><h4>Task A</h4></div></div>"
            ]
        },
        {
            "cell_type": "markdown",
            "metadata": {
                "collapsed": false,
                "editable": false
            },
            "source": [
                "<div class=\"not-editable team\"><span> Write each of the following complex numbers in their polar forms, using their moduli and an approximation of their arguments found earlier: </span></div>"
            ]
        },
        {
            "cell_type": "markdown",
            "metadata": {
                "collapsed": false,
                "editable": false
            },
            "source": [
                "<div class=\"not-editable team\"><ul><li><span class=m> $12+5i$ </span></li><li><span class=m> $-6+8i$ </span></li><li><span class=m> $\\sqrt{3}-i$ </span></li><li><span class=m> $-3-3i$ </span></li></ul></div>"
            ]
        },
        {
            "cell_type": "markdown",
            "metadata": {
                "collapsed": false,
                "editable": false
            },
            "source": [
                "<div class=\"not-editable team\"><div><h4>Task B</h4></div></div>"
            ]
        },
        {
            "cell_type": "markdown",
            "metadata": {
                "collapsed": false,
                "editable": false
            },
            "source": [
                "<div class=\"not-editable team\"><span> Use SageMath to confirm each of the (approximate) polar forms you found in the previous task. </span></div>"
            ]
        },
        {
            "cell_type": "markdown",
            "metadata": {
                "collapsed": false,
                "editable": false
            },
            "source": [
                "<div class=\"not-editable team\"><h2>Activity 8.2.5</h2></div>"
            ]
        },
        {
            "cell_type": "markdown",
            "metadata": {
                "collapsed": false,
                "editable": false
            },
            "source": [
                "<div class=\"not-editable team\"><span> Adding complex numbers combines their horizontal and vertical components. Multiplying a complex number by a real number scales its distance from the origin. But what does it mean to multiply two complex numbers? </span></div>"
            ]
        },
        {
            "cell_type": "markdown",
            "metadata": {
                "collapsed": false,
                "editable": false
            },
            "source": [
                "<div class=\"not-editable team\"><div><h4>Task A</h4></div></div>"
            ]
        },
        {
            "cell_type": "markdown",
            "metadata": {
                "collapsed": false,
                "editable": false
            },
            "source": [
                "<div class=\"not-editable team\"><span> Describe the modulus, argument, and polar form for each complex number: </span></div>"
            ]
        },
        {
            "cell_type": "markdown",
            "metadata": {
                "collapsed": false,
                "editable": false
            },
            "source": [
                "<div class=\"not-editable team\"><ul><li><span class=m> $\\frac{9}{5}+\\frac{12}{5}i$ </span></li><li><span class=m> $\\frac{24}{13}+\\frac{10}{13}i$ </span></li><li><span class=m> $(\\frac{9}{5}+\\frac{12}{5}i)\\cdot(\\frac{24}{13}+\\frac{10}{13}i)$ </span> (use SageMath to multiply these)</li></ul></div>"
            ]
        },
        {
            "cell_type": "markdown",
            "metadata": {
                "collapsed": false,
                "editable": false
            },
            "source": [
                "<div class=\"not-editable team\"><div><h4>Task B</h4></div></div>"
            ]
        },
        {
            "cell_type": "markdown",
            "metadata": {
                "collapsed": false,
                "editable": false
            },
            "source": [
                "<div class=\"not-editable team\"><span> Compare the moduli of the product with the moduli of each factor. What relationship do you notice? </span></div>"
            ]
        },
        {
            "cell_type": "markdown",
            "metadata": {
                "collapsed": false,
                "editable": false
            },
            "source": [
                "<div class=\"not-editable team\"><div><h4>Task C</h4></div></div>"
            ]
        },
        {
            "cell_type": "markdown",
            "metadata": {
                "collapsed": false,
                "editable": false
            },
            "source": [
                "<div class=\"not-editable team\"><span> Compare the argument of the product with the arguments of each factor. What relationship do you notice? </span></div>"
            ]
        },
        {
            "cell_type": "markdown",
            "metadata": {
                "collapsed": false,
                "editable": false
            },
            "source": [
                "<div class=\"not-editable team\"><div><h4>Task D</h4></div></div>"
            ]
        },
        {
            "cell_type": "markdown",
            "metadata": {
                "collapsed": false,
                "editable": false
            },
            "source": [
                "<div class=\"not-editable team\"><span> Write a few sentences conjecturing what you think multiplying complex numbers does with their moduli and arguments. Then make up several examples to try and support your conjecture. </span></div>"
            ]
        },
        {
            "cell_type": "markdown",
            "metadata": {
                "collapsed": false,
                "editable": false
            },
            "source": [
                "<div class=\"not-editable team\"><h2>Activity 8.2.6</h2></div>"
            ]
        },
        {
            "cell_type": "markdown",
            "metadata": {
                "collapsed": false,
                "editable": false
            },
            "source": [
                "<div class=\"not-editable team\"><span> Use a Code cell to confirm <span class=m> $i\\cdot i=-1$ </span>, that is, <span class=m> $i^2=-1$ </span>. Then write a few sentences defending this result using what you've discovered about how multiplication affects moduli and arguments. </span></div>"
            ]
        }
    ],
    "nbformat": 4,
    "nbformat_minor": 4
}