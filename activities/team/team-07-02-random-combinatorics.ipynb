{
    "cells": [
        {
            "cell_type": "markdown",
            "metadata": {
                "collapsed": false,
                "editable": false
            },
            "source": [
                "<div class=\"not-editable team\"> <style>\n            .not-editable{padding:1em;border-radius:10px;box-shadow:4px 4px 3px #ddd;margin:5px;}\n            .not-editable.individual{background-color:#eefff8;}\n            .not-editable.team{background-color:#eef8ff;}\n            .sidebyside{display:flex;justify-content:center;}\n            .sidebyside > *{margin-right:1em;flex:1;}\n            caption{caption-side:top;white-space: nowrap;color:rgba(0,0,0,.45)}}\n            figcaption{padding-top:0.75em;padding-bottom:0.3em;color:rgba(0,0,0,.45)}\n            .fillin{display:inline-block;width:10em;margin-left:0.2em;margin-right:0.2em;height:1em;border-bottom:1px black solid;}\n            .fn{font-size:0.8em;color:rgba(0,0,0.45)}\n            .newcommands{display:none;}\n            code{background-color:#f8f8f8;border:1px #888 solid;border-radius:2px;padding-left:0.2em;padding-right:0.2em;}\n            img{background-color:#fff;}\n        </style> <div><h1>Section 7.2 Combinatorics</h1><h2>Team Notebook</h2><div><a href=https://stevenclontz.github.io/exploring-math-technology/random-combinatorics.html>https://stevenclontz.github.io/exploring-math-technology/random-combinatorics.html</a></div></div></div>"
            ]
        },
        {
            "cell_type": "markdown",
            "metadata": {
                "collapsed": false,
                "editable": false
            },
            "source": [
                "<div class=\"not-editable team\"><h2>Activity 7.2.2</h2></div>"
            ]
        },
        {
            "cell_type": "markdown",
            "metadata": {
                "collapsed": false,
                "editable": false
            },
            "source": [
                "<div class=\"not-editable team\"><span> One of the most useful counting tools in mathematics is the multiplication principle. This principle is used when all the items to be counted come from a sequence of choices. If each item is made by making a choice from <span class=m> $a$ </span> things, then a choice from <span class=m> $b$ </span> things, then a choice from <span class=m> $c$ </span> things, and so on, then the total number of items is given by the product: </span></div>"
            ]
        },
        {
            "cell_type": "markdown",
            "metadata": {
                "collapsed": false,
                "editable": false
            },
            "source": [
                "<div class=\"not-editable team\"><span class=m> $$ a\\times b\\times c\\times \\cdots $$ </span></div>"
            ]
        },
        {
            "cell_type": "markdown",
            "metadata": {
                "collapsed": false,
                "editable": false
            },
            "source": [
                "<div class=\"not-editable team\"><span> For example, suppose that a breakfast must include either eggs <span class=m> $E$ </span>, sausage <span class=m> $S$ </span>, or pancakes <span class=m> $P$ </span> to eat, and either coffee <span class=m> $c$ </span> or juice <span class=m> $j$ </span> to drink. Then this six possible breakfasts are eggs/coffee, eggs/juice, sausage/coffee, sausage/juice, pancakes/coffee, and pancakes/juice. Symbolically, these choices are: </span></div>"
            ]
        },
        {
            "cell_type": "markdown",
            "metadata": {
                "collapsed": false,
                "editable": false
            },
            "source": [
                "<div class=\"not-editable team\"><span class=m> $$ Ec,Ej,Sc,Sj,Pc,Pj $$ </span></div>"
            ]
        },
        {
            "cell_type": "markdown",
            "metadata": {
                "collapsed": false,
                "editable": false
            },
            "source": [
                "<div class=\"not-editable team\"><span> However, this number six can be computed without listing out every choice. This is because there are <span class=m> $3$ </span> choices for food and <span class=m> $2$ </span> choices for drink, yielding <span class=m> $3\\times 2=6$ </span>. </span></div>"
            ]
        },
        {
            "cell_type": "markdown",
            "metadata": {
                "collapsed": false,
                "editable": false
            },
            "source": [
                "<div class=\"not-editable team\"><div><h4>Task A</h4></div></div>"
            ]
        },
        {
            "cell_type": "markdown",
            "metadata": {
                "collapsed": false,
                "editable": false
            },
            "source": [
                "<div class=\"not-editable team\"><span> Suppose for a fancy dinner you are given four options as an appetizer, six options as an entree, three options as a beverage, and two options as a dessert. How many different dinners are possible? </span></div>"
            ]
        },
        {
            "cell_type": "markdown",
            "metadata": {
                "collapsed": false,
                "editable": false
            },
            "source": [
                "<div class=\"not-editable team\"><div><h4>Task B</h4></div></div>"
            ]
        },
        {
            "cell_type": "markdown",
            "metadata": {
                "collapsed": false,
                "editable": false
            },
            "source": [
                "<div class=\"not-editable team\"><span> Suppose you could choose an appetizer or a dessert, but not both. How many different dinners are possible in that scenario? </span></div>"
            ]
        },
        {
            "cell_type": "markdown",
            "metadata": {
                "collapsed": false,
                "editable": false
            },
            "source": [
                "<div class=\"not-editable team\"><div><h4>Task C</h4></div></div>"
            ]
        },
        {
            "cell_type": "markdown",
            "metadata": {
                "collapsed": false,
                "editable": false
            },
            "source": [
                "<div class=\"not-editable team\"><span> What if instead you consider the choice to skip any part of the meal, holding the appetizer, entree, beverage, and/or dessert. How many dinners are possible in that case? </span></div>"
            ]
        },
        {
            "cell_type": "markdown",
            "metadata": {
                "collapsed": false,
                "editable": false
            },
            "source": [
                "<div class=\"not-editable team\"><div><h4>Task D</h4></div></div>"
            ]
        },
        {
            "cell_type": "markdown",
            "metadata": {
                "collapsed": false,
                "editable": false
            },
            "source": [
                "<div class=\"not-editable team\"><span> What is the size of the sample space for the experiment of rolling a D6, then flipping a coin, then drawing a card from a shuffled 52-card deck? </span></div>"
            ]
        },
        {
            "cell_type": "markdown",
            "metadata": {
                "collapsed": false,
                "editable": false
            },
            "source": [
                "<div class=\"not-editable team\"><h2>Activity 7.2.3</h2></div>"
            ]
        },
        {
            "cell_type": "markdown",
            "metadata": {
                "collapsed": false,
                "editable": false
            },
            "source": [
                "<div class=\"not-editable team\"><span> The multiplication principle is used to count permutations: different arragements of symbols. For example, there are six permutations of the letters <span class=m> $A,B,C$ </span>: </span></div>"
            ]
        },
        {
            "cell_type": "markdown",
            "metadata": {
                "collapsed": false,
                "editable": false
            },
            "source": [
                "<div class=\"not-editable team\"><span class=m> $$ ABC,ACB,BAC,BCA,CAB,CBA $$ </span></div>"
            ]
        },
        {
            "cell_type": "markdown",
            "metadata": {
                "collapsed": false,
                "editable": false
            },
            "source": [
                "<div class=\"not-editable team\"><span> The multiplication principle counts these six as follows: there are <span class=m> $3$ </span> choices for the first letter, then <span class=m> $2$ </span> remaining choices for the second letter, and finally only <span class=m> $1$ </span> choice for the final letter, which results in <span class=m> $3\\times 2\\times 1=6$ </span>. </span></div>"
            ]
        },
        {
            "cell_type": "markdown",
            "metadata": {
                "collapsed": false,
                "editable": false
            },
            "source": [
                "<div class=\"not-editable team\"><div><h4>Task A</h4></div></div>"
            ]
        },
        {
            "cell_type": "markdown",
            "metadata": {
                "collapsed": false,
                "editable": false
            },
            "source": [
                "<div class=\"not-editable team\"><span> How many permutations are there for the letters <span class=m> $W,X,Y,Z$ </span>? </span></div>"
            ]
        },
        {
            "cell_type": "markdown",
            "metadata": {
                "collapsed": false,
                "editable": false
            },
            "source": [
                "<div class=\"not-editable team\"><div><h4>Task B</h4></div></div>"
            ]
        },
        {
            "cell_type": "markdown",
            "metadata": {
                "collapsed": false,
                "editable": false
            },
            "source": [
                "<div class=\"not-editable team\"><span> A list of permutations of the letters <span class=m> $A,B,C$ </span> may be obtained in SageMath (and Python) by writing <code>import itertools</code> and <code>abcs = [\"\".join(p) for p in itertools.permutations([\"A\", \"B\", \"C\"])]</code>. Then <code>len(abcs)</code> would equal <code>6</code>. </span></div>"
            ]
        },
        {
            "cell_type": "markdown",
            "metadata": {
                "collapsed": false,
                "editable": false
            },
            "source": [
                "<div class=\"not-editable team\"><span> Create a list of all strings that are formed by the letters in <code>[\"w\",\"x\",\"y\",\"z\"]</code>. Print out these strings, and count them using <code>len()</code> to confirm your calculation in the previous task. </span></div>"
            ]
        },
        {
            "cell_type": "markdown",
            "metadata": {
                "collapsed": false,
                "editable": false
            },
            "source": [
                "<div class=\"not-editable team\"><div><h4>Task C</h4></div></div>"
            ]
        },
        {
            "cell_type": "markdown",
            "metadata": {
                "collapsed": false,
                "editable": false
            },
            "source": [
                "<div class=\"not-editable team\"><span> Expressions such as <span class=m> $5\\times 4\\times 3\\times 2\\times 1$ </span> are commonplace in mathematics, so we use the factorial operation as a shorthand: </span></div>"
            ]
        },
        {
            "cell_type": "markdown",
            "metadata": {
                "collapsed": false,
                "editable": false
            },
            "source": [
                "<div class=\"not-editable team\"><span class=m> $$ N! = N\\times \\cdots\\times 3\\times 2\\times 1 $$ </span></div>"
            ]
        },
        {
            "cell_type": "markdown",
            "metadata": {
                "collapsed": false,
                "editable": false
            },
            "source": [
                "<div class=\"not-editable team\"><span> In SageMath, <code>factorial(5)</code> may be used to compute <span class=m> $5\\times 4\\times 3\\times 2\\times 1=120$ </span>. </span></div>"
            ]
        },
        {
            "cell_type": "markdown",
            "metadata": {
                "collapsed": false,
                "editable": false
            },
            "source": [
                "<div class=\"not-editable team\"><span> Use a Code cell to count how many permutations are there for the letters of the alphabet <span class=m> $A$ </span> to <span class=m> $Z$ </span>. </span></div>"
            ]
        },
        {
            "cell_type": "markdown",
            "metadata": {
                "collapsed": false,
                "editable": false
            },
            "source": [
                "<div class=\"not-editable team\"><div><h4>Task D</h4></div></div>"
            ]
        },
        {
            "cell_type": "markdown",
            "metadata": {
                "collapsed": false,
                "editable": false
            },
            "source": [
                "<div class=\"not-editable team\"><span> Attempting to check this by computer by actually listing out every permutation as you did for <code>[\"w\",\"x\",\"y\",\"z\"]</code> would be difficult. (Try it!) What causes this difficulty? What does that suggest about the relationship between mathematics and computer science? </span></div>"
            ]
        },
        {
            "cell_type": "markdown",
            "metadata": {
                "collapsed": false,
                "editable": false
            },
            "source": [
                "<div class=\"not-editable team\"><h2>Activity 7.2.4</h2></div>"
            ]
        },
        {
            "cell_type": "markdown",
            "metadata": {
                "collapsed": false,
                "editable": false
            },
            "source": [
                "<div class=\"not-editable team\"><span> The multiplication principle is useful when considering password security. Often, administrators make certain requirements for users' passwords. These requirements affect the number of different possible passwords, as well as the probability that a randomly chosen password would match a password that meets these requirements. </span></div>"
            ]
        },
        {
            "cell_type": "markdown",
            "metadata": {
                "collapsed": false,
                "editable": false
            },
            "source": [
                "<div class=\"not-editable team\"><div><h4>Task A</h4></div></div>"
            ]
        },
        {
            "cell_type": "markdown",
            "metadata": {
                "collapsed": false,
                "editable": false
            },
            "source": [
                "<div class=\"not-editable team\"><span> How many five-character passwords use only uppercase letters? </span></div>"
            ]
        },
        {
            "cell_type": "markdown",
            "metadata": {
                "collapsed": false,
                "editable": false
            },
            "source": [
                "<div class=\"not-editable team\"><div><h4>Task B</h4></div></div>"
            ]
        },
        {
            "cell_type": "markdown",
            "metadata": {
                "collapsed": false,
                "editable": false
            },
            "source": [
                "<div class=\"not-editable team\"><span> How many five-character passwords use only alphanumeric characters? That is, uppercase letters, lowercase letters, or digits, where <code>htr12</code> is considered different than the password <code>HtR12</code>. </span></div>"
            ]
        },
        {
            "cell_type": "markdown",
            "metadata": {
                "collapsed": false,
                "editable": false
            },
            "source": [
                "<div class=\"not-editable team\"><div><h4>Task C</h4></div></div>"
            ]
        },
        {
            "cell_type": "markdown",
            "metadata": {
                "collapsed": false,
                "editable": false
            },
            "source": [
                "<div class=\"not-editable team\"><span> How many five-character passwords use only alphanumeric characters, when repeated characters are not allowed? (That is, both <code>aabcd</code> and <code>abacd</code> are both not allowed.) </span></div>"
            ]
        },
        {
            "cell_type": "markdown",
            "metadata": {
                "collapsed": false,
                "editable": false
            },
            "source": [
                "<div class=\"not-editable team\"><div><h4>Task D</h4></div></div>"
            ]
        },
        {
            "cell_type": "markdown",
            "metadata": {
                "collapsed": false,
                "editable": false
            },
            "source": [
                "<div class=\"not-editable team\"><span> How many five-character passwords use only alphanumeric characters, when consecutive repeated characters are not allowed? (That is, <code>aabcd</code> is not allowed, but <code>abacd</code> is okay.) </span></div>"
            ]
        },
        {
            "cell_type": "markdown",
            "metadata": {
                "collapsed": false,
                "editable": false
            },
            "source": [
                "<div class=\"not-editable team\"><div><h4>Task E</h4></div></div>"
            ]
        },
        {
            "cell_type": "markdown",
            "metadata": {
                "collapsed": false,
                "editable": false
            },
            "source": [
                "<div class=\"not-editable team\"><span> Consider the experiment where a five-character password is generated using alphanumeric characters (with repeated characters allowed). What's the probability that such a password would only have uppercase letters? Use the <code>n()</code> tool to obtain a decimal approximation. </span></div>"
            ]
        },
        {
            "cell_type": "markdown",
            "metadata": {
                "collapsed": false,
                "editable": false
            },
            "source": [
                "<div class=\"not-editable team\"><div><h4>Task F</h4></div></div>"
            ]
        },
        {
            "cell_type": "markdown",
            "metadata": {
                "collapsed": false,
                "editable": false
            },
            "source": [
                "<div class=\"not-editable team\"><span> The code in <a href=https://stevenclontz.github.io/exploring-math-technology/random-combinatorics.html#random-combinatorics-passwords>Listing 7.2.1</a> simulates generating 100 thousand passwords and checking if the password contains all uppercase letters. Run the code as-is to confirm that it illustrates what you found in the previous task. Then annotate the code with <code># comments</code> that explain how it works. </span></div>"
            ]
        },
        {
            "cell_type": "markdown",
            "metadata": {
                "collapsed": false,
                "editable": false
            },
            "source": [
                "<div class=\"not-editable team\"><div><figure><figcaption><b>Listing 7.2.1</b>Simulate choosing random passwords 100K times</figcaption><pre># Add comments like this throughout that explain how this code works.\npoints = []\nall_upper_count = 0\nfor trial in range(1,100001):\n    all_upper = True\n    for _ in range(5):\n        next_character = randrange(62)\n        if next_character &gt;= 26:\n            all_upper = False\n    if all_upper:\n        all_upper_count += 1\n    ex_prob = all_upper_count/trial\n    points.append( (trial,ex_prob) )\n\nshow(\n    line(points, color=\"blue\")+line([(1,0.012969),(100000,0.012969)], color=\"red\"),\n    axes_labels=[\"Trials\",\"Exp. Prob.\"],\n)</pre></figure></div></div>"
            ]
        }
    ],
    "nbformat": 4,
    "nbformat_minor": 4
}