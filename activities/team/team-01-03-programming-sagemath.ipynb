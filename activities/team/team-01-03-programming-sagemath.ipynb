{
    "cells": [
        {
            "cell_type": "markdown",
            "metadata": {
                "collapsed": false,
                "editable": false
            },
            "source": [
                "<div class=\"not-editable team\"> <style>\n            .not-editable{padding:1em;border-radius:10px;box-shadow:4px 4px 3px #ddd;margin:5px;}\n            .not-editable.individual{background-color:#eefff8;}\n            .not-editable.team{background-color:#eef8ff;}\n            .sidebyside{display:flex;justify-content:center;}\n            .sidebyside > *{margin-right:1em;flex:1;}\n            caption{caption-side:top;white-space: nowrap;color:rgba(0,0,0,.45)}}\n            figcaption{padding-top:0.75em;padding-bottom:0.3em;color:rgba(0,0,0,.45)}\n            .fillin{display:inline-block;width:10em;margin-left:0.2em;margin-right:0.2em;height:1em;border-bottom:1px black solid;}\n            .fn{font-size:0.8em;color:rgba(0,0,0.45)}\n            .newcommands{display:none;}\n            code{background-color:#f8f8f8;border:1px #888 solid;border-radius:2px;padding-left:0.2em;padding-right:0.2em;}\n            img{background-color:#fff;}\n        </style> <div><h1>Section 1.3 The SageMath Kernel</h1><h2>Team Notebook</h2><div><a href=https://stevenclontz.github.io/exploring-math-technology/programming-sagemath.html>https://stevenclontz.github.io/exploring-math-technology/programming-sagemath.html</a></div></div></div>"
            ]
        },
        {
            "cell_type": "markdown",
            "metadata": {
                "collapsed": false,
                "editable": false
            },
            "source": [
                "<div class=\"not-editable team\"><h2>Activity 1.3.2</h2></div>"
            ]
        },
        {
            "cell_type": "markdown",
            "metadata": {
                "collapsed": false,
                "editable": false
            },
            "source": [
                "<div class=\"not-editable team\"><span> SageMath is a mathematical software system designed for representing ideas from mathematics as faithfully as possible. </span></div>"
            ]
        },
        {
            "cell_type": "markdown",
            "metadata": {
                "collapsed": false,
                "editable": false
            },
            "source": [
                "<div class=\"not-editable team\"><div><h4>Task A</h4></div></div>"
            ]
        },
        {
            "cell_type": "markdown",
            "metadata": {
                "collapsed": false,
                "editable": false
            },
            "source": [
                "<div class=\"not-editable team\"><span> Several important numbers in mathematics may be used in SageMath with <code>pi</code> for the circular constant <span class=m> $\\pi$ </span>, <code>e</code> for the natural number <span class=m> $e$ </span>, and <code>i</code> for the imaginary unit <span class=m> $i$ </span>. (Don't worry if you aren't familiar with these yet.) </span></div>"
            ]
        },
        {
            "cell_type": "markdown",
            "metadata": {
                "collapsed": false,
                "editable": false
            },
            "source": [
                "<div class=\"not-editable team\"><span> Check to see what SageMath gives as the value of <span class=m> $e^{i\\pi}+1$ </span>. </span></div>"
            ]
        },
        {
            "cell_type": "markdown",
            "metadata": {
                "collapsed": false,
                "editable": false
            },
            "source": [
                "<div class=\"not-editable team\"><div><h4>Task B</h4></div></div>"
            ]
        },
        {
            "cell_type": "markdown",
            "metadata": {
                "collapsed": false,
                "editable": false
            },
            "source": [
                "<div class=\"not-editable team\"><span> SageMath won't approximate any values unless asked. You can check this by typing <code>pi^2</code> and <code>e^3</code>. To make them appear with mathematical formatting as <span class=m> $\\pi^2$ </span> and <span class=m> $e^3$ </span>, use the <code>show()</code> syntax like you did in <a href=https://stevenclontz.github.io/exploring-math-technology/programming-sagemath.html#programming-sagemath-preview>Preview Activity 1.3.1</a>. </span></div>"
            ]
        },
        {
            "cell_type": "markdown",
            "metadata": {
                "collapsed": false,
                "editable": false
            },
            "source": [
                "<div class=\"not-editable team\"><div><h4>Task C</h4></div></div>"
            ]
        },
        {
            "cell_type": "markdown",
            "metadata": {
                "collapsed": false,
                "editable": false
            },
            "source": [
                "<div class=\"not-editable team\"><span> If an approximation is desired, the numerical approximation tool <code>n</code> may be used. Find an approximate value for <span class=m> $\\sqrt{2}$ </span> by using <code>sqrt(2).n(digits=10)</code>. </span></div>"
            ]
        },
        {
            "cell_type": "markdown",
            "metadata": {
                "collapsed": false,
                "editable": false
            },
            "source": [
                "<div class=\"not-editable team\"><div><h4>Task D</h4></div></div>"
            ]
        },
        {
            "cell_type": "markdown",
            "metadata": {
                "collapsed": false,
                "editable": false
            },
            "source": [
                "<div class=\"not-editable team\"><span> Which is bigger: <span class=m> $\\pi^e$ </span> or <span class=m> $e^\\pi$ </span>? </span></div>"
            ]
        },
        {
            "cell_type": "markdown",
            "metadata": {
                "collapsed": false,
                "editable": false
            },
            "source": [
                "<div class=\"not-editable team\"><h2>Activity 1.3.3</h2></div>"
            ]
        },
        {
            "cell_type": "markdown",
            "metadata": {
                "collapsed": false,
                "editable": false
            },
            "source": [
                "<div class=\"not-editable team\"><span> The term variable means slightly different things in computer science and mathematics. In computer science, variables are used to store and retrieve data within an application. In mathematics, variables are used to represent an arbitrary or unknown value of data within a statement. </span></div>"
            ]
        },
        {
            "cell_type": "markdown",
            "metadata": {
                "collapsed": false,
                "editable": false
            },
            "source": [
                "<div class=\"not-editable team\"><span> These two concepts are related, but not exactly the same. Since SageMath is built upon Python, it provides support for both CS variables and math variables. </span></div>"
            ]
        },
        {
            "cell_type": "markdown",
            "metadata": {
                "collapsed": false,
                "editable": false
            },
            "source": [
                "<div class=\"not-editable team\"><div><h4>Task A</h4></div></div>"
            ]
        },
        {
            "cell_type": "markdown",
            "metadata": {
                "collapsed": false,
                "editable": false
            },
            "source": [
                "<div class=\"not-editable team\"><span> To assign a value to a CS variable, the assignment operator <code>=</code> is used. It's considered best practice to give CS variables semantic, that is, descriptive names such as <code>temperature_in_room</code>, using lowercase letters and underscore <code>_</code> characters. </span></div>"
            ]
        },
        {
            "cell_type": "markdown",
            "metadata": {
                "collapsed": false,
                "editable": false
            },
            "source": [
                "<div class=\"not-editable team\"><span> For each member of your group, use a code cell to assign a CS variable storing the number of pens (or pencils, or any object you'd like) each person has with them. An example is given in <a href=https://stevenclontz.github.io/exploring-math-technology/programming-sagemath.html#programming-sagemath-pens>Listing 1.3.2</a>; note that only a single Code cell is necessary, but each assignment should be made on a separate line. </span></div>"
            ]
        },
        {
            "cell_type": "markdown",
            "metadata": {
                "collapsed": false,
                "editable": false
            },
            "source": [
                "<div class=\"not-editable team\"><div class=sidebyside><div><table><caption><b>Table 1.3.1.</b> </caption><tr><td>Name</td><td>Pens kept in backpack</td></tr><tr><td>Craig</td><td>1</td></tr><tr><td>Laura</td><td>30</td></tr><tr><td>Phillip</td><td>18</td></tr><tr><td>Sherill</td><td>03</td></tr><tr><td>Steven</td><td>22</td></tr></table></div><div><figure><figcaption><b>Listing 1.3.2</b>Corresponding variable assignments</figcaption><pre>craig_pens = 1\nlaura_pens = 30\nphillip_pens = 18\nsherill_pens = 3\nsteven_pens = 22</pre></figure></div></div></div>"
            ]
        },
        {
            "cell_type": "markdown",
            "metadata": {
                "collapsed": false,
                "editable": false
            },
            "source": [
                "<div class=\"not-editable team\"><div><h4>Task B</h4></div></div>"
            ]
        },
        {
            "cell_type": "markdown",
            "metadata": {
                "collapsed": false,
                "editable": false
            },
            "source": [
                "<div class=\"not-editable team\"><span> The value stored in a CS variable may be reused later by using the variable name. For example, <code>craig_pens+laura_pens+phillip_pens+sherill_pens+steven_pens</code> would return the result <code>74</code>. </span></div>"
            ]
        },
        {
            "cell_type": "markdown",
            "metadata": {
                "collapsed": false,
                "editable": false
            },
            "source": [
                "<div class=\"not-editable team\"><span> Use a code cell to find the sum of the pens in your group by writing the sum of the variable names. (Later we will learn much more elegant patterns for storing and using lists of data while still using long descriptive variable names as recommended.) </span></div>"
            ]
        },
        {
            "cell_type": "markdown",
            "metadata": {
                "collapsed": false,
                "editable": false
            },
            "source": [
                "<div class=\"not-editable team\"><div><h4>Task C</h4></div></div>"
            ]
        },
        {
            "cell_type": "markdown",
            "metadata": {
                "collapsed": false,
                "editable": false
            },
            "source": [
                "<div class=\"not-editable team\"><span> Variables can be overwritten. In a Jupyter notebook, you can go to a previous cell and edit the assignment, and you can also create a new Code cell and write the assignment. </span></div>"
            ]
        },
        {
            "cell_type": "markdown",
            "metadata": {
                "collapsed": false,
                "editable": false
            },
            "source": [
                "<div class=\"not-editable team\"><span> Try editing the assignment of one group member's pens in the previous Code cell, and try overwriting another group member's pens value by creating a Code cell below. For example, in <a href=https://stevenclontz.github.io/exploring-math-technology/programming-sagemath.html#programming-sagemath-pens-1>Listing 1.3.3</a> the original assignment for <code>craig_pens</code> is amended, but you could also amend the value of <code>phillip_pens</code> by creating a new Code cell below with the line <code>phillip_pens = 42</code>. </span></div>"
            ]
        },
        {
            "cell_type": "markdown",
            "metadata": {
                "collapsed": false,
                "editable": false
            },
            "source": [
                "<div class=\"not-editable team\"><div><figure><figcaption><b>Listing 1.3.3</b>Amended variable assignments</figcaption><pre>craig_pens = 100\nlaura_pens = 30\nphillip_pens = 18\nsherill_pens = 3\nsteven_pens = 22</pre></figure></div></div>"
            ]
        },
        {
            "cell_type": "markdown",
            "metadata": {
                "collapsed": false,
                "editable": false
            },
            "source": [
                "<div class=\"not-editable team\"><div><h4>Task D</h4></div></div>"
            ]
        },
        {
            "cell_type": "markdown",
            "metadata": {
                "collapsed": false,
                "editable": false
            },
            "source": [
                "<div class=\"not-editable team\"><span> Before doing anything further, write a sentence about what you notice about the result of your existing code cell adding the variables together. </span></div>"
            ]
        },
        {
            "cell_type": "markdown",
            "metadata": {
                "collapsed": false,
                "editable": false
            },
            "source": [
                "<div class=\"not-editable team\"><div><h4>Task E</h4></div></div>"
            ]
        },
        {
            "cell_type": "markdown",
            "metadata": {
                "collapsed": false,
                "editable": false
            },
            "source": [
                "<div class=\"not-editable team\"><span> Now use the Kernel &gt; Run All menu option in CoCalc. Write a sentence or two explaining how the sum changed, and why. </span></div>"
            ]
        },
        {
            "cell_type": "markdown",
            "metadata": {
                "collapsed": false,
                "editable": false
            },
            "source": [
                "<div class=\"not-editable team\"><div><h4>Task F</h4></div></div>"
            ]
        },
        {
            "cell_type": "markdown",
            "metadata": {
                "collapsed": false,
                "editable": false
            },
            "source": [
                "<div class=\"not-editable team\"><span> Copy the line of code summing your variables into a new Code cell below (e.g. <code>craig_pens+laura_pens+phillip_pens+sherill_pens+steven_pens</code>). Write a sentence explaining why you get a different result even though the Code cells are exactly the same. </span></div>"
            ]
        },
        {
            "cell_type": "markdown",
            "metadata": {
                "collapsed": false,
                "editable": false
            },
            "source": [
                "<div class=\"not-editable team\"><h2>Activity 1.3.4</h2></div>"
            ]
        },
        {
            "cell_type": "markdown",
            "metadata": {
                "collapsed": false,
                "editable": false
            },
            "source": [
                "<div class=\"not-editable team\"><span> We now will explore mathematical variables. </span></div>"
            ]
        },
        {
            "cell_type": "markdown",
            "metadata": {
                "collapsed": false,
                "editable": false
            },
            "source": [
                "<div class=\"not-editable team\"><div><h4>Task A</h4></div></div>"
            ]
        },
        {
            "cell_type": "markdown",
            "metadata": {
                "collapsed": false,
                "editable": false
            },
            "source": [
                "<div class=\"not-editable team\"><span> Unlike CS variables, mathematical variables represent an unknown value or arbitrary value, rather than storing a specific piece of data. These variables are often represented by single letters rather than the long semantic names used for CS variables. For example, SageMath always assumes <code>x</code> is a mathematical variable named <span class=m> $x$ </span>. </span></div>"
            ]
        },
        {
            "cell_type": "markdown",
            "metadata": {
                "collapsed": false,
                "editable": false
            },
            "source": [
                "<div class=\"not-editable team\"><span> Other math variables are declared using by using the <code>var()</code> tool. For example, <code>a = var(\"a\")</code> declares <code>a</code> to be the variable named <span class=m> $a$ </span>, and <code>b,c = var(\"b c\")</code> declares both <code>b</code> and <code>c</code> to be variables. </span></div>"
            ]
        },
        {
            "cell_type": "markdown",
            "metadata": {
                "collapsed": false,
                "editable": false
            },
            "source": [
                "<div class=\"not-editable team\"><span> Use a Code cell to declare <span class=m> $y$ </span> and <span class=m> $z$ </span> to be variables. </span></div>"
            ]
        },
        {
            "cell_type": "markdown",
            "metadata": {
                "collapsed": false,
                "editable": false
            },
            "source": [
                "<div class=\"not-editable team\"><div><h4>Task B</h4></div></div>"
            ]
        },
        {
            "cell_type": "markdown",
            "metadata": {
                "collapsed": false,
                "editable": false
            },
            "source": [
                "<div class=\"not-editable team\"><span> Math variables may be manipulated just like literal values or values store in CS variables. But since they don't store specific values, these combinations of variables represent an expression. </span></div>"
            ]
        },
        {
            "cell_type": "markdown",
            "metadata": {
                "collapsed": false,
                "editable": false
            },
            "source": [
                "<div class=\"not-editable team\"><span> Use SageMath's <code>show()</code> tool to display the expression <span class=m> $x^2+4yz$ </span> using a Code cell. Remember that <span class=m> $4yz=4\\times y\\times z$ </span> requires the <code>*</code> operator to perform multiplication. </span></div>"
            ]
        },
        {
            "cell_type": "markdown",
            "metadata": {
                "collapsed": false,
                "editable": false
            },
            "source": [
                "<div class=\"not-editable team\"><div><h4>Task C</h4></div></div>"
            ]
        },
        {
            "cell_type": "markdown",
            "metadata": {
                "collapsed": false,
                "editable": false
            },
            "source": [
                "<div class=\"not-editable team\"><span> An expression can itself be stored in a CS variable using the assignment operator <code>=</code>; for example, <code>quadratic = x^2-4*x+4</code> saves the expression <span class=m> $x^2-4x+4$ </span> using the name <code>quadratic</code>. </span></div>"
            ]
        },
        {
            "cell_type": "markdown",
            "metadata": {
                "collapsed": false,
                "editable": false
            },
            "source": [
                "<div class=\"not-editable team\"><span> Assign the expression <span class=m> $x^2+4yz$ </span> to a CS variable with the name <code>my_expression</code>. </span></div>"
            ]
        },
        {
            "cell_type": "markdown",
            "metadata": {
                "collapsed": false,
                "editable": false
            },
            "source": [
                "<div class=\"not-editable team\"><div><h4>Task D</h4></div></div>"
            ]
        },
        {
            "cell_type": "markdown",
            "metadata": {
                "collapsed": false,
                "editable": false
            },
            "source": [
                "<div class=\"not-editable team\"><span> Math variables and expressions are useful for describing how data should be manipulated before the values of those data are known. </span></div>"
            ]
        },
        {
            "cell_type": "markdown",
            "metadata": {
                "collapsed": false,
                "editable": false
            },
            "source": [
                "<div class=\"not-editable team\"><span> For example, suppose we now want to assume <span class=m> $x=6,y=0,z=-3$ </span> and compute the corresponding value for the expression <span class=m> $x^2+4yz$ </span> saved as <code>my_expression</code>. You can check that <span class=m> $6^2+4(0)(-3)=36$ </span>, either by hand or evaluating <code>6^2+4*0*(-3)</code>. But to have SageMath compute this for you immediately, you could use the following syntax: <code>my_expression(x=6,y=0,z=-3)</code>. </span></div>"
            ]
        },
        {
            "cell_type": "markdown",
            "metadata": {
                "collapsed": false,
                "editable": false
            },
            "source": [
                "<div class=\"not-editable team\"><span> Use a Code cell to substitute the values <span class=m> $x=1,y=2,z=3$ </span> into the expression <span class=m> $x^2+4yz$ </span>, and confirm that the resulting value is equal to <span class=m> $1^2+4(2)(3)$ </span>. </span></div>"
            ]
        },
        {
            "cell_type": "markdown",
            "metadata": {
                "collapsed": false,
                "editable": false
            },
            "source": [
                "<div class=\"not-editable team\"><div><h4>Task E</h4></div></div>"
            ]
        },
        {
            "cell_type": "markdown",
            "metadata": {
                "collapsed": false,
                "editable": false
            },
            "source": [
                "<div class=\"not-editable team\"><span> SageMath also supports common simplifications of expressions with the <code>full_simplify()</code> tool. For example, <code>show( ((x+1)^3).full_simplify() )</code> returns the equivalent expression <span class=m> $x^3+3x^2+3x+1$ </span>. </span></div>"
            ]
        },
        {
            "cell_type": "markdown",
            "metadata": {
                "collapsed": false,
                "editable": false
            },
            "source": [
                "<div class=\"not-editable team\"><span> Use <code>full_simplify()</code> to find an equivalent expression for <span class=m> $(x+y)^4$ </span>. </span></div>"
            ]
        },
        {
            "cell_type": "markdown",
            "metadata": {
                "collapsed": false,
                "editable": false
            },
            "source": [
                "<div class=\"not-editable team\"><h2>Activity 1.3.5</h2></div>"
            ]
        },
        {
            "cell_type": "markdown",
            "metadata": {
                "collapsed": false,
                "editable": false
            },
            "source": [
                "<div class=\"not-editable team\"><span> In addition to storing and manipulating expressions of mathematical variables, SageMath also supports studying equations that set two expressions equal to one another. </span></div>"
            ]
        },
        {
            "cell_type": "markdown",
            "metadata": {
                "collapsed": false,
                "editable": false
            },
            "source": [
                "<div class=\"not-editable team\"><div><h4>Task A</h4></div></div>"
            ]
        },
        {
            "cell_type": "markdown",
            "metadata": {
                "collapsed": false,
                "editable": false
            },
            "source": [
                "<div class=\"not-editable team\"><span> Since the equal sign = is already used as the assignment operator <code>=</code>, two equal signs are used to represent the equality operator <code>==</code>. </span></div>"
            ]
        },
        {
            "cell_type": "markdown",
            "metadata": {
                "collapsed": false,
                "editable": false
            },
            "source": [
                "<div class=\"not-editable team\"><span> When only simple numerical values are present, the equality operator behaves similarly in both Python and SageMath: it evaluates both sides of the equation and returns a Boolean value of <code>True</code> or <code>False</code>. For example, <code>3*2==6</code> returns <code>True</code> while <code>3^2==6</code> returns <code>False</code>. </span></div>"
            ]
        },
        {
            "cell_type": "markdown",
            "metadata": {
                "collapsed": false,
                "editable": false
            },
            "source": [
                "<div class=\"not-editable team\"><span> Use the equality operator to verify that <span class=m> $1+2+3+4+5+6$ </span> has the same value as <span class=m> $\\frac{6\\times 7}{2}$ </span>. </span></div>"
            ]
        },
        {
            "cell_type": "markdown",
            "metadata": {
                "collapsed": false,
                "editable": false
            },
            "source": [
                "<div class=\"not-editable team\"><div><h4>Task B</h4></div></div>"
            ]
        },
        {
            "cell_type": "markdown",
            "metadata": {
                "collapsed": false,
                "editable": false
            },
            "source": [
                "<div class=\"not-editable team\"><span> When mathematical variables or more advanced values are present, the equality operator will return an equation, but won't immediately reveal whether this equation is true or false. </span></div>"
            ]
        },
        {
            "cell_type": "markdown",
            "metadata": {
                "collapsed": false,
                "editable": false
            },
            "source": [
                "<div class=\"not-editable team\"><span> Check this by entering <code>x==sqrt(x^2)</code> into a Code cell below. (Remember, you can use the <code>show()</code> tool to make it appear as <span class=m> $x=\\sqrt{x^2}$ </span>.) </span></div>"
            ]
        },
        {
            "cell_type": "markdown",
            "metadata": {
                "collapsed": false,
                "editable": false
            },
            "source": [
                "<div class=\"not-editable team\"><div><h4>Task C</h4></div></div>"
            ]
        },
        {
            "cell_type": "markdown",
            "metadata": {
                "collapsed": false,
                "editable": false
            },
            "source": [
                "<div class=\"not-editable team\"><span> SageMath is able to verify the truth of simple equations by using the <code>bool()</code> tool. For example, <code>bool(x==sqrt(x^2))</code> will return <code>False</code>, since it fails when <span class=m> $x=-4$ </span>. </span></div>"
            ]
        },
        {
            "cell_type": "markdown",
            "metadata": {
                "collapsed": false,
                "editable": false
            },
            "source": [
                "<div class=\"not-editable team\"><span> Use the <code>bool()</code> tool to verify that <span class=m> $3e^{1-\\frac{1}{2}i\\pi}$ </span> has the same value as <span class=m> $-3ei$ </span>. </span></div>"
            ]
        },
        {
            "cell_type": "markdown",
            "metadata": {
                "collapsed": false,
                "editable": false
            },
            "source": [
                "<div class=\"not-editable team\"><div><h4>Task D</h4></div></div>"
            ]
        },
        {
            "cell_type": "markdown",
            "metadata": {
                "collapsed": false,
                "editable": false
            },
            "source": [
                "<div class=\"not-editable team\"><span> Equations can be manipulated by SageMath similarly to how you manipulate them by hand. For example: </span></div>"
            ]
        },
        {
            "cell_type": "markdown",
            "metadata": {
                "collapsed": false,
                "editable": false
            },
            "source": [
                "<div class=\"not-editable team\"><span> <span class=md> $$\\begin{align*} x+7\\amp=11\\\\ \\scriptsize{-7}\\amp\\phantom{=}\\scriptsize{-7}\\\\ x\\amp=4\\\\ \\end{align*}$$ </span> </span></div>"
            ]
        },
        {
            "cell_type": "markdown",
            "metadata": {
                "collapsed": false,
                "editable": false
            },
            "source": [
                "<div class=\"not-editable team\"><span> This may be verified by entering <code>(x+7==11)-7</code> into a Code cell. </span></div>"
            ]
        },
        {
            "cell_type": "markdown",
            "metadata": {
                "collapsed": false,
                "editable": false
            },
            "source": [
                "<div class=\"not-editable team\"><span> Solve the equation <span class=m> $2x+5=x-7$ </span> by subtracting <span class=m> $x$ </span> and <span class=m> $5$ </span> from both sides of the equation. </span></div>"
            ]
        },
        {
            "cell_type": "markdown",
            "metadata": {
                "collapsed": false,
                "editable": false
            },
            "source": [
                "<div class=\"not-editable team\"><div><h4>Task E</h4></div></div>"
            ]
        },
        {
            "cell_type": "markdown",
            "metadata": {
                "collapsed": false,
                "editable": false
            },
            "source": [
                "<div class=\"not-editable team\"><span> SageMath can automatically solve many equations for you using the <code>solve()</code> tool. For example, <code>solve(x+7==11,x)</code> reveals the solution <span class=m> $x=4$ </span> immediately. </span></div>"
            ]
        },
        {
            "cell_type": "markdown",
            "metadata": {
                "collapsed": false,
                "editable": false
            },
            "source": [
                "<div class=\"not-editable team\"><span> Use the <code>solve()</code> tool to solve <span class=m> $2x+5=x-7$ </span> automatically. </span></div>"
            ]
        },
        {
            "cell_type": "markdown",
            "metadata": {
                "collapsed": false,
                "editable": false
            },
            "source": [
                "<div class=\"not-editable team\"><div><h4>Task F</h4></div></div>"
            ]
        },
        {
            "cell_type": "markdown",
            "metadata": {
                "collapsed": false,
                "editable": false
            },
            "source": [
                "<div class=\"not-editable team\"><span> Use the <code>solve()</code> tool to find both solutions to <span class=m> $x^2+3x+7=4-x$ </span>. </span></div>"
            ]
        }
    ],
    "nbformat": 4,
    "nbformat_minor": 4
}