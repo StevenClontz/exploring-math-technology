{
    "cells": [
        {
            "cell_type": "markdown",
            "metadata": {
                "collapsed": false,
                "editable": false
            },
            "source": [
                "<div class=\"not-editable team\"> <style>\n            .not-editable{padding:1em;border-radius:10px;box-shadow:4px 4px 3px #ddd;margin:5px;}\n            .not-editable.individual{background-color:#eefff8;}\n            .not-editable.team{background-color:#eef8ff;}\n            .sidebyside{display:flex;justify-content:center;}\n            .sidebyside > *{margin-right:1em;flex:1;}\n            caption{caption-side:top;white-space: nowrap;color:rgba(0,0,0,.45)}}\n            figcaption{padding-top:0.75em;padding-bottom:0.3em;color:rgba(0,0,0,.45)}\n            .fillin{display:inline-block;width:10em;margin-left:0.2em;margin-right:0.2em;height:1em;border-bottom:1px black solid;}\n            .fn{font-size:0.8em;color:rgba(0,0,0.45)}\n            .newcommands{display:none;}\n            code{background-color:#f8f8f8;border:1px #888 solid;border-radius:2px;padding-left:0.2em;padding-right:0.2em;}\n            img{background-color:#fff;}\n        </style> <div><h1>Section 9.3 Determinants</h1><h2>Team Notebook</h2><div><a href=https://stevenclontz.github.io/exploring-math-technology/vectors-determinants.html>https://stevenclontz.github.io/exploring-math-technology/vectors-determinants.html</a></div></div></div>"
            ]
        },
        {
            "cell_type": "markdown",
            "metadata": {
                "collapsed": false,
                "editable": false
            },
            "source": [
                "<div class=\"not-editable team\"><h2>Activity 9.3.2</h2></div>"
            ]
        },
        {
            "cell_type": "markdown",
            "metadata": {
                "collapsed": false,
                "editable": false
            },
            "source": [
                "<div class=\"not-editable team\"><span> The determinant of a matrix measures the factor by which it transforms areas. </span></div>"
            ]
        },
        {
            "cell_type": "markdown",
            "metadata": {
                "collapsed": false,
                "editable": false
            },
            "source": [
                "<div class=\"not-editable team\"><div><h4>Task A</h4></div></div>"
            ]
        },
        {
            "cell_type": "markdown",
            "metadata": {
                "collapsed": false,
                "editable": false
            },
            "source": [
                "<div class=\"not-editable team\"><span> One of the following matrices has a determinant equal to <span class=m> $2$ </span>, that is, it doubles areas. The other matrix has a determinant equal to <span class=m> $1/2$ </span>, that is, it halves areas. Modify the visualization code in <a href=https://stevenclontz.github.io/exploring-math-technology/vectors-determinants.html#vectors-determinants-preview>Preview Activity 9.3.1</a> to figure out which is which. </span></div>"
            ]
        },
        {
            "cell_type": "markdown",
            "metadata": {
                "collapsed": false,
                "editable": false
            },
            "source": [
                "<div class=\"not-editable team\"><ul><li> <span class=m> $\\left(\\begin{array}{rr} \\frac{1}{2} &amp; 1 \\\\ -1 &amp; 2 \\end{array}\\right)$ </span> </li><li> <span class=m> $\\left(\\begin{array}{rr} 0 &amp; -\\frac{1}{2} \\\\ 1 &amp; -3 \\end{array}\\right)$ </span> </li></ul></div>"
            ]
        },
        {
            "cell_type": "markdown",
            "metadata": {
                "collapsed": false,
                "editable": false
            },
            "source": [
                "<div class=\"not-editable team\"><div><h4>Task B</h4></div></div>"
            ]
        },
        {
            "cell_type": "markdown",
            "metadata": {
                "collapsed": false,
                "editable": false
            },
            "source": [
                "<div class=\"not-editable team\"><span> Use visualizations to determine which of the following matrices you think has the biggest determinant, thie middle determinant, and the smallest determinant. </span></div>"
            ]
        },
        {
            "cell_type": "markdown",
            "metadata": {
                "collapsed": false,
                "editable": false
            },
            "source": [
                "<div class=\"not-editable team\"><ul><li> <span class=m> $\\left(\\begin{array}{rr} 3 &amp; 2 \\\\ -3 &amp; 4 \\end{array}\\right)$ </span> </li><li> <span class=m> $\\left(\\begin{array}{rr} -1 &amp; -2 \\\\ 3 &amp; 5 \\end{array}\\right)$ </span> </li><li> <span class=m> $\\left(\\begin{array}{rr} 3 &amp; 1 \\\\ 3 &amp; 2 \\end{array}\\right)$ </span> </li></ul></div>"
            ]
        },
        {
            "cell_type": "markdown",
            "metadata": {
                "collapsed": false,
                "editable": false
            },
            "source": [
                "<div class=\"not-editable team\"><div><h4>Task C</h4></div></div>"
            ]
        },
        {
            "cell_type": "markdown",
            "metadata": {
                "collapsed": false,
                "editable": false
            },
            "source": [
                "<div class=\"not-editable team\"><span> Visualize the transformation given by <span class=m> $\\left(\\begin{array}{rr} 2 &amp; 5 \\\\ 2 &amp; 5 \\end{array}\\right)$ </span>. What would you expect the value of its determinant to be? </span></div>"
            ]
        },
        {
            "cell_type": "markdown",
            "metadata": {
                "collapsed": false,
                "editable": false
            },
            "source": [
                "<div class=\"not-editable team\"><h2>Activity 9.3.3</h2></div>"
            ]
        },
        {
            "cell_type": "markdown",
            "metadata": {
                "collapsed": false,
                "editable": false
            },
            "source": [
                "<div class=\"not-editable team\"><span> It turns out that the determinant of a <span class=m> $2\\times 2$ </span> matrix can be computed by multiplying its diagonals and subtracting: </span></div>"
            ]
        },
        {
            "cell_type": "markdown",
            "metadata": {
                "collapsed": false,
                "editable": false
            },
            "source": [
                "<div class=\"not-editable team\"><span class=m> $$ \\operatorname{det}\\left(\\begin{array}{rr} 2 &amp; 3 \\\\ 1 &amp; 5 \\end{array}\\right) = (2)(5)-(3)(1) = 10-3=7 $$ </span></div>"
            ]
        },
        {
            "cell_type": "markdown",
            "metadata": {
                "collapsed": false,
                "editable": false
            },
            "source": [
                "<div class=\"not-editable team\"><div><h4>Task A</h4></div></div>"
            ]
        },
        {
            "cell_type": "markdown",
            "metadata": {
                "collapsed": false,
                "editable": false
            },
            "source": [
                "<div class=\"not-editable team\"><span> Use this technique to confirm your work from the previous activity. </span></div>"
            ]
        },
        {
            "cell_type": "markdown",
            "metadata": {
                "collapsed": false,
                "editable": false
            },
            "source": [
                "<div class=\"not-editable team\"><div><h4>Task B</h4></div></div>"
            ]
        },
        {
            "cell_type": "markdown",
            "metadata": {
                "collapsed": false,
                "editable": false
            },
            "source": [
                "<div class=\"not-editable team\"><span> SageMath can also compute the determinant of a matrix <code>A</code> directly: <code>det(A)</code>. Use this to check your work from the previous task. </span></div>"
            ]
        },
        {
            "cell_type": "markdown",
            "metadata": {
                "collapsed": false,
                "editable": false
            },
            "source": [
                "<div class=\"not-editable team\"><h2>Activity 9.3.4</h2></div>"
            ]
        },
        {
            "cell_type": "markdown",
            "metadata": {
                "collapsed": false,
                "editable": false
            },
            "source": [
                "<div class=\"not-editable team\"><span> Consider the transformations caused by the matrices <span class=m> $\\left(\\begin{array}{rr} 1 &amp; 2 \\\\ 3 &amp; 4 \\end{array}\\right)$ </span> and <span class=m> $\\left(\\begin{array}{rr} 2 &amp; 1 \\\\ 4 &amp; 3 \\end{array}\\right)$ </span>. </span></div>"
            ]
        },
        {
            "cell_type": "markdown",
            "metadata": {
                "collapsed": false,
                "editable": false
            },
            "source": [
                "<div class=\"not-editable team\"><div><h4>Task A</h4></div></div>"
            ]
        },
        {
            "cell_type": "markdown",
            "metadata": {
                "collapsed": false,
                "editable": false
            },
            "source": [
                "<div class=\"not-editable team\"><span> Write Code cells that visualize how these matrices transform areas and compute their determinants. </span></div>"
            ]
        },
        {
            "cell_type": "markdown",
            "metadata": {
                "collapsed": false,
                "editable": false
            },
            "source": [
                "<div class=\"not-editable team\"><div><h4>Task B</h4></div></div>"
            ]
        },
        {
            "cell_type": "markdown",
            "metadata": {
                "collapsed": false,
                "editable": false
            },
            "source": [
                "<div class=\"not-editable team\"><span> Write a sentence explaining why you think one determinant was positive and one was negative. </span></div>"
            ]
        },
        {
            "cell_type": "markdown",
            "metadata": {
                "collapsed": false,
                "editable": false
            },
            "source": [
                "<div class=\"not-editable team\"><div><h4>Task C</h4></div></div>"
            ]
        },
        {
            "cell_type": "markdown",
            "metadata": {
                "collapsed": false,
                "editable": false
            },
            "source": [
                "<div class=\"not-editable team\"><span> Confirm your guess by making up two new matrices, visualizing them, and then computing their determinants. </span></div>"
            ]
        },
        {
            "cell_type": "markdown",
            "metadata": {
                "collapsed": false,
                "editable": false
            },
            "source": [
                "<div class=\"not-editable team\"><h2>Activity 9.3.5</h2></div>"
            ]
        },
        {
            "cell_type": "markdown",
            "metadata": {
                "collapsed": false,
                "editable": false
            },
            "source": [
                "<div class=\"not-editable team\"><span> The code in <a href=https://stevenclontz.github.io/exploring-math-technology/vectors-determinants.html#vectors-determinants-3d>Listing 9.3.2</a> visualizes the transformation of the standard unit cube by a <span class=m> $3\\times 3$ </span> matrix, as well as computing its determinant. </span></div>"
            ]
        },
        {
            "cell_type": "markdown",
            "metadata": {
                "collapsed": false,
                "editable": false
            },
            "source": [
                "<div class=\"not-editable team\"><div><figure><figcaption><b>Listing 9.3.2</b>Transforming a cube</figcaption><pre>A = matrix([\n    [3,0,-2],\n    [1,-1,3],\n    [0,-1,1],\n])\nprint(\"The determinant of\")\nshow(A)\nprint(\"is\")\nshow(det(A))\ncorners = [\n    vector([0,0,0]),\n    vector([0,0,1]),\n    vector([0,1,0]),\n    vector([0,1,1]),\n    vector([1,0,0]),\n    vector([1,0,1]),\n    vector([1,1,0]),\n    vector([1,1,1]),\n]\nplot(Polyhedron(vertices=corners)) + \\\nplot(Polyhedron(vertices=[A*c for c in corners]))</pre></figure></div></div>"
            ]
        },
        {
            "cell_type": "markdown",
            "metadata": {
                "collapsed": false,
                "editable": false
            },
            "source": [
                "<div class=\"not-editable team\"><span> Create a few Code cells with modified values for the matrix. Then write a sentence explaining what you think the determinant measures for three-dimensional data. </span></div>"
            ]
        }
    ],
    "nbformat": 4,
    "nbformat_minor": 4
}