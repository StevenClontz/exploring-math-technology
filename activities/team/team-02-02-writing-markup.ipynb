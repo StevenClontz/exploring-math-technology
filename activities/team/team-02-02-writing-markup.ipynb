{
    "cells": [
        {
            "cell_type": "markdown",
            "metadata": {
                "collapsed": false,
                "editable": false
            },
            "source": [
                "<div class=\"not-editable team\"> <style>\n            .not-editable{padding:1em;border-radius:10px;box-shadow:4px 4px 3px #ddd;margin:5px;}\n            .not-editable.individual{background-color:#eefff8;}\n            .not-editable.team{background-color:#eef8ff;}\n            .sidebyside{display:flex;justify-content:center;}\n            .sidebyside > *{margin-right:1em;flex:1;}\n            caption{caption-side:top;white-space: nowrap;color:rgba(0,0,0,.45)}}\n            figcaption{padding-top:0.75em;padding-bottom:0.3em;color:rgba(0,0,0,.45)}\n            .fillin{display:inline-block;width:10em;margin-left:0.2em;margin-right:0.2em;height:1em;border-bottom:1px black solid;}\n            .fn{font-size:0.8em;color:rgba(0,0,0.45)}\n            .newcommands{display:none;}\n            code{background-color:#f8f8f8;border:1px #888 solid;border-radius:2px;padding-left:0.2em;padding-right:0.2em;}\n            img{background-color:#fff;}\n        </style> <div><h1>Section 2.2 Using Markdown and LaTeX</h1><h2>Team Notebook</h2><div><a href=https://stevenclontz.github.io/exploring-math-technology/writing-markup.html>https://stevenclontz.github.io/exploring-math-technology/writing-markup.html</a></div></div></div>"
            ]
        },
        {
            "cell_type": "markdown",
            "metadata": {
                "collapsed": false,
                "editable": false
            },
            "source": [
                "<div class=\"not-editable team\"><h2>Activity 2.2.2</h2></div>"
            ]
        },
        {
            "cell_type": "markdown",
            "metadata": {
                "collapsed": false,
                "editable": false
            },
            "source": [
                "<div class=\"not-editable team\"><span> Markdown has many features for writing formatted documents using plain text, but it does not provide much support for mathematical notation out-of-the-box. </span></div>"
            ]
        },
        {
            "cell_type": "markdown",
            "metadata": {
                "collapsed": false,
                "editable": false
            },
            "source": [
                "<div class=\"not-editable team\"><span> Fortunately, many platforms that support Markdown also support LaTeX (pronounced <span class=q> \"lay-tek\" </span> or <span class=q> \"lah-tek\" </span>, and stylized as <span class=m> $\\LaTeX{}$ </span>) markup for mathematical notation. </span></div>"
            ]
        },
        {
            "cell_type": "markdown",
            "metadata": {
                "collapsed": false,
                "editable": false
            },
            "source": [
                "<div class=\"not-editable team\"><div><h4>Task A</h4></div></div>"
            ]
        },
        {
            "cell_type": "markdown",
            "metadata": {
                "collapsed": false,
                "editable": false
            },
            "source": [
                "<div class=\"not-editable team\"><span> To denote part of your writing as mathematical notation in a Markdown cell, use <code>$</code> and <code>$</code> to surround your mathematics. </span></div>"
            ]
        },
        {
            "cell_type": "markdown",
            "metadata": {
                "collapsed": false,
                "editable": false
            },
            "source": [
                "<div class=\"not-editable team\"><span> Create two Markdown cells with the text <code>The solution to x+1=7 is x=6.</code>. Then use <code>$</code> and <code>$</code> to surround the mathematical notation in one of those cells to observe the difference. (Don't forget to use Shift+Enter to display the formatted text.) </span></div>"
            ]
        },
        {
            "cell_type": "markdown",
            "metadata": {
                "collapsed": false,
                "editable": false
            },
            "source": [
                "<div class=\"not-editable team\"><div><h4>Task B</h4></div></div>"
            ]
        },
        {
            "cell_type": "markdown",
            "metadata": {
                "collapsed": false,
                "editable": false
            },
            "source": [
                "<div class=\"not-editable team\"><span> Now create two Markdown cells with the text <code>The solutions to x^2-1=0 are x=-1 and x=1.</code>, and use <code>$</code> and <code>$</code> to surround the mathematics in one cell. </span></div>"
            ]
        },
        {
            "cell_type": "markdown",
            "metadata": {
                "collapsed": false,
                "editable": false
            },
            "source": [
                "<div class=\"not-editable team\"><div><h4>Task C</h4></div></div>"
            ]
        },
        {
            "cell_type": "markdown",
            "metadata": {
                "collapsed": false,
                "editable": false
            },
            "source": [
                "<div class=\"not-editable team\"><span> When typesetting longer mathematical notation, <code>$$</code> and <code>$$</code> may be used instead to center the mathematics on a new line. </span></div>"
            ]
        },
        {
            "cell_type": "markdown",
            "metadata": {
                "collapsed": false,
                "editable": false
            },
            "source": [
                "<div class=\"not-editable team\"><span> Copy <code>The only solution to x^4-4x^3+6x^2-4x+1=0 is x=1.</code> into a Markdown cell and appropriately format the long equation and short solution. </span></div>"
            ]
        },
        {
            "cell_type": "markdown",
            "metadata": {
                "collapsed": false,
                "editable": false
            },
            "source": [
                "<div class=\"not-editable team\"><div><h4>Task D</h4></div></div>"
            ]
        },
        {
            "cell_type": "markdown",
            "metadata": {
                "collapsed": false,
                "editable": false
            },
            "source": [
                "<div class=\"not-editable team\"><span> One of the best ways to learn <span class=m> $\\LaTeX{}$ </span> notation is to view the source written by other authors. Consider the following formula: </span></div>"
            ]
        },
        {
            "cell_type": "markdown",
            "metadata": {
                "collapsed": false,
                "editable": false
            },
            "source": [
                "<div class=\"not-editable team\"><span class=m> $$ ax^2+bx+c=0 \\Leftrightarrow x = \\frac{-b\\pm\\sqrt{b^2-4ac}}{2a} $$ </span></div>"
            ]
        },
        {
            "cell_type": "markdown",
            "metadata": {
                "collapsed": false,
                "editable": false
            },
            "source": [
                "<div class=\"not-editable team\"><span> To view the source markup for the above formula while in a Jupyter notebook on CoCalc, you can select the cell, and then use the Edit &gt; Edit protect menu option to make the cell editable. If you accidentally delete something, you can use CoCalc's Time Travel feature to restore it. (To view the LaTeX source of any mathematical notation in the HTML verison of this book, you can simply right-click the equation and use the menu that appears.) </span></div>"
            ]
        },
        {
            "cell_type": "markdown",
            "metadata": {
                "collapsed": false,
                "editable": false
            },
            "source": [
                "<div class=\"not-editable team\"><span> Get the source for the formula above, and paste it into a Markdown cell below. </span></div>"
            ]
        },
        {
            "cell_type": "markdown",
            "metadata": {
                "collapsed": false,
                "editable": false
            },
            "source": [
                "<div class=\"not-editable team\"><h2>Activity 2.2.3</h2></div>"
            ]
        },
        {
            "cell_type": "markdown",
            "metadata": {
                "collapsed": false,
                "editable": false
            },
            "source": [
                "<div class=\"not-editable team\"><span> Some LaTeX notation is rather straight-forward, with literal notation such as <code>+</code> and <code>-</code>, and intuitive notation such as <code>^</code> for superscripts and <code>_</code> for subscripts: <code>a_0+a_1^2=-a_2^3</code> produces <span class=m> $a_0+a_1^2=-a_2^3$ </span>. </span></div>"
            ]
        },
        {
            "cell_type": "markdown",
            "metadata": {
                "collapsed": false,
                "editable": false
            },
            "source": [
                "<div class=\"not-editable team\"><span> But multiplication cannot be represented by, say, <code>x</code>, since that represents the variable <span class=m> $x$ </span>. (Instead we write <code>2 \\times 3</code> to produce <span class=m> $2 \\times 3$ </span>.) </span></div>"
            ]
        },
        {
            "cell_type": "markdown",
            "metadata": {
                "collapsed": false,
                "editable": false
            },
            "source": [
                "<div class=\"not-editable team\"><span> Note that <code>z_123</code> produces <span class=m> $z_123$ </span>, so grouping in LaTeX may be accomplished with curly braces <code>{}</code>: <code>z_{123}</code> produces <span class=m> $z_{123}$ </span>. Actual curly braces may be displayed as follows: <code>\\{1,2,3\\}</code> produces <span class=m> $\\{1,2,3\\}$ </span>. </span></div>"
            ]
        },
        {
            "cell_type": "markdown",
            "metadata": {
                "collapsed": false,
                "editable": false
            },
            "source": [
                "<div class=\"not-editable team\"><span> Even professionals usually know just a small subset of all the LaTeX commands available. Instead, references like KaTeX's Support Table and tools like DeTeXify allow for easy lookup of LaTeX commands as needed. </span></div>"
            ]
        },
        {
            "cell_type": "markdown",
            "metadata": {
                "collapsed": false,
                "editable": false
            },
            "source": [
                "<div class=\"not-editable team\"><span> For each of the following samples of mathematical notation, don't peek at their source markup. Instead, use the above resources to replicate the notation as best as possible in a Markdown cell. After you've done as well as possible on your own, you should then compare with the original source code to improve your original work. </span></div>"
            ]
        },
        {
            "cell_type": "markdown",
            "metadata": {
                "collapsed": false,
                "editable": false
            },
            "source": [
                "<div class=\"not-editable team\"><div><h4>Task A</h4></div></div>"
            ]
        },
        {
            "cell_type": "markdown",
            "metadata": {
                "collapsed": false,
                "editable": false
            },
            "source": [
                "<div class=\"not-editable team\"><span class=m> $$ \\det(A) = x_{11}x_{22}-x_{12}x_{21} $$ </span></div>"
            ]
        },
        {
            "cell_type": "markdown",
            "metadata": {
                "collapsed": false,
                "editable": false
            },
            "source": [
                "<div class=\"not-editable team\"><div><h4>Task B</h4></div></div>"
            ]
        },
        {
            "cell_type": "markdown",
            "metadata": {
                "collapsed": false,
                "editable": false
            },
            "source": [
                "<div class=\"not-editable team\"><span class=m> $$ \\mathbb{Q} = \\left\\{\\frac{p}{q}\\,\\middle|\\,p\\in\\mathbb{Z},q\\in\\mathbb{Z}^+\\right\\} $$ </span></div>"
            ]
        },
        {
            "cell_type": "markdown",
            "metadata": {
                "collapsed": false,
                "editable": false
            },
            "source": [
                "<div class=\"not-editable team\"><div><h4>Task C</h4></div></div>"
            ]
        },
        {
            "cell_type": "markdown",
            "metadata": {
                "collapsed": false,
                "editable": false
            },
            "source": [
                "<div class=\"not-editable team\"><span class=m> $$ \\sin(\\alpha+\\beta) = \\sin(\\alpha)\\cos(\\beta)+\\cos(\\alpha)\\sin(\\beta) $$ </span></div>"
            ]
        },
        {
            "cell_type": "markdown",
            "metadata": {
                "collapsed": false,
                "editable": false
            },
            "source": [
                "<div class=\"not-editable team\"><div><h4>Task D</h4></div></div>"
            ]
        },
        {
            "cell_type": "markdown",
            "metadata": {
                "collapsed": false,
                "editable": false
            },
            "source": [
                "<div class=\"not-editable team\"><span class=m> $$ \\sigma(t) = \\langle 0,t_1,2t_2,\\dots,nt_n \\rangle $$ </span></div>"
            ]
        },
        {
            "cell_type": "markdown",
            "metadata": {
                "collapsed": false,
                "editable": false
            },
            "source": [
                "<div class=\"not-editable team\"><div><h4>Task E</h4></div></div>"
            ]
        },
        {
            "cell_type": "markdown",
            "metadata": {
                "collapsed": false,
                "editable": false
            },
            "source": [
                "<div class=\"not-editable team\"><span class=m> $$ \\overline{x} = \\frac{1}{n}\\left(\\sum_{0\\leq i\\lt n}x_i\\right) $$ </span></div>"
            ]
        },
        {
            "cell_type": "markdown",
            "metadata": {
                "collapsed": false,
                "editable": false
            },
            "source": [
                "<div class=\"not-editable team\"><h2>Activity 2.2.4</h2></div>"
            ]
        },
        {
            "cell_type": "markdown",
            "metadata": {
                "collapsed": false,
                "editable": false
            },
            "source": [
                "<div class=\"not-editable team\"><span> LaTeX markup is used by many applications for typesetting mathematical notation. But it's also possible to write entire documents in LaTeX, that can be distributed as PDFs. Since it's very easy to write mathematics, manage bibliographies, and integrate a LaTeX document with computer code, it's very common for STEM researchers to author documents in LaTeX. </span></div>"
            ]
        },
        {
            "cell_type": "markdown",
            "metadata": {
                "collapsed": false,
                "editable": false
            },
            "source": [
                "<div class=\"not-editable team\"><span> CoCalc provides a convenient LaTeX editor that you can use from your web browser. Try it out by following these steps. </span></div>"
            ]
        },
        {
            "cell_type": "markdown",
            "metadata": {
                "collapsed": false,
                "editable": false
            },
            "source": [
                "<div class=\"not-editable team\"><span> <ul><li> <span> From the + New menu option, create a new LaTeX document in the same folder as this notebook. A default document will appear on the left, and its PDF output appears on the right. </span> </li><li> <span> The top part of the code is the preamble with various configurations, most of which you don't need to worry about. There is a place to define the title and author of the paper. Change the title of the paper to match your favorite TV show, and change the author to be named after a character on that show. </span> </li><li> <span> By default the produced PDF will include today's date. This can be configured by inserting the command <code>\\date{Month Day, Year}</code> in the preamble. Use this to change the date to be one week from today instead. </span> </li><li> <span> The body of the document is between the <code>\\begin{document}</code> and <code>\\end{document}</code> commands. The <code>\\maketitle</code> command tells LaTeX to show the title, author, and date. </span> <span> Add some text two lines below the <code>\\maketitle</code> command, quoting a character from your favorite show. </span> </li><li> <span> Finally, copy-paste some mathematical notation from the previous activities so it appears below the quote in your LaTeX-produced PDF. </span> </li></ul> </span></div>"
            ]
        },
        {
            "cell_type": "markdown",
            "metadata": {
                "collapsed": false,
                "editable": false
            },
            "source": [
                "<div class=\"not-editable team\"><span> When you're done, put a link to your LaTeX source file in a Markdown cell below. Since it's located in the same folder, if your file was named <code>example.tex</code>, then it can be linked to by entering <code>[Link to LaTeX file](example.tex)</code>. </span></div>"
            ]
        }
    ],
    "nbformat": 4,
    "nbformat_minor": 4
}