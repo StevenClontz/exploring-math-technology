{
    "cells": [
        {
            "cell_type": "markdown",
            "metadata": {
                "collapsed": false,
                "editable": false
            },
            "source": [
                "<div class=\"not-editable team\"> <style>\n            .not-editable{padding:1em;border-radius:10px;box-shadow:4px 4px 3px #ddd;margin:5px;}\n            .not-editable.individual{background-color:#eefff8;}\n            .not-editable.team{background-color:#eef8ff;}\n            .sidebyside{display:flex;justify-content:center;}\n            .sidebyside > *{margin-right:1em;flex:1;}\n            caption{caption-side:top;white-space: nowrap;color:rgba(0,0,0,.45)}}\n            figcaption{padding-top:0.75em;padding-bottom:0.3em;color:rgba(0,0,0,.45)}\n            .fillin{display:inline-block;width:10em;margin-left:0.2em;margin-right:0.2em;height:1em;border-bottom:1px black solid;}\n            .fn{font-size:0.8em;color:rgba(0,0,0.45)}\n            .newcommands{display:none;}\n            code{background-color:#f8f8f8;border:1px #888 solid;border-radius:2px;padding-left:0.2em;padding-right:0.2em;}\n            img{background-color:#fff;}\n        </style> <div><h1>Section 9.1 Euclidean Vectors</h1><h2>Team Notebook</h2><div><a href=https://stevenclontz.github.io/exploring-math-technology/vectors-euclidean.html>https://stevenclontz.github.io/exploring-math-technology/vectors-euclidean.html</a></div></div></div>"
            ]
        },
        {
            "cell_type": "markdown",
            "metadata": {
                "collapsed": false,
                "editable": false
            },
            "source": [
                "<div class=\"not-editable team\"><h2>Activity 9.1.2</h2></div>"
            ]
        },
        {
            "cell_type": "markdown",
            "metadata": {
                "collapsed": false,
                "editable": false
            },
            "source": [
                "<div class=\"not-editable team\"><span> A Euclidean vector is an ordered list of real numbers. (We'll just call them vectors, although there are other kinds of vectors as well.) They are usually written in a vertical column or as an ordered tuple: </span></div>"
            ]
        },
        {
            "cell_type": "markdown",
            "metadata": {
                "collapsed": false,
                "editable": false
            },
            "source": [
                "<div class=\"not-editable team\"><span class=m> $$ \\left(\\begin{array}{r} 1 \\\\ 2 \\\\ 3 \\end{array}\\right)= \\left(1,\\,2,\\,3\\right) $$ </span></div>"
            ]
        },
        {
            "cell_type": "markdown",
            "metadata": {
                "collapsed": false,
                "editable": false
            },
            "source": [
                "<div class=\"not-editable team\"><span> The dimension of a vector counts how many numbers it lists. Note that two-dimensional vectors store the same information as complex numbers: </span></div>"
            ]
        },
        {
            "cell_type": "markdown",
            "metadata": {
                "collapsed": false,
                "editable": false
            },
            "source": [
                "<div class=\"not-editable team\"><span class=m> $$ \\left(\\begin{array}{r} 4 \\\\ -3 \\end{array}\\right)= \\left(4,-3\\right)= 4-3i $$ </span></div>"
            ]
        },
        {
            "cell_type": "markdown",
            "metadata": {
                "collapsed": false,
                "editable": false
            },
            "source": [
                "<div class=\"not-editable team\"><div><h4>Task A</h4></div></div>"
            ]
        },
        {
            "cell_type": "markdown",
            "metadata": {
                "collapsed": false,
                "editable": false
            },
            "source": [
                "<div class=\"not-editable team\"><span> Addition is defined in the same way for complex numbers and two-dimensional vectors. Find <span class=m> $(5-12i)+(-3-4i)$ </span> and <span class=m> $(5,-12)+(-3,-4)$ </span> without using technnology. </span></div>"
            ]
        },
        {
            "cell_type": "markdown",
            "metadata": {
                "collapsed": false,
                "editable": false
            },
            "source": [
                "<div class=\"not-editable team\"><div><h4>Task B</h4></div></div>"
            ]
        },
        {
            "cell_type": "markdown",
            "metadata": {
                "collapsed": false,
                "editable": false
            },
            "source": [
                "<div class=\"not-editable team\"><span> Write a sentence explaining the rule for adding two-dimensional vectors <span class=m> $(a,b)+(c,d)$ </span>. </span></div>"
            ]
        },
        {
            "cell_type": "markdown",
            "metadata": {
                "collapsed": false,
                "editable": false
            },
            "source": [
                "<div class=\"not-editable team\"><div><h4>Task C</h4></div></div>"
            ]
        },
        {
            "cell_type": "markdown",
            "metadata": {
                "collapsed": false,
                "editable": false
            },
            "source": [
                "<div class=\"not-editable team\"><span> Assuming this pattern continues, what should be the value of <span class=m> $(1,2,3,4,5)+(10,20,30,40,50)$ </span>? </span></div>"
            ]
        },
        {
            "cell_type": "markdown",
            "metadata": {
                "collapsed": false,
                "editable": false
            },
            "source": [
                "<div class=\"not-editable team\"><div><h4>Task D</h4></div></div>"
            ]
        },
        {
            "cell_type": "markdown",
            "metadata": {
                "collapsed": false,
                "editable": false
            },
            "source": [
                "<div class=\"not-editable team\"><span> Trying to add vectors in SageMath with <code>(5,-12)+(-3,4)</code> gives the incorrect result of <code>(5,-12,-3,4)</code>. (These are considered tuples, and the <code>+</code> operator concatenates tuples together.) Instead, we must convert them to vectors first: <code>vector([5,-12])+vector([-3,4])</code>. </span></div>"
            ]
        },
        {
            "cell_type": "markdown",
            "metadata": {
                "collapsed": false,
                "editable": false
            },
            "source": [
                "<div class=\"not-editable team\"><span> Use this technique to add <span class=m> $(1,2,3,4,5)+(10,20,30,40,50)$ </span> in SageMath. </span></div>"
            ]
        },
        {
            "cell_type": "markdown",
            "metadata": {
                "collapsed": false,
                "editable": false
            },
            "source": [
                "<div class=\"not-editable team\"><h2>Activity 9.1.3</h2></div>"
            ]
        },
        {
            "cell_type": "markdown",
            "metadata": {
                "collapsed": false,
                "editable": false
            },
            "source": [
                "<div class=\"not-editable team\"><span> Like complex numbers, two-dimensional and three-dimensional vectors are often used to represent positional data, compared with an origin zero vector <span class=m> $(0,0)$ </span> or <span class=m> $(0,0,0)$ </span>. </span></div>"
            ]
        },
        {
            "cell_type": "markdown",
            "metadata": {
                "collapsed": false,
                "editable": false
            },
            "source": [
                "<div class=\"not-editable team\"><div><h4>Task A</h4></div></div>"
            ]
        },
        {
            "cell_type": "markdown",
            "metadata": {
                "collapsed": false,
                "editable": false
            },
            "source": [
                "<div class=\"not-editable team\"><span> The position two units up/north and three units left/west from the origin is given by the complex number <span class=m> $-3+2i$ </span>. What vector represents that same point? </span></div>"
            ]
        },
        {
            "cell_type": "markdown",
            "metadata": {
                "collapsed": false,
                "editable": false
            },
            "source": [
                "<div class=\"not-editable team\"><div><h4>Task B</h4></div></div>"
            ]
        },
        {
            "cell_type": "markdown",
            "metadata": {
                "collapsed": false,
                "editable": false
            },
            "source": [
                "<div class=\"not-editable team\"><span> Give a vector representing four units right/east and one unit down/south from the origin. </span></div>"
            ]
        },
        {
            "cell_type": "markdown",
            "metadata": {
                "collapsed": false,
                "editable": false
            },
            "source": [
                "<div class=\"not-editable team\"><div><h4>Task C</h4></div></div>"
            ]
        },
        {
            "cell_type": "markdown",
            "metadata": {
                "collapsed": false,
                "editable": false
            },
            "source": [
                "<div class=\"not-editable team\"><span> Describe the point reached by moving two units up and three units left, followed by four units right and one unit down, as the addition of two vectors. Then compute that sum of vectors. </span></div>"
            ]
        },
        {
            "cell_type": "markdown",
            "metadata": {
                "collapsed": false,
                "editable": false
            },
            "source": [
                "<div class=\"not-editable team\"><div><h4>Task D</h4></div></div>"
            ]
        },
        {
            "cell_type": "markdown",
            "metadata": {
                "collapsed": false,
                "editable": false
            },
            "source": [
                "<div class=\"not-editable team\"><span> The SageMath code in <a href=https://stevenclontz.github.io/exploring-math-technology/vectors-euclidean.html#vectors-euclidean-addition>Listing 9.1.3</a> visualizes the vector sum <span class=m> $(5,-12)+(-3,-4)$ </span>. </span></div>"
            ]
        },
        {
            "cell_type": "markdown",
            "metadata": {
                "collapsed": false,
                "editable": false
            },
            "source": [
                "<div class=\"not-editable team\"><div><figure><figcaption><b>Listing 9.1.3</b>Visualizing vector addition</figcaption><pre>a = vector([5,-12])\nb = vector([-3,4])\n\nplot(a,color='blue') + \\\n    arrow(a,a+b,color='red') + \\\n    plot(a+b,color='purple')\n</pre></figure></div></div>"
            ]
        },
        {
            "cell_type": "markdown",
            "metadata": {
                "collapsed": false,
                "editable": false
            },
            "source": [
                "<div class=\"not-editable team\"><span> Run <a href=https://stevenclontz.github.io/exploring-math-technology/vectors-euclidean.html#vectors-euclidean-addition>Listing 9.1.3</a>, and then modify a copy of it to visualize the vectors from the previous three tasks. </span></div>"
            ]
        },
        {
            "cell_type": "markdown",
            "metadata": {
                "collapsed": false,
                "editable": false
            },
            "source": [
                "<div class=\"not-editable team\"><div><h4>Task E</h4></div></div>"
            ]
        },
        {
            "cell_type": "markdown",
            "metadata": {
                "collapsed": false,
                "editable": false
            },
            "source": [
                "<div class=\"not-editable team\"><span> Modify another copy of <a href=https://stevenclontz.github.io/exploring-math-technology/vectors-euclidean.html#vectors-euclidean-addition>Listing 9.1.3</a> to visualize the three-dimensional vector sum <span class=m> $(1,-2,4)+(0,3,-2)$ </span>. (You can rotate, drag, and zoom this visualization to see it from different perspectives.) </span></div>"
            ]
        },
        {
            "cell_type": "markdown",
            "metadata": {
                "collapsed": false,
                "editable": false
            },
            "source": [
                "<div class=\"not-editable team\"><h2>Activity 9.1.4</h2></div>"
            ]
        },
        {
            "cell_type": "markdown",
            "metadata": {
                "collapsed": false,
                "editable": false
            },
            "source": [
                "<div class=\"not-editable team\"><span> Like complex numbers, vectors can be multiplied by real numbers to manipulate them. </span></div>"
            ]
        },
        {
            "cell_type": "markdown",
            "metadata": {
                "collapsed": false,
                "editable": false
            },
            "source": [
                "<div class=\"not-editable team\"><div><h4>Task A</h4></div></div>"
            ]
        },
        {
            "cell_type": "markdown",
            "metadata": {
                "collapsed": false,
                "editable": false
            },
            "source": [
                "<div class=\"not-editable team\"><span> Run <code>3*vector([1,2,3])</code> to compute the product <span class=m> $3\\left(\\begin{array}{r}1 \\\\2 \\\\3\\end{array}\\right)$ </span>. Then write a sentence explaining the rule you think SageMath followed to compute this product. </span></div>"
            ]
        },
        {
            "cell_type": "markdown",
            "metadata": {
                "collapsed": false,
                "editable": false
            },
            "source": [
                "<div class=\"not-editable team\"><div><h4>Task B</h4></div></div>"
            ]
        },
        {
            "cell_type": "markdown",
            "metadata": {
                "collapsed": false,
                "editable": false
            },
            "source": [
                "<div class=\"not-editable team\"><span> Visualize <span class=m> $\\left(\\begin{array}{r}1 \\\\2 \\\\3\\end{array}\\right)$ </span> and <span class=m> $3\\left(\\begin{array}{r}1 \\\\2 \\\\3\\end{array}\\right)$ </span> by using the <code>plot()</code> SageMath tool. </span></div>"
            ]
        },
        {
            "cell_type": "markdown",
            "metadata": {
                "collapsed": false,
                "editable": false
            },
            "source": [
                "<div class=\"not-editable team\"><div><h4>Task C</h4></div></div>"
            ]
        },
        {
            "cell_type": "markdown",
            "metadata": {
                "collapsed": false,
                "editable": false
            },
            "source": [
                "<div class=\"not-editable team\"><span> Write a sentence explaining how multiplying the vector by three changed the shape of the vector. </span></div>"
            ]
        },
        {
            "cell_type": "markdown",
            "metadata": {
                "collapsed": false,
                "editable": false
            },
            "source": [
                "<div class=\"not-editable team\"><div><h4>Task D</h4></div></div>"
            ]
        },
        {
            "cell_type": "markdown",
            "metadata": {
                "collapsed": false,
                "editable": false
            },
            "source": [
                "<div class=\"not-editable team\"><span> Put your intuition to the test! Simplify <span class=m> $2\\left(\\begin{array}{r}3 \\\\-2 \\\\5\\end{array}\\right)$ </span> by hand, and then using a Code cell. Then compare it with <span class=m> $\\left(\\begin{array}{r}3 \\\\-2 \\\\5\\end{array}\\right)$ </span> using a <code>plot()</code> visualization. </span></div>"
            ]
        },
        {
            "cell_type": "markdown",
            "metadata": {
                "collapsed": false,
                "editable": false
            },
            "source": [
                "<div class=\"not-editable team\"><div><h4>Task E</h4></div></div>"
            ]
        },
        {
            "cell_type": "markdown",
            "metadata": {
                "collapsed": false,
                "editable": false
            },
            "source": [
                "<div class=\"not-editable team\"><span> Rewrite the sum <span class=m> $(-2,6,-4)+(-2,6,-4)$ </span> as a product <span class=m> $\\Box(-2,6,4)$ </span>. Then confirm with SageMath that they are indeed the same thing. </span></div>"
            ]
        },
        {
            "cell_type": "markdown",
            "metadata": {
                "collapsed": false,
                "editable": false
            },
            "source": [
                "<div class=\"not-editable team\"><div><h4>Task F</h4></div></div>"
            ]
        },
        {
            "cell_type": "markdown",
            "metadata": {
                "collapsed": false,
                "editable": false
            },
            "source": [
                "<div class=\"not-editable team\"><span> Give an example of multiplying a vector by a negative number. Then write a sentence explaining what happens to the direction of the vector arrow. </span></div>"
            ]
        }
    ],
    "nbformat": 4,
    "nbformat_minor": 4
}