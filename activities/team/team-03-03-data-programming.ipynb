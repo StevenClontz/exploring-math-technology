{
    "cells": [
        {
            "cell_type": "markdown",
            "metadata": {
                "collapsed": false,
                "editable": false
            },
            "source": [
                "<div class=\"not-editable team\"> <style>\n            .not-editable{padding:1em;border-radius:10px;box-shadow:4px 4px 3px #ddd;margin:5px;}\n            .not-editable.individual{background-color:#eefff8;}\n            .not-editable.team{background-color:#eef8ff;}\n            .sidebyside{display:flex;justify-content:center;}\n            .sidebyside > *{margin-right:1em;flex:1;}\n            caption{caption-side:top;white-space: nowrap;color:rgba(0,0,0,.45)}}\n            figcaption{padding-top:0.75em;padding-bottom:0.3em;color:rgba(0,0,0,.45)}\n            .fillin{display:inline-block;width:10em;margin-left:0.2em;margin-right:0.2em;height:1em;border-bottom:1px black solid;}\n            .fn{font-size:0.8em;color:rgba(0,0,0.45)}\n            .newcommands{display:none;}\n            code{background-color:#f8f8f8;border:1px #888 solid;border-radius:2px;padding-left:0.2em;padding-right:0.2em;}\n            img{background-color:#fff;}\n        </style> <div><h1>Section 3.3 Programming with Data</h1><h2>Team Notebook</h2><div><a href=https://stevenclontz.github.io/exploring-math-technology/data-programming.html>https://stevenclontz.github.io/exploring-math-technology/data-programming.html</a></div></div></div>"
            ]
        },
        {
            "cell_type": "markdown",
            "metadata": {
                "collapsed": false,
                "editable": false
            },
            "source": [
                "<div class=\"not-editable team\"><h2>Activity 3.3.2</h2></div>"
            ]
        },
        {
            "cell_type": "markdown",
            "metadata": {
                "collapsed": false,
                "editable": false
            },
            "source": [
                "<div class=\"not-editable team\"><span> Usually you will want to not only store collections of data, but do something with each datum. A for loop allows you to deal with data piece-by-piece. </span></div>"
            ]
        },
        {
            "cell_type": "markdown",
            "metadata": {
                "collapsed": false,
                "editable": false
            },
            "source": [
                "<div class=\"not-editable team\"><div><h4>Task A</h4></div></div>"
            ]
        },
        {
            "cell_type": "markdown",
            "metadata": {
                "collapsed": false,
                "editable": false
            },
            "source": [
                "<div class=\"not-editable team\"><span> Save the following numbers as a list named <code>favorite_numbers</code>. </span></div>"
            ]
        },
        {
            "cell_type": "markdown",
            "metadata": {
                "collapsed": false,
                "editable": false
            },
            "source": [
                "<div class=\"not-editable team\"><span class=m> $$18, 7, -7, -\\frac{7}{2}, 9, \\frac{17}{4}, 0, -17, 19, 3$$ </span></div>"
            ]
        },
        {
            "cell_type": "markdown",
            "metadata": {
                "collapsed": false,
                "editable": false
            },
            "source": [
                "<div class=\"not-editable team\"><div><h4>Task B</h4></div></div>"
            ]
        },
        {
            "cell_type": "markdown",
            "metadata": {
                "collapsed": false,
                "editable": false
            },
            "source": [
                "<div class=\"not-editable team\"><span> Adapt the partial example shown in <a href=https://stevenclontz.github.io/exploring-math-technology/data-programming.html#data-programming-favorite-loop>Listing 3.3.2</a> to display output similar to <a href=https://stevenclontz.github.io/exploring-math-technology/data-programming.html#data-programming-favorite-output>Listing 3.3.3</a> for each number. </span></div>"
            ]
        },
        {
            "cell_type": "markdown",
            "metadata": {
                "collapsed": false,
                "editable": false
            },
            "source": [
                "<div class=\"not-editable team\"><div class=sidebyside><div><figure><figcaption><b>Listing 3.3.2</b>Looping over a list of numbers</figcaption><pre>for number in favorite_numbers:\n    # code indented four spaces right will run for each\n    # \"number\" in the list of \"favorite_numbers\"\n    squared = number**2\n    print(f\"{number} squared is {squared}\")\n    # TODO add more information about each number\n    # (don't forget to indent!)\n\n# Because we removed the indent, this only\n# happens after all numbers are looped through.\nprint(\"All done looping!\")</pre></figure></div><div><figure><figcaption><b>Listing 3.3.3</b>Sample output for each number</figcaption><pre>18 squared is 324\n18 divided by two is 9\n18 plus seven is 25\n18 minus one half is 17.5\n18 times three is 54\n</pre></figure></div></div></div>"
            ]
        },
        {
            "cell_type": "markdown",
            "metadata": {
                "collapsed": false,
                "editable": false
            },
            "source": [
                "<div class=\"not-editable team\"><div><h4>Task C</h4></div></div>"
            ]
        },
        {
            "cell_type": "markdown",
            "metadata": {
                "collapsed": false,
                "editable": false
            },
            "source": [
                "<div class=\"not-editable team\"><span> To deal with pairs of data, for loops can also be nested. Adapt the code shown in <a href=https://stevenclontz.github.io/exploring-math-technology/data-programming.html#data-programming-nested-loops>Listing 3.3.4</a> to create output as shown in <a href=https://stevenclontz.github.io/exploring-math-technology/data-programming.html#data-programming-nested-output>Listing 3.3.5</a>. </span></div>"
            ]
        },
        {
            "cell_type": "markdown",
            "metadata": {
                "collapsed": false,
                "editable": false
            },
            "source": [
                "<div class=\"not-editable team\"><div class=sidebyside><div><figure><figcaption><b>Listing 3.3.4</b>Nested for loops</figcaption><pre>for first in range(10):\n    for second in range(10):\n        print(f\"{first} is first, and {second} is second\")\n</pre></figure></div><div><figure><figcaption><b>Listing 3.3.5</b>Excerpt of desired output</figcaption><pre>0 times 0 is 0\n0 times 1 is 0\n[...]\n5 times 9 is 45\n6 times 0 is 0\n6 times 1 is 6\n6 times 2 is 12\n[...]</pre></figure></div></div></div>"
            ]
        },
        {
            "cell_type": "markdown",
            "metadata": {
                "collapsed": false,
                "editable": false
            },
            "source": [
                "<div class=\"not-editable team\"><h2>Activity 3.3.3</h2></div>"
            ]
        },
        {
            "cell_type": "markdown",
            "metadata": {
                "collapsed": false,
                "editable": false
            },
            "source": [
                "<div class=\"not-editable team\"><span> Often the way you want to deal with data is conditional, that is, the code you want to run will depend on if a variable satisfies a certain condition. </span></div>"
            ]
        },
        {
            "cell_type": "markdown",
            "metadata": {
                "collapsed": false,
                "editable": false
            },
            "source": [
                "<div class=\"not-editable team\"><div><h4>Task A</h4></div></div>"
            ]
        },
        {
            "cell_type": "markdown",
            "metadata": {
                "collapsed": false,
                "editable": false
            },
            "source": [
                "<div class=\"not-editable team\"><span> Paste the code in <a href=https://stevenclontz.github.io/exploring-math-technology/data-programming.html#data-programming-conditional-money>Listing 3.3.6</a> into three code cells, changing the value of <code>money_in_bank</code> so that each cell outputs a different response. </span></div>"
            ]
        },
        {
            "cell_type": "markdown",
            "metadata": {
                "collapsed": false,
                "editable": false
            },
            "source": [
                "<div class=\"not-editable team\"><div><figure><figcaption><b>Listing 3.3.6</b>Conditional on amount of money</figcaption><pre>money_in_bank = \"this probably should be a number, huh\"\n\nif money_in_bank &gt; 10000:\n    print(\"Wow you're rich!\")\nelif money_in_bank &gt; 100:\n    print(\"Hey, not bad.\")\nelse:\n    print(\"I should save up a bit more.\")</pre></figure></div></div>"
            ]
        },
        {
            "cell_type": "markdown",
            "metadata": {
                "collapsed": false,
                "editable": false
            },
            "source": [
                "<div class=\"not-editable team\"><div><h4>Task B</h4></div></div>"
            ]
        },
        {
            "cell_type": "markdown",
            "metadata": {
                "collapsed": false,
                "editable": false
            },
            "source": [
                "<div class=\"not-editable team\"><span> Bugfix the code shown in <a href=https://stevenclontz.github.io/exploring-math-technology/data-programming.html#data-programming-conditional-root>Listing 3.3.7</a>. </span></div>"
            ]
        },
        {
            "cell_type": "markdown",
            "metadata": {
                "collapsed": false,
                "editable": false
            },
            "source": [
                "<div class=\"not-editable team\"><div><figure><figcaption><b>Listing 3.3.7</b>Using conditionals inside loops</figcaption><pre>from math import sqrt # makes the square root function available in Python\n\nfor number in favorite_numbers:\n    root = sqrt(number)\n    print(f\"The square root of {number} is {root}\")\n    # TODO add if/else statements to handle numbers when square root is not allowed\n    # print(f\"Taking the square root of {number} is not allowed!\")</pre></figure></div></div>"
            ]
        },
        {
            "cell_type": "markdown",
            "metadata": {
                "collapsed": false,
                "editable": false
            },
            "source": [
                "<div class=\"not-editable team\"><h2>Activity 3.3.4</h2></div>"
            ]
        },
        {
            "cell_type": "markdown",
            "metadata": {
                "collapsed": false,
                "editable": false
            },
            "source": [
                "<div class=\"not-editable team\"><span> A common exercise in entry-level programming interviews is known as <span class=q> \"FizzBuzz\" </span>. Write a program that for each of the numbers <span class=m> $1$ </span> through <span class=m> $100$ </span> prints that number, the word <span class=q> \"Fizz\" </span> if that number is divisible by <span class=m> $3$ </span>, and <span class=q> \"Buzz\" </span> if that number is divisible by <span class=m> $5$ </span>. Example output for the numbers <span class=m> $1$ </span> through <span class=m> $15$ </span> is given in <a href=https://stevenclontz.github.io/exploring-math-technology/data-programming.html#data-programming-fizzbuzz-output>Listing 3.3.9</a>. </span></div>"
            ]
        },
        {
            "cell_type": "markdown",
            "metadata": {
                "collapsed": false,
                "editable": false
            },
            "source": [
                "<div class=\"not-editable team\"><span> The code in <a href=https://stevenclontz.github.io/exploring-math-technology/data-programming.html#data-programming-fizzbuzz-scrambled>Listing 3.3.8</a> implements FizzBuzz in Python, but the lines are out of order and missing indentation. Fix the code to correctly display output as in <a href=https://stevenclontz.github.io/exploring-math-technology/data-programming.html#data-programming-fizzbuzz-output>Listing 3.3.9</a>. </span></div>"
            ]
        },
        {
            "cell_type": "markdown",
            "metadata": {
                "collapsed": false,
                "editable": false
            },
            "source": [
                "<div class=\"not-editable team\"><div class=sidebyside><div><figure><figcaption><b>Listing 3.3.8</b>Scrambled FizzBuzz program</figcaption><pre>fizz = \"\"\nprint(f\"{number}{fizz}{buzz}\")\nfizz = \" Fizz\"\nif number % 3 == 0: # if number is divisible by three\nbuzz = \"\"\nelse:\nbuzz = \" Buzz\"\nmax_number = 100\nelse:\nfor number in range(1,max_number+1):\nif number % 5 == 0:</pre></figure></div><div><figure><figcaption><b>Listing 3.3.9</b>Beginning FizzBuzz output.</figcaption><pre>1\n2\n3 Fizz\n4\n5 Buzz\n6 Fizz\n7\n8\n9 Fizz\n10 Buzz\n11\n12 Fizz\n13\n14\n15 Fizz Buzz</pre></figure></div></div></div>"
            ]
        }
    ],
    "nbformat": 4,
    "nbformat_minor": 4
}