{
    "cells": [
        {
            "cell_type": "markdown",
            "metadata": {
                "collapsed": false,
                "editable": false
            },
            "source": [
                "<div class=\"not-editable team\"> <style>\n            .not-editable{padding:1em;border-radius:10px;box-shadow:4px 4px 3px #ddd;margin:5px;}\n            .not-editable.individual{background-color:#eefff8;}\n            .not-editable.team{background-color:#eef8ff;}\n            .sidebyside{display:flex;justify-content:center;}\n            .sidebyside > *{margin-right:1em;flex:1;}\n            caption{caption-side:top;white-space: nowrap;color:rgba(0,0,0,.45)}}\n            figcaption{padding-top:0.75em;padding-bottom:0.3em;color:rgba(0,0,0,.45)}\n            .fillin{display:inline-block;width:10em;margin-left:0.2em;margin-right:0.2em;height:1em;border-bottom:1px black solid;}\n            .fn{font-size:0.8em;color:rgba(0,0,0.45)}\n            .newcommands{display:none;}\n            code{background-color:#f8f8f8;border:1px #888 solid;border-radius:2px;padding-left:0.2em;padding-right:0.2em;}\n            img{background-color:#fff;}\n        </style> <div><h1>Section 4.1 Tables</h1><h2>Team Notebook</h2><div><a href=https://stevenclontz.github.io/exploring-math-technology/visualization-tables.html>https://stevenclontz.github.io/exploring-math-technology/visualization-tables.html</a></div></div></div>"
            ]
        },
        {
            "cell_type": "markdown",
            "metadata": {
                "collapsed": false,
                "editable": false
            },
            "source": [
                "<div class=\"not-editable team\"><h2>Activity 4.1.2</h2></div>"
            ]
        },
        {
            "cell_type": "markdown",
            "metadata": {
                "collapsed": false,
                "editable": false
            },
            "source": [
                "<div class=\"not-editable team\"><span> As previously investigated, dictionaries can be used to describe complex data with many different properties. In <a href=https://stevenclontz.github.io/exploring-math-technology/visualization-tables.html#visualization-tables-dictionary-list>Listing 4.1.3</a> a list of dictionaries is used to describe several students in standard Python. </span></div>"
            ]
        },
        {
            "cell_type": "markdown",
            "metadata": {
                "collapsed": false,
                "editable": false
            },
            "source": [
                "<div class=\"not-editable team\"><div><figure><figcaption><b>Listing 4.1.3</b>A list of student dictionaries</figcaption><pre>[\n    {\n        \"name\":             \"Jessica\",\n        \"age\":              19,\n        \"favorite_teacher\": \"Dr. Clontz\",\n    },\n    {\n        \"name\":             \"Lynn\",\n        \"age\":              18,\n        \"favorite_teacher\": \"Ms. Gilbreath\",\n    },\n    {\n        \"name\":             \"Julia\",\n        \"age\":              17,\n        \"favorite_teacher\": \"Mr. Fullinwider\",\n    },\n]</pre></figure></div></div>"
            ]
        },
        {
            "cell_type": "markdown",
            "metadata": {
                "collapsed": false,
                "editable": false
            },
            "source": [
                "<div class=\"not-editable team\"><div><h4>Task A</h4></div></div>"
            ]
        },
        {
            "cell_type": "markdown",
            "metadata": {
                "collapsed": false,
                "editable": false
            },
            "source": [
                "<div class=\"not-editable team\"><span> Copy this list into a Code cell, and add data for at least three more students to the list. </span></div>"
            ]
        },
        {
            "cell_type": "markdown",
            "metadata": {
                "collapsed": false,
                "editable": false
            },
            "source": [
                "<div class=\"not-editable team\"><div><h4>Task B</h4></div></div>"
            ]
        },
        {
            "cell_type": "markdown",
            "metadata": {
                "collapsed": false,
                "editable": false
            },
            "source": [
                "<div class=\"not-editable team\"><span> Data is often stored in a spreadsheet or database as a table. An illustration of this is given in <a href=https://stevenclontz.github.io/exploring-math-technology/visualization-tables.html#visualization-tables-student-table>Table 4.1.4</a>. </span></div>"
            ]
        },
        {
            "cell_type": "markdown",
            "metadata": {
                "collapsed": false,
                "editable": false
            },
            "source": [
                "<div class=\"not-editable team\"><div><table><caption><b>Table 4.1.4.</b> </caption><tr><td>Name</td><td>Age</td><td>Favorite Teacher</td></tr><tr><td>Julia</td><td>17</td><td>Mr. Fullinwider</td></tr><tr><td>Jessica</td><td>19</td><td>Dr. Clontz</td></tr><tr><td>Lynn</td><td>18</td><td>Ms. Gilbreath</td></tr></table></div></div>"
            ]
        },
        {
            "cell_type": "markdown",
            "metadata": {
                "collapsed": false,
                "editable": false
            },
            "source": [
                "<div class=\"not-editable team\"><span> Tables can be created programmatically by using the technique from <a href=https://stevenclontz.github.io/exploring-math-technology/visualization-tables.html#visualization-tables-preview>Preview Activity 4.1.1</a> or by modifying <a href=https://stevenclontz.github.io/exploring-math-technology/visualization-tables.html#visualization-tables-from-rows>Listing 4.1.5</a>. </span></div>"
            ]
        },
        {
            "cell_type": "markdown",
            "metadata": {
                "collapsed": false,
                "editable": false
            },
            "source": [
                "<div class=\"not-editable team\"><div><figure><figcaption><b>Listing 4.1.5</b>Table from rows</figcaption><pre>Table(labels=[\"Name\", \"Age\", \"Favorite Teacher\"]).with_rows([\n    [\"Jessica\", 19, \"Dr. Clontz\"],\n    [\"Lynn\", 18, \"Ms. Gilbreath\"],\n    [\"Julia\", 17, \"Mr. Fullinwider\"],\n])</pre></figure></div></div>"
            ]
        },
        {
            "cell_type": "markdown",
            "metadata": {
                "collapsed": false,
                "editable": false
            },
            "source": [
                "<div class=\"not-editable team\"><span> Run <code>from datascience import Table</code> in a Code cell, and then copy <a href=https://stevenclontz.github.io/exploring-math-technology/visualization-tables.html#visualization-tables-from-rows>Listing 4.1.5</a> to another Code cell. Finally, append the student data you created in the previous task. If importing <code>Table</code> fails, run the code from <a href=https://stevenclontz.github.io/exploring-math-technology/visualization-tables.html#visualization-tables-preview>Preview Activity 4.1.1</a> to make the <code>datascience</code> library available in your project. </span></div>"
            ]
        },
        {
            "cell_type": "markdown",
            "metadata": {
                "collapsed": false,
                "editable": false
            },
            "source": [
                "<div class=\"not-editable team\"><div><h4>Task C</h4></div></div>"
            ]
        },
        {
            "cell_type": "markdown",
            "metadata": {
                "collapsed": false,
                "editable": false
            },
            "source": [
                "<div class=\"not-editable team\"><span> Since data usually isn't hard-coded into a script, but instead entered by folks who may not be programmers into a spreadsheet or similar file, we will need a way to read external files containing data. </span></div>"
            ]
        },
        {
            "cell_type": "markdown",
            "metadata": {
                "collapsed": false,
                "editable": false
            },
            "source": [
                "<div class=\"not-editable team\"><span> Open a spreadsheet application such as Microsoft Excel or Google Sheets. Copy the table of data displayed in the previous task and paste it into your spreadsheet. </span></div>"
            ]
        },
        {
            "cell_type": "markdown",
            "metadata": {
                "collapsed": false,
                "editable": false
            },
            "source": [
                "<div class=\"not-editable team\"><span> Save the spreadsheet to a Comma-Separated Values file named <code>student_data.csv</code> and use the (+) New menu to upload it to CoCalc in the same folder as this Jupyter notebook. </span></div>"
            ]
        },
        {
            "cell_type": "markdown",
            "metadata": {
                "collapsed": false,
                "editable": false
            },
            "source": [
                "<div class=\"not-editable team\"><span> Finally, create a Code cell with the line <code>Table.read_table('student_data.csv')</code> to check that your CSV data can be imported into a <code>datascience</code> table. </span></div>"
            ]
        },
        {
            "cell_type": "markdown",
            "metadata": {
                "collapsed": false,
                "editable": false
            },
            "source": [
                "<div class=\"not-editable team\"><h2>Activity 4.1.3</h2></div>"
            ]
        },
        {
            "cell_type": "markdown",
            "metadata": {
                "collapsed": false,
                "editable": false
            },
            "source": [
                "<div class=\"not-editable team\"><span> When working with data in industry, you're likely working with many more rows than can be displayed on your screen at a given time. In fact, so-called <span class=q> \"Big Data\" </span> is one of the fastest-moving fields of mathematics and computer science. By working with <code>datascience</code> tables, you can filter data as needed for display and analysis. </span></div>"
            ]
        },
        {
            "cell_type": "markdown",
            "metadata": {
                "collapsed": false,
                "editable": false
            },
            "source": [
                "<div class=\"not-editable team\"><div><h4>Task A</h4></div></div>"
            ]
        },
        {
            "cell_type": "markdown",
            "metadata": {
                "collapsed": false,
                "editable": false
            },
            "source": [
                "<div class=\"not-editable team\"><span> Visit the website to get a CSV with the transactions for a (fictional) pizza parlor for the year 2015. (Hint: Use Ctrl+F to search for <span class=q> \"pizza\" </span>.) If you like, you can download the CSV and view it in a spreadsheet program such as Microsoft Excel. </span></div>"
            ]
        },
        {
            "cell_type": "markdown",
            "metadata": {
                "collapsed": false,
                "editable": false
            },
            "source": [
                "<div class=\"not-editable team\"><span> For this activity however, you should right-click and copy the URL to the CSV file. In a Code cell, save this URL to the CS variable named <code>pizza_url</code>, and then import this data directly by running <code>pizza_table = Table.read_table(pizza_url)</code> and <code>pizza_table.show(20)</code>. </span></div>"
            ]
        },
        {
            "cell_type": "markdown",
            "metadata": {
                "collapsed": false,
                "editable": false
            },
            "source": [
                "<div class=\"not-editable team\"><div><table><caption><b>Table 4.1.6.</b> </caption><tr><td> Unnamed: 0 </td><td> id </td><td> date </td><td> time </td><td> name </td><td> size </td><td> type </td><td> price </td></tr><tr><td> 1 </td><td> 2015-000001 </td><td> 2015-01-01 </td><td> 11:38:36 </td><td> hawaiian </td><td> M </td><td> classic </td><td> 13.25 </td></tr><tr><td> 2 </td><td> 2015-000002 </td><td> 2015-01-01 </td><td> 11:57:40 </td><td> classic_dlx </td><td> M </td><td> classic </td><td> 16 </td></tr><tr><td> 3 </td><td> 2015-000002 </td><td> 2015-01-01 </td><td> 11:57:40 </td><td> mexicana </td><td> M </td><td> veggie </td><td> 16 </td></tr></table></div></div>"
            ]
        },
        {
            "cell_type": "markdown",
            "metadata": {
                "collapsed": false,
                "editable": false
            },
            "source": [
                "<div class=\"not-editable team\"><div><h4>Task B</h4></div></div>"
            ]
        },
        {
            "cell_type": "markdown",
            "metadata": {
                "collapsed": false,
                "editable": false
            },
            "source": [
                "<div class=\"not-editable team\"><span> There are almost fifty thousand transactions stored in this dataset. You could write <code>pizza_table.show()</code> without specifying how many records to to try and show them all, but CoCalc will complain that 50,000 rows are too many. </span></div>"
            ]
        },
        {
            "cell_type": "markdown",
            "metadata": {
                "collapsed": false,
                "editable": false
            },
            "source": [
                "<div class=\"not-editable team\"><span> Insert an integer into the <code>.show()</code> tool to display exactly one hundred rows from the dataset. </span></div>"
            ]
        },
        {
            "cell_type": "markdown",
            "metadata": {
                "collapsed": false,
                "editable": false
            },
            "source": [
                "<div class=\"not-editable team\"><div><h4>Task C</h4></div></div>"
            ]
        },
        {
            "cell_type": "markdown",
            "metadata": {
                "collapsed": false,
                "editable": false
            },
            "source": [
                "<div class=\"not-editable team\"><span> The code <code>pizza_table.where(\"date\",\"2015-02-01\").show(10)</code> allows you to view the first ten records of a pizza purchased on Feburary 1, 2015. </span></div>"
            ]
        },
        {
            "cell_type": "markdown",
            "metadata": {
                "collapsed": false,
                "editable": false
            },
            "source": [
                "<div class=\"not-editable team\"><span> Display the first 20 pizza pies purchased on <span class=m> $\\pi$ </span>-Day (that is, March 14, 2015). </span></div>"
            ]
        },
        {
            "cell_type": "markdown",
            "metadata": {
                "collapsed": false,
                "editable": false
            },
            "source": [
                "<div class=\"not-editable team\"><div><h4>Task D</h4></div></div>"
            ]
        },
        {
            "cell_type": "markdown",
            "metadata": {
                "collapsed": false,
                "editable": false
            },
            "source": [
                "<div class=\"not-editable team\"><span> You can filter by any column of the table by modifying the <code>where()</code> arguments. Display the first 20 medium pizzas purchased in this parlor. </span></div>"
            ]
        },
        {
            "cell_type": "markdown",
            "metadata": {
                "collapsed": false,
                "editable": false
            },
            "source": [
                "<div class=\"not-editable team\"><div><h4>Task E</h4></div></div>"
            ]
        },
        {
            "cell_type": "markdown",
            "metadata": {
                "collapsed": false,
                "editable": false
            },
            "source": [
                "<div class=\"not-editable team\"><span> Display the first 20 <span class=q> \"Mexicana\" </span> pizzas purchased in this parlor. (Hint: make sure you filter the data based on how its string appears in the table.) </span></div>"
            ]
        },
        {
            "cell_type": "markdown",
            "metadata": {
                "collapsed": false,
                "editable": false
            },
            "source": [
                "<div class=\"not-editable team\"><div><h4>Task F</h4></div></div>"
            ]
        },
        {
            "cell_type": "markdown",
            "metadata": {
                "collapsed": false,
                "editable": false
            },
            "source": [
                "<div class=\"not-editable team\"><span> Chain two <code>where()</code>s and a <code>show()</code> together to display the first 20 large-sized veggie pizzas purchased in this parlor. </span></div>"
            ]
        },
        {
            "cell_type": "markdown",
            "metadata": {
                "collapsed": false,
                "editable": false
            },
            "source": [
                "<div class=\"not-editable team\"><div><h4>Task G</h4></div></div>"
            ]
        },
        {
            "cell_type": "markdown",
            "metadata": {
                "collapsed": false,
                "editable": false
            },
            "source": [
                "<div class=\"not-editable team\"><span> Running <code>pizza_table.where(\"date\",\"2015-07-22\").sort(\"size\").show()</code> displays the large pizzas sold on July 22nd first, followed by medium, small, and extra-large pizzas (in that order). Running <code>pizza_table.where(\"date\",\"2015-07-22\").sort(\"size\",descending=True).show()</code> displays them in the order extra-large, small, medium, then large. </span></div>"
            ]
        },
        {
            "cell_type": "markdown",
            "metadata": {
                "collapsed": false,
                "editable": false
            },
            "source": [
                "<div class=\"not-editable team\"><span> Write a sentence or two explaining why you suspect the datascience library orders the pizzas in this way. </span></div>"
            ]
        },
        {
            "cell_type": "markdown",
            "metadata": {
                "collapsed": false,
                "editable": false
            },
            "source": [
                "<div class=\"not-editable team\"><div><h4>Task H</h4></div></div>"
            ]
        },
        {
            "cell_type": "markdown",
            "metadata": {
                "collapsed": false,
                "editable": false
            },
            "source": [
                "<div class=\"not-editable team\"><span> Display all the Hawaiian pizzas ordered on April 12, once in increasing order, and once in descreasing order. </span></div>"
            ]
        },
        {
            "cell_type": "markdown",
            "metadata": {
                "collapsed": false,
                "editable": false
            },
            "source": [
                "<div class=\"not-editable team\"><h2>Activity 4.1.4</h2></div>"
            ]
        },
        {
            "cell_type": "markdown",
            "metadata": {
                "collapsed": false,
                "editable": false
            },
            "source": [
                "<div class=\"not-editable team\"><span> While it's great to have data already organized in a CSV, most data is not already parsed for use directly by a data science library. Instead, data scientists must manually and/or programmatically convert the raw data into a suitable format. </span></div>"
            ]
        },
        {
            "cell_type": "markdown",
            "metadata": {
                "collapsed": false,
                "editable": false
            },
            "source": [
                "<div class=\"not-editable team\"><span> In this activity, we will convert the text of a book in order to count the number of times each of its main characters is mentioned in each chapter. </span></div>"
            ]
        },
        {
            "cell_type": "markdown",
            "metadata": {
                "collapsed": false,
                "editable": false
            },
            "source": [
                "<div class=\"not-editable team\"><div><h4>Task A</h4></div></div>"
            ]
        },
        {
            "cell_type": "markdown",
            "metadata": {
                "collapsed": false,
                "editable": false
            },
            "source": [
                "<div class=\"not-editable team\"><span> Save a plain-text copy of Peter Pan by J. M. Barrie as the file <code>peterpan.txt</code> in the same folder as this notebook by using the link . This task may be confirmed by running <code>f=open(\"peterpan.txt\"); print(f.readline()); f.close()</code> in a Code cell. This book is in the public domain, so it's perfectly legal to download a copy for free from the internet. (The same is not true of the Disney animiated film however!) </span></div>"
            ]
        },
        {
            "cell_type": "markdown",
            "metadata": {
                "collapsed": false,
                "editable": false
            },
            "source": [
                "<div class=\"not-editable team\"><div><h4>Task B</h4></div></div>"
            ]
        },
        {
            "cell_type": "markdown",
            "metadata": {
                "collapsed": false,
                "editable": false
            },
            "source": [
                "<div class=\"not-editable team\"><span> Open the file and manually delete the header and footer information, so the text file begins at the start of <span class=q> \"Chapter 1\" </span> and ends with the words <span class=q> \"THE END\" </span>. Re-run <code>print(open(\"peterpan.txt\").readline())</code>, and you should see the line <code>Chapter 1 PETER BREAKS THROUGH</code>. </span></div>"
            ]
        },
        {
            "cell_type": "markdown",
            "metadata": {
                "collapsed": false,
                "editable": false
            },
            "source": [
                "<div class=\"not-editable team\"><div><h4>Task C</h4></div></div>"
            ]
        },
        {
            "cell_type": "markdown",
            "metadata": {
                "collapsed": false,
                "editable": false
            },
            "source": [
                "<div class=\"not-editable team\"><span> Fix the code in <a href=https://stevenclontz.github.io/exploring-math-technology/visualization-tables.html#visualization-tables-text-to-table>Listing 4.1.7</a> to save the chapters of the book to a <code>datascience</code> table. </span></div>"
            ]
        },
        {
            "cell_type": "markdown",
            "metadata": {
                "collapsed": false,
                "editable": false
            },
            "source": [
                "<div class=\"not-editable team\"><div><figure><figcaption><b>Listing 4.1.7</b>Import book text to a table</figcaption><pre>with open(\"peterpan.txt\") as book_file:\n    # Fix the order of the following lines\n    book_table = Table().with_column(\"Chapter\", book_chapters) # creates table of chapters\n    book_chapters = book_string.split(\"Chapter \")[1:] # makes list of strings for each chapter\n    book_table.show() # displays table\n    book_string = book_file.read() # saves contents of the text file to a string</pre></figure></div></div>"
            ]
        },
        {
            "cell_type": "markdown",
            "metadata": {
                "collapsed": false,
                "editable": false
            },
            "source": [
                "<div class=\"not-editable team\"><div><h4>Task D</h4></div></div>"
            ]
        },
        {
            "cell_type": "markdown",
            "metadata": {
                "collapsed": false,
                "editable": false
            },
            "source": [
                "<div class=\"not-editable team\"><span> The code in <a href=https://stevenclontz.github.io/exploring-math-technology/visualization-tables.html#visualization-tables-count-characters>Listing 4.1.8</a> counts how many times Peter Pan is mentioned in each chapter of the book. Extend this code to also count how many times the Darling siblings Wendy, Michael, and John are mentioned in each chapter. </span></div>"
            ]
        },
        {
            "cell_type": "markdown",
            "metadata": {
                "collapsed": false,
                "editable": false
            },
            "source": [
                "<div class=\"not-editable team\"><div><figure><figcaption><b>Listing 4.1.8</b>Counting how many times each character is mentioned</figcaption><pre>book_table = book_table.with_columns([\n    \"Peter\", [c.count(\"Peter\") for c in book_chapters],\n])\nbook_table.show()</pre></figure></div></div>"
            ]
        },
        {
            "cell_type": "markdown",
            "metadata": {
                "collapsed": false,
                "editable": false
            },
            "source": [
                "<div class=\"not-editable team\"><div><h4>Task E</h4></div></div>"
            ]
        },
        {
            "cell_type": "markdown",
            "metadata": {
                "collapsed": false,
                "editable": false
            },
            "source": [
                "<div class=\"not-editable team\"><span> Sort this table to find the chapter where Wendy is mentioned the most, and the chapter where she is mentioned the least. </span></div>"
            ]
        }
    ],
    "nbformat": 4,
    "nbformat_minor": 4
}