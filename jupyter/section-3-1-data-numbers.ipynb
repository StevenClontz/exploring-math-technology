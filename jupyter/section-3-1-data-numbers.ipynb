
    {"nbformat": 4,"nbformat_minor": 0,"cells": [
      
    {
     "cell_type": "markdown",
     "metadata": {
      "collapsed": false,
      "editable": false
     },
    "source":
    
        "<div class=\"not-editable\" style=\"background-color:#eef8ff;padding:1em;border-radius:10px;box-shadow:4px 4px 3px #ddd;margin:5px;\">\n    <span class=\"newcommands\" style=\"display:none;\">\\(\\newcommand{\\amp}{&}\\)<\/span>\n  <h1>3.1 Numbers<\/h1><div>\n    <a href=\"https:\/\/stevenclontz.github.io\/mathematics-of-data\/html\/data-numbers.html\">https:\/\/stevenclontz.github.io\/mathematics-of-data\/html\/data-numbers.html<\/a>\n  <\/div></div>"
      
    }
  ,
    {
     "cell_type": "markdown",
     "metadata": {
      "collapsed": false,
      "editable": false
     },
    "source":
    
        "<div class=\"not-editable\" style=\"background-color:#eef8ff;padding:1em;border-radius:10px;box-shadow:4px 4px 3px #ddd;margin:5px;\">\n          <h3>Preview Activity 3.1.1<\/h3>\n        </div>"
      
    }
  ,
    {
     "cell_type": "markdown",
     "metadata": {
      "collapsed": false,
      "editable": false
     },
    "source":
    
        "<div class=\"not-editable\" style=\"background-color:#eef8ff;padding:1em;border-radius:10px;box-shadow:4px 4px 3px #ddd;margin:5px;\"><span>Write a sentence answering each question.<\/span></div>"
      
    }
  ,
    {
     "cell_type": "markdown",
     "metadata": {
      "collapsed": false,
      "editable": false
     },
    "source":
    
        "<div class=\"not-editable\" style=\"background-color:#eef8ff;padding:1em;border-radius:10px;box-shadow:4px 4px 3px #ddd;margin:5px;\">\n        <span><b>a. <\/b><\/span>\n        <span> Which number is bigger: \\(0.999\\cdots\\) (with infinitely-many \\(9\\)s) or \\(1\\)? Why do you think so? <\/span></div>"
      
    }
  ,
    {
     "cell_type": "markdown",
     "metadata": {
      "collapsed": false,
      "editable": true
     },
    "source":
    
        ""
      
    }
  ,
    {
     "cell_type": "markdown",
     "metadata": {
      "collapsed": false,
      "editable": false
     },
    "source":
    
        "<div class=\"not-editable\" style=\"background-color:#eef8ff;padding:1em;border-radius:10px;box-shadow:4px 4px 3px #ddd;margin:5px;\">\n        <span><b>b. <\/b><\/span>\n        <span> What does \\(0.999\\cdots\\) mean? <\/span></div>"
      
    }
  ,
    {
     "cell_type": "markdown",
     "metadata": {
      "collapsed": false,
      "editable": true
     },
    "source":
    
        ""
      
    }
  ,
    {
     "cell_type": "markdown",
     "metadata": {
      "collapsed": false,
      "editable": false
     },
    "source":
    
        "<div class=\"not-editable\" style=\"background-color:#eef8ff;padding:1em;border-radius:10px;box-shadow:4px 4px 3px #ddd;margin:5px;\">\n        <span><b>c. <\/b><\/span>\n        <span> What does \\(1\\) mean? <\/span></div>"
      
    }
  ,
    {
     "cell_type": "markdown",
     "metadata": {
      "collapsed": false,
      "editable": true
     },
    "source":
    
        ""
      
    }
  ,
    {
     "cell_type": "markdown",
     "metadata": {
      "collapsed": false,
      "editable": false
     },
    "source":
    
        "<div class=\"not-editable\" style=\"background-color:#eef8ff;padding:1em;border-radius:10px;box-shadow:4px 4px 3px #ddd;margin:5px;\">\n          <h3>Activity 3.1.2<\/h3>\n        </div>"
      
    }
  ,
    {
     "cell_type": "markdown",
     "metadata": {
      "collapsed": false,
      "editable": false
     },
    "source":
    
        "<div class=\"not-editable\" style=\"background-color:#eef8ff;padding:1em;border-radius:10px;box-shadow:4px 4px 3px #ddd;margin:5px;\"><span> The counting numbers (sometimes written as the lowercase Greek letter omega \\(\\omega\\), also sometimes called \"whole numbers\" or \"natural numbers\") are those numbers used to quantify whole items: \\[\\{0,1,2,3,\\dots,100,101,\\dots,8675309,8675310,\\dots\\}\\] <\/span></div>"
      
    }
  ,
    {
     "cell_type": "markdown",
     "metadata": {
      "collapsed": false,
      "editable": false
     },
    "source":
    
        "<div class=\"not-editable\" style=\"background-color:#eef8ff;padding:1em;border-radius:10px;box-shadow:4px 4px 3px #ddd;margin:5px;\"><span> For each of the following possible rules for counting numbers, either decide that it is true, or explain when the rule might fail. <\/span></div>"
      
    }
  ,
    {
     "cell_type": "markdown",
     "metadata": {
      "collapsed": false,
      "editable": false
     },
    "source":
    
        "<div class=\"not-editable\" style=\"background-color:#eef8ff;padding:1em;border-radius:10px;box-shadow:4px 4px 3px #ddd;margin:5px;\">\n        <span><b>a. <\/b><\/span>\n        <span> Adding one to a counting number results in another counting number. For example, \\(6\\) is a counting number, so \\(6+1=7\\) is also a counting number. <\/span></div>"
      
    }
  ,
    {
     "cell_type": "markdown",
     "metadata": {
      "collapsed": false,
      "editable": true
     },
    "source":
    
        ""
      
    }
  ,
    {
     "cell_type": "markdown",
     "metadata": {
      "collapsed": false,
      "editable": false
     },
    "source":
    
        "<div class=\"not-editable\" style=\"background-color:#eef8ff;padding:1em;border-radius:10px;box-shadow:4px 4px 3px #ddd;margin:5px;\">\n        <span><b>b. <\/b><\/span>\n        <span> Subtracting one from a counting number results in another counting number. For example, \\(6\\) is a counting number, so \\(6-1=5\\) is also a counting number. <\/span></div>"
      
    }
  ,
    {
     "cell_type": "markdown",
     "metadata": {
      "collapsed": false,
      "editable": true
     },
    "source":
    
        ""
      
    }
  ,
    {
     "cell_type": "markdown",
     "metadata": {
      "collapsed": false,
      "editable": false
     },
    "source":
    
        "<div class=\"not-editable\" style=\"background-color:#eef8ff;padding:1em;border-radius:10px;box-shadow:4px 4px 3px #ddd;margin:5px;\">\n        <span><b>c. <\/b><\/span>\n        <span> Doubling a counting number results in another counting number. For example, \\(32\\) is a counting number, so \\(32\\times 2=64\\) is also a counting number. <\/span></div>"
      
    }
  ,
    {
     "cell_type": "markdown",
     "metadata": {
      "collapsed": false,
      "editable": true
     },
    "source":
    
        ""
      
    }
  ,
    {
     "cell_type": "markdown",
     "metadata": {
      "collapsed": false,
      "editable": false
     },
    "source":
    
        "<div class=\"not-editable\" style=\"background-color:#eef8ff;padding:1em;border-radius:10px;box-shadow:4px 4px 3px #ddd;margin:5px;\">\n        <span><b>d. <\/b><\/span>\n        <span> Halving a counting number results in another counting number. For example, \\(32\\) is a counting number, so \\(32\\div 2=16\\) is also a counting number. <\/span></div>"
      
    }
  ,
    {
     "cell_type": "markdown",
     "metadata": {
      "collapsed": false,
      "editable": true
     },
    "source":
    
        ""
      
    }
  ,
    {
     "cell_type": "markdown",
     "metadata": {
      "collapsed": false,
      "editable": false
     },
    "source":
    
        "<div class=\"not-editable\" style=\"background-color:#eef8ff;padding:1em;border-radius:10px;box-shadow:4px 4px 3px #ddd;margin:5px;\">\n        <span><b>e. <\/b><\/span>\n        <span> Squaring a counting number results in another counting number. For example, \\(9\\) is a counting number, so \\(9^2=81\\) is also a counting number. <\/span></div>"
      
    }
  ,
    {
     "cell_type": "markdown",
     "metadata": {
      "collapsed": false,
      "editable": true
     },
    "source":
    
        ""
      
    }
  ,
    {
     "cell_type": "markdown",
     "metadata": {
      "collapsed": false,
      "editable": false
     },
    "source":
    
        "<div class=\"not-editable\" style=\"background-color:#eef8ff;padding:1em;border-radius:10px;box-shadow:4px 4px 3px #ddd;margin:5px;\">\n        <span><b>f. <\/b><\/span>\n        <span> Square rooting a counting number results in another counting number. For example, \\(9\\) is a counting number, so \\(\\sqrt{9}=3\\) is also a counting number. <\/span></div>"
      
    }
  ,
    {
     "cell_type": "markdown",
     "metadata": {
      "collapsed": false,
      "editable": true
     },
    "source":
    
        ""
      
    }
  ,
    {
     "cell_type": "markdown",
     "metadata": {
      "collapsed": false,
      "editable": false
     },
    "source":
    
        "<div class=\"not-editable\" style=\"background-color:#eef8ff;padding:1em;border-radius:10px;box-shadow:4px 4px 3px #ddd;margin:5px;\">\n          <h3>Activity 3.1.3<\/h3>\n        </div>"
      
    }
  ,
    {
     "cell_type": "markdown",
     "metadata": {
      "collapsed": false,
      "editable": false
     },
    "source":
    
        "<div class=\"not-editable\" style=\"background-color:#eef8ff;padding:1em;border-radius:10px;box-shadow:4px 4px 3px #ddd;margin:5px;\"><span> The integers \\(\\mathbb Z\\) include all the counting numbers as well as their negatives: \\(\\{\\dots,-2,-1,0,1,2,\\dots\\}\\). <\/span></div>"
      
    }
  ,
    {
     "cell_type": "markdown",
     "metadata": {
      "collapsed": false,
      "editable": false
     },
    "source":
    
        "<div class=\"not-editable\" style=\"background-color:#eef8ff;padding:1em;border-radius:10px;box-shadow:4px 4px 3px #ddd;margin:5px;\"><span> Explain which of the number rules from <i>Activity 3.1.2<\/i> work when \"counting number\" is replaced with \"integer\", and which ones fail. <\/span></div>"
      
    }
  ,
    {
     "cell_type": "markdown",
     "metadata": {
      "collapsed": false,
      "editable": true
     },
    "source":
    
        ""
      
    }
  ,
    {
     "cell_type": "markdown",
     "metadata": {
      "collapsed": false,
      "editable": false
     },
    "source":
    
        "<div class=\"not-editable\" style=\"background-color:#eef8ff;padding:1em;border-radius:10px;box-shadow:4px 4px 3px #ddd;margin:5px;\">\n          <h3>Activity 3.1.4<\/h3>\n        </div>"
      
    }
  ,
    {
     "cell_type": "markdown",
     "metadata": {
      "collapsed": false,
      "editable": false
     },
    "source":
    
        "<div class=\"not-editable\" style=\"background-color:#eef8ff;padding:1em;border-radius:10px;box-shadow:4px 4px 3px #ddd;margin:5px;\"><span> The rational numbers \\(\\mathbb Q\\) include all fractions of integers that don't divide by zero, such as \\(\\frac{1}{2}\\), \\(\\frac{22}{7}\\), and \\(-\\frac{1234812348}{42}\\). <\/span></div>"
      
    }
  ,
    {
     "cell_type": "markdown",
     "metadata": {
      "collapsed": false,
      "editable": false
     },
    "source":
    
        "<div class=\"not-editable\" style=\"background-color:#eef8ff;padding:1em;border-radius:10px;box-shadow:4px 4px 3px #ddd;margin:5px;\"><span> Explain which of the number rules from <i>Activity 3.1.2<\/i> work when \"counting number\" is replaced with \"rational number\", and which ones fail. <\/span></div>"
      
    }
  ,
    {
     "cell_type": "markdown",
     "metadata": {
      "collapsed": false,
      "editable": true
     },
    "source":
    
        ""
      
    }
  ,
    {
     "cell_type": "markdown",
     "metadata": {
      "collapsed": false,
      "editable": false
     },
    "source":
    
        "<div class=\"not-editable\" style=\"background-color:#eef8ff;padding:1em;border-radius:10px;box-shadow:4px 4px 3px #ddd;margin:5px;\">\n          <h3>Activity 3.1.5<\/h3>\n        </div>"
      
    }
  ,
    {
     "cell_type": "markdown",
     "metadata": {
      "collapsed": false,
      "editable": false
     },
    "source":
    
        "<div class=\"not-editable\" style=\"background-color:#eef8ff;padding:1em;border-radius:10px;box-shadow:4px 4px 3px #ddd;margin:5px;\"><span> There are other kinds of real numbers, such as \\(e\\) and \\(\\pi\\), that aren't rational. (The technical definition of the system of real numbers requires experience with calculus, so we won't get into that here.) There are other kinds of numbers as well, such as the complex numbers explorered in <i>Two-Dimensional Data and Complex Numbers<\/i>. <\/span></div>"
      
    }
  ,
    {
     "cell_type": "markdown",
     "metadata": {
      "collapsed": false,
      "editable": false
     },
    "source":
    
        "<div class=\"not-editable\" style=\"background-color:#eef8ff;padding:1em;border-radius:10px;box-shadow:4px 4px 3px #ddd;margin:5px;\"><span> Since SageMath tries to model mathematics as authentically as possible, it will try to recognize when you are working with integers or rational numbers. For example, <tt style=\"background-color:#f8f8f8;border:1px #888 solid;border-radius:2px;padding-left:0.2em;padding-right:0.2em;\">type(-17\/3)<\/tt> display that it is a \"<tt style=\"background-color:#f8f8f8;border:1px #888 solid;border-radius:2px;padding-left:0.2em;padding-right:0.2em;\">sage.rings.rational.Rational<\/tt>\" <\/span></div>"
      
    }
  ,
    {
     "cell_type": "markdown",
     "metadata": {
      "collapsed": false,
      "editable": false
     },
    "source":
    
        "<div class=\"not-editable\" style=\"background-color:#eef8ff;padding:1em;border-radius:10px;box-shadow:4px 4px 3px #ddd;margin:5px;\"><span> Use the <tt style=\"background-color:#f8f8f8;border:1px #888 solid;border-radius:2px;padding-left:0.2em;padding-right:0.2em;\">type()<\/tt> tool to help explain why \\(-\\frac{1234812348}{42}\\) is an integer or rational number. <\/span></div>"
      
    }
  ,
    {
     "cell_type": "markdown",
     "metadata": {
      "collapsed": false,
      "editable": true
     },
    "source":
    
        ""
      
    }
  ,
    {
     "cell_type": "markdown",
     "metadata": {
      "collapsed": false,
      "editable": false
     },
    "source":
    
        "<div class=\"not-editable\" style=\"background-color:#eef8ff;padding:1em;border-radius:10px;box-shadow:4px 4px 3px #ddd;margin:5px;\">\n          <h3>Activity 3.1.6<\/h3>\n        </div>"
      
    }
  ,
    {
     "cell_type": "markdown",
     "metadata": {
      "collapsed": false,
      "editable": false
     },
    "source":
    
        "<div class=\"not-editable\" style=\"background-color:#eef8ff;padding:1em;border-radius:10px;box-shadow:4px 4px 3px #ddd;margin:5px;\"><span> Something all these sets of numbers described above is that they are infinite: if you had a finite list of them, take the biggest and add one, and you'll have something you forgot in your list. <\/span></div>"
      
    }
  ,
    {
     "cell_type": "markdown",
     "metadata": {
      "collapsed": false,
      "editable": false
     },
    "source":
    
        "<div class=\"not-editable\" style=\"background-color:#eef8ff;padding:1em;border-radius:10px;box-shadow:4px 4px 3px #ddd;margin:5px;\"><span> While SageMath does its best to hide this limitation from users, having finitely-many possible numbers is not ideal for data intended for storage on a physical computer. To account for this, some lower-level languages offer data types like the short that account for a useful (but finite) range of integers. In particular, shorts are integers that may be written using 16 binary digits. <\/span></div>"
      
    }
  ,
    {
     "cell_type": "markdown",
     "metadata": {
      "collapsed": false,
      "editable": false
     },
    "source":
    
        "<div class=\"not-editable\" style=\"background-color:#eef8ff;padding:1em;border-radius:10px;box-shadow:4px 4px 3px #ddd;margin:5px;\">\n        <span><b>a. <\/b><\/span>\n        <span> How many different numbers can be stored using 2 binary digits? <\/span></div>"
      
    }
  ,
    {
     "cell_type": "markdown",
     "metadata": {
      "collapsed": false,
      "editable": true
     },
    "source":
    
        ""
      
    }
  ,
    {
     "cell_type": "markdown",
     "metadata": {
      "collapsed": false,
      "editable": false
     },
    "source":
    
        "<div class=\"not-editable\" style=\"background-color:#eef8ff;padding:1em;border-radius:10px;box-shadow:4px 4px 3px #ddd;margin:5px;\">\n        <span><b>b. <\/b><\/span>\n        <span> How many different numbers can be stored using 3 binary digits? <\/span></div>"
      
    }
  ,
    {
     "cell_type": "markdown",
     "metadata": {
      "collapsed": false,
      "editable": true
     },
    "source":
    
        ""
      
    }
  ,
    {
     "cell_type": "markdown",
     "metadata": {
      "collapsed": false,
      "editable": false
     },
    "source":
    
        "<div class=\"not-editable\" style=\"background-color:#eef8ff;padding:1em;border-radius:10px;box-shadow:4px 4px 3px #ddd;margin:5px;\">\n        <span><b>c. <\/b><\/span>\n        <span> How many different numbers can be stored as a short? <\/span></div>"
      
    }
  ,
    {
     "cell_type": "markdown",
     "metadata": {
      "collapsed": false,
      "editable": true
     },
    "source":
    
        ""
      
    }
  
    ]}
  