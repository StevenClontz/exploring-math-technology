
    {"nbformat": 4,"nbformat_minor": 0,"cells": [
      
    {
     "cell_type": "markdown",
     "metadata": {
      "collapsed": false,
      "editable": false
     },
    "source":
    
        "<div class=\"not-editable\" style=\"background-color:#eef8ff;padding:1em;border-radius:10px;box-shadow:4px 4px 3px #ddd;margin:5px;\">\n    <span class=\"newcommands\" style=\"display:none;\">\\(\\newcommand{\\amp}{&}\\)<\/span>\n  <h1>1.1 Jupyter Notebooks and CoCalc<\/h1><div>\n    <a href=\"https:\/\/TODO\/programming-jupyter.html\">https:\/\/TODO\/programming-jupyter.html<\/a>\n  <\/div></div>"
      
    }
  ,
    {
     "cell_type": "markdown",
     "metadata": {
      "collapsed": false,
      "editable": false
     },
    "source":
    
        "<div class=\"not-editable\" style=\"background-color:#eef8ff;padding:1em;border-radius:10px;box-shadow:4px 4px 3px #ddd;margin:5px;\">\n          <h3>Preview Activity 1.1.1<\/h3>\n        </div>"
      
    }
  ,
    {
     "cell_type": "markdown",
     "metadata": {
      "collapsed": false,
      "editable": false
     },
    "source":
    
        "<div class=\"not-editable\" style=\"background-color:#eef8ff;padding:1em;border-radius:10px;box-shadow:4px 4px 3px #ddd;margin:5px;\"><span> Throughout this course, you will complete the activities from this text within Jupyter notebooks hosted on <a href=\"https:\/\/cocalc.com\">CoCalc.com<\/a>, some individually, and some within groups.  <\/span></div>"
      
    }
  ,
    {
     "cell_type": "markdown",
     "metadata": {
      "collapsed": false,
      "editable": false
     },
    "source":
    
        "<div class=\"not-editable\" style=\"background-color:#eef8ff;padding:1em;border-radius:10px;box-shadow:4px 4px 3px #ddd;margin:5px;\"><span> <ol><li> <span> Your instructor will provie directions how how to log into <a href=\"https:\/\/cocalc.com\">CoCalc.com<\/a> and access your \"Project\" containing the Jupyter notebooks for this course. <\/span> <\/li><li> <span> Navigate to the notebook associated with this activity <i>Preview Activity 1.1.1<\/i>. (You may need to select a \"kernel\" to open it; that choice is not important for now, so pick anything.) In the editable textbox appearing below this activity in the notebook, double-click to edit and type the well-worn phrase of computing: <tt style=\"background-color:#f8f8f8;border:1px #888 solid;border-radius:2px;padding-left:0.2em;padding-right:0.2em;\">Hello World!<\/tt>. Tap <tt style=\"background-color:#f8f8f8;border:1px #888 solid;border-radius:2px;padding-left:0.2em;padding-right:0.2em;\">Ctrl<\/tt>+<tt style=\"background-color:#f8f8f8;border:1px #888 solid;border-radius:2px;padding-left:0.2em;padding-right:0.2em;\">Enter<\/tt> to save your note. <\/span> <\/li><\/ol> <\/span></div>"
      
    }
  ,
    {
     "cell_type": "markdown",
     "metadata": {
      "collapsed": false,
      "editable": true
     },
    "source":
    
        ""
      
    }
  ,
    {
     "cell_type": "markdown",
     "metadata": {
      "collapsed": false,
      "editable": false
     },
    "source":
    
        "<div class=\"not-editable\" style=\"background-color:#eef8ff;padding:1em;border-radius:10px;box-shadow:4px 4px 3px #ddd;margin:5px;\">\n          <h3>Activity 1.1.2<\/h3>\n        </div>"
      
    }
  ,
    {
     "cell_type": "markdown",
     "metadata": {
      "collapsed": false,
      "editable": false
     },
    "source":
    
        "<div class=\"not-editable\" style=\"background-color:#eef8ff;padding:1em;border-radius:10px;box-shadow:4px 4px 3px #ddd;margin:5px;\"><span> Jupyter notebooks consist of cells that can include either writing or code. Let's explore how writing code in Jupyter works. <\/span></div>"
      
    }
  ,
    {
     "cell_type": "markdown",
     "metadata": {
      "collapsed": false,
      "editable": false
     },
    "source":
    
        "<div class=\"not-editable\" style=\"background-color:#eef8ff;padding:1em;border-radius:10px;box-shadow:4px 4px 3px #ddd;margin:5px;\">\n        <span><b>a. <\/b><\/span>\n        <span> To write and execute code, your notebook needs to have a kernel, that is, an associated programming language. Select a Python 3 kernel from the notebook menu. (If there are multiple versions of Python 3 available, it doesn't matter which one you choose. Do not choose a Python 2 kernel, however.) <\/span></div>"
      
    }
  ,
    {
     "cell_type": "markdown",
     "metadata": {
      "collapsed": false,
      "editable": false
     },
    "source":
    
        "<div class=\"not-editable\" style=\"background-color:#eef8ff;padding:1em;border-radius:10px;box-shadow:4px 4px 3px #ddd;margin:5px;\"><span> Once you've done this, edit the contents of the below cell to read <tt style=\"background-color:#f8f8f8;border:1px #888 solid;border-radius:2px;padding-left:0.2em;padding-right:0.2em;\">import sys; sys.version<\/tt> and hit <tt style=\"background-color:#f8f8f8;border:1px #888 solid;border-radius:2px;padding-left:0.2em;padding-right:0.2em;\">Shift<\/tt>+<tt style=\"background-color:#f8f8f8;border:1px #888 solid;border-radius:2px;padding-left:0.2em;padding-right:0.2em;\">Enter<\/tt>. <\/span></div>"
      
    }
  ,
    {
     "cell_type": "markdown",
     "metadata": {
      "collapsed": false,
      "editable": true
     },
    "source":
    
        ""
      
    }
  ,
    {
     "cell_type": "markdown",
     "metadata": {
      "collapsed": false,
      "editable": false
     },
    "source":
    
        "<div class=\"not-editable\" style=\"background-color:#eef8ff;padding:1em;border-radius:10px;box-shadow:4px 4px 3px #ddd;margin:5px;\">\n        <span><b>b. <\/b><\/span>\n        <span> Most likely, the result of entering the code <tt style=\"background-color:#f8f8f8;border:1px #888 solid;border-radius:2px;padding-left:0.2em;padding-right:0.2em;\">import sys; sys.version<\/tt> into the above cell just make the text \"import sys; sys.version\" appear. This is because the editable cells in this notebook are set to \"Markdown\" mode by default, which is used for writing text, such as the paragraph you're currently reading. (If the above cell wasn't already in Markdown mode, use the menu to switch it to Markdown mode, so the output is simply \"import sys; sys.version\".) <\/span></div>"
      
    }
  ,
    {
     "cell_type": "markdown",
     "metadata": {
      "collapsed": false,
      "editable": false
     },
    "source":
    
        "<div class=\"not-editable\" style=\"background-color:#eef8ff;padding:1em;border-radius:10px;box-shadow:4px 4px 3px #ddd;margin:5px;\"><span> Now enter <tt style=\"background-color:#f8f8f8;border:1px #888 solid;border-radius:2px;padding-left:0.2em;padding-right:0.2em;\">import sys; sys.version<\/tt> into the below cell, and use the menu to switch the cell type to \"Code\". Now using <tt style=\"background-color:#f8f8f8;border:1px #888 solid;border-radius:2px;padding-left:0.2em;padding-right:0.2em;\">Shift<\/tt>+<tt style=\"background-color:#f8f8f8;border:1px #888 solid;border-radius:2px;padding-left:0.2em;padding-right:0.2em;\">Enter<\/tt> should display something like <tt style=\"background-color:#f8f8f8;border:1px #888 solid;border-radius:2px;padding-left:0.2em;padding-right:0.2em;\">'3.6.9 (default, Apr 18 2020, 01:56:04) \\n[GCC 8.4.0]'<\/tt>, the version of the Python kernel you selected. <\/span></div>"
      
    }
  ,
    {
     "cell_type": "markdown",
     "metadata": {
      "collapsed": false,
      "editable": true
     },
    "source":
    
        ""
      
    }
  ,
    {
     "cell_type": "markdown",
     "metadata": {
      "collapsed": false,
      "editable": false
     },
    "source":
    
        "<div class=\"not-editable\" style=\"background-color:#eef8ff;padding:1em;border-radius:10px;box-shadow:4px 4px 3px #ddd;margin:5px;\">\n        <span><b>c. <\/b><\/span>\n        <span> Each task in these notebooks includes a single editable Markdown cell by default. However, you may add as many Markdown and Code cells as you like by clicking above or below an existing cell. <\/span></div>"
      
    }
  ,
    {
     "cell_type": "markdown",
     "metadata": {
      "collapsed": false,
      "editable": false
     },
    "source":
    
        "<div class=\"not-editable\" style=\"background-color:#eef8ff;padding:1em;border-radius:10px;box-shadow:4px 4px 3px #ddd;margin:5px;\"><span> Enter <tt style=\"background-color:#f8f8f8;border:1px #888 solid;border-radius:2px;padding-left:0.2em;padding-right:0.2em;\">The value of 1+1 is:<\/tt> into the below Markdown cell. Then create a Code cell below it with the contents <tt style=\"background-color:#f8f8f8;border:1px #888 solid;border-radius:2px;padding-left:0.2em;padding-right:0.2em;\">1+1<\/tt> to calculate the result. <\/span></div>"
      
    }
  ,
    {
     "cell_type": "markdown",
     "metadata": {
      "collapsed": false,
      "editable": true
     },
    "source":
    
        ""
      
    }
  ,
    {
     "cell_type": "markdown",
     "metadata": {
      "collapsed": false,
      "editable": false
     },
    "source":
    
        "<div class=\"not-editable\" style=\"background-color:#eef8ff;padding:1em;border-radius:10px;box-shadow:4px 4px 3px #ddd;margin:5px;\">\n          <h3>Activity 1.1.3<\/h3>\n        </div>"
      
    }
  ,
    {
     "cell_type": "markdown",
     "metadata": {
      "collapsed": false,
      "editable": false
     },
    "source":
    
        "<div class=\"not-editable\" style=\"background-color:#eef8ff;padding:1em;border-radius:10px;box-shadow:4px 4px 3px #ddd;margin:5px;\"><span> Jupyter notebooks provide a convenient interface for communiating mathematics and data science. The Jupyter server CoCalc.com also provides access to a full Linux environment, which you can access from your browser without installing anything on your computer. <\/span></div>"
      
    }
  ,
    {
     "cell_type": "markdown",
     "metadata": {
      "collapsed": false,
      "editable": false
     },
    "source":
    
        "<div class=\"not-editable\" style=\"background-color:#eef8ff;padding:1em;border-radius:10px;box-shadow:4px 4px 3px #ddd;margin:5px;\">\n        <span><b>a. <\/b><\/span>\n        <span> To access the Linux command-line interface, go to \"Files\" and create a new \"Terminal\" file. <\/span></div>"
      
    }
  ,
    {
     "cell_type": "markdown",
     "metadata": {
      "collapsed": false,
      "editable": false
     },
    "source":
    
        "<div class=\"not-editable\" style=\"background-color:#eef8ff;padding:1em;border-radius:10px;box-shadow:4px 4px 3px #ddd;margin:5px;\"><span> We can use the Linux command-line program <tt style=\"background-color:#f8f8f8;border:1px #888 solid;border-radius:2px;padding-left:0.2em;padding-right:0.2em;\">cat<\/tt> to display information about the version of Linux being run, which is stored in the file <tt style=\"background-color:#f8f8f8;border:1px #888 solid;border-radius:2px;padding-left:0.2em;padding-right:0.2em;\">\/etc\/os-release<\/tt>. To do this, enter <tt style=\"background-color:#f8f8f8;border:1px #888 solid;border-radius:2px;padding-left:0.2em;padding-right:0.2em;\">cat \/etc\/os-release<\/tt> in your terminal. Copy and paste the results (which should include a line such as <tt style=\"background-color:#f8f8f8;border:1px #888 solid;border-radius:2px;padding-left:0.2em;padding-right:0.2em;\">PRETTY_NAME=\"Ubuntu 18.04.4 LTS\"<\/tt>) into the below cell. (It's okay if the line breaks pasted from the terminal don't appear in the output below; we will explore Markdown formatting in a later activity.) <\/span></div>"
      
    }
  ,
    {
     "cell_type": "markdown",
     "metadata": {
      "collapsed": false,
      "editable": true
     },
    "source":
    
        ""
      
    }
  ,
    {
     "cell_type": "markdown",
     "metadata": {
      "collapsed": false,
      "editable": false
     },
    "source":
    
        "<div class=\"not-editable\" style=\"background-color:#eef8ff;padding:1em;border-radius:10px;box-shadow:4px 4px 3px #ddd;margin:5px;\">\n        <span><b>b. <\/b><\/span>\n        <span> You can upload any files you need to CoCalc, which can then be used by your notebooks. Use a search engine to find an image of a \"Klein bottle\" on the internet. Download a copy of this image to your computer. Using the \"New\" menu option in CoCalc, upload a copy of this image to the server, in the same folder as this notebook's file. <\/span></div>"
      
    }
  ,
    {
     "cell_type": "markdown",
     "metadata": {
      "collapsed": false,
      "editable": false
     },
    "source":
    
        "<div class=\"not-editable\" style=\"background-color:#eef8ff;padding:1em;border-radius:10px;box-shadow:4px 4px 3px #ddd;margin:5px;\"><span> Make this image display in the below Markdown cell by entering <tt style=\"background-color:#f8f8f8;border:1px #888 solid;border-radius:2px;padding-left:0.2em;padding-right:0.2em;\">![Klein bottle](image.png)<\/tt>, replacing <tt style=\"background-color:#f8f8f8;border:1px #888 solid;border-radius:2px;padding-left:0.2em;padding-right:0.2em;\">image.png<\/tt> with the filename of the image you uploaded. (The text <tt style=\"background-color:#f8f8f8;border:1px #888 solid;border-radius:2px;padding-left:0.2em;padding-right:0.2em;\">Klein bottle<\/tt> is used to describe the image in case it doesn't load, or for those using a screen reader.) <\/span></div>"
      
    }
  ,
    {
     "cell_type": "markdown",
     "metadata": {
      "collapsed": false,
      "editable": true
     },
    "source":
    
        ""
      
    }
  ,
    {
     "cell_type": "markdown",
     "metadata": {
      "collapsed": false,
      "editable": false
     },
    "source":
    
        "<div class=\"not-editable\" style=\"background-color:#eef8ff;padding:1em;border-radius:10px;box-shadow:4px 4px 3px #ddd;margin:5px;\">\n        <span><b>c. <\/b><\/span>\n        <span> Now create a new file called <tt style=\"background-color:#f8f8f8;border:1px #888 solid;border-radius:2px;padding-left:0.2em;padding-right:0.2em;\">data.csv<\/tt> in the same folder as this notebook. Copy-paste the text from <i>Listing 1.1.1<\/i> into this new file to save a Comma-Separated Values spreadsheet. <\/span></div>"
      
    }
  ,
    {
     "cell_type": "markdown",
     "metadata": {
      "collapsed": false,
      "editable": false
     },
    "source":
    
        "<div class=\"not-editable\" style=\"background-color:#eef8ff;padding:1em;border-radius:10px;box-shadow:4px 4px 3px #ddd;margin:5px;\">\n    <div><b>Listing 1.1.1.<\/b><\/div>\n    <div>Contents for <tt style=\"background-color:#f8f8f8;border:1px #888 solid;border-radius:2px;padding-left:0.2em;padding-right:0.2em;\">data.csv<\/tt><pre>Time,TempInF\n8:00,74\n9:00,78\n10:00,82\n11:00,85\n12:00,88\n13:00,89\n14:00,90\n15:00,91\n16:00,89\n17:00,88<\/pre><\/div>\n  </div>"
      
    }
  ,
    {
     "cell_type": "markdown",
     "metadata": {
      "collapsed": false,
      "editable": false
     },
    "source":
    
        "<div class=\"not-editable\" style=\"background-color:#eef8ff;padding:1em;border-radius:10px;box-shadow:4px 4px 3px #ddd;margin:5px;\"><span> Then copy-paste the text from <i>Listing 1.1.2<\/i> into a Code cell below to use this data in a Python 3 script to display the temperatures in Celcius. <\/span></div>"
      
    }
  ,
    {
     "cell_type": "markdown",
     "metadata": {
      "collapsed": false,
      "editable": false
     },
    "source":
    
        "<div class=\"not-editable\" style=\"background-color:#eef8ff;padding:1em;border-radius:10px;box-shadow:4px 4px 3px #ddd;margin:5px;\">\n    <div><b>Listing 1.1.2.<\/b><\/div>\n    <div>Code cell to parse <tt style=\"background-color:#f8f8f8;border:1px #888 solid;border-radius:2px;padding-left:0.2em;padding-right:0.2em;\">data.csv<\/tt><pre>with open(\"data.csv\", \"r\") as csv_file:\n    rows = csv.DictReader(csv_file, delimiter=',')\n    for row in rows:\n        time = row[\"Time\"]\n        temp = format((float(row[\"TempInF\"])-32)*5\/9, '.2f')\n        print(\"The temperature at\", time, \"is\", temp, \"degrees Celcius.\")<\/pre><\/div>\n  </div>"
      
    }
  ,
    {
     "cell_type": "markdown",
     "metadata": {
      "collapsed": false,
      "editable": true
     },
    "source":
    
        ""
      
    }
  
    ]}
  