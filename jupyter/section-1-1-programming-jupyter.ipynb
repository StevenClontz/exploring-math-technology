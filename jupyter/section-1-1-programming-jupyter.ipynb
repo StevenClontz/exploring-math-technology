{
 "cells": [
  {
   "cell_type": "markdown",
   "metadata": {
    "collapsed": false,
    "editable": false
   },
   "source": [
    "<div class=\"not-editable\" style=\" background-color:#f8f8f8;padding:1em;border-radius:10px;box-shadow:4px 4px 3px #ddd;margin:5px; \">\n",
    "\n",
    "\n",
    " <span class=\"newcommands\" style=\"\n",
    " display:none;\n",
    " \">\\(\\newcommand{\\amp}{&}\\)</span>\n",
    " \n",
    " <h1>1.1 Jupyter Notebooks and CoCalc</h1>\n",
    " <div>\n",
    " <a href=\"\n",
    " https://TODO/programming-jupyter.html\n",
    " \">\n",
    " https://TODO/programming-jupyter.html\n",
    " </a>\n",
    " </div>\n",
    " \n",
    "\n",
    "</div>"
   ]
  },
  {
   "cell_type": "markdown",
   "metadata": {
    "collapsed": false,
    "editable": false
   },
   "source": [
    "<div class=\"not-editable\" style=\" background-color:#f8f8f8;padding:1em;border-radius:10px;box-shadow:4px 4px 3px #ddd;margin:5px; \">\n",
    "\n",
    "\n",
    " <h3>\n",
    " Preview Activity 1.1.1</h3>\n",
    " \n",
    "\n",
    "</div>"
   ]
  },
  {
   "cell_type": "markdown",
   "metadata": {
    "collapsed": false,
    "editable": false
   },
   "source": [
    "<div class=\"not-editable\" style=\" background-color:#f8f8f8;padding:1em;border-radius:10px;box-shadow:4px 4px 3px #ddd;margin:5px; \">\n",
    "\n",
    "\n",
    " <span>\n",
    "Throughout this course, you will complete the activities from this text within\n",
    "Jupyter notebooks hosted on CoCalc.com, some\n",
    "individually, and some within groups.\n",
    "Your first activity is to set these Jupyter notebooks up for yourself!\n",
    " </span>\n",
    " \n",
    "\n",
    "</div>"
   ]
  },
  {
   "cell_type": "markdown",
   "metadata": {
    "collapsed": false,
    "editable": false
   },
   "source": [
    "<div class=\"not-editable\" style=\" background-color:#f8f8f8;padding:1em;border-radius:10px;box-shadow:4px 4px 3px #ddd;margin:5px; \">\n",
    "\n",
    "\n",
    " <span>\n",
    " \n",
    " <ol>\n",
    " <li>\n",
    " \n",
    " <span>\n",
    "First, either create an account at CoCalc.com,\n",
    "or log in with the account provided by your instructor.\n",
    " </span>\n",
    " \n",
    " </li>\n",
    " \n",
    " <li>\n",
    " \n",
    " <span>\n",
    "Go to TODO https://share.cocalc.com/share/d17525…,\n",
    "and use the \"Open in CoCalc\" button to create\n",
    "a new project with your notebooks for the course.\n",
    " </span>\n",
    " \n",
    " </li>\n",
    " \n",
    " <li>\n",
    " \n",
    " <span>\n",
    "Open the <tt>Settings</tt> for this project, and add your instructor's account as a\n",
    "<tt>Collaborator</tt>. This allows them to see your work, and unlock the premium features\n",
    "required for this course (such as importing data from other websites to analyze).\n",
    " </span>\n",
    " \n",
    " </li>\n",
    " \n",
    " <li>\n",
    " \n",
    " <span>\n",
    "Finally, navigate to the notebook associated with this activity. (You may need\n",
    "to select a \"kernel\" to open it; that choice is not important for now, so\n",
    "pick anything.) In the editable textbox\n",
    "appearing below this activity in the notebook, double-click to edit, erase any default content,\n",
    "and type the well-worn phrase of computing: <tt>Hello World!</tt>. Tap\n",
    "Shift+Enter to save your note.\n",
    " </span>\n",
    " \n",
    " </li>\n",
    " </ol>\n",
    " \n",
    " </span>\n",
    " \n",
    "\n",
    "</div>"
   ]
  },
  {
   "cell_type": "markdown",
   "metadata": {
    "collapsed": false,
    "editable": true
   },
   "source": [
   ]
  },
  {
   "cell_type": "markdown",
   "metadata": {
    "collapsed": false,
    "editable": false
   },
   "source": [
    "<div class=\"not-editable\" style=\" background-color:#f8f8f8;padding:1em;border-radius:10px;box-shadow:4px 4px 3px #ddd;margin:5px; \">\n",
    "\n",
    "\n",
    " <h3>\n",
    " Activity 1.1.2</h3>\n",
    " \n",
    "\n",
    "</div>"
   ]
  },
  {
   "cell_type": "markdown",
   "metadata": {
    "collapsed": false,
    "editable": false
   },
   "source": [
    "<div class=\"not-editable\" style=\" background-color:#f8f8f8;padding:1em;border-radius:10px;box-shadow:4px 4px 3px #ddd;margin:5px; \">\n",
    "\n",
    "\n",
    " <span>\n",
    "Jupyter notebooks consist of cells that can include either writing or\n",
    "code. Let's explore how writing code in Jupyter works.\n",
    " </span>\n",
    " \n",
    "\n",
    "</div>"
   ]
  },
  {
   "cell_type": "markdown",
   "metadata": {
    "collapsed": false,
    "editable": false
   },
   "source": [
    "<div class=\"not-editable\" style=\" background-color:#f8f8f8;padding:1em;border-radius:10px;box-shadow:4px 4px 3px #ddd;margin:5px; \">\n",
    "\n",
    "\n",
    " <div><b>a. </b></div>\n",
    " \n",
    " <span>\n",
    "To write and execute code, your notebook needs to have a kernel,\n",
    "that is, an associated programming language. Select a Python 3 kernel from\n",
    "the notebook menu. (If there are multiple versions of Python 3 available,\n",
    "it doesn't matter which one you choose. Do not choose a Python 2 kernel, however.)\n",
    " </span>\n",
    " \n",
    "\n",
    "</div>"
   ]
  },
  {
   "cell_type": "markdown",
   "metadata": {
    "collapsed": false,
    "editable": false
   },
   "source": [
    "<div class=\"not-editable\" style=\" background-color:#f8f8f8;padding:1em;border-radius:10px;box-shadow:4px 4px 3px #ddd;margin:5px; \">\n",
    "\n",
    "\n",
    " <span>\n",
    "Once you've done this, edit the contents of the below cell to read\n",
    "<tt>import sys; sys.version</tt> and hit Shift+Enter.\n",
    " </span>\n",
    " \n",
    "\n",
    "</div>"
   ]
  },
  {
   "cell_type": "markdown",
   "metadata": {
    "collapsed": false,
    "editable": true
   },
   "source": [
   ]
  },
  {
   "cell_type": "markdown",
   "metadata": {
    "collapsed": false,
    "editable": false
   },
   "source": [
    "<div class=\"not-editable\" style=\" background-color:#f8f8f8;padding:1em;border-radius:10px;box-shadow:4px 4px 3px #ddd;margin:5px; \">\n",
    "\n",
    "\n",
    " <div><b>b. </b></div>\n",
    " \n",
    " <span>\n",
    "Most likely, the result of entering the code\n",
    "<tt>import sys; sys.version</tt> into the above cell just make the text\n",
    "\"import sys; sys.version\" appear. This is because the editable\n",
    "cells in this notebook are set to \"Markdown\" mode by default, which is used\n",
    "for writing text, such as the paragraph you're currently reading.\n",
    "(If the above cell wasn't already in Markdown mode, use the menu\n",
    "to switch it to Markdown mode, so the output is simply\n",
    "\"import sys; sys.version\".)\n",
    " </span>\n",
    " \n",
    "\n",
    "</div>"
   ]
  },
  {
   "cell_type": "markdown",
   "metadata": {
    "collapsed": false,
    "editable": false
   },
   "source": [
    "<div class=\"not-editable\" style=\" background-color:#f8f8f8;padding:1em;border-radius:10px;box-shadow:4px 4px 3px #ddd;margin:5px; \">\n",
    "\n",
    "\n",
    " <span>\n",
    "Now enter <tt>import sys; sys.version</tt> into the below cell, and use the menu to switch\n",
    "the cell type to \"Code\". Now using Shift+Enter should\n",
    "display something like <tt>'3.6.9 (default, Apr 18 2020, 01:56:04) \\n[GCC 8.4.0]'</tt>,\n",
    "the version of the Python kernel you selected.\n",
    " </span>\n",
    " \n",
    "\n",
    "</div>"
   ]
  },
  {
   "cell_type": "markdown",
   "metadata": {
    "collapsed": false,
    "editable": true
   },
   "source": [
   ]
  },
  {
   "cell_type": "markdown",
   "metadata": {
    "collapsed": false,
    "editable": false
   },
   "source": [
    "<div class=\"not-editable\" style=\" background-color:#f8f8f8;padding:1em;border-radius:10px;box-shadow:4px 4px 3px #ddd;margin:5px; \">\n",
    "\n",
    "\n",
    " <div><b>c. </b></div>\n",
    " \n",
    " <span>\n",
    "Each task in these notebooks includes a single editable Markdown cell by default.\n",
    "However, you may add as many Markdown and Code cells as you like by clicking above or below\n",
    "an existing cell.\n",
    " </span>\n",
    " \n",
    "\n",
    "</div>"
   ]
  },
  {
   "cell_type": "markdown",
   "metadata": {
    "collapsed": false,
    "editable": false
   },
   "source": [
    "<div class=\"not-editable\" style=\" background-color:#f8f8f8;padding:1em;border-radius:10px;box-shadow:4px 4px 3px #ddd;margin:5px; \">\n",
    "\n",
    "\n",
    " <span>\n",
    "Enter <tt>The value of 1+1 is:</tt> into the below Markdown cell. Then\n",
    "create a Code cell below it with the contents <tt>1+1</tt> to calculate the result.\n",
    " </span>\n",
    " \n",
    "\n",
    "</div>"
   ]
  },
  {
   "cell_type": "markdown",
   "metadata": {
    "collapsed": false,
    "editable": true
   },
   "source": [
   ]
  },
  {
   "cell_type": "markdown",
   "metadata": {
    "collapsed": false,
    "editable": false
   },
   "source": [
    "<div class=\"not-editable\" style=\" background-color:#f8f8f8;padding:1em;border-radius:10px;box-shadow:4px 4px 3px #ddd;margin:5px; \">\n",
    "\n",
    "\n",
    " <h3>\n",
    " Activity 1.1.3</h3>\n",
    " \n",
    "\n",
    "</div>"
   ]
  },
  {
   "cell_type": "markdown",
   "metadata": {
    "collapsed": false,
    "editable": false
   },
   "source": [
    "<div class=\"not-editable\" style=\" background-color:#f8f8f8;padding:1em;border-radius:10px;box-shadow:4px 4px 3px #ddd;margin:5px; \">\n",
    "\n",
    "\n",
    " <span>\n",
    "Jupyter notebooks provide a convenient interface for communiating mathematics\n",
    "and data science. The Jupyter server CoCalc.com also provides access to a full Linux\n",
    "environment, which you can access from your browser without installing anything on\n",
    "your computer.\n",
    " </span>\n",
    " \n",
    "\n",
    "</div>"
   ]
  },
  {
   "cell_type": "markdown",
   "metadata": {
    "collapsed": false,
    "editable": false
   },
   "source": [
    "<div class=\"not-editable\" style=\" background-color:#f8f8f8;padding:1em;border-radius:10px;box-shadow:4px 4px 3px #ddd;margin:5px; \">\n",
    "\n",
    "\n",
    " <div><b>a. </b></div>\n",
    " \n",
    " <span>\n",
    "To access the Linux command-line interface, go to \"Files\" and create a new\n",
    "\"Terminal\" file.\n",
    " </span>\n",
    " \n",
    "\n",
    "</div>"
   ]
  },
  {
   "cell_type": "markdown",
   "metadata": {
    "collapsed": false,
    "editable": false
   },
   "source": [
    "<div class=\"not-editable\" style=\" background-color:#f8f8f8;padding:1em;border-radius:10px;box-shadow:4px 4px 3px #ddd;margin:5px; \">\n",
    "\n",
    "\n",
    " <span>\n",
    "We can use the Linux command-line program <tt>cat</tt> to display information about\n",
    "the version of Linux being run, which is stored in the file <tt>/etc/os-release</tt>.\n",
    "To do this, enter <tt>cat /etc/os-release</tt> in your terminal. Copy and paste the\n",
    "results (which should include a line such as\n",
    "<tt>PRETTY_NAME=\"Ubuntu 18.04.4 LTS\"</tt>) into the below cell. (It's okay\n",
    "if the line breaks pasted from the terminal don't appear in the output below;\n",
    "we will explore Markdown formatting in a later activity.)\n",
    " </span>\n",
    " \n",
    "\n",
    "</div>"
   ]
  },
  {
   "cell_type": "markdown",
   "metadata": {
    "collapsed": false,
    "editable": true
   },
   "source": [
   ]
  },
  {
   "cell_type": "markdown",
   "metadata": {
    "collapsed": false,
    "editable": false
   },
   "source": [
    "<div class=\"not-editable\" style=\" background-color:#f8f8f8;padding:1em;border-radius:10px;box-shadow:4px 4px 3px #ddd;margin:5px; \">\n",
    "\n",
    "\n",
    " <div><b>b. </b></div>\n",
    " \n",
    " <span>\n",
    "You can upload any files you need to CoCalc, which can then be used by your notebooks.\n",
    "Use a search engine to find an image of a \"Klein bottle\" on the internet. Download\n",
    "a copy of this image to your computer. Using the \"New\" menu option in CoCalc,\n",
    "upload a copy of this image to the server, in the same folder as this notebook's\n",
    "file.\n",
    " </span>\n",
    " \n",
    "\n",
    "</div>"
   ]
  },
  {
   "cell_type": "markdown",
   "metadata": {
    "collapsed": false,
    "editable": false
   },
   "source": [
    "<div class=\"not-editable\" style=\" background-color:#f8f8f8;padding:1em;border-radius:10px;box-shadow:4px 4px 3px #ddd;margin:5px; \">\n",
    "\n",
    "\n",
    " <span>\n",
    "Make this image display in the below Markdown cell by entering\n",
    "<tt>![Klein bottle](image.png)</tt>, replacing <tt>image.png</tt>\n",
    "with the filename of the image you uploaded. (The text <tt>Klein bottle</tt> is used\n",
    "to describe the image in case it doesn't load, or for those using a screen reader.)\n",
    " </span>\n",
    " \n",
    "\n",
    "</div>"
   ]
  },
  {
   "cell_type": "markdown",
   "metadata": {
    "collapsed": false,
    "editable": true
   },
   "source": [
   ]
  },
  {
   "cell_type": "markdown",
   "metadata": {
    "collapsed": false,
    "editable": false
   },
   "source": [
    "<div class=\"not-editable\" style=\" background-color:#f8f8f8;padding:1em;border-radius:10px;box-shadow:4px 4px 3px #ddd;margin:5px; \">\n",
    "\n",
    "\n",
    " <div><b>c. </b></div>\n",
    " \n",
    " <span>\n",
    "Now create a new file called <tt>data.csv</tt> in the same folder as this notebook.\n",
    "Copy-paste the text from \n",
    " Listing 1.1.1 into this\n",
    "new file to save a Comma-Separated Values spreadsheet.\n",
    " </span>\n",
    " \n",
    "\n",
    "</div>"
   ]
  },
  {
   "cell_type": "markdown",
   "metadata": {
    "collapsed": false,
    "editable": false
   },
   "source": [
    "<div class=\"not-editable\" style=\" background-color:#f8f8f8;padding:1em;border-radius:10px;box-shadow:4px 4px 3px #ddd;margin:5px; \">\n",
    "\n",
    "\n",
    " <div><b>\n",
    " Listing 1.1.1.</b></div>\n",
    " <div>\n",
    " <span><pre>Time,TempInF\n",
    "8:00,74\n",
    "9:00,78\n",
    "10:00,82\n",
    "11:00,85\n",
    "12:00,88\n",
    "13:00,89\n",
    "14:00,90\n",
    "15:00,91\n",
    "16:00,89\n",
    "17:00,88</pre></span>\n",
    " </div>\n",
    " \n",
    "\n",
    "</div>"
   ]
  },
  {
   "cell_type": "markdown",
   "metadata": {
    "collapsed": false,
    "editable": false
   },
   "source": [
    "<div class=\"not-editable\" style=\" background-color:#f8f8f8;padding:1em;border-radius:10px;box-shadow:4px 4px 3px #ddd;margin:5px; \">\n",
    "\n",
    "\n",
    " <span>\n",
    "Then copy-paste the text from \n",
    " Listing 1.1.2 into\n",
    "a Code cell below to use this data in a Python 3 script to display the temperatures\n",
    "in Celcius.\n",
    " </span>\n",
    " \n",
    "\n",
    "</div>"
   ]
  },
  {
   "cell_type": "markdown",
   "metadata": {
    "collapsed": false,
    "editable": false
   },
   "source": [
    "<div class=\"not-editable\" style=\" background-color:#f8f8f8;padding:1em;border-radius:10px;box-shadow:4px 4px 3px #ddd;margin:5px; \">\n",
    "\n",
    "\n",
    " <div><b>\n",
    " Listing 1.1.2.</b></div>\n",
    " <div>\n",
    " <span><pre>import csv\n",
    "with open(\"data.csv\", \"r\") as csv_file:\n",
    " rows = csv.DictReader(csv_file, delimiter=',')\n",
    " for row in rows:\n",
    " time = row[\"Time\"]\n",
    " temp = format((float(row[\"TempInF\"])-32)*5/9, '.2f')\n",
    " print(\"The temperature at\", time, \"is\", temp, \"degrees Celcius.\")</pre></span>\n",
    " </div>\n",
    " \n",
    "\n",
    "</div>"
   ]
  },
  {
   "cell_type": "markdown",
   "metadata": {
    "collapsed": false,
    "editable": true
   },
   "source": [
   ]
  }
 ],
 "metadata": {
  "kernelspec": {
   "display_name": "SageMath 9.1",
   "language": "sagemath",
   "metadata": {
    "cocalc": {
     "description": "Open-source mathematical software system",
     "priority": 10,
     "url": "https://www.sagemath.org/"
    }
   },
   "name": "sage-9.1"
  },
  "language_info": {
   "codemirror_mode": {
    "name": "ipython",
    "version": 3
   },
   "file_extension": ".py",
   "mimetype": "text/x-python",
   "name": "python",
   "nbconvert_exporter": "python",
   "pygments_lexer": "ipython3",
   "version": "3.7.3"
  }
 },
 "nbformat": 4,
 "nbformat_minor": 4
}