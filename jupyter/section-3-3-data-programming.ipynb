{
 "cells": [
  {
   "cell_type": "markdown",
   "metadata": {
    "collapsed": false,
    "editable": false
   },
   "source": [
    "<div class=\"not-editable\" style=\"background-color:#eef8ff;padding:1em;border-radius:10px;box-shadow:4px 4px 3px #ddd;margin:5px;\">\n",
    "    <span class=\"newcommands\" style=\"display:none;\">\\(\\newcommand{\\amp}{&}\\)</span>\n",
    "  <h1>3.3 Programming with Data</h1><div>\n",
    "    <a href=\"https://stevenclontz.github.io/mathematics-of-data/html/data-programming.html\">https://stevenclontz.github.io/mathematics-of-data/html/data-programming.html</a>\n",
    "  </div></div>"
   ]
  },
  {
   "cell_type": "markdown",
   "metadata": {
    "collapsed": false,
    "editable": false
   },
   "source": [
    "<div class=\"not-editable\" style=\"background-color:#eef8ff;padding:1em;border-radius:10px;box-shadow:4px 4px 3px #ddd;margin:5px;\">\n",
    "          <h3>Preview Activity 3.3.1</h3>\n",
    "        </div>"
   ]
  },
  {
   "cell_type": "markdown",
   "metadata": {
    "collapsed": false,
    "editable": false
   },
   "source": [
    "<div class=\"not-editable\" style=\"background-color:#eef8ff;padding:1em;border-radius:10px;box-shadow:4px 4px 3px #ddd;margin:5px;\"><span> TODO </span></div>"
   ]
  },
  {
   "cell_type": "markdown",
   "metadata": {
    "collapsed": false,
    "editable": true
   },
   "source": [
   ]
  },
  {
   "cell_type": "markdown",
   "metadata": {
    "collapsed": false,
    "editable": false
   },
   "source": [
    "<div class=\"not-editable\" style=\"background-color:#eef8ff;padding:1em;border-radius:10px;box-shadow:4px 4px 3px #ddd;margin:5px;\">\n",
    "          <h3>Activity 3.3.2</h3>\n",
    "        </div>"
   ]
  },
  {
   "cell_type": "markdown",
   "metadata": {
    "collapsed": false,
    "editable": false
   },
   "source": [
    "<div class=\"not-editable\" style=\"background-color:#eef8ff;padding:1em;border-radius:10px;box-shadow:4px 4px 3px #ddd;margin:5px;\"><span> If/Elif/Else </span></div>"
   ]
  },
  {
   "cell_type": "markdown",
   "metadata": {
    "collapsed": false,
    "editable": true
   },
   "source": [
   ]
  },
  {
   "cell_type": "markdown",
   "metadata": {
    "collapsed": false,
    "editable": false
   },
   "source": [
    "<div class=\"not-editable\" style=\"background-color:#eef8ff;padding:1em;border-radius:10px;box-shadow:4px 4px 3px #ddd;margin:5px;\">\n",
    "          <h3>Activity 3.3.3</h3>\n",
    "        </div>"
   ]
  },
  {
   "cell_type": "markdown",
   "metadata": {
    "collapsed": false,
    "editable": false
   },
   "source": [
    "<div class=\"not-editable\" style=\"background-color:#eef8ff;padding:1em;border-radius:10px;box-shadow:4px 4px 3px #ddd;margin:5px;\"><span> For loops </span></div>"
   ]
  },
  {
   "cell_type": "markdown",
   "metadata": {
    "collapsed": false,
    "editable": true
   },
   "source": [
   ]
  },
  {
   "cell_type": "markdown",
   "metadata": {
    "collapsed": false,
    "editable": false
   },
   "source": [
    "<div class=\"not-editable\" style=\"background-color:#eef8ff;padding:1em;border-radius:10px;box-shadow:4px 4px 3px #ddd;margin:5px;\">\n",
    "          <h3>Activity 3.3.4</h3>\n",
    "        </div>"
   ]
  },
  {
   "cell_type": "markdown",
   "metadata": {
    "collapsed": false,
    "editable": false
   },
   "source": [
    "<div class=\"not-editable\" style=\"background-color:#eef8ff;padding:1em;border-radius:10px;box-shadow:4px 4px 3px #ddd;margin:5px;\"><span> Comprehension </span></div>"
   ]
  },
  {
   "cell_type": "markdown",
   "metadata": {
    "collapsed": false,
    "editable": true
   },
   "source": [
   ]
  },
  {
   "cell_type": "markdown",
   "metadata": {
    "collapsed": false,
    "editable": false
   },
   "source": [
    "<div class=\"not-editable\" style=\"background-color:#eef8ff;padding:1em;border-radius:10px;box-shadow:4px 4px 3px #ddd;margin:5px;\">\n",
    "          <h3>Activity 3.3.5</h3>\n",
    "        </div>"
   ]
  },
  {
   "cell_type": "markdown",
   "metadata": {
    "collapsed": false,
    "editable": false
   },
   "source": [
    "<div class=\"not-editable\" style=\"background-color:#eef8ff;padding:1em;border-radius:10px;box-shadow:4px 4px 3px #ddd;margin:5px;\"><span> A common exercise in entry-level programming interviews is known as \"FizzBuzz\". Write a program that for each of the numbers \\(1\\) through \\(100\\) prints that number, the word \"Fizz\" if that number is divisible by \\(3\\), and \"Buzz\" if that number is divisible by \\(5\\). Example output for the numbers \\(1\\) through \\(15\\) is given in <i>Listing 3.3.1</i>. </span></div>"
   ]
  },
  {
   "cell_type": "markdown",
   "metadata": {
    "collapsed": false,
    "editable": false
   },
   "source": [
    "<div class=\"not-editable\" style=\"background-color:#eef8ff;padding:1em;border-radius:10px;box-shadow:4px 4px 3px #ddd;margin:5px;\"><div><b>Listing 3.3.1.</b></div><div>Beginning FizzBuzz output.<pre>1\n",
    "2\n",
    "3 Fizz\n",
    "4\n",
    "5 Buzz\n",
    "6 Fizz\n",
    "7\n",
    "8\n",
    "9 Fizz\n",
    "10 Buzz\n",
    "11\n",
    "12 Fizz\n",
    "13\n",
    "14\n",
    "15 Fizz Buzz</pre></div></div>"
   ]
  },
  {
   "cell_type": "markdown",
   "metadata": {
    "collapsed": false,
    "editable": false
   },
   "source": [
    "<div class=\"not-editable\" style=\"background-color:#eef8ff;padding:1em;border-radius:10px;box-shadow:4px 4px 3px #ddd;margin:5px;\"><span> Using <tt style=\"background-color:#f8f8f8;border:1px #888 solid;border-radius:2px;padding-left:0.2em;padding-right:0.2em;\">x % 3 == 0</tt> and <tt style=\"background-color:#f8f8f8;border:1px #888 solid;border-radius:2px;padding-left:0.2em;padding-right:0.2em;\">x % 5 == 0</tt> to check if the value of <tt style=\"background-color:#f8f8f8;border:1px #888 solid;border-radius:2px;padding-left:0.2em;padding-right:0.2em;\">x</tt> is divisible by \\(3\\) or \\(5\\), create a Code cell that implements Fizz Buzz for the numbers \\(1\\) through \\(100\\). </span></div>"
   ]
  },
  {
   "cell_type": "markdown",
   "metadata": {
    "collapsed": false,
    "editable": true
   },
   "source": [
   ]
  }
 ],
 "metadata": {
  "kernelspec": {
   "display_name": "SageMath 9.1",
   "language": "sagemath",
   "metadata": {
    "cocalc": {
     "description": "Open-source mathematical software system",
     "priority": 10,
     "url": "https://www.sagemath.org/"
    }
   },
   "name": "sage-9.1"
  },
  "language_info": {
   "codemirror_mode": {
    "name": "ipython",
    "version": 3
   },
   "file_extension": ".py",
   "mimetype": "text/x-python",
   "name": "python",
   "nbconvert_exporter": "python",
   "pygments_lexer": "ipython3",
   "version": "3.7.3"
  }
 },
 "nbformat": 4,
 "nbformat_minor": 4
}