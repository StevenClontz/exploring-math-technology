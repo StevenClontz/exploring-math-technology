
    {"nbformat": 4,"nbformat_minor": 0,"cells": [
      
    {
     "cell_type": "markdown",
     "metadata": {
      "collapsed": false,
      "editable": false
     },
    "source":
    
        "<div class=\"not-editable\" style=\"background-color:#eef8ff;padding:1em;border-radius:10px;box-shadow:4px 4px 3px #ddd;margin:5px;\">\n    <span class=\"newcommands\" style=\"display:none;\">\\(\\newcommand{\\amp}{&}\\)<\/span>\n  <h1>3.3 Programming with Data<\/h1><div>\n    <a href=\"https:\/\/stevenclontz.github.io\/mathematics-of-data\/html\/data-programming.html\">https:\/\/stevenclontz.github.io\/mathematics-of-data\/html\/data-programming.html<\/a>\n  <\/div></div>"
      
    }
  ,
    {
     "cell_type": "markdown",
     "metadata": {
      "collapsed": false,
      "editable": false
     },
    "source":
    
        "<div class=\"not-editable\" style=\"background-color:#eef8ff;padding:1em;border-radius:10px;box-shadow:4px 4px 3px #ddd;margin:5px;\">\n          <h3>Preview Activity 3.3.1<\/h3>\n        </div>"
      
    }
  ,
    {
     "cell_type": "markdown",
     "metadata": {
      "collapsed": false,
      "editable": false
     },
    "source":
    
        "<div class=\"not-editable\" style=\"background-color:#eef8ff;padding:1em;border-radius:10px;box-shadow:4px 4px 3px #ddd;margin:5px;\"><span> TODO <\/span></div>"
      
    }
  ,
    {
     "cell_type": "markdown",
     "metadata": {
      "collapsed": false,
      "editable": true
     },
    "source":
    
        ""
      
    }
  ,
    {
     "cell_type": "markdown",
     "metadata": {
      "collapsed": false,
      "editable": false
     },
    "source":
    
        "<div class=\"not-editable\" style=\"background-color:#eef8ff;padding:1em;border-radius:10px;box-shadow:4px 4px 3px #ddd;margin:5px;\">\n          <h3>Activity 3.3.2<\/h3>\n        </div>"
      
    }
  ,
    {
     "cell_type": "markdown",
     "metadata": {
      "collapsed": false,
      "editable": false
     },
    "source":
    
        "<div class=\"not-editable\" style=\"background-color:#eef8ff;padding:1em;border-radius:10px;box-shadow:4px 4px 3px #ddd;margin:5px;\"><span> If\/Elif\/Else <\/span></div>"
      
    }
  ,
    {
     "cell_type": "markdown",
     "metadata": {
      "collapsed": false,
      "editable": true
     },
    "source":
    
        ""
      
    }
  ,
    {
     "cell_type": "markdown",
     "metadata": {
      "collapsed": false,
      "editable": false
     },
    "source":
    
        "<div class=\"not-editable\" style=\"background-color:#eef8ff;padding:1em;border-radius:10px;box-shadow:4px 4px 3px #ddd;margin:5px;\">\n          <h3>Activity 3.3.3<\/h3>\n        </div>"
      
    }
  ,
    {
     "cell_type": "markdown",
     "metadata": {
      "collapsed": false,
      "editable": false
     },
    "source":
    
        "<div class=\"not-editable\" style=\"background-color:#eef8ff;padding:1em;border-radius:10px;box-shadow:4px 4px 3px #ddd;margin:5px;\"><span> For loops <\/span></div>"
      
    }
  ,
    {
     "cell_type": "markdown",
     "metadata": {
      "collapsed": false,
      "editable": true
     },
    "source":
    
        ""
      
    }
  ,
    {
     "cell_type": "markdown",
     "metadata": {
      "collapsed": false,
      "editable": false
     },
    "source":
    
        "<div class=\"not-editable\" style=\"background-color:#eef8ff;padding:1em;border-radius:10px;box-shadow:4px 4px 3px #ddd;margin:5px;\">\n          <h3>Activity 3.3.4<\/h3>\n        </div>"
      
    }
  ,
    {
     "cell_type": "markdown",
     "metadata": {
      "collapsed": false,
      "editable": false
     },
    "source":
    
        "<div class=\"not-editable\" style=\"background-color:#eef8ff;padding:1em;border-radius:10px;box-shadow:4px 4px 3px #ddd;margin:5px;\"><span> Comprehension <\/span></div>"
      
    }
  ,
    {
     "cell_type": "markdown",
     "metadata": {
      "collapsed": false,
      "editable": true
     },
    "source":
    
        ""
      
    }
  ,
    {
     "cell_type": "markdown",
     "metadata": {
      "collapsed": false,
      "editable": false
     },
    "source":
    
        "<div class=\"not-editable\" style=\"background-color:#eef8ff;padding:1em;border-radius:10px;box-shadow:4px 4px 3px #ddd;margin:5px;\">\n          <h3>Activity 3.3.5<\/h3>\n        </div>"
      
    }
  ,
    {
     "cell_type": "markdown",
     "metadata": {
      "collapsed": false,
      "editable": false
     },
    "source":
    
        "<div class=\"not-editable\" style=\"background-color:#eef8ff;padding:1em;border-radius:10px;box-shadow:4px 4px 3px #ddd;margin:5px;\"><span> A common exercise in entry-level programming interviews is known as \"FizzBuzz\". Write a program that for each of the numbers \\(1\\) through \\(100\\) prints that number, the word \"Fizz\" if that number is divisible by \\(3\\), and \"Buzz\" if that number is divisible by \\(5\\). Example output for the numbers \\(1\\) through \\(15\\) is given in <i>Listing 3.3.1<\/i>. <\/span></div>"
      
    }
  ,
    {
     "cell_type": "markdown",
     "metadata": {
      "collapsed": false,
      "editable": false
     },
    "source":
    
        "<div class=\"not-editable\" style=\"background-color:#eef8ff;padding:1em;border-radius:10px;box-shadow:4px 4px 3px #ddd;margin:5px;\"><div><b>Listing 3.3.1.<\/b><\/div><div>Beginning FizzBuzz output.<pre>1\n2\n3 Fizz\n4\n5 Buzz\n6 Fizz\n7\n8\n9 Fizz\n10 Buzz\n11\n12 Fizz\n13\n14\n15 Fizz Buzz<\/pre><\/div></div>"
      
    }
  ,
    {
     "cell_type": "markdown",
     "metadata": {
      "collapsed": false,
      "editable": false
     },
    "source":
    
        "<div class=\"not-editable\" style=\"background-color:#eef8ff;padding:1em;border-radius:10px;box-shadow:4px 4px 3px #ddd;margin:5px;\"><span> Using <tt style=\"background-color:#f8f8f8;border:1px #888 solid;border-radius:2px;padding-left:0.2em;padding-right:0.2em;\">x % 3 == 0<\/tt> and <tt style=\"background-color:#f8f8f8;border:1px #888 solid;border-radius:2px;padding-left:0.2em;padding-right:0.2em;\">x % 5 == 0<\/tt> to check if the value of <tt style=\"background-color:#f8f8f8;border:1px #888 solid;border-radius:2px;padding-left:0.2em;padding-right:0.2em;\">x<\/tt> is divisible by \\(3\\) or \\(5\\), create a Code cell that implements Fizz Buzz for the numbers \\(1\\) through \\(100\\). <\/span></div>"
      
    }
  ,
    {
     "cell_type": "markdown",
     "metadata": {
      "collapsed": false,
      "editable": true
     },
    "source":
    
        ""
      
    }
  
    ]}
  