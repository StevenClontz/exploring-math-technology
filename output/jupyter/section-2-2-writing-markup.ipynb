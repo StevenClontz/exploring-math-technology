
    {"nbformat": 4,"nbformat_minor": 0,"cells": [
      
    {
     "cell_type": "markdown",
     "metadata": {
      "collapsed": false,
      "editable": false
     },
    "source":
    
        "<div class=\"not-editable\" style=\"background-color:#eef8ff;padding:1em;border-radius:10px;box-shadow:4px 4px 3px #ddd;margin:5px;\">\n    <span class=\"newcommands\" style=\"display:none;\">\\(\\newcommand{\\amp}{&}\\)<\/span>\n  <h1>2.2 Using Markdown and LaTeX<\/h1><div>\n    <a href=\"https:\/\/stevenclontz.github.io\/mathematics-of-data\/html\/writing-markup.html\">https:\/\/stevenclontz.github.io\/mathematics-of-data\/html\/writing-markup.html<\/a>\n  <\/div></div>"
      
    }
  ,
    {
     "cell_type": "markdown",
     "metadata": {
      "collapsed": false,
      "editable": false
     },
    "source":
    
        "<div class=\"not-editable\" style=\"background-color:#eef8ff;padding:1em;border-radius:10px;box-shadow:4px 4px 3px #ddd;margin:5px;\">\n          <h3>Preview Activity 2.2.1<\/h3>\n        </div>"
      
    }
  ,
    {
     "cell_type": "markdown",
     "metadata": {
      "collapsed": false,
      "editable": false
     },
    "source":
    
        "<div class=\"not-editable\" style=\"background-color:#eef8ff;padding:1em;border-radius:10px;box-shadow:4px 4px 3px #ddd;margin:5px;\"><span> Like many online platforms, Jupyter notebooks use Markdown syntax for formatting text. The <a href=\"https:\/\/www.markdowntutorial.com\/\">Markdown Tutorial<\/a> provides an excellent walkthrough on its basics. <\/span></div>"
      
    }
  ,
    {
     "cell_type": "markdown",
     "metadata": {
      "collapsed": false,
      "editable": false
     },
    "source":
    
        "<div class=\"not-editable\" style=\"background-color:#eef8ff;padding:1em;border-radius:10px;box-shadow:4px 4px 3px #ddd;margin:5px;\"><span> Complete the <a href=\"https:\/\/www.markdowntutorial.com\/\">Markdown Tutorial<\/a> and upload a screenshot of its \"Congratulations\" page below when you are done. <\/span></div>"
      
    }
  ,
    {
     "cell_type": "markdown",
     "metadata": {
      "collapsed": false,
      "editable": true
     },
    "source":
    
        ""
      
    }
  ,
    {
     "cell_type": "markdown",
     "metadata": {
      "collapsed": false,
      "editable": false
     },
    "source":
    
        "<div class=\"not-editable\" style=\"background-color:#eef8ff;padding:1em;border-radius:10px;box-shadow:4px 4px 3px #ddd;margin:5px;\">\n          <h3>Activity 2.2.2<\/h3>\n        </div>"
      
    }
  ,
    {
     "cell_type": "markdown",
     "metadata": {
      "collapsed": false,
      "editable": false
     },
    "source":
    
        "<div class=\"not-editable\" style=\"background-color:#eef8ff;padding:1em;border-radius:10px;box-shadow:4px 4px 3px #ddd;margin:5px;\"><span> Markdown has many features for writing formatted documents using plain text, but it does not provide much support for mathematical notation out-of-the-box. <\/span></div>"
      
    }
  ,
    {
     "cell_type": "markdown",
     "metadata": {
      "collapsed": false,
      "editable": false
     },
    "source":
    
        "<div class=\"not-editable\" style=\"background-color:#eef8ff;padding:1em;border-radius:10px;box-shadow:4px 4px 3px #ddd;margin:5px;\"><span> Fortunately, many platforms that support Markdown also support LaTeX (pronounced \"lay-tek\" or \"lah-tek\", and stylized as \\(\\LaTeX{}\\)) markup for mathematical notation. <\/span></div>"
      
    }
  ,
    {
     "cell_type": "markdown",
     "metadata": {
      "collapsed": false,
      "editable": false
     },
    "source":
    
        "<div class=\"not-editable\" style=\"background-color:#eef8ff;padding:1em;border-radius:10px;box-shadow:4px 4px 3px #ddd;margin:5px;\">\n        <span><b>a. <\/b><\/span>\n        <span> To denote part of your writing as mathematical notation in a Markdown cell, use <tt style=\"background-color:#f8f8f8;border:1px #888 solid;border-radius:2px;padding-left:0.2em;padding-right:0.2em;\">\\(<\/tt> and <tt style=\"background-color:#f8f8f8;border:1px #888 solid;border-radius:2px;padding-left:0.2em;padding-right:0.2em;\">\\)<\/tt> to surround your mathematics. <\/span></div>"
      
    }
  ,
    {
     "cell_type": "markdown",
     "metadata": {
      "collapsed": false,
      "editable": false
     },
    "source":
    
        "<div class=\"not-editable\" style=\"background-color:#eef8ff;padding:1em;border-radius:10px;box-shadow:4px 4px 3px #ddd;margin:5px;\"><span> Create two Markdown cells with the text <tt style=\"background-color:#f8f8f8;border:1px #888 solid;border-radius:2px;padding-left:0.2em;padding-right:0.2em;\">The solution to x+1=7 is x=6.<\/tt>. Then use <tt style=\"background-color:#f8f8f8;border:1px #888 solid;border-radius:2px;padding-left:0.2em;padding-right:0.2em;\">\\(<\/tt> and <tt style=\"background-color:#f8f8f8;border:1px #888 solid;border-radius:2px;padding-left:0.2em;padding-right:0.2em;\">\\)<\/tt> to surround the mathematical notation in one of those cells to observe the difference. (Don't forget to use <tt style=\"background-color:#f8f8f8;border:1px #888 solid;border-radius:2px;padding-left:0.2em;padding-right:0.2em;\">Shift<\/tt>+<tt style=\"background-color:#f8f8f8;border:1px #888 solid;border-radius:2px;padding-left:0.2em;padding-right:0.2em;\">Enter<\/tt> to display the formatted text.) <\/span></div>"
      
    }
  ,
    {
     "cell_type": "markdown",
     "metadata": {
      "collapsed": false,
      "editable": true
     },
    "source":
    
        ""
      
    }
  ,
    {
     "cell_type": "markdown",
     "metadata": {
      "collapsed": false,
      "editable": false
     },
    "source":
    
        "<div class=\"not-editable\" style=\"background-color:#eef8ff;padding:1em;border-radius:10px;box-shadow:4px 4px 3px #ddd;margin:5px;\">\n        <span><b>b. <\/b><\/span>\n        <span> Now create two Markdown cells with the text <tt style=\"background-color:#f8f8f8;border:1px #888 solid;border-radius:2px;padding-left:0.2em;padding-right:0.2em;\">The solutions to x^2-1=0 are x=-1 and x=1.<\/tt>, and use <tt style=\"background-color:#f8f8f8;border:1px #888 solid;border-radius:2px;padding-left:0.2em;padding-right:0.2em;\">\\(<\/tt> and <tt style=\"background-color:#f8f8f8;border:1px #888 solid;border-radius:2px;padding-left:0.2em;padding-right:0.2em;\">\\)<\/tt> to surround the mathematics in one cell. <\/span></div>"
      
    }
  ,
    {
     "cell_type": "markdown",
     "metadata": {
      "collapsed": false,
      "editable": true
     },
    "source":
    
        ""
      
    }
  ,
    {
     "cell_type": "markdown",
     "metadata": {
      "collapsed": false,
      "editable": false
     },
    "source":
    
        "<div class=\"not-editable\" style=\"background-color:#eef8ff;padding:1em;border-radius:10px;box-shadow:4px 4px 3px #ddd;margin:5px;\">\n        <span><b>c. <\/b><\/span>\n        <span> When typesetting longer mathematical notation, <tt style=\"background-color:#f8f8f8;border:1px #888 solid;border-radius:2px;padding-left:0.2em;padding-right:0.2em;\">\\[<\/tt> and <tt style=\"background-color:#f8f8f8;border:1px #888 solid;border-radius:2px;padding-left:0.2em;padding-right:0.2em;\">\\]<\/tt> may be used instead to center the mathematics on a new line. <\/span></div>"
      
    }
  ,
    {
     "cell_type": "markdown",
     "metadata": {
      "collapsed": false,
      "editable": false
     },
    "source":
    
        "<div class=\"not-editable\" style=\"background-color:#eef8ff;padding:1em;border-radius:10px;box-shadow:4px 4px 3px #ddd;margin:5px;\"><span> Copy <tt style=\"background-color:#f8f8f8;border:1px #888 solid;border-radius:2px;padding-left:0.2em;padding-right:0.2em;\">The only solution to x^4-4x^3+6x^2-4x+1=0 is x=1.<\/tt> into a Markdown cell and appropriately format the long equation and short solution. <\/span></div>"
      
    }
  ,
    {
     "cell_type": "markdown",
     "metadata": {
      "collapsed": false,
      "editable": true
     },
    "source":
    
        ""
      
    }
  ,
    {
     "cell_type": "markdown",
     "metadata": {
      "collapsed": false,
      "editable": false
     },
    "source":
    
        "<div class=\"not-editable\" style=\"background-color:#eef8ff;padding:1em;border-radius:10px;box-shadow:4px 4px 3px #ddd;margin:5px;\">\n        <span><b>d. <\/b><\/span>\n        <span> One of the best ways to learn \\(\\LaTeX{}\\) notation is to view the source written by other authors. Consider the following formula: <\/span></div>"
      
    }
  ,
    {
     "cell_type": "markdown",
     "metadata": {
      "collapsed": false,
      "editable": false
     },
    "source":
    
        "<div class=\"not-editable\" style=\"background-color:#eef8ff;padding:1em;border-radius:10px;box-shadow:4px 4px 3px #ddd;margin:5px;\">\\[ax^2+bx+c=0 \\Leftrightarrow x = \\frac{-b\\pm\\sqrt{b^2-4ac}}{2a}\\]</div>"
      
    }
  ,
    {
     "cell_type": "markdown",
     "metadata": {
      "collapsed": false,
      "editable": false
     },
    "source":
    
        "<div class=\"not-editable\" style=\"background-color:#eef8ff;padding:1em;border-radius:10px;box-shadow:4px 4px 3px #ddd;margin:5px;\"><span> To view the source markup for the above formula while in a Jupyter notebook on CoCalc, you can select the cell, and then use the <tt style=\"background-color:#f8f8f8;border:1px #888 solid;border-radius:2px;padding-left:0.2em;padding-right:0.2em;\">Edit<\/tt> > <tt style=\"background-color:#f8f8f8;border:1px #888 solid;border-radius:2px;padding-left:0.2em;padding-right:0.2em;\">Edit protect<\/tt> menu option to make the cell editable. If you accidentally delete something, you can use CoCalc's Time Travel feature to restore it. (To view the LaTeX source of any mathematical notation in the HTML verison of this book, you can simply right-click the equation and use the menu that appears.) <\/span></div>"
      
    }
  ,
    {
     "cell_type": "markdown",
     "metadata": {
      "collapsed": false,
      "editable": false
     },
    "source":
    
        "<div class=\"not-editable\" style=\"background-color:#eef8ff;padding:1em;border-radius:10px;box-shadow:4px 4px 3px #ddd;margin:5px;\"><span> Get the source for the formula above, and paste it into a Markdown cell below. <\/span></div>"
      
    }
  ,
    {
     "cell_type": "markdown",
     "metadata": {
      "collapsed": false,
      "editable": true
     },
    "source":
    
        ""
      
    }
  ,
    {
     "cell_type": "markdown",
     "metadata": {
      "collapsed": false,
      "editable": false
     },
    "source":
    
        "<div class=\"not-editable\" style=\"background-color:#eef8ff;padding:1em;border-radius:10px;box-shadow:4px 4px 3px #ddd;margin:5px;\">\n          <h3>Activity 2.2.3<\/h3>\n        </div>"
      
    }
  ,
    {
     "cell_type": "markdown",
     "metadata": {
      "collapsed": false,
      "editable": false
     },
    "source":
    
        "<div class=\"not-editable\" style=\"background-color:#eef8ff;padding:1em;border-radius:10px;box-shadow:4px 4px 3px #ddd;margin:5px;\"><span> Some LaTeX notation is rather straight-forward, with literal notation such as <tt style=\"background-color:#f8f8f8;border:1px #888 solid;border-radius:2px;padding-left:0.2em;padding-right:0.2em;\">+<\/tt> and <tt style=\"background-color:#f8f8f8;border:1px #888 solid;border-radius:2px;padding-left:0.2em;padding-right:0.2em;\">-<\/tt>, and intuitive notation such as <tt style=\"background-color:#f8f8f8;border:1px #888 solid;border-radius:2px;padding-left:0.2em;padding-right:0.2em;\">^<\/tt> for superscripts and <tt style=\"background-color:#f8f8f8;border:1px #888 solid;border-radius:2px;padding-left:0.2em;padding-right:0.2em;\">_<\/tt> for subscripts: <tt style=\"background-color:#f8f8f8;border:1px #888 solid;border-radius:2px;padding-left:0.2em;padding-right:0.2em;\">a_0+a_1^2=-a_2^3<\/tt> produces \\(a_0+a_1^2=-a_2^3\\). <\/span></div>"
      
    }
  ,
    {
     "cell_type": "markdown",
     "metadata": {
      "collapsed": false,
      "editable": false
     },
    "source":
    
        "<div class=\"not-editable\" style=\"background-color:#eef8ff;padding:1em;border-radius:10px;box-shadow:4px 4px 3px #ddd;margin:5px;\"><span> But multiplication cannot be represented by, say, <tt style=\"background-color:#f8f8f8;border:1px #888 solid;border-radius:2px;padding-left:0.2em;padding-right:0.2em;\">x<\/tt>, since that represents the variable \\(x\\). (Instead we write <tt style=\"background-color:#f8f8f8;border:1px #888 solid;border-radius:2px;padding-left:0.2em;padding-right:0.2em;\">2 \\times 3<\/tt> to produce \\(2 \\times 3\\).) <\/span></div>"
      
    }
  ,
    {
     "cell_type": "markdown",
     "metadata": {
      "collapsed": false,
      "editable": false
     },
    "source":
    
        "<div class=\"not-editable\" style=\"background-color:#eef8ff;padding:1em;border-radius:10px;box-shadow:4px 4px 3px #ddd;margin:5px;\"><span> Even professionals usually know just a small subset of all the LaTeX commands available. Instead, references like <a href=\"http:\/\/www.onemathematicalcat.org\/MathJaxDocumentation\/TeXSyntax.htm\">Dr. Burn's TeX Command Reference<\/a> and tools like <a href=\"https:\/\/detexify.kirelabs.org\/classify.html\">DeTeXify<\/a> allow for easy lookup of LaTeX commands as needed. <\/span></div>"
      
    }
  ,
    {
     "cell_type": "markdown",
     "metadata": {
      "collapsed": false,
      "editable": false
     },
    "source":
    
        "<div class=\"not-editable\" style=\"background-color:#eef8ff;padding:1em;border-radius:10px;box-shadow:4px 4px 3px #ddd;margin:5px;\"><span> For each of the following samples of mathematical notation, don't peek at their source markup. Instead, use the above resources to replicate the notation as best as possible in a Markdown cell. After you've done as well as possible on your own, then compare with the corresponding source markup. <\/span></div>"
      
    }
  ,
    {
     "cell_type": "markdown",
     "metadata": {
      "collapsed": false,
      "editable": false
     },
    "source":
    
        "<div class=\"not-editable\" style=\"background-color:#eef8ff;padding:1em;border-radius:10px;box-shadow:4px 4px 3px #ddd;margin:5px;\">\n        <span><b>a. <\/b><\/span>\n        \\[\\det(A) = x_{11}x_{22}-x_{12}x_{21}\\]</div>"
      
    }
  ,
    {
     "cell_type": "markdown",
     "metadata": {
      "collapsed": false,
      "editable": true
     },
    "source":
    
        ""
      
    }
  ,
    {
     "cell_type": "markdown",
     "metadata": {
      "collapsed": false,
      "editable": false
     },
    "source":
    
        "<div class=\"not-editable\" style=\"background-color:#eef8ff;padding:1em;border-radius:10px;box-shadow:4px 4px 3px #ddd;margin:5px;\">\n        <span><b>b. <\/b><\/span>\n        \\[\\sin(\\alpha+\\beta) = \\sin(\\alpha)\\cos(\\beta)+\\cos(\\alpha)\\sin(\\beta)\\]</div>"
      
    }
  ,
    {
     "cell_type": "markdown",
     "metadata": {
      "collapsed": false,
      "editable": true
     },
    "source":
    
        ""
      
    }
  ,
    {
     "cell_type": "markdown",
     "metadata": {
      "collapsed": false,
      "editable": false
     },
    "source":
    
        "<div class=\"not-editable\" style=\"background-color:#eef8ff;padding:1em;border-radius:10px;box-shadow:4px 4px 3px #ddd;margin:5px;\">\n        <span><b>c. <\/b><\/span>\n        \\[\\sigma(t) = \\langle 0,t_1,2t_2,\\dots,nt_n \\rangle\\]</div>"
      
    }
  ,
    {
     "cell_type": "markdown",
     "metadata": {
      "collapsed": false,
      "editable": true
     },
    "source":
    
        ""
      
    }
  ,
    {
     "cell_type": "markdown",
     "metadata": {
      "collapsed": false,
      "editable": false
     },
    "source":
    
        "<div class=\"not-editable\" style=\"background-color:#eef8ff;padding:1em;border-radius:10px;box-shadow:4px 4px 3px #ddd;margin:5px;\">\n        <span><b>d. <\/b><\/span>\n        \\[\\overline{x} = \\frac{1}{n}\\left(\\sum_{0\\leq i\\lt n}x_i\\right)\\]</div>"
      
    }
  ,
    {
     "cell_type": "markdown",
     "metadata": {
      "collapsed": false,
      "editable": true
     },
    "source":
    
        ""
      
    }
  ,
    {
     "cell_type": "markdown",
     "metadata": {
      "collapsed": false,
      "editable": false
     },
    "source":
    
        "<div class=\"not-editable\" style=\"background-color:#eef8ff;padding:1em;border-radius:10px;box-shadow:4px 4px 3px #ddd;margin:5px;\">\n          <h3>Activity 2.2.4<\/h3>\n        </div>"
      
    }
  ,
    {
     "cell_type": "markdown",
     "metadata": {
      "collapsed": false,
      "editable": false
     },
    "source":
    
        "<div class=\"not-editable\" style=\"background-color:#eef8ff;padding:1em;border-radius:10px;box-shadow:4px 4px 3px #ddd;margin:5px;\"><span> LaTeX markup is used by many applications for typesetting mathematical notation. But it's also possible to write entire documents in LaTeX, that can be distributed as PDFs. Since it's very easy to write mathematics, manage bibliographies, and integrate a LaTeX document with computer code, it's very common for STEM researchers to author documents in LaTeX. <\/span></div>"
      
    }
  ,
    {
     "cell_type": "markdown",
     "metadata": {
      "collapsed": false,
      "editable": false
     },
    "source":
    
        "<div class=\"not-editable\" style=\"background-color:#eef8ff;padding:1em;border-radius:10px;box-shadow:4px 4px 3px #ddd;margin:5px;\"><span> CoCalc provides a convenient LaTeX editor that you can use from your web browser. Try it out by following these steps. <\/span></div>"
      
    }
  ,
    {
     "cell_type": "markdown",
     "metadata": {
      "collapsed": false,
      "editable": false
     },
    "source":
    
        "<div class=\"not-editable\" style=\"background-color:#eef8ff;padding:1em;border-radius:10px;box-shadow:4px 4px 3px #ddd;margin:5px;\"><span> <ul><li> <span> From the <tt style=\"background-color:#f8f8f8;border:1px #888 solid;border-radius:2px;padding-left:0.2em;padding-right:0.2em;\">+ New<\/tt> menu option, create a new LaTeX document in the same folder as this notebook. A default document will appear on the left, and its PDF output appears on the right. <\/span> <\/li><li> <span> The top part of the code is the preamble with various configurations, most of which you don't need to worry about. There is a place to define the title and author of the paper. Change the title of the paper to match your favorite TV show, and change the author to be named after a character on that show. <\/span> <\/li><li> <span> By default the produced PDF will include today's date. This can be configured by inserting the command <tt style=\"background-color:#f8f8f8;border:1px #888 solid;border-radius:2px;padding-left:0.2em;padding-right:0.2em;\">\\date{Month Day, Year}<\/tt> in the preamble. Use this to change the date to be one week from today instead. <\/span> <\/li><li> <span> The body of the document is between the <tt style=\"background-color:#f8f8f8;border:1px #888 solid;border-radius:2px;padding-left:0.2em;padding-right:0.2em;\">\\begin{document}<\/tt> and <tt style=\"background-color:#f8f8f8;border:1px #888 solid;border-radius:2px;padding-left:0.2em;padding-right:0.2em;\">\\end{document}<\/tt> commands. The <tt style=\"background-color:#f8f8f8;border:1px #888 solid;border-radius:2px;padding-left:0.2em;padding-right:0.2em;\">\\maketitle<\/tt> command tells LaTeX to show the title, author, and date. <\/span> <span> Add some text two lines below the <tt style=\"background-color:#f8f8f8;border:1px #888 solid;border-radius:2px;padding-left:0.2em;padding-right:0.2em;\">\\maketitle<\/tt> command, quoting a character from your favorite show. <\/span> <\/li><li> <span> Finally, copy-paste some mathematical notation from the previous activities so it appears below the quote in your LaTeX-produced PDF. <\/span> <\/li><\/ul> <\/span></div>"
      
    }
  ,
    {
     "cell_type": "markdown",
     "metadata": {
      "collapsed": false,
      "editable": false
     },
    "source":
    
        "<div class=\"not-editable\" style=\"background-color:#eef8ff;padding:1em;border-radius:10px;box-shadow:4px 4px 3px #ddd;margin:5px;\"><span> When you're done, put a link to your LaTeX source file in a Markdown cell below. Since it's located in the same folder, if your file was named <tt style=\"background-color:#f8f8f8;border:1px #888 solid;border-radius:2px;padding-left:0.2em;padding-right:0.2em;\">example.tex<\/tt>, then it can be linked to by entering <tt style=\"background-color:#f8f8f8;border:1px #888 solid;border-radius:2px;padding-left:0.2em;padding-right:0.2em;\">[Link to LaTeX file](example.tex)<\/tt>. <\/span></div>"
      
    }
  ,
    {
     "cell_type": "markdown",
     "metadata": {
      "collapsed": false,
      "editable": true
     },
    "source":
    
        ""
      
    }
  
    ]}
  