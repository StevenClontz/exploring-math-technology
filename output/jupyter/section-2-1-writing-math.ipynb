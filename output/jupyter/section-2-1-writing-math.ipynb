
    {"nbformat": 4,"nbformat_minor": 0,"cells": [
      
    {
     "cell_type": "markdown",
     "metadata": {
      "collapsed": false,
      "editable": false
     },
    "source":
    
        "<div class=\"not-editable\" style=\"background-color:#eef8ff;padding:1em;border-radius:10px;box-shadow:4px 4px 3px #ddd;margin:5px;\">\n    <span class=\"newcommands\" style=\"display:none;\">\\(\\newcommand{\\amp}{&}\\)<\/span>\n  <h1>2.1 The Importance of Writing in Mathematics and Data Science<\/h1><div>\n    <a href=\"https:\/\/stevenclontz.github.io\/mathematics-of-data\/html\/writing-math.html\">https:\/\/stevenclontz.github.io\/mathematics-of-data\/html\/writing-math.html<\/a>\n  <\/div></div>"
      
    }
  ,
    {
     "cell_type": "markdown",
     "metadata": {
      "collapsed": false,
      "editable": false
     },
    "source":
    
        "<div class=\"not-editable\" style=\"background-color:#eef8ff;padding:1em;border-radius:10px;box-shadow:4px 4px 3px #ddd;margin:5px;\">\n          <h3>Preview Activity 2.1.1<\/h3>\n        </div>"
      
    }
  ,
    {
     "cell_type": "markdown",
     "metadata": {
      "collapsed": false,
      "editable": false
     },
    "source":
    
        "<div class=\"not-editable\" style=\"background-color:#eef8ff;padding:1em;border-radius:10px;box-shadow:4px 4px 3px #ddd;margin:5px;\">\n        <span><b>a. <\/b><\/span>\n        <span> Write a few sentences answering the following questions. <\/span></div>"
      
    }
  ,
    {
     "cell_type": "markdown",
     "metadata": {
      "collapsed": false,
      "editable": false
     },
    "source":
    
        "<div class=\"not-editable\" style=\"background-color:#eef8ff;padding:1em;border-radius:10px;box-shadow:4px 4px 3px #ddd;margin:5px;\"><span> <ul><li>Is writing important? Why or why not?<\/li><li>Is writing important for doing mathematics or studying data? Why or why not?<\/li><\/ul> <\/span></div>"
      
    }
  ,
    {
     "cell_type": "markdown",
     "metadata": {
      "collapsed": false,
      "editable": true
     },
    "source":
    
        ""
      
    }
  ,
    {
     "cell_type": "markdown",
     "metadata": {
      "collapsed": false,
      "editable": false
     },
    "source":
    
        "<div class=\"not-editable\" style=\"background-color:#eef8ff;padding:1em;border-radius:10px;box-shadow:4px 4px 3px #ddd;margin:5px;\">\n        <span><b>b. <\/b><\/span>\n        <span> Read the following article by former president of the Mathematical Association of America, Dr. Francis Su: <a href=\"https:\/\/math.hmc.edu\/su\/wp-content\/uploads\/sites\/10\/2020\/06\/Writing-Math-Well-HMC-Math.pdf\">Writing Mathematics Well<\/a>. <\/span></div>"
      
    }
  ,
    {
     "cell_type": "markdown",
     "metadata": {
      "collapsed": false,
      "editable": false
     },
    "source":
    
        "<div class=\"not-editable\" style=\"background-color:#eef8ff;padding:1em;border-radius:10px;box-shadow:4px 4px 3px #ddd;margin:5px;\"><span> In your own words, explain why the second example of mathematical writing is better than the first. <\/span></div>"
      
    }
  ,
    {
     "cell_type": "markdown",
     "metadata": {
      "collapsed": false,
      "editable": true
     },
    "source":
    
        ""
      
    }
  ,
    {
     "cell_type": "markdown",
     "metadata": {
      "collapsed": false,
      "editable": false
     },
    "source":
    
        "<div class=\"not-editable\" style=\"background-color:#eef8ff;padding:1em;border-radius:10px;box-shadow:4px 4px 3px #ddd;margin:5px;\">\n          <h3>Activity 2.1.2<\/h3>\n        </div>"
      
    }
  ,
    {
     "cell_type": "markdown",
     "metadata": {
      "collapsed": false,
      "editable": false
     },
    "source":
    
        "<div class=\"not-editable\" style=\"background-color:#eef8ff;padding:1em;border-radius:10px;box-shadow:4px 4px 3px #ddd;margin:5px;\"><span> In your group, discuss what you think is the importance of writing and mathematics in each of the following contexts. Then, write a paragraph for each summarizing your discussion. <\/span></div>"
      
    }
  ,
    {
     "cell_type": "markdown",
     "metadata": {
      "collapsed": false,
      "editable": false
     },
    "source":
    
        "<div class=\"not-editable\" style=\"background-color:#eef8ff;padding:1em;border-radius:10px;box-shadow:4px 4px 3px #ddd;margin:5px;\">\n        <span><b>a. <\/b><\/span>\n        <span> Why is good writing important as a student of mathematics? <\/span></div>"
      
    }
  ,
    {
     "cell_type": "markdown",
     "metadata": {
      "collapsed": false,
      "editable": true
     },
    "source":
    
        ""
      
    }
  ,
    {
     "cell_type": "markdown",
     "metadata": {
      "collapsed": false,
      "editable": false
     },
    "source":
    
        "<div class=\"not-editable\" style=\"background-color:#eef8ff;padding:1em;border-radius:10px;box-shadow:4px 4px 3px #ddd;margin:5px;\">\n        <span><b>b. <\/b><\/span>\n        <span> Why is mathematics important in STEM fields besides mathematics (science, technology, and engineering)? <\/span></div>"
      
    }
  ,
    {
     "cell_type": "markdown",
     "metadata": {
      "collapsed": false,
      "editable": true
     },
    "source":
    
        ""
      
    }
  ,
    {
     "cell_type": "markdown",
     "metadata": {
      "collapsed": false,
      "editable": false
     },
    "source":
    
        "<div class=\"not-editable\" style=\"background-color:#eef8ff;padding:1em;border-radius:10px;box-shadow:4px 4px 3px #ddd;margin:5px;\">\n        <span><b>c. <\/b><\/span>\n        <span> What is the importance of good mathematical writing for anyone working in a STEM-related field? <\/span></div>"
      
    }
  ,
    {
     "cell_type": "markdown",
     "metadata": {
      "collapsed": false,
      "editable": true
     },
    "source":
    
        ""
      
    }
  
    ]}
  